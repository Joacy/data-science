{
  "nbformat": 4,
  "nbformat_minor": 0,
  "metadata": {
    "colab": {
      "name": "Desafio - Gerencianet - Joacy Mesquita",
      "provenance": [],
      "collapsed_sections": []
    },
    "kernelspec": {
      "name": "python3",
      "display_name": "Python 3"
    },
    "language_info": {
      "name": "python"
    }
  },
  "cells": [
    {
      "cell_type": "markdown",
      "source": [
        "# Desafio Técnico\n",
        "\n",
        "Neste desafio será tratado um case de classificação de contas ilícitas, que objetiva avaliar o candidato nas principais hard skills necessárias no dia a dia do time.\n",
        "\n",
        "Será fornecido o link de um arquivo .zip que ao ser descompactado apresenta um banco de dados SQLite denominado desafio-tecnico.db para o desenvolvimento das análises. **Ressalta-se que os dados presentes neste banco foram simulados e, consequentemente, não representam nenhum cliente ou pessoa real. Além disso, os insights observados nas análises não podem ser extrapolados para a base de clientes Gerencianet.**"
      ],
      "metadata": {
        "id": "nC1eBnQJ6Btc"
      }
    },
    {
      "cell_type": "markdown",
      "source": [
        "## Dados\n",
        "\n",
        "1 - accounts\n",
        "Tabela que apresenta as informações cadastrais de cada conta.\n",
        "\n",
        "Colunas:\n",
        "\n",
        "* id: ID identificador da tabela\n",
        "* account_number: Número da conta\n",
        "* birth: Data de nascimento\n",
        "* occupation: Tipo de negócio autodeclarado\n",
        "* email: E-mail da conta\n",
        "* address_id: ID identificador da tabela address\n",
        "* created_at: Data de criação da conta\n",
        "\n",
        "2 - address\n",
        "Tabela que identifica os pares de estado e cidade. Para verificar a residência de cada conta é necessário realizar o join com esta tabela.\n",
        "\n",
        "* id: ID identificador da tabela\n",
        "* state: Estado de residência do cliente\n",
        "* city: Cidade de residência do cliente\n",
        "\n",
        "3 - levels\n",
        "Cada conta recebe uma classificação de acordo com a forma que utiliza a plataforma. Contas que utilizam com maior consistência ou com grande potêncial podem receber uma melhor classificação (A>B>C>D). Caso identifique-se que a conta possui características suspeitas, de fraude, é atribuida a categoria F e executado o encerramento.\n",
        "\n",
        "* id: ID identificador da tabela\n",
        "* account_number: Número da conta\n",
        "* level: A, B, C, D e F\n",
        "* created_at: Data da classificação\n",
        "\n",
        "4 - charges\n",
        "Tabela apresenta as emissões de boletos realizadas pelos clientes com os respectivos status de pago ou não.\n",
        "\n",
        "* id: ID identificador da tabela\n",
        "* account_number: Número da conta\n",
        "* status: Status da cobrança [paid, unpaid]\n",
        "* value: Valor da cobrança (em centavos)\n",
        "* created_at: Data de criação do boleto\n",
        "\n",
        "5 - transactions\n",
        "Tabela com as transações efetivadas por cada conta, logo, caso um boleto tenha sido pago esta informação estará presente nesta tabela e na tabela charges.\n",
        "\n",
        "* id: ID identificador da tabela\n",
        "* account_number: Número da conta\n",
        "* transaction_type_id: ID identificador da tabela transaction_type\n",
        "* value: Valor da transação (em centavos)\n",
        "* created_at: Data da transação\n",
        "\n",
        "6 - transaction_type\n",
        "Tabela que permite identificar qual o tipo de cada transação da tabela transactions.\n",
        "\n",
        "* id: ID identificador da tabela\n",
        "* description: boleto_recebido, pix_enviado e pix_recebido\n",
        "* description_long: 'BOLETO RECEBIDO PELO CLIENTE', 'PIX ENVIADO PELO CLIENTE PARA UMA CONTA EXTERNA' e 'PIX RECEBIDO PELO CLIENTE'"
      ],
      "metadata": {
        "id": "Ryahkc0u6XaY"
      }
    },
    {
      "cell_type": "markdown",
      "source": [
        "# Entrega\n",
        "\n",
        "Espera-se do candidato o desenvolvimento dos seguintes passos:\n",
        "\n",
        "1 - Conectar ao banco e desenvolver as querys para obter os dados\n",
        "\n",
        "2 - Realizar análise descritiva dos dados utilizando linguagem R ou Python. Os resultados e códigos desta análise devem ficar salvos em um arquivo gerado via Rmarkdown ou Jupyter Notebook\n",
        "\n",
        "3 - Desenvolver um modelo, linguagem R ou Python, para classificar as contas em lícitas ou ilícitas utilizando as estratégias e métricas que julgar relevantes dado o escopo do problema.\n",
        "\n",
        "4 - Disponibilizar a classificação obtida pelo modelo das contas presentes no banco que não possuem classificação na tabela levels, escolhendo estre as seguintes opções:\n",
        "* Opção 1: Deploy de uma API que disponibiliza um endpoit GET que recebe como parâmetro na URL o número da conta e retorna o valor 0 para conta que o modelo considere lícita e 1 caso o modelo considere ilícita. A rota deve seguir a seguinte estrutura: URL/?account_number=12345\n",
        "* Opção 2: Gerar um csv com as colunas account_number e fraud. Sendo que a coluna fraud deve ter os seguintes valores: 0 para contas lícitas e 1 para ilícitas\n",
        "\n",
        "O desafio deve ser entregue no espaço em branco abaixo, a partir de um link público do Google Drive com uma pasta contendo os códigos e estrutura desenvolvida.\n",
        "\n",
        "Será avaliado na entrega a correta interpretação dos dados e do problema, os resultados obtidos pelo modelo e a utilização de boas práticas de programação e arquitetura.\n"
      ],
      "metadata": {
        "id": "1xhkc_wZ7NMO"
      }
    },
    {
      "cell_type": "markdown",
      "source": [
        "Link para base de dados: https://s3.amazonaws.com/gerencianet-pub-prod-1/printscreen/2021/desafio-tecnico.zip"
      ],
      "metadata": {
        "id": "VLZdlLSL8Mmc"
      }
    },
    {
      "cell_type": "markdown",
      "source": [
        "Link úteis de apoio:\n",
        "* https://db.rstudio.com/databases/sqlite/\n",
        "* https://docs.python.org/3/library/sqlite3.html\n",
        "* https://fastapi.tiangolo.com/deployment/\n",
        "* https://icaroagostino.github.io/post/plumber/"
      ],
      "metadata": {
        "id": "tcA_OqVM8Jl9"
      }
    },
    {
      "cell_type": "markdown",
      "source": [
        "### Instalação das bibliotecas necessárias"
      ],
      "metadata": {
        "id": "2y5OsKxzjRa1"
      }
    },
    {
      "cell_type": "code",
      "source": [
        "!pip install pandas\n",
        "!pip install numpy\n",
        "!pip install matplotlib\n",
        "!pip install sqlite3\n",
        "!pip install requests\n",
        "!pip install zipfile\n",
        "!pip install sklearn\n",
        "!pip install imbalanced-learn"
      ],
      "metadata": {
        "colab": {
          "base_uri": "https://localhost:8080/"
        },
        "id": "qM-VFCJ8LDNV",
        "outputId": "55c5c5c4-d373-4e56-ac6e-1c58011d06fa"
      },
      "execution_count": 1,
      "outputs": [
        {
          "output_type": "stream",
          "name": "stdout",
          "text": [
            "Looking in indexes: https://pypi.org/simple, https://us-python.pkg.dev/colab-wheels/public/simple/\n",
            "Requirement already satisfied: pandas in /usr/local/lib/python3.7/dist-packages (1.3.5)\n",
            "Requirement already satisfied: pytz>=2017.3 in /usr/local/lib/python3.7/dist-packages (from pandas) (2022.1)\n",
            "Requirement already satisfied: python-dateutil>=2.7.3 in /usr/local/lib/python3.7/dist-packages (from pandas) (2.8.2)\n",
            "Requirement already satisfied: numpy>=1.17.3 in /usr/local/lib/python3.7/dist-packages (from pandas) (1.21.6)\n",
            "Requirement already satisfied: six>=1.5 in /usr/local/lib/python3.7/dist-packages (from python-dateutil>=2.7.3->pandas) (1.15.0)\n",
            "Looking in indexes: https://pypi.org/simple, https://us-python.pkg.dev/colab-wheels/public/simple/\n",
            "Requirement already satisfied: numpy in /usr/local/lib/python3.7/dist-packages (1.21.6)\n",
            "Looking in indexes: https://pypi.org/simple, https://us-python.pkg.dev/colab-wheels/public/simple/\n",
            "Requirement already satisfied: matplotlib in /usr/local/lib/python3.7/dist-packages (3.2.2)\n",
            "Requirement already satisfied: numpy>=1.11 in /usr/local/lib/python3.7/dist-packages (from matplotlib) (1.21.6)\n",
            "Requirement already satisfied: python-dateutil>=2.1 in /usr/local/lib/python3.7/dist-packages (from matplotlib) (2.8.2)\n",
            "Requirement already satisfied: kiwisolver>=1.0.1 in /usr/local/lib/python3.7/dist-packages (from matplotlib) (1.4.2)\n",
            "Requirement already satisfied: cycler>=0.10 in /usr/local/lib/python3.7/dist-packages (from matplotlib) (0.11.0)\n",
            "Requirement already satisfied: pyparsing!=2.0.4,!=2.1.2,!=2.1.6,>=2.0.1 in /usr/local/lib/python3.7/dist-packages (from matplotlib) (3.0.9)\n",
            "Requirement already satisfied: typing-extensions in /usr/local/lib/python3.7/dist-packages (from kiwisolver>=1.0.1->matplotlib) (4.2.0)\n",
            "Requirement already satisfied: six>=1.5 in /usr/local/lib/python3.7/dist-packages (from python-dateutil>=2.1->matplotlib) (1.15.0)\n",
            "Looking in indexes: https://pypi.org/simple, https://us-python.pkg.dev/colab-wheels/public/simple/\n",
            "\u001b[31mERROR: Could not find a version that satisfies the requirement sqlite3 (from versions: none)\u001b[0m\n",
            "\u001b[31mERROR: No matching distribution found for sqlite3\u001b[0m\n",
            "Looking in indexes: https://pypi.org/simple, https://us-python.pkg.dev/colab-wheels/public/simple/\n",
            "Requirement already satisfied: requests in /usr/local/lib/python3.7/dist-packages (2.23.0)\n",
            "Requirement already satisfied: idna<3,>=2.5 in /usr/local/lib/python3.7/dist-packages (from requests) (2.10)\n",
            "Requirement already satisfied: chardet<4,>=3.0.2 in /usr/local/lib/python3.7/dist-packages (from requests) (3.0.4)\n",
            "Requirement already satisfied: certifi>=2017.4.17 in /usr/local/lib/python3.7/dist-packages (from requests) (2022.5.18.1)\n",
            "Requirement already satisfied: urllib3!=1.25.0,!=1.25.1,<1.26,>=1.21.1 in /usr/local/lib/python3.7/dist-packages (from requests) (1.24.3)\n",
            "Looking in indexes: https://pypi.org/simple, https://us-python.pkg.dev/colab-wheels/public/simple/\n",
            "\u001b[31mERROR: Could not find a version that satisfies the requirement zipfile (from versions: none)\u001b[0m\n",
            "\u001b[31mERROR: No matching distribution found for zipfile\u001b[0m\n",
            "Looking in indexes: https://pypi.org/simple, https://us-python.pkg.dev/colab-wheels/public/simple/\n",
            "Requirement already satisfied: sklearn in /usr/local/lib/python3.7/dist-packages (0.0)\n",
            "Requirement already satisfied: scikit-learn in /usr/local/lib/python3.7/dist-packages (from sklearn) (1.0.2)\n",
            "Requirement already satisfied: numpy>=1.14.6 in /usr/local/lib/python3.7/dist-packages (from scikit-learn->sklearn) (1.21.6)\n",
            "Requirement already satisfied: threadpoolctl>=2.0.0 in /usr/local/lib/python3.7/dist-packages (from scikit-learn->sklearn) (3.1.0)\n",
            "Requirement already satisfied: joblib>=0.11 in /usr/local/lib/python3.7/dist-packages (from scikit-learn->sklearn) (1.1.0)\n",
            "Requirement already satisfied: scipy>=1.1.0 in /usr/local/lib/python3.7/dist-packages (from scikit-learn->sklearn) (1.4.1)\n",
            "Looking in indexes: https://pypi.org/simple, https://us-python.pkg.dev/colab-wheels/public/simple/\n",
            "Requirement already satisfied: imbalanced-learn in /usr/local/lib/python3.7/dist-packages (0.8.1)\n",
            "Requirement already satisfied: joblib>=0.11 in /usr/local/lib/python3.7/dist-packages (from imbalanced-learn) (1.1.0)\n",
            "Requirement already satisfied: numpy>=1.13.3 in /usr/local/lib/python3.7/dist-packages (from imbalanced-learn) (1.21.6)\n",
            "Requirement already satisfied: scikit-learn>=0.24 in /usr/local/lib/python3.7/dist-packages (from imbalanced-learn) (1.0.2)\n",
            "Requirement already satisfied: scipy>=0.19.1 in /usr/local/lib/python3.7/dist-packages (from imbalanced-learn) (1.4.1)\n",
            "Requirement already satisfied: threadpoolctl>=2.0.0 in /usr/local/lib/python3.7/dist-packages (from scikit-learn>=0.24->imbalanced-learn) (3.1.0)\n"
          ]
        }
      ]
    },
    {
      "cell_type": "markdown",
      "source": [
        "## 1 - Conexão com o Banco de Dados e Obtenção dos Dados"
      ],
      "metadata": {
        "id": "I6JOcuyU8yM2"
      }
    },
    {
      "cell_type": "code",
      "source": [
        "import pandas as pd\n",
        "import numpy as np\n",
        "import matplotlib.pyplot as plt\n",
        "from collections import Counter\n",
        "import requests  \n",
        "import zipfile"
      ],
      "metadata": {
        "id": "_S8PDV9e-VTZ"
      },
      "execution_count": 2,
      "outputs": []
    },
    {
      "cell_type": "markdown",
      "source": [
        "Download e Extração da Base de Dados"
      ],
      "metadata": {
        "id": "25yMEN_NTE1O"
      }
    },
    {
      "cell_type": "code",
      "source": [
        "database_url = \"https://s3.amazonaws.com/gerencianet-pub-prod-1/printscreen/2021/desafio-tecnico.zip\"\n",
        " \n",
        "r = requests.get(database_url)\n",
        "\n",
        "with open(\"desafio-tecnico.zip\",'wb') as f:\n",
        "  f.write(r.content)\n",
        "\n",
        "with zipfile.ZipFile(\"desafio-tecnico.zip\",\"r\") as zip_ref:\n",
        "    zip_ref.extractall()"
      ],
      "metadata": {
        "id": "CGvizMvYRfnp"
      },
      "execution_count": 3,
      "outputs": []
    },
    {
      "cell_type": "markdown",
      "source": [
        "Conexão com o banco de dados"
      ],
      "metadata": {
        "id": "fYEVYO2aiX7g"
      }
    },
    {
      "cell_type": "code",
      "source": [
        "import sqlite3\n",
        "con = sqlite3.connect('desafio-tecnico.db')"
      ],
      "metadata": {
        "id": "BPBIDMlh9Afm"
      },
      "execution_count": 4,
      "outputs": []
    },
    {
      "cell_type": "markdown",
      "source": [
        "Obtenção da tabela 'acounts' e criação do dataframe de contas"
      ],
      "metadata": {
        "id": "UGl6IJGdidFW"
      }
    },
    {
      "cell_type": "code",
      "source": [
        "cur = con.cursor()\n",
        "\n",
        "accounts_list = []\n",
        "for account in cur.execute('SELECT * FROM accounts ORDER BY id'):\n",
        "  accounts_list.append(account)\n",
        "\n",
        "accounts_df = pd.DataFrame(accounts_list, columns=['id', 'account_number', 'birth', 'ocupation', 'email', 'address_id', 'created_at'])"
      ],
      "metadata": {
        "id": "klwywYJk9Pw4"
      },
      "execution_count": 5,
      "outputs": []
    },
    {
      "cell_type": "markdown",
      "source": [
        "Obtenção da tabela 'address' e criação do dataframe de endereços"
      ],
      "metadata": {
        "id": "SGFNX5LvmHyo"
      }
    },
    {
      "cell_type": "code",
      "source": [
        "address_list = []\n",
        "for address in cur.execute('SELECT * FROM address ORDER BY id'):\n",
        "  address_list.append(address)\n",
        "\n",
        "address_df = pd.DataFrame(address_list, columns=['id', 'state', 'city', 'created_at'])"
      ],
      "metadata": {
        "id": "2R3pJRrB93cs"
      },
      "execution_count": 6,
      "outputs": []
    },
    {
      "cell_type": "markdown",
      "source": [
        "Obtenção da tabela 'levels' e criação do dataframe de níveis das contas"
      ],
      "metadata": {
        "id": "ngQQTQ_ImRVW"
      }
    },
    {
      "cell_type": "code",
      "source": [
        "levels_list = []\n",
        "for level in cur.execute('SELECT * FROM levels ORDER BY id'):\n",
        "  levels_list.append(level)\n",
        "\n",
        "levels_df = pd.DataFrame(levels_list, columns=['id', 'account_number', 'level', 'created_at'])"
      ],
      "metadata": {
        "id": "6K0jyqvNA_S9"
      },
      "execution_count": 7,
      "outputs": []
    },
    {
      "cell_type": "markdown",
      "source": [
        "Obtenção da tabela 'charges' e criação do dataframe de emissões de boletos"
      ],
      "metadata": {
        "id": "4e9zE_zQmYns"
      }
    },
    {
      "cell_type": "code",
      "source": [
        "charges_list = []\n",
        "for charge in cur.execute('SELECT * FROM charges ORDER BY id'):\n",
        "  charges_list.append(charge)\n",
        "\n",
        "charges_df = pd.DataFrame(charges_list, columns=['id', 'account_number', 'status', 'value', 'created_at'])"
      ],
      "metadata": {
        "id": "0Acdzq_iBT41"
      },
      "execution_count": 8,
      "outputs": []
    },
    {
      "cell_type": "markdown",
      "source": [
        "Obtenção da tabela 'transactions' e criação do dataframe de transações efetivadas por cada conta"
      ],
      "metadata": {
        "id": "KNbHPodjmm5q"
      }
    },
    {
      "cell_type": "code",
      "source": [
        "transactions_list = []\n",
        "for transaction in cur.execute('SELECT * FROM transactions ORDER BY id'):\n",
        "  transactions_list.append(transaction)\n",
        "\n",
        "transactions_df = pd.DataFrame(transactions_list, columns=['id', 'account_number', 'transaction_type_id', 'value', 'created_at'])"
      ],
      "metadata": {
        "id": "fnQoR-sZBlvR"
      },
      "execution_count": 9,
      "outputs": []
    },
    {
      "cell_type": "markdown",
      "source": [
        "Obtenção da tabela 'transaction_type' e criação do dataframe de tipos de transações"
      ],
      "metadata": {
        "id": "C9CqivfomwdP"
      }
    },
    {
      "cell_type": "code",
      "source": [
        "transaction_types_list = []\n",
        "for transaction_type in cur.execute('SELECT * FROM transaction_type ORDER BY id'):\n",
        "  transaction_types_list.append(transaction_type)\n",
        "\n",
        "transaction_types_df = pd.DataFrame(transaction_types_list, columns=['id', 'description', 'description_long'])"
      ],
      "metadata": {
        "id": "_k4QOBaAB2TU"
      },
      "execution_count": 10,
      "outputs": []
    },
    {
      "cell_type": "code",
      "source": [
        "con.close()"
      ],
      "metadata": {
        "id": "izjD3E5lChiq"
      },
      "execution_count": 11,
      "outputs": []
    },
    {
      "cell_type": "markdown",
      "source": [
        "## 2 - Análise descritiva dos dados"
      ],
      "metadata": {
        "id": "EcNipwsBir2y"
      }
    },
    {
      "cell_type": "markdown",
      "source": [
        "### Tabela de contas"
      ],
      "metadata": {
        "id": "-RGUmiIN9cnW"
      }
    },
    {
      "cell_type": "code",
      "source": [
        "accounts_df.head()"
      ],
      "metadata": {
        "colab": {
          "base_uri": "https://localhost:8080/",
          "height": 206
        },
        "id": "5PjQO9gNAUVZ",
        "outputId": "82629b50-5586-497f-8fa2-c409afcda8d0"
      },
      "execution_count": 12,
      "outputs": [
        {
          "output_type": "execute_result",
          "data": {
            "text/plain": [
              "   id  account_number       birth   ocupation  \\\n",
              "0   1          155938  1984-10-29      Outros   \n",
              "1   2          747007  1977-03-26    Corretor   \n",
              "2   3          208404  1984-01-26    Analista   \n",
              "3   4           66402  1982-06-30  Investidor   \n",
              "4   5          277012  1967-01-11      Outros   \n",
              "\n",
              "                                email  address_id           created_at  \n",
              "0  mariaceciliaazevedo042@example.com           1  2021-04-01 02:30:00  \n",
              "1               ananunes3@example.com           2  2021-04-01 02:00:00  \n",
              "2      luizfernandovieira@example.com           3  2021-04-01 11:30:00  \n",
              "3    gabriellynascimento6@example.com           4  2021-04-01 14:30:00  \n",
              "4        aliciagoncalves7@example.com           5  2021-04-02 15:30:00  "
            ],
            "text/html": [
              "\n",
              "  <div id=\"df-7e5b96d6-38ac-44e0-8efc-747d69c4b7c3\">\n",
              "    <div class=\"colab-df-container\">\n",
              "      <div>\n",
              "<style scoped>\n",
              "    .dataframe tbody tr th:only-of-type {\n",
              "        vertical-align: middle;\n",
              "    }\n",
              "\n",
              "    .dataframe tbody tr th {\n",
              "        vertical-align: top;\n",
              "    }\n",
              "\n",
              "    .dataframe thead th {\n",
              "        text-align: right;\n",
              "    }\n",
              "</style>\n",
              "<table border=\"1\" class=\"dataframe\">\n",
              "  <thead>\n",
              "    <tr style=\"text-align: right;\">\n",
              "      <th></th>\n",
              "      <th>id</th>\n",
              "      <th>account_number</th>\n",
              "      <th>birth</th>\n",
              "      <th>ocupation</th>\n",
              "      <th>email</th>\n",
              "      <th>address_id</th>\n",
              "      <th>created_at</th>\n",
              "    </tr>\n",
              "  </thead>\n",
              "  <tbody>\n",
              "    <tr>\n",
              "      <th>0</th>\n",
              "      <td>1</td>\n",
              "      <td>155938</td>\n",
              "      <td>1984-10-29</td>\n",
              "      <td>Outros</td>\n",
              "      <td>mariaceciliaazevedo042@example.com</td>\n",
              "      <td>1</td>\n",
              "      <td>2021-04-01 02:30:00</td>\n",
              "    </tr>\n",
              "    <tr>\n",
              "      <th>1</th>\n",
              "      <td>2</td>\n",
              "      <td>747007</td>\n",
              "      <td>1977-03-26</td>\n",
              "      <td>Corretor</td>\n",
              "      <td>ananunes3@example.com</td>\n",
              "      <td>2</td>\n",
              "      <td>2021-04-01 02:00:00</td>\n",
              "    </tr>\n",
              "    <tr>\n",
              "      <th>2</th>\n",
              "      <td>3</td>\n",
              "      <td>208404</td>\n",
              "      <td>1984-01-26</td>\n",
              "      <td>Analista</td>\n",
              "      <td>luizfernandovieira@example.com</td>\n",
              "      <td>3</td>\n",
              "      <td>2021-04-01 11:30:00</td>\n",
              "    </tr>\n",
              "    <tr>\n",
              "      <th>3</th>\n",
              "      <td>4</td>\n",
              "      <td>66402</td>\n",
              "      <td>1982-06-30</td>\n",
              "      <td>Investidor</td>\n",
              "      <td>gabriellynascimento6@example.com</td>\n",
              "      <td>4</td>\n",
              "      <td>2021-04-01 14:30:00</td>\n",
              "    </tr>\n",
              "    <tr>\n",
              "      <th>4</th>\n",
              "      <td>5</td>\n",
              "      <td>277012</td>\n",
              "      <td>1967-01-11</td>\n",
              "      <td>Outros</td>\n",
              "      <td>aliciagoncalves7@example.com</td>\n",
              "      <td>5</td>\n",
              "      <td>2021-04-02 15:30:00</td>\n",
              "    </tr>\n",
              "  </tbody>\n",
              "</table>\n",
              "</div>\n",
              "      <button class=\"colab-df-convert\" onclick=\"convertToInteractive('df-7e5b96d6-38ac-44e0-8efc-747d69c4b7c3')\"\n",
              "              title=\"Convert this dataframe to an interactive table.\"\n",
              "              style=\"display:none;\">\n",
              "        \n",
              "  <svg xmlns=\"http://www.w3.org/2000/svg\" height=\"24px\"viewBox=\"0 0 24 24\"\n",
              "       width=\"24px\">\n",
              "    <path d=\"M0 0h24v24H0V0z\" fill=\"none\"/>\n",
              "    <path d=\"M18.56 5.44l.94 2.06.94-2.06 2.06-.94-2.06-.94-.94-2.06-.94 2.06-2.06.94zm-11 1L8.5 8.5l.94-2.06 2.06-.94-2.06-.94L8.5 2.5l-.94 2.06-2.06.94zm10 10l.94 2.06.94-2.06 2.06-.94-2.06-.94-.94-2.06-.94 2.06-2.06.94z\"/><path d=\"M17.41 7.96l-1.37-1.37c-.4-.4-.92-.59-1.43-.59-.52 0-1.04.2-1.43.59L10.3 9.45l-7.72 7.72c-.78.78-.78 2.05 0 2.83L4 21.41c.39.39.9.59 1.41.59.51 0 1.02-.2 1.41-.59l7.78-7.78 2.81-2.81c.8-.78.8-2.07 0-2.86zM5.41 20L4 18.59l7.72-7.72 1.47 1.35L5.41 20z\"/>\n",
              "  </svg>\n",
              "      </button>\n",
              "      \n",
              "  <style>\n",
              "    .colab-df-container {\n",
              "      display:flex;\n",
              "      flex-wrap:wrap;\n",
              "      gap: 12px;\n",
              "    }\n",
              "\n",
              "    .colab-df-convert {\n",
              "      background-color: #E8F0FE;\n",
              "      border: none;\n",
              "      border-radius: 50%;\n",
              "      cursor: pointer;\n",
              "      display: none;\n",
              "      fill: #1967D2;\n",
              "      height: 32px;\n",
              "      padding: 0 0 0 0;\n",
              "      width: 32px;\n",
              "    }\n",
              "\n",
              "    .colab-df-convert:hover {\n",
              "      background-color: #E2EBFA;\n",
              "      box-shadow: 0px 1px 2px rgba(60, 64, 67, 0.3), 0px 1px 3px 1px rgba(60, 64, 67, 0.15);\n",
              "      fill: #174EA6;\n",
              "    }\n",
              "\n",
              "    [theme=dark] .colab-df-convert {\n",
              "      background-color: #3B4455;\n",
              "      fill: #D2E3FC;\n",
              "    }\n",
              "\n",
              "    [theme=dark] .colab-df-convert:hover {\n",
              "      background-color: #434B5C;\n",
              "      box-shadow: 0px 1px 3px 1px rgba(0, 0, 0, 0.15);\n",
              "      filter: drop-shadow(0px 1px 2px rgba(0, 0, 0, 0.3));\n",
              "      fill: #FFFFFF;\n",
              "    }\n",
              "  </style>\n",
              "\n",
              "      <script>\n",
              "        const buttonEl =\n",
              "          document.querySelector('#df-7e5b96d6-38ac-44e0-8efc-747d69c4b7c3 button.colab-df-convert');\n",
              "        buttonEl.style.display =\n",
              "          google.colab.kernel.accessAllowed ? 'block' : 'none';\n",
              "\n",
              "        async function convertToInteractive(key) {\n",
              "          const element = document.querySelector('#df-7e5b96d6-38ac-44e0-8efc-747d69c4b7c3');\n",
              "          const dataTable =\n",
              "            await google.colab.kernel.invokeFunction('convertToInteractive',\n",
              "                                                     [key], {});\n",
              "          if (!dataTable) return;\n",
              "\n",
              "          const docLinkHtml = 'Like what you see? Visit the ' +\n",
              "            '<a target=\"_blank\" href=https://colab.research.google.com/notebooks/data_table.ipynb>data table notebook</a>'\n",
              "            + ' to learn more about interactive tables.';\n",
              "          element.innerHTML = '';\n",
              "          dataTable['output_type'] = 'display_data';\n",
              "          await google.colab.output.renderOutput(dataTable, element);\n",
              "          const docLink = document.createElement('div');\n",
              "          docLink.innerHTML = docLinkHtml;\n",
              "          element.appendChild(docLink);\n",
              "        }\n",
              "      </script>\n",
              "    </div>\n",
              "  </div>\n",
              "  "
            ]
          },
          "metadata": {},
          "execution_count": 12
        }
      ]
    },
    {
      "cell_type": "code",
      "source": [
        "display('Tipo dos dados presentes')\n",
        "display(accounts_df.dtypes)"
      ],
      "metadata": {
        "colab": {
          "base_uri": "https://localhost:8080/",
          "height": 174
        },
        "id": "vu5wSLkJyTlm",
        "outputId": "ad8397a5-194f-4bbc-fbfc-4645a80870ba"
      },
      "execution_count": 13,
      "outputs": [
        {
          "output_type": "display_data",
          "data": {
            "text/plain": [
              "'Tipo dos dados presentes'"
            ],
            "application/vnd.google.colaboratory.intrinsic+json": {
              "type": "string"
            }
          },
          "metadata": {}
        },
        {
          "output_type": "display_data",
          "data": {
            "text/plain": [
              "id                 int64\n",
              "account_number     int64\n",
              "birth             object\n",
              "ocupation         object\n",
              "email             object\n",
              "address_id         int64\n",
              "created_at        object\n",
              "dtype: object"
            ]
          },
          "metadata": {}
        }
      ]
    },
    {
      "cell_type": "markdown",
      "source": [
        "id: Númerico\n",
        "\n",
        "account_number: Numérico\n",
        "\n",
        "birth: Numérico\n",
        "\n",
        "ocupation: Categórico Nominal\n",
        "\n",
        "email: Categórico Nominal\n",
        "\n",
        "address_id: Numérico\n",
        "\n",
        "created_at: Numérico"
      ],
      "metadata": {
        "id": "XB986T7Wxtsy"
      }
    },
    {
      "cell_type": "markdown",
      "source": [
        "#### Como se distribuem os titulares das contas, de acordo com a sua ocupação declarada?"
      ],
      "metadata": {
        "id": "yrCyWLQsfjRa"
      }
    },
    {
      "cell_type": "code",
      "source": [
        "ocupacoes_df = accounts_df.groupby(['ocupation']).count().reset_index().sort_values('id', ascending=True).reset_index()\n",
        "ocupacoes_df = ocupacoes_df[['ocupation', 'id']]\n",
        "ocupacoes_df.rename(columns = {'id': 'quantidade'}, inplace = True)\n",
        "\n",
        "percentual = []\n",
        "total = ocupacoes_df['quantidade'].sum()\n",
        "for quantidade in ocupacoes_df['quantidade']:\n",
        "  percentual.append(round((quantidade / total) * 100, 2))\n",
        "\n",
        "ocupacoes_df['quantidade relativa'] = percentual\n",
        "\n",
        "ocupacoes_df.loc[ocupacoes_df.shape[0]] = ['Total', ocupacoes_df['quantidade'].sum(), 100]\n",
        "\n",
        "display(ocupacoes_df)\n",
        "print()\n",
        "\n",
        "plt.figure(figsize=(7,5))\n",
        "plt.barh(ocupacoes_df['ocupation'], ocupacoes_df['quantidade'])\n",
        "plt.title('Perfil dos titulares das contas, pela sua ocupação')\n",
        "plt.ylabel('Ocupação')\n",
        "plt.xlabel('Quantidade')\n",
        "plt.show()"
      ],
      "metadata": {
        "colab": {
          "base_uri": "https://localhost:8080/",
          "height": 619
        },
        "id": "FwFtF8wJHgW-",
        "outputId": "2255016b-3905-48b8-9e96-e9fd254985cf"
      },
      "execution_count": 14,
      "outputs": [
        {
          "output_type": "display_data",
          "data": {
            "text/plain": [
              "       ocupation  quantidade  quantidade relativa\n",
              "0       Autonomo          63                 6.12\n",
              "1     Investidor         117                11.37\n",
              "2         Outros         165                16.03\n",
              "3       Corretor         216                20.99\n",
              "4  Desenvolvedor         221                21.48\n",
              "5       Analista         247                24.00\n",
              "6          Total        1029               100.00"
            ],
            "text/html": [
              "\n",
              "  <div id=\"df-4980087e-0cf8-4546-bf23-a9521e719410\">\n",
              "    <div class=\"colab-df-container\">\n",
              "      <div>\n",
              "<style scoped>\n",
              "    .dataframe tbody tr th:only-of-type {\n",
              "        vertical-align: middle;\n",
              "    }\n",
              "\n",
              "    .dataframe tbody tr th {\n",
              "        vertical-align: top;\n",
              "    }\n",
              "\n",
              "    .dataframe thead th {\n",
              "        text-align: right;\n",
              "    }\n",
              "</style>\n",
              "<table border=\"1\" class=\"dataframe\">\n",
              "  <thead>\n",
              "    <tr style=\"text-align: right;\">\n",
              "      <th></th>\n",
              "      <th>ocupation</th>\n",
              "      <th>quantidade</th>\n",
              "      <th>quantidade relativa</th>\n",
              "    </tr>\n",
              "  </thead>\n",
              "  <tbody>\n",
              "    <tr>\n",
              "      <th>0</th>\n",
              "      <td>Autonomo</td>\n",
              "      <td>63</td>\n",
              "      <td>6.12</td>\n",
              "    </tr>\n",
              "    <tr>\n",
              "      <th>1</th>\n",
              "      <td>Investidor</td>\n",
              "      <td>117</td>\n",
              "      <td>11.37</td>\n",
              "    </tr>\n",
              "    <tr>\n",
              "      <th>2</th>\n",
              "      <td>Outros</td>\n",
              "      <td>165</td>\n",
              "      <td>16.03</td>\n",
              "    </tr>\n",
              "    <tr>\n",
              "      <th>3</th>\n",
              "      <td>Corretor</td>\n",
              "      <td>216</td>\n",
              "      <td>20.99</td>\n",
              "    </tr>\n",
              "    <tr>\n",
              "      <th>4</th>\n",
              "      <td>Desenvolvedor</td>\n",
              "      <td>221</td>\n",
              "      <td>21.48</td>\n",
              "    </tr>\n",
              "    <tr>\n",
              "      <th>5</th>\n",
              "      <td>Analista</td>\n",
              "      <td>247</td>\n",
              "      <td>24.00</td>\n",
              "    </tr>\n",
              "    <tr>\n",
              "      <th>6</th>\n",
              "      <td>Total</td>\n",
              "      <td>1029</td>\n",
              "      <td>100.00</td>\n",
              "    </tr>\n",
              "  </tbody>\n",
              "</table>\n",
              "</div>\n",
              "      <button class=\"colab-df-convert\" onclick=\"convertToInteractive('df-4980087e-0cf8-4546-bf23-a9521e719410')\"\n",
              "              title=\"Convert this dataframe to an interactive table.\"\n",
              "              style=\"display:none;\">\n",
              "        \n",
              "  <svg xmlns=\"http://www.w3.org/2000/svg\" height=\"24px\"viewBox=\"0 0 24 24\"\n",
              "       width=\"24px\">\n",
              "    <path d=\"M0 0h24v24H0V0z\" fill=\"none\"/>\n",
              "    <path d=\"M18.56 5.44l.94 2.06.94-2.06 2.06-.94-2.06-.94-.94-2.06-.94 2.06-2.06.94zm-11 1L8.5 8.5l.94-2.06 2.06-.94-2.06-.94L8.5 2.5l-.94 2.06-2.06.94zm10 10l.94 2.06.94-2.06 2.06-.94-2.06-.94-.94-2.06-.94 2.06-2.06.94z\"/><path d=\"M17.41 7.96l-1.37-1.37c-.4-.4-.92-.59-1.43-.59-.52 0-1.04.2-1.43.59L10.3 9.45l-7.72 7.72c-.78.78-.78 2.05 0 2.83L4 21.41c.39.39.9.59 1.41.59.51 0 1.02-.2 1.41-.59l7.78-7.78 2.81-2.81c.8-.78.8-2.07 0-2.86zM5.41 20L4 18.59l7.72-7.72 1.47 1.35L5.41 20z\"/>\n",
              "  </svg>\n",
              "      </button>\n",
              "      \n",
              "  <style>\n",
              "    .colab-df-container {\n",
              "      display:flex;\n",
              "      flex-wrap:wrap;\n",
              "      gap: 12px;\n",
              "    }\n",
              "\n",
              "    .colab-df-convert {\n",
              "      background-color: #E8F0FE;\n",
              "      border: none;\n",
              "      border-radius: 50%;\n",
              "      cursor: pointer;\n",
              "      display: none;\n",
              "      fill: #1967D2;\n",
              "      height: 32px;\n",
              "      padding: 0 0 0 0;\n",
              "      width: 32px;\n",
              "    }\n",
              "\n",
              "    .colab-df-convert:hover {\n",
              "      background-color: #E2EBFA;\n",
              "      box-shadow: 0px 1px 2px rgba(60, 64, 67, 0.3), 0px 1px 3px 1px rgba(60, 64, 67, 0.15);\n",
              "      fill: #174EA6;\n",
              "    }\n",
              "\n",
              "    [theme=dark] .colab-df-convert {\n",
              "      background-color: #3B4455;\n",
              "      fill: #D2E3FC;\n",
              "    }\n",
              "\n",
              "    [theme=dark] .colab-df-convert:hover {\n",
              "      background-color: #434B5C;\n",
              "      box-shadow: 0px 1px 3px 1px rgba(0, 0, 0, 0.15);\n",
              "      filter: drop-shadow(0px 1px 2px rgba(0, 0, 0, 0.3));\n",
              "      fill: #FFFFFF;\n",
              "    }\n",
              "  </style>\n",
              "\n",
              "      <script>\n",
              "        const buttonEl =\n",
              "          document.querySelector('#df-4980087e-0cf8-4546-bf23-a9521e719410 button.colab-df-convert');\n",
              "        buttonEl.style.display =\n",
              "          google.colab.kernel.accessAllowed ? 'block' : 'none';\n",
              "\n",
              "        async function convertToInteractive(key) {\n",
              "          const element = document.querySelector('#df-4980087e-0cf8-4546-bf23-a9521e719410');\n",
              "          const dataTable =\n",
              "            await google.colab.kernel.invokeFunction('convertToInteractive',\n",
              "                                                     [key], {});\n",
              "          if (!dataTable) return;\n",
              "\n",
              "          const docLinkHtml = 'Like what you see? Visit the ' +\n",
              "            '<a target=\"_blank\" href=https://colab.research.google.com/notebooks/data_table.ipynb>data table notebook</a>'\n",
              "            + ' to learn more about interactive tables.';\n",
              "          element.innerHTML = '';\n",
              "          dataTable['output_type'] = 'display_data';\n",
              "          await google.colab.output.renderOutput(dataTable, element);\n",
              "          const docLink = document.createElement('div');\n",
              "          docLink.innerHTML = docLinkHtml;\n",
              "          element.appendChild(docLink);\n",
              "        }\n",
              "      </script>\n",
              "    </div>\n",
              "  </div>\n",
              "  "
            ]
          },
          "metadata": {}
        },
        {
          "output_type": "stream",
          "name": "stdout",
          "text": [
            "\n"
          ]
        },
        {
          "output_type": "display_data",
          "data": {
            "text/plain": [
              "<Figure size 504x360 with 1 Axes>"
            ],
            "image/png": "[encoded data removed]"
          },
          "metadata": {
            "needs_background": "light"
          }
        }
      ]
    },
    {
      "cell_type": "markdown",
      "source": [
        "De acordo com a ocupação, a maior parte dos titulares de contas são analistas (247) ou desenvolvedores (221), seguidos pelos corretores (216). Os investidores (117) e os autônomos (63) representam a menor parcela de titulares. Em 165 contas os titulares não declararam o tipo de negócio."
      ],
      "metadata": {
        "id": "OMZXOBs0gKXN"
      }
    },
    {
      "cell_type": "markdown",
      "source": [
        "### Tabela de endereços"
      ],
      "metadata": {
        "id": "para7HCN9j7D"
      }
    },
    {
      "cell_type": "code",
      "source": [
        "address_df.head()"
      ],
      "metadata": {
        "colab": {
          "base_uri": "https://localhost:8080/",
          "height": 206
        },
        "id": "neINJK4rAt9K",
        "outputId": "245be949-e43d-4637-887a-1d2c4fe07baa"
      },
      "execution_count": 15,
      "outputs": [
        {
          "output_type": "execute_result",
          "data": {
            "text/plain": [
              "   id state        city           created_at\n",
              "0   1    RJ       Carmo  2021-04-01 02:30:00\n",
              "1   2    MG  Bertopolis  2021-04-01 02:00:00\n",
              "2   3    MG      Olaria  2021-04-01 11:30:00\n",
              "3   4    PR    Icaraima  2021-04-01 14:30:00\n",
              "4   5    ES  Ecoporanga  2021-04-02 15:30:00"
            ],
            "text/html": [
              "\n",
              "  <div id=\"df-f73c3ffe-9434-476f-9d9c-6ef60ad1aee6\">\n",
              "    <div class=\"colab-df-container\">\n",
              "      <div>\n",
              "<style scoped>\n",
              "    .dataframe tbody tr th:only-of-type {\n",
              "        vertical-align: middle;\n",
              "    }\n",
              "\n",
              "    .dataframe tbody tr th {\n",
              "        vertical-align: top;\n",
              "    }\n",
              "\n",
              "    .dataframe thead th {\n",
              "        text-align: right;\n",
              "    }\n",
              "</style>\n",
              "<table border=\"1\" class=\"dataframe\">\n",
              "  <thead>\n",
              "    <tr style=\"text-align: right;\">\n",
              "      <th></th>\n",
              "      <th>id</th>\n",
              "      <th>state</th>\n",
              "      <th>city</th>\n",
              "      <th>created_at</th>\n",
              "    </tr>\n",
              "  </thead>\n",
              "  <tbody>\n",
              "    <tr>\n",
              "      <th>0</th>\n",
              "      <td>1</td>\n",
              "      <td>RJ</td>\n",
              "      <td>Carmo</td>\n",
              "      <td>2021-04-01 02:30:00</td>\n",
              "    </tr>\n",
              "    <tr>\n",
              "      <th>1</th>\n",
              "      <td>2</td>\n",
              "      <td>MG</td>\n",
              "      <td>Bertopolis</td>\n",
              "      <td>2021-04-01 02:00:00</td>\n",
              "    </tr>\n",
              "    <tr>\n",
              "      <th>2</th>\n",
              "      <td>3</td>\n",
              "      <td>MG</td>\n",
              "      <td>Olaria</td>\n",
              "      <td>2021-04-01 11:30:00</td>\n",
              "    </tr>\n",
              "    <tr>\n",
              "      <th>3</th>\n",
              "      <td>4</td>\n",
              "      <td>PR</td>\n",
              "      <td>Icaraima</td>\n",
              "      <td>2021-04-01 14:30:00</td>\n",
              "    </tr>\n",
              "    <tr>\n",
              "      <th>4</th>\n",
              "      <td>5</td>\n",
              "      <td>ES</td>\n",
              "      <td>Ecoporanga</td>\n",
              "      <td>2021-04-02 15:30:00</td>\n",
              "    </tr>\n",
              "  </tbody>\n",
              "</table>\n",
              "</div>\n",
              "      <button class=\"colab-df-convert\" onclick=\"convertToInteractive('df-f73c3ffe-9434-476f-9d9c-6ef60ad1aee6')\"\n",
              "              title=\"Convert this dataframe to an interactive table.\"\n",
              "              style=\"display:none;\">\n",
              "        \n",
              "  <svg xmlns=\"http://www.w3.org/2000/svg\" height=\"24px\"viewBox=\"0 0 24 24\"\n",
              "       width=\"24px\">\n",
              "    <path d=\"M0 0h24v24H0V0z\" fill=\"none\"/>\n",
              "    <path d=\"M18.56 5.44l.94 2.06.94-2.06 2.06-.94-2.06-.94-.94-2.06-.94 2.06-2.06.94zm-11 1L8.5 8.5l.94-2.06 2.06-.94-2.06-.94L8.5 2.5l-.94 2.06-2.06.94zm10 10l.94 2.06.94-2.06 2.06-.94-2.06-.94-.94-2.06-.94 2.06-2.06.94z\"/><path d=\"M17.41 7.96l-1.37-1.37c-.4-.4-.92-.59-1.43-.59-.52 0-1.04.2-1.43.59L10.3 9.45l-7.72 7.72c-.78.78-.78 2.05 0 2.83L4 21.41c.39.39.9.59 1.41.59.51 0 1.02-.2 1.41-.59l7.78-7.78 2.81-2.81c.8-.78.8-2.07 0-2.86zM5.41 20L4 18.59l7.72-7.72 1.47 1.35L5.41 20z\"/>\n",
              "  </svg>\n",
              "      </button>\n",
              "      \n",
              "  <style>\n",
              "    .colab-df-container {\n",
              "      display:flex;\n",
              "      flex-wrap:wrap;\n",
              "      gap: 12px;\n",
              "    }\n",
              "\n",
              "    .colab-df-convert {\n",
              "      background-color: #E8F0FE;\n",
              "      border: none;\n",
              "      border-radius: 50%;\n",
              "      cursor: pointer;\n",
              "      display: none;\n",
              "      fill: #1967D2;\n",
              "      height: 32px;\n",
              "      padding: 0 0 0 0;\n",
              "      width: 32px;\n",
              "    }\n",
              "\n",
              "    .colab-df-convert:hover {\n",
              "      background-color: #E2EBFA;\n",
              "      box-shadow: 0px 1px 2px rgba(60, 64, 67, 0.3), 0px 1px 3px 1px rgba(60, 64, 67, 0.15);\n",
              "      fill: #174EA6;\n",
              "    }\n",
              "\n",
              "    [theme=dark] .colab-df-convert {\n",
              "      background-color: #3B4455;\n",
              "      fill: #D2E3FC;\n",
              "    }\n",
              "\n",
              "    [theme=dark] .colab-df-convert:hover {\n",
              "      background-color: #434B5C;\n",
              "      box-shadow: 0px 1px 3px 1px rgba(0, 0, 0, 0.15);\n",
              "      filter: drop-shadow(0px 1px 2px rgba(0, 0, 0, 0.3));\n",
              "      fill: #FFFFFF;\n",
              "    }\n",
              "  </style>\n",
              "\n",
              "      <script>\n",
              "        const buttonEl =\n",
              "          document.querySelector('#df-f73c3ffe-9434-476f-9d9c-6ef60ad1aee6 button.colab-df-convert');\n",
              "        buttonEl.style.display =\n",
              "          google.colab.kernel.accessAllowed ? 'block' : 'none';\n",
              "\n",
              "        async function convertToInteractive(key) {\n",
              "          const element = document.querySelector('#df-f73c3ffe-9434-476f-9d9c-6ef60ad1aee6');\n",
              "          const dataTable =\n",
              "            await google.colab.kernel.invokeFunction('convertToInteractive',\n",
              "                                                     [key], {});\n",
              "          if (!dataTable) return;\n",
              "\n",
              "          const docLinkHtml = 'Like what you see? Visit the ' +\n",
              "            '<a target=\"_blank\" href=https://colab.research.google.com/notebooks/data_table.ipynb>data table notebook</a>'\n",
              "            + ' to learn more about interactive tables.';\n",
              "          element.innerHTML = '';\n",
              "          dataTable['output_type'] = 'display_data';\n",
              "          await google.colab.output.renderOutput(dataTable, element);\n",
              "          const docLink = document.createElement('div');\n",
              "          docLink.innerHTML = docLinkHtml;\n",
              "          element.appendChild(docLink);\n",
              "        }\n",
              "      </script>\n",
              "    </div>\n",
              "  </div>\n",
              "  "
            ]
          },
          "metadata": {},
          "execution_count": 15
        }
      ]
    },
    {
      "cell_type": "code",
      "source": [
        "display('Tipo dos dados presentes')\n",
        "display(address_df.dtypes)"
      ],
      "metadata": {
        "colab": {
          "base_uri": "https://localhost:8080/",
          "height": 122
        },
        "id": "kohqpuUWyXeA",
        "outputId": "2cb21f2c-559f-4d57-ba42-41ab53482a7a"
      },
      "execution_count": 16,
      "outputs": [
        {
          "output_type": "display_data",
          "data": {
            "text/plain": [
              "'Tipo dos dados presentes'"
            ],
            "application/vnd.google.colaboratory.intrinsic+json": {
              "type": "string"
            }
          },
          "metadata": {}
        },
        {
          "output_type": "display_data",
          "data": {
            "text/plain": [
              "id             int64\n",
              "state         object\n",
              "city          object\n",
              "created_at    object\n",
              "dtype: object"
            ]
          },
          "metadata": {}
        }
      ]
    },
    {
      "cell_type": "markdown",
      "source": [
        "id: Numérico\n",
        "\n",
        "state: Categórico Nominal\n",
        "\n",
        "city: Categórico Nominal\n",
        "\n",
        "created_at: Numérico"
      ],
      "metadata": {
        "id": "wTSVmqQIzwzP"
      }
    },
    {
      "cell_type": "markdown",
      "source": [
        "#### Como se distribuem os endereços dos titulares das contas, de acordo com o estado?"
      ],
      "metadata": {
        "id": "mFm2KilQ9q4A"
      }
    },
    {
      "cell_type": "code",
      "source": [
        "estados_df = address_df.groupby(['state']).count().reset_index().sort_values('id', ascending=True).reset_index()\n",
        "estados_df = estados_df[['state', 'id']]\n",
        "estados_df.rename(columns = {'id': 'quantidade'}, inplace = True)\n",
        "\n",
        "percentual = []\n",
        "total = estados_df['quantidade'].sum()\n",
        "for quantidade in estados_df['quantidade']:\n",
        "  percentual.append(round((quantidade / total) * 100, 2))\n",
        "\n",
        "estados_df['quantidade relativa'] = percentual\n",
        "\n",
        "estados_df.loc[estados_df.shape[0]] = ['Total', estados_df['quantidade'].sum(), 100]\n",
        "\n",
        "display(estados_df)\n",
        "print()\n",
        "\n",
        "plt.figure(figsize=(7,5))\n",
        "plt.barh(estados_df['state'].iloc[:-1], estados_df['quantidade'].iloc[:-1])\n",
        "plt.title('Quantidade de cidades por estado dos endereços')\n",
        "plt.ylabel('Estado')\n",
        "plt.xlabel('Quantidade')\n",
        "plt.show()"
      ],
      "metadata": {
        "colab": {
          "base_uri": "https://localhost:8080/",
          "height": 682
        },
        "id": "Hyxyva3f2VjF",
        "outputId": "1d24ebac-2314-451b-d650-aa46b3c7092d"
      },
      "execution_count": 17,
      "outputs": [
        {
          "output_type": "display_data",
          "data": {
            "text/plain": [
              "   state  quantidade  quantidade relativa\n",
              "0     GO          43                 5.76\n",
              "1     SC          45                 6.02\n",
              "2     SP          47                 6.29\n",
              "3     BA          50                 6.69\n",
              "4     ES          62                 8.30\n",
              "5     RJ          80                10.71\n",
              "6     PR         159                21.29\n",
              "7     MG         261                34.94\n",
              "8  Total         747               100.00"
            ],
            "text/html": [
              "\n",
              "  <div id=\"df-99891093-6129-4592-b200-bda130553cca\">\n",
              "    <div class=\"colab-df-container\">\n",
              "      <div>\n",
              "<style scoped>\n",
              "    .dataframe tbody tr th:only-of-type {\n",
              "        vertical-align: middle;\n",
              "    }\n",
              "\n",
              "    .dataframe tbody tr th {\n",
              "        vertical-align: top;\n",
              "    }\n",
              "\n",
              "    .dataframe thead th {\n",
              "        text-align: right;\n",
              "    }\n",
              "</style>\n",
              "<table border=\"1\" class=\"dataframe\">\n",
              "  <thead>\n",
              "    <tr style=\"text-align: right;\">\n",
              "      <th></th>\n",
              "      <th>state</th>\n",
              "      <th>quantidade</th>\n",
              "      <th>quantidade relativa</th>\n",
              "    </tr>\n",
              "  </thead>\n",
              "  <tbody>\n",
              "    <tr>\n",
              "      <th>0</th>\n",
              "      <td>GO</td>\n",
              "      <td>43</td>\n",
              "      <td>5.76</td>\n",
              "    </tr>\n",
              "    <tr>\n",
              "      <th>1</th>\n",
              "      <td>SC</td>\n",
              "      <td>45</td>\n",
              "      <td>6.02</td>\n",
              "    </tr>\n",
              "    <tr>\n",
              "      <th>2</th>\n",
              "      <td>SP</td>\n",
              "      <td>47</td>\n",
              "      <td>6.29</td>\n",
              "    </tr>\n",
              "    <tr>\n",
              "      <th>3</th>\n",
              "      <td>BA</td>\n",
              "      <td>50</td>\n",
              "      <td>6.69</td>\n",
              "    </tr>\n",
              "    <tr>\n",
              "      <th>4</th>\n",
              "      <td>ES</td>\n",
              "      <td>62</td>\n",
              "      <td>8.30</td>\n",
              "    </tr>\n",
              "    <tr>\n",
              "      <th>5</th>\n",
              "      <td>RJ</td>\n",
              "      <td>80</td>\n",
              "      <td>10.71</td>\n",
              "    </tr>\n",
              "    <tr>\n",
              "      <th>6</th>\n",
              "      <td>PR</td>\n",
              "      <td>159</td>\n",
              "      <td>21.29</td>\n",
              "    </tr>\n",
              "    <tr>\n",
              "      <th>7</th>\n",
              "      <td>MG</td>\n",
              "      <td>261</td>\n",
              "      <td>34.94</td>\n",
              "    </tr>\n",
              "    <tr>\n",
              "      <th>8</th>\n",
              "      <td>Total</td>\n",
              "      <td>747</td>\n",
              "      <td>100.00</td>\n",
              "    </tr>\n",
              "  </tbody>\n",
              "</table>\n",
              "</div>\n",
              "      <button class=\"colab-df-convert\" onclick=\"convertToInteractive('df-99891093-6129-4592-b200-bda130553cca')\"\n",
              "              title=\"Convert this dataframe to an interactive table.\"\n",
              "              style=\"display:none;\">\n",
              "        \n",
              "  <svg xmlns=\"http://www.w3.org/2000/svg\" height=\"24px\"viewBox=\"0 0 24 24\"\n",
              "       width=\"24px\">\n",
              "    <path d=\"M0 0h24v24H0V0z\" fill=\"none\"/>\n",
              "    <path d=\"M18.56 5.44l.94 2.06.94-2.06 2.06-.94-2.06-.94-.94-2.06-.94 2.06-2.06.94zm-11 1L8.5 8.5l.94-2.06 2.06-.94-2.06-.94L8.5 2.5l-.94 2.06-2.06.94zm10 10l.94 2.06.94-2.06 2.06-.94-2.06-.94-.94-2.06-.94 2.06-2.06.94z\"/><path d=\"M17.41 7.96l-1.37-1.37c-.4-.4-.92-.59-1.43-.59-.52 0-1.04.2-1.43.59L10.3 9.45l-7.72 7.72c-.78.78-.78 2.05 0 2.83L4 21.41c.39.39.9.59 1.41.59.51 0 1.02-.2 1.41-.59l7.78-7.78 2.81-2.81c.8-.78.8-2.07 0-2.86zM5.41 20L4 18.59l7.72-7.72 1.47 1.35L5.41 20z\"/>\n",
              "  </svg>\n",
              "      </button>\n",
              "      \n",
              "  <style>\n",
              "    .colab-df-container {\n",
              "      display:flex;\n",
              "      flex-wrap:wrap;\n",
              "      gap: 12px;\n",
              "    }\n",
              "\n",
              "    .colab-df-convert {\n",
              "      background-color: #E8F0FE;\n",
              "      border: none;\n",
              "      border-radius: 50%;\n",
              "      cursor: pointer;\n",
              "      display: none;\n",
              "      fill: #1967D2;\n",
              "      height: 32px;\n",
              "      padding: 0 0 0 0;\n",
              "      width: 32px;\n",
              "    }\n",
              "\n",
              "    .colab-df-convert:hover {\n",
              "      background-color: #E2EBFA;\n",
              "      box-shadow: 0px 1px 2px rgba(60, 64, 67, 0.3), 0px 1px 3px 1px rgba(60, 64, 67, 0.15);\n",
              "      fill: #174EA6;\n",
              "    }\n",
              "\n",
              "    [theme=dark] .colab-df-convert {\n",
              "      background-color: #3B4455;\n",
              "      fill: #D2E3FC;\n",
              "    }\n",
              "\n",
              "    [theme=dark] .colab-df-convert:hover {\n",
              "      background-color: #434B5C;\n",
              "      box-shadow: 0px 1px 3px 1px rgba(0, 0, 0, 0.15);\n",
              "      filter: drop-shadow(0px 1px 2px rgba(0, 0, 0, 0.3));\n",
              "      fill: #FFFFFF;\n",
              "    }\n",
              "  </style>\n",
              "\n",
              "      <script>\n",
              "        const buttonEl =\n",
              "          document.querySelector('#df-99891093-6129-4592-b200-bda130553cca button.colab-df-convert');\n",
              "        buttonEl.style.display =\n",
              "          google.colab.kernel.accessAllowed ? 'block' : 'none';\n",
              "\n",
              "        async function convertToInteractive(key) {\n",
              "          const element = document.querySelector('#df-99891093-6129-4592-b200-bda130553cca');\n",
              "          const dataTable =\n",
              "            await google.colab.kernel.invokeFunction('convertToInteractive',\n",
              "                                                     [key], {});\n",
              "          if (!dataTable) return;\n",
              "\n",
              "          const docLinkHtml = 'Like what you see? Visit the ' +\n",
              "            '<a target=\"_blank\" href=https://colab.research.google.com/notebooks/data_table.ipynb>data table notebook</a>'\n",
              "            + ' to learn more about interactive tables.';\n",
              "          element.innerHTML = '';\n",
              "          dataTable['output_type'] = 'display_data';\n",
              "          await google.colab.output.renderOutput(dataTable, element);\n",
              "          const docLink = document.createElement('div');\n",
              "          docLink.innerHTML = docLinkHtml;\n",
              "          element.appendChild(docLink);\n",
              "        }\n",
              "      </script>\n",
              "    </div>\n",
              "  </div>\n",
              "  "
            ]
          },
          "metadata": {}
        },
        {
          "output_type": "stream",
          "name": "stdout",
          "text": [
            "\n"
          ]
        },
        {
          "output_type": "display_data",
          "data": {
            "text/plain": [
              "<Figure size 504x360 with 1 Axes>"
            ],
            "image/png": "[encoded data removed]"
          },
          "metadata": {
            "needs_background": "light"
          }
        }
      ]
    },
    {
      "cell_type": "markdown",
      "source": [
        "De acordo com o estado, a 34,94% dos endereços dos titulares de contas é de Minas Gerais. A Região Sudeste apresenta 60,24% dos endereços. Nenhum endereço da Região Norte está presente. Da Região Nordeste, apenas o estado Bahia possui endereços, 6,69%."
      ],
      "metadata": {
        "id": "ig3-KmPD5v4p"
      }
    },
    {
      "cell_type": "markdown",
      "source": [
        "### Tabela de níveis"
      ],
      "metadata": {
        "id": "z0funhjX-U2X"
      }
    },
    {
      "cell_type": "code",
      "source": [
        "levels_df.head()"
      ],
      "metadata": {
        "colab": {
          "base_uri": "https://localhost:8080/",
          "height": 206
        },
        "outputId": "72975200-9ea3-41e9-c085-870efe7b2629",
        "id": "RRlV2vOCA_S9"
      },
      "execution_count": 18,
      "outputs": [
        {
          "output_type": "execute_result",
          "data": {
            "text/plain": [
              "   id  account_number level           created_at\n",
              "0   1          155938     F  2021-04-20 08:00:00\n",
              "1   2          747007     D  2021-04-19 19:30:00\n",
              "2   4           66402     D  2021-04-28 21:00:00\n",
              "3   5          277012     D  2021-04-19 12:00:00\n",
              "4   6          228213     D  2021-04-26 15:00:00"
            ],
            "text/html": [
              "\n",
              "  <div id=\"df-10b0c2c9-0e69-4e68-8025-150e0256b126\">\n",
              "    <div class=\"colab-df-container\">\n",
              "      <div>\n",
              "<style scoped>\n",
              "    .dataframe tbody tr th:only-of-type {\n",
              "        vertical-align: middle;\n",
              "    }\n",
              "\n",
              "    .dataframe tbody tr th {\n",
              "        vertical-align: top;\n",
              "    }\n",
              "\n",
              "    .dataframe thead th {\n",
              "        text-align: right;\n",
              "    }\n",
              "</style>\n",
              "<table border=\"1\" class=\"dataframe\">\n",
              "  <thead>\n",
              "    <tr style=\"text-align: right;\">\n",
              "      <th></th>\n",
              "      <th>id</th>\n",
              "      <th>account_number</th>\n",
              "      <th>level</th>\n",
              "      <th>created_at</th>\n",
              "    </tr>\n",
              "  </thead>\n",
              "  <tbody>\n",
              "    <tr>\n",
              "      <th>0</th>\n",
              "      <td>1</td>\n",
              "      <td>155938</td>\n",
              "      <td>F</td>\n",
              "      <td>2021-04-20 08:00:00</td>\n",
              "    </tr>\n",
              "    <tr>\n",
              "      <th>1</th>\n",
              "      <td>2</td>\n",
              "      <td>747007</td>\n",
              "      <td>D</td>\n",
              "      <td>2021-04-19 19:30:00</td>\n",
              "    </tr>\n",
              "    <tr>\n",
              "      <th>2</th>\n",
              "      <td>4</td>\n",
              "      <td>66402</td>\n",
              "      <td>D</td>\n",
              "      <td>2021-04-28 21:00:00</td>\n",
              "    </tr>\n",
              "    <tr>\n",
              "      <th>3</th>\n",
              "      <td>5</td>\n",
              "      <td>277012</td>\n",
              "      <td>D</td>\n",
              "      <td>2021-04-19 12:00:00</td>\n",
              "    </tr>\n",
              "    <tr>\n",
              "      <th>4</th>\n",
              "      <td>6</td>\n",
              "      <td>228213</td>\n",
              "      <td>D</td>\n",
              "      <td>2021-04-26 15:00:00</td>\n",
              "    </tr>\n",
              "  </tbody>\n",
              "</table>\n",
              "</div>\n",
              "      <button class=\"colab-df-convert\" onclick=\"convertToInteractive('df-10b0c2c9-0e69-4e68-8025-150e0256b126')\"\n",
              "              title=\"Convert this dataframe to an interactive table.\"\n",
              "              style=\"display:none;\">\n",
              "        \n",
              "  <svg xmlns=\"http://www.w3.org/2000/svg\" height=\"24px\"viewBox=\"0 0 24 24\"\n",
              "       width=\"24px\">\n",
              "    <path d=\"M0 0h24v24H0V0z\" fill=\"none\"/>\n",
              "    <path d=\"M18.56 5.44l.94 2.06.94-2.06 2.06-.94-2.06-.94-.94-2.06-.94 2.06-2.06.94zm-11 1L8.5 8.5l.94-2.06 2.06-.94-2.06-.94L8.5 2.5l-.94 2.06-2.06.94zm10 10l.94 2.06.94-2.06 2.06-.94-2.06-.94-.94-2.06-.94 2.06-2.06.94z\"/><path d=\"M17.41 7.96l-1.37-1.37c-.4-.4-.92-.59-1.43-.59-.52 0-1.04.2-1.43.59L10.3 9.45l-7.72 7.72c-.78.78-.78 2.05 0 2.83L4 21.41c.39.39.9.59 1.41.59.51 0 1.02-.2 1.41-.59l7.78-7.78 2.81-2.81c.8-.78.8-2.07 0-2.86zM5.41 20L4 18.59l7.72-7.72 1.47 1.35L5.41 20z\"/>\n",
              "  </svg>\n",
              "      </button>\n",
              "      \n",
              "  <style>\n",
              "    .colab-df-container {\n",
              "      display:flex;\n",
              "      flex-wrap:wrap;\n",
              "      gap: 12px;\n",
              "    }\n",
              "\n",
              "    .colab-df-convert {\n",
              "      background-color: #E8F0FE;\n",
              "      border: none;\n",
              "      border-radius: 50%;\n",
              "      cursor: pointer;\n",
              "      display: none;\n",
              "      fill: #1967D2;\n",
              "      height: 32px;\n",
              "      padding: 0 0 0 0;\n",
              "      width: 32px;\n",
              "    }\n",
              "\n",
              "    .colab-df-convert:hover {\n",
              "      background-color: #E2EBFA;\n",
              "      box-shadow: 0px 1px 2px rgba(60, 64, 67, 0.3), 0px 1px 3px 1px rgba(60, 64, 67, 0.15);\n",
              "      fill: #174EA6;\n",
              "    }\n",
              "\n",
              "    [theme=dark] .colab-df-convert {\n",
              "      background-color: #3B4455;\n",
              "      fill: #D2E3FC;\n",
              "    }\n",
              "\n",
              "    [theme=dark] .colab-df-convert:hover {\n",
              "      background-color: #434B5C;\n",
              "      box-shadow: 0px 1px 3px 1px rgba(0, 0, 0, 0.15);\n",
              "      filter: drop-shadow(0px 1px 2px rgba(0, 0, 0, 0.3));\n",
              "      fill: #FFFFFF;\n",
              "    }\n",
              "  </style>\n",
              "\n",
              "      <script>\n",
              "        const buttonEl =\n",
              "          document.querySelector('#df-10b0c2c9-0e69-4e68-8025-150e0256b126 button.colab-df-convert');\n",
              "        buttonEl.style.display =\n",
              "          google.colab.kernel.accessAllowed ? 'block' : 'none';\n",
              "\n",
              "        async function convertToInteractive(key) {\n",
              "          const element = document.querySelector('#df-10b0c2c9-0e69-4e68-8025-150e0256b126');\n",
              "          const dataTable =\n",
              "            await google.colab.kernel.invokeFunction('convertToInteractive',\n",
              "                                                     [key], {});\n",
              "          if (!dataTable) return;\n",
              "\n",
              "          const docLinkHtml = 'Like what you see? Visit the ' +\n",
              "            '<a target=\"_blank\" href=https://colab.research.google.com/notebooks/data_table.ipynb>data table notebook</a>'\n",
              "            + ' to learn more about interactive tables.';\n",
              "          element.innerHTML = '';\n",
              "          dataTable['output_type'] = 'display_data';\n",
              "          await google.colab.output.renderOutput(dataTable, element);\n",
              "          const docLink = document.createElement('div');\n",
              "          docLink.innerHTML = docLinkHtml;\n",
              "          element.appendChild(docLink);\n",
              "        }\n",
              "      </script>\n",
              "    </div>\n",
              "  </div>\n",
              "  "
            ]
          },
          "metadata": {},
          "execution_count": 18
        }
      ]
    },
    {
      "cell_type": "code",
      "source": [
        "display('Tipo dos dados presentes')\n",
        "display(levels_df.dtypes)"
      ],
      "metadata": {
        "colab": {
          "base_uri": "https://localhost:8080/",
          "height": 122
        },
        "id": "h6tndroYycuU",
        "outputId": "1bfe111f-45ae-46d7-8021-008613d5edcc"
      },
      "execution_count": 19,
      "outputs": [
        {
          "output_type": "display_data",
          "data": {
            "text/plain": [
              "'Tipo dos dados presentes'"
            ],
            "application/vnd.google.colaboratory.intrinsic+json": {
              "type": "string"
            }
          },
          "metadata": {}
        },
        {
          "output_type": "display_data",
          "data": {
            "text/plain": [
              "id                 int64\n",
              "account_number     int64\n",
              "level             object\n",
              "created_at        object\n",
              "dtype: object"
            ]
          },
          "metadata": {}
        }
      ]
    },
    {
      "cell_type": "markdown",
      "source": [
        "id: Númerico\n",
        "\n",
        "account_number: Numérico\n",
        "\n",
        "level: Categórico Nominal\n",
        "\n",
        "created_at: Numérico"
      ],
      "metadata": {
        "id": "2BSiEvWc0Kr1"
      }
    },
    {
      "cell_type": "markdown",
      "source": [
        "##### Como se distribuem as contas, de acordo com os níveis?"
      ],
      "metadata": {
        "id": "__FO9Lc6BZDQ"
      }
    },
    {
      "cell_type": "code",
      "source": [
        "niveis_df = levels_df.groupby(['level']).count().reset_index().sort_values('id', ascending=True).reset_index()\n",
        "niveis_df = niveis_df[['level', 'id']]\n",
        "niveis_df.rename(columns = {'id': 'quantidade'}, inplace = True)\n",
        "\n",
        "# Adicionando nível N para as contas sem nível definido\n",
        "niveis_df.loc[niveis_df.shape[0]] = ['N', accounts_df.shape[0] - (niveis_df['quantidade'].sum())]\n",
        "niveis_df = niveis_df.sort_values('quantidade', ascending=True)\n",
        "\n",
        "percentual = []\n",
        "total = niveis_df['quantidade'].sum()\n",
        "for quantidade in niveis_df['quantidade']:\n",
        "  percentual.append(round((quantidade / total) * 100, 2))\n",
        "\n",
        "niveis_df['quantidade relativa'] = percentual\n",
        "\n",
        "niveis_df.loc[niveis_df.shape[0]] = ['Total', niveis_df['quantidade'].sum(), 100]\n",
        "\n",
        "display(niveis_df)\n",
        "print()\n",
        "\n",
        "plt.figure(figsize=(7,5))\n",
        "plt.barh(niveis_df['level'].iloc[:-1], niveis_df['quantidade'].iloc[:-1])\n",
        "plt.title('Quantidade de contas por nível')\n",
        "plt.ylabel('Nível')\n",
        "plt.xlabel('Quantidade de Contas')\n",
        "plt.show()"
      ],
      "metadata": {
        "colab": {
          "base_uri": "https://localhost:8080/",
          "height": 619
        },
        "id": "yHA4S-DVC0Lg",
        "outputId": "a483f78c-74e7-4b43-cb69-b969b85c3c47"
      },
      "execution_count": 20,
      "outputs": [
        {
          "output_type": "display_data",
          "data": {
            "text/plain": [
              "   level  quantidade  quantidade relativa\n",
              "0      A          35                 3.40\n",
              "1      B          75                 7.29\n",
              "5      N         103                10.01\n",
              "2      F         204                19.83\n",
              "3      C         264                25.66\n",
              "4      D         348                33.82\n",
              "6  Total        1029               100.00"
            ],
            "text/html": [
              "\n",
              "  <div id=\"df-25fc42f2-83b1-484f-b260-87a8e1401ee6\">\n",
              "    <div class=\"colab-df-container\">\n",
              "      <div>\n",
              "<style scoped>\n",
              "    .dataframe tbody tr th:only-of-type {\n",
              "        vertical-align: middle;\n",
              "    }\n",
              "\n",
              "    .dataframe tbody tr th {\n",
              "        vertical-align: top;\n",
              "    }\n",
              "\n",
              "    .dataframe thead th {\n",
              "        text-align: right;\n",
              "    }\n",
              "</style>\n",
              "<table border=\"1\" class=\"dataframe\">\n",
              "  <thead>\n",
              "    <tr style=\"text-align: right;\">\n",
              "      <th></th>\n",
              "      <th>level</th>\n",
              "      <th>quantidade</th>\n",
              "      <th>quantidade relativa</th>\n",
              "    </tr>\n",
              "  </thead>\n",
              "  <tbody>\n",
              "    <tr>\n",
              "      <th>0</th>\n",
              "      <td>A</td>\n",
              "      <td>35</td>\n",
              "      <td>3.40</td>\n",
              "    </tr>\n",
              "    <tr>\n",
              "      <th>1</th>\n",
              "      <td>B</td>\n",
              "      <td>75</td>\n",
              "      <td>7.29</td>\n",
              "    </tr>\n",
              "    <tr>\n",
              "      <th>5</th>\n",
              "      <td>N</td>\n",
              "      <td>103</td>\n",
              "      <td>10.01</td>\n",
              "    </tr>\n",
              "    <tr>\n",
              "      <th>2</th>\n",
              "      <td>F</td>\n",
              "      <td>204</td>\n",
              "      <td>19.83</td>\n",
              "    </tr>\n",
              "    <tr>\n",
              "      <th>3</th>\n",
              "      <td>C</td>\n",
              "      <td>264</td>\n",
              "      <td>25.66</td>\n",
              "    </tr>\n",
              "    <tr>\n",
              "      <th>4</th>\n",
              "      <td>D</td>\n",
              "      <td>348</td>\n",
              "      <td>33.82</td>\n",
              "    </tr>\n",
              "    <tr>\n",
              "      <th>6</th>\n",
              "      <td>Total</td>\n",
              "      <td>1029</td>\n",
              "      <td>100.00</td>\n",
              "    </tr>\n",
              "  </tbody>\n",
              "</table>\n",
              "</div>\n",
              "      <button class=\"colab-df-convert\" onclick=\"convertToInteractive('df-25fc42f2-83b1-484f-b260-87a8e1401ee6')\"\n",
              "              title=\"Convert this dataframe to an interactive table.\"\n",
              "              style=\"display:none;\">\n",
              "        \n",
              "  <svg xmlns=\"http://www.w3.org/2000/svg\" height=\"24px\"viewBox=\"0 0 24 24\"\n",
              "       width=\"24px\">\n",
              "    <path d=\"M0 0h24v24H0V0z\" fill=\"none\"/>\n",
              "    <path d=\"M18.56 5.44l.94 2.06.94-2.06 2.06-.94-2.06-.94-.94-2.06-.94 2.06-2.06.94zm-11 1L8.5 8.5l.94-2.06 2.06-.94-2.06-.94L8.5 2.5l-.94 2.06-2.06.94zm10 10l.94 2.06.94-2.06 2.06-.94-2.06-.94-.94-2.06-.94 2.06-2.06.94z\"/><path d=\"M17.41 7.96l-1.37-1.37c-.4-.4-.92-.59-1.43-.59-.52 0-1.04.2-1.43.59L10.3 9.45l-7.72 7.72c-.78.78-.78 2.05 0 2.83L4 21.41c.39.39.9.59 1.41.59.51 0 1.02-.2 1.41-.59l7.78-7.78 2.81-2.81c.8-.78.8-2.07 0-2.86zM5.41 20L4 18.59l7.72-7.72 1.47 1.35L5.41 20z\"/>\n",
              "  </svg>\n",
              "      </button>\n",
              "      \n",
              "  <style>\n",
              "    .colab-df-container {\n",
              "      display:flex;\n",
              "      flex-wrap:wrap;\n",
              "      gap: 12px;\n",
              "    }\n",
              "\n",
              "    .colab-df-convert {\n",
              "      background-color: #E8F0FE;\n",
              "      border: none;\n",
              "      border-radius: 50%;\n",
              "      cursor: pointer;\n",
              "      display: none;\n",
              "      fill: #1967D2;\n",
              "      height: 32px;\n",
              "      padding: 0 0 0 0;\n",
              "      width: 32px;\n",
              "    }\n",
              "\n",
              "    .colab-df-convert:hover {\n",
              "      background-color: #E2EBFA;\n",
              "      box-shadow: 0px 1px 2px rgba(60, 64, 67, 0.3), 0px 1px 3px 1px rgba(60, 64, 67, 0.15);\n",
              "      fill: #174EA6;\n",
              "    }\n",
              "\n",
              "    [theme=dark] .colab-df-convert {\n",
              "      background-color: #3B4455;\n",
              "      fill: #D2E3FC;\n",
              "    }\n",
              "\n",
              "    [theme=dark] .colab-df-convert:hover {\n",
              "      background-color: #434B5C;\n",
              "      box-shadow: 0px 1px 3px 1px rgba(0, 0, 0, 0.15);\n",
              "      filter: drop-shadow(0px 1px 2px rgba(0, 0, 0, 0.3));\n",
              "      fill: #FFFFFF;\n",
              "    }\n",
              "  </style>\n",
              "\n",
              "      <script>\n",
              "        const buttonEl =\n",
              "          document.querySelector('#df-25fc42f2-83b1-484f-b260-87a8e1401ee6 button.colab-df-convert');\n",
              "        buttonEl.style.display =\n",
              "          google.colab.kernel.accessAllowed ? 'block' : 'none';\n",
              "\n",
              "        async function convertToInteractive(key) {\n",
              "          const element = document.querySelector('#df-25fc42f2-83b1-484f-b260-87a8e1401ee6');\n",
              "          const dataTable =\n",
              "            await google.colab.kernel.invokeFunction('convertToInteractive',\n",
              "                                                     [key], {});\n",
              "          if (!dataTable) return;\n",
              "\n",
              "          const docLinkHtml = 'Like what you see? Visit the ' +\n",
              "            '<a target=\"_blank\" href=https://colab.research.google.com/notebooks/data_table.ipynb>data table notebook</a>'\n",
              "            + ' to learn more about interactive tables.';\n",
              "          element.innerHTML = '';\n",
              "          dataTable['output_type'] = 'display_data';\n",
              "          await google.colab.output.renderOutput(dataTable, element);\n",
              "          const docLink = document.createElement('div');\n",
              "          docLink.innerHTML = docLinkHtml;\n",
              "          element.appendChild(docLink);\n",
              "        }\n",
              "      </script>\n",
              "    </div>\n",
              "  </div>\n",
              "  "
            ]
          },
          "metadata": {}
        },
        {
          "output_type": "stream",
          "name": "stdout",
          "text": [
            "\n"
          ]
        },
        {
          "output_type": "display_data",
          "data": {
            "text/plain": [
              "<Figure size 504x360 with 1 Axes>"
            ],
            "image/png": "[encoded data removed]"
          },
          "metadata": {
            "needs_background": "light"
          }
        }
      ]
    },
    {
      "cell_type": "markdown",
      "source": [
        "A maior quantidade das contas possui nível D, C, e F. Para 103 contas não houve atribuição de nível."
      ],
      "metadata": {
        "id": "yIwQK_xyBkGT"
      }
    },
    {
      "cell_type": "markdown",
      "source": [
        "### Tabela de emissões de boletos"
      ],
      "metadata": {
        "id": "KGcmk9MUBlvs"
      }
    },
    {
      "cell_type": "code",
      "source": [
        "charges_df.head()"
      ],
      "metadata": {
        "colab": {
          "base_uri": "https://localhost:8080/",
          "height": 206
        },
        "outputId": "a4be7782-40ec-464c-beff-9f2b95568807",
        "id": "aRvCK0zRBT41"
      },
      "execution_count": 21,
      "outputs": [
        {
          "output_type": "execute_result",
          "data": {
            "text/plain": [
              "   id  account_number  status  value           created_at\n",
              "0   1          155938    paid  11992  2021-04-01 03:00:00\n",
              "1   2          155938    paid   9689  2021-04-01 13:30:00\n",
              "2   3          155938    paid  11579  2021-04-01 11:30:00\n",
              "3   4          747007  unpaid   3134  2021-04-02 12:00:00\n",
              "4   5          747007    paid   3085  2021-04-02 19:00:00"
            ],
            "text/html": [
              "\n",
              "  <div id=\"df-6c1c79e8-8466-4b9b-91f7-782922d4d017\">\n",
              "    <div class=\"colab-df-container\">\n",
              "      <div>\n",
              "<style scoped>\n",
              "    .dataframe tbody tr th:only-of-type {\n",
              "        vertical-align: middle;\n",
              "    }\n",
              "\n",
              "    .dataframe tbody tr th {\n",
              "        vertical-align: top;\n",
              "    }\n",
              "\n",
              "    .dataframe thead th {\n",
              "        text-align: right;\n",
              "    }\n",
              "</style>\n",
              "<table border=\"1\" class=\"dataframe\">\n",
              "  <thead>\n",
              "    <tr style=\"text-align: right;\">\n",
              "      <th></th>\n",
              "      <th>id</th>\n",
              "      <th>account_number</th>\n",
              "      <th>status</th>\n",
              "      <th>value</th>\n",
              "      <th>created_at</th>\n",
              "    </tr>\n",
              "  </thead>\n",
              "  <tbody>\n",
              "    <tr>\n",
              "      <th>0</th>\n",
              "      <td>1</td>\n",
              "      <td>155938</td>\n",
              "      <td>paid</td>\n",
              "      <td>11992</td>\n",
              "      <td>2021-04-01 03:00:00</td>\n",
              "    </tr>\n",
              "    <tr>\n",
              "      <th>1</th>\n",
              "      <td>2</td>\n",
              "      <td>155938</td>\n",
              "      <td>paid</td>\n",
              "      <td>9689</td>\n",
              "      <td>2021-04-01 13:30:00</td>\n",
              "    </tr>\n",
              "    <tr>\n",
              "      <th>2</th>\n",
              "      <td>3</td>\n",
              "      <td>155938</td>\n",
              "      <td>paid</td>\n",
              "      <td>11579</td>\n",
              "      <td>2021-04-01 11:30:00</td>\n",
              "    </tr>\n",
              "    <tr>\n",
              "      <th>3</th>\n",
              "      <td>4</td>\n",
              "      <td>747007</td>\n",
              "      <td>unpaid</td>\n",
              "      <td>3134</td>\n",
              "      <td>2021-04-02 12:00:00</td>\n",
              "    </tr>\n",
              "    <tr>\n",
              "      <th>4</th>\n",
              "      <td>5</td>\n",
              "      <td>747007</td>\n",
              "      <td>paid</td>\n",
              "      <td>3085</td>\n",
              "      <td>2021-04-02 19:00:00</td>\n",
              "    </tr>\n",
              "  </tbody>\n",
              "</table>\n",
              "</div>\n",
              "      <button class=\"colab-df-convert\" onclick=\"convertToInteractive('df-6c1c79e8-8466-4b9b-91f7-782922d4d017')\"\n",
              "              title=\"Convert this dataframe to an interactive table.\"\n",
              "              style=\"display:none;\">\n",
              "        \n",
              "  <svg xmlns=\"http://www.w3.org/2000/svg\" height=\"24px\"viewBox=\"0 0 24 24\"\n",
              "       width=\"24px\">\n",
              "    <path d=\"M0 0h24v24H0V0z\" fill=\"none\"/>\n",
              "    <path d=\"M18.56 5.44l.94 2.06.94-2.06 2.06-.94-2.06-.94-.94-2.06-.94 2.06-2.06.94zm-11 1L8.5 8.5l.94-2.06 2.06-.94-2.06-.94L8.5 2.5l-.94 2.06-2.06.94zm10 10l.94 2.06.94-2.06 2.06-.94-2.06-.94-.94-2.06-.94 2.06-2.06.94z\"/><path d=\"M17.41 7.96l-1.37-1.37c-.4-.4-.92-.59-1.43-.59-.52 0-1.04.2-1.43.59L10.3 9.45l-7.72 7.72c-.78.78-.78 2.05 0 2.83L4 21.41c.39.39.9.59 1.41.59.51 0 1.02-.2 1.41-.59l7.78-7.78 2.81-2.81c.8-.78.8-2.07 0-2.86zM5.41 20L4 18.59l7.72-7.72 1.47 1.35L5.41 20z\"/>\n",
              "  </svg>\n",
              "      </button>\n",
              "      \n",
              "  <style>\n",
              "    .colab-df-container {\n",
              "      display:flex;\n",
              "      flex-wrap:wrap;\n",
              "      gap: 12px;\n",
              "    }\n",
              "\n",
              "    .colab-df-convert {\n",
              "      background-color: #E8F0FE;\n",
              "      border: none;\n",
              "      border-radius: 50%;\n",
              "      cursor: pointer;\n",
              "      display: none;\n",
              "      fill: #1967D2;\n",
              "      height: 32px;\n",
              "      padding: 0 0 0 0;\n",
              "      width: 32px;\n",
              "    }\n",
              "\n",
              "    .colab-df-convert:hover {\n",
              "      background-color: #E2EBFA;\n",
              "      box-shadow: 0px 1px 2px rgba(60, 64, 67, 0.3), 0px 1px 3px 1px rgba(60, 64, 67, 0.15);\n",
              "      fill: #174EA6;\n",
              "    }\n",
              "\n",
              "    [theme=dark] .colab-df-convert {\n",
              "      background-color: #3B4455;\n",
              "      fill: #D2E3FC;\n",
              "    }\n",
              "\n",
              "    [theme=dark] .colab-df-convert:hover {\n",
              "      background-color: #434B5C;\n",
              "      box-shadow: 0px 1px 3px 1px rgba(0, 0, 0, 0.15);\n",
              "      filter: drop-shadow(0px 1px 2px rgba(0, 0, 0, 0.3));\n",
              "      fill: #FFFFFF;\n",
              "    }\n",
              "  </style>\n",
              "\n",
              "      <script>\n",
              "        const buttonEl =\n",
              "          document.querySelector('#df-6c1c79e8-8466-4b9b-91f7-782922d4d017 button.colab-df-convert');\n",
              "        buttonEl.style.display =\n",
              "          google.colab.kernel.accessAllowed ? 'block' : 'none';\n",
              "\n",
              "        async function convertToInteractive(key) {\n",
              "          const element = document.querySelector('#df-6c1c79e8-8466-4b9b-91f7-782922d4d017');\n",
              "          const dataTable =\n",
              "            await google.colab.kernel.invokeFunction('convertToInteractive',\n",
              "                                                     [key], {});\n",
              "          if (!dataTable) return;\n",
              "\n",
              "          const docLinkHtml = 'Like what you see? Visit the ' +\n",
              "            '<a target=\"_blank\" href=https://colab.research.google.com/notebooks/data_table.ipynb>data table notebook</a>'\n",
              "            + ' to learn more about interactive tables.';\n",
              "          element.innerHTML = '';\n",
              "          dataTable['output_type'] = 'display_data';\n",
              "          await google.colab.output.renderOutput(dataTable, element);\n",
              "          const docLink = document.createElement('div');\n",
              "          docLink.innerHTML = docLinkHtml;\n",
              "          element.appendChild(docLink);\n",
              "        }\n",
              "      </script>\n",
              "    </div>\n",
              "  </div>\n",
              "  "
            ]
          },
          "metadata": {},
          "execution_count": 21
        }
      ]
    },
    {
      "cell_type": "markdown",
      "source": [
        "Conversão dos valores para reais"
      ],
      "metadata": {
        "id": "OC2adRaDF65Y"
      }
    },
    {
      "cell_type": "code",
      "source": [
        "charges_df['value'] = charges_df['value'] / 100\n",
        "charges_df.head()"
      ],
      "metadata": {
        "colab": {
          "base_uri": "https://localhost:8080/",
          "height": 206
        },
        "id": "UyqH271zF4pU",
        "outputId": "b5a97b77-37a3-4abd-e763-fcc831373601"
      },
      "execution_count": 22,
      "outputs": [
        {
          "output_type": "execute_result",
          "data": {
            "text/plain": [
              "   id  account_number  status   value           created_at\n",
              "0   1          155938    paid  119.92  2021-04-01 03:00:00\n",
              "1   2          155938    paid   96.89  2021-04-01 13:30:00\n",
              "2   3          155938    paid  115.79  2021-04-01 11:30:00\n",
              "3   4          747007  unpaid   31.34  2021-04-02 12:00:00\n",
              "4   5          747007    paid   30.85  2021-04-02 19:00:00"
            ],
            "text/html": [
              "\n",
              "  <div id=\"df-e25094ab-6bf2-4f4f-9f95-a5b571e75d66\">\n",
              "    <div class=\"colab-df-container\">\n",
              "      <div>\n",
              "<style scoped>\n",
              "    .dataframe tbody tr th:only-of-type {\n",
              "        vertical-align: middle;\n",
              "    }\n",
              "\n",
              "    .dataframe tbody tr th {\n",
              "        vertical-align: top;\n",
              "    }\n",
              "\n",
              "    .dataframe thead th {\n",
              "        text-align: right;\n",
              "    }\n",
              "</style>\n",
              "<table border=\"1\" class=\"dataframe\">\n",
              "  <thead>\n",
              "    <tr style=\"text-align: right;\">\n",
              "      <th></th>\n",
              "      <th>id</th>\n",
              "      <th>account_number</th>\n",
              "      <th>status</th>\n",
              "      <th>value</th>\n",
              "      <th>created_at</th>\n",
              "    </tr>\n",
              "  </thead>\n",
              "  <tbody>\n",
              "    <tr>\n",
              "      <th>0</th>\n",
              "      <td>1</td>\n",
              "      <td>155938</td>\n",
              "      <td>paid</td>\n",
              "      <td>119.92</td>\n",
              "      <td>2021-04-01 03:00:00</td>\n",
              "    </tr>\n",
              "    <tr>\n",
              "      <th>1</th>\n",
              "      <td>2</td>\n",
              "      <td>155938</td>\n",
              "      <td>paid</td>\n",
              "      <td>96.89</td>\n",
              "      <td>2021-04-01 13:30:00</td>\n",
              "    </tr>\n",
              "    <tr>\n",
              "      <th>2</th>\n",
              "      <td>3</td>\n",
              "      <td>155938</td>\n",
              "      <td>paid</td>\n",
              "      <td>115.79</td>\n",
              "      <td>2021-04-01 11:30:00</td>\n",
              "    </tr>\n",
              "    <tr>\n",
              "      <th>3</th>\n",
              "      <td>4</td>\n",
              "      <td>747007</td>\n",
              "      <td>unpaid</td>\n",
              "      <td>31.34</td>\n",
              "      <td>2021-04-02 12:00:00</td>\n",
              "    </tr>\n",
              "    <tr>\n",
              "      <th>4</th>\n",
              "      <td>5</td>\n",
              "      <td>747007</td>\n",
              "      <td>paid</td>\n",
              "      <td>30.85</td>\n",
              "      <td>2021-04-02 19:00:00</td>\n",
              "    </tr>\n",
              "  </tbody>\n",
              "</table>\n",
              "</div>\n",
              "      <button class=\"colab-df-convert\" onclick=\"convertToInteractive('df-e25094ab-6bf2-4f4f-9f95-a5b571e75d66')\"\n",
              "              title=\"Convert this dataframe to an interactive table.\"\n",
              "              style=\"display:none;\">\n",
              "        \n",
              "  <svg xmlns=\"http://www.w3.org/2000/svg\" height=\"24px\"viewBox=\"0 0 24 24\"\n",
              "       width=\"24px\">\n",
              "    <path d=\"M0 0h24v24H0V0z\" fill=\"none\"/>\n",
              "    <path d=\"M18.56 5.44l.94 2.06.94-2.06 2.06-.94-2.06-.94-.94-2.06-.94 2.06-2.06.94zm-11 1L8.5 8.5l.94-2.06 2.06-.94-2.06-.94L8.5 2.5l-.94 2.06-2.06.94zm10 10l.94 2.06.94-2.06 2.06-.94-2.06-.94-.94-2.06-.94 2.06-2.06.94z\"/><path d=\"M17.41 7.96l-1.37-1.37c-.4-.4-.92-.59-1.43-.59-.52 0-1.04.2-1.43.59L10.3 9.45l-7.72 7.72c-.78.78-.78 2.05 0 2.83L4 21.41c.39.39.9.59 1.41.59.51 0 1.02-.2 1.41-.59l7.78-7.78 2.81-2.81c.8-.78.8-2.07 0-2.86zM5.41 20L4 18.59l7.72-7.72 1.47 1.35L5.41 20z\"/>\n",
              "  </svg>\n",
              "      </button>\n",
              "      \n",
              "  <style>\n",
              "    .colab-df-container {\n",
              "      display:flex;\n",
              "      flex-wrap:wrap;\n",
              "      gap: 12px;\n",
              "    }\n",
              "\n",
              "    .colab-df-convert {\n",
              "      background-color: #E8F0FE;\n",
              "      border: none;\n",
              "      border-radius: 50%;\n",
              "      cursor: pointer;\n",
              "      display: none;\n",
              "      fill: #1967D2;\n",
              "      height: 32px;\n",
              "      padding: 0 0 0 0;\n",
              "      width: 32px;\n",
              "    }\n",
              "\n",
              "    .colab-df-convert:hover {\n",
              "      background-color: #E2EBFA;\n",
              "      box-shadow: 0px 1px 2px rgba(60, 64, 67, 0.3), 0px 1px 3px 1px rgba(60, 64, 67, 0.15);\n",
              "      fill: #174EA6;\n",
              "    }\n",
              "\n",
              "    [theme=dark] .colab-df-convert {\n",
              "      background-color: #3B4455;\n",
              "      fill: #D2E3FC;\n",
              "    }\n",
              "\n",
              "    [theme=dark] .colab-df-convert:hover {\n",
              "      background-color: #434B5C;\n",
              "      box-shadow: 0px 1px 3px 1px rgba(0, 0, 0, 0.15);\n",
              "      filter: drop-shadow(0px 1px 2px rgba(0, 0, 0, 0.3));\n",
              "      fill: #FFFFFF;\n",
              "    }\n",
              "  </style>\n",
              "\n",
              "      <script>\n",
              "        const buttonEl =\n",
              "          document.querySelector('#df-e25094ab-6bf2-4f4f-9f95-a5b571e75d66 button.colab-df-convert');\n",
              "        buttonEl.style.display =\n",
              "          google.colab.kernel.accessAllowed ? 'block' : 'none';\n",
              "\n",
              "        async function convertToInteractive(key) {\n",
              "          const element = document.querySelector('#df-e25094ab-6bf2-4f4f-9f95-a5b571e75d66');\n",
              "          const dataTable =\n",
              "            await google.colab.kernel.invokeFunction('convertToInteractive',\n",
              "                                                     [key], {});\n",
              "          if (!dataTable) return;\n",
              "\n",
              "          const docLinkHtml = 'Like what you see? Visit the ' +\n",
              "            '<a target=\"_blank\" href=https://colab.research.google.com/notebooks/data_table.ipynb>data table notebook</a>'\n",
              "            + ' to learn more about interactive tables.';\n",
              "          element.innerHTML = '';\n",
              "          dataTable['output_type'] = 'display_data';\n",
              "          await google.colab.output.renderOutput(dataTable, element);\n",
              "          const docLink = document.createElement('div');\n",
              "          docLink.innerHTML = docLinkHtml;\n",
              "          element.appendChild(docLink);\n",
              "        }\n",
              "      </script>\n",
              "    </div>\n",
              "  </div>\n",
              "  "
            ]
          },
          "metadata": {},
          "execution_count": 22
        }
      ]
    },
    {
      "cell_type": "code",
      "source": [
        "display('Tipo dos dados presentes')\n",
        "display(charges_df.dtypes)"
      ],
      "metadata": {
        "colab": {
          "base_uri": "https://localhost:8080/",
          "height": 140
        },
        "id": "TIo17WAKygfc",
        "outputId": "b5fe675a-5c59-4e5a-eaca-531a39baf4b5"
      },
      "execution_count": 23,
      "outputs": [
        {
          "output_type": "display_data",
          "data": {
            "text/plain": [
              "'Tipo dos dados presentes'"
            ],
            "application/vnd.google.colaboratory.intrinsic+json": {
              "type": "string"
            }
          },
          "metadata": {}
        },
        {
          "output_type": "display_data",
          "data": {
            "text/plain": [
              "id                  int64\n",
              "account_number      int64\n",
              "status             object\n",
              "value             float64\n",
              "created_at         object\n",
              "dtype: object"
            ]
          },
          "metadata": {}
        }
      ]
    },
    {
      "cell_type": "markdown",
      "source": [
        "id: Númerico\n",
        "\n",
        "account_number: Numérico\n",
        "\n",
        "status: Categórico Nominal\n",
        "\n",
        "value: Numérico\n",
        "\n",
        "created_at: Numérico"
      ],
      "metadata": {
        "id": "oaNdu8Zk0TXb"
      }
    },
    {
      "cell_type": "code",
      "source": [
        "status_boleto_df = charges_df.groupby(['status'])\n",
        "status_boleto_df = status_boleto_df['id'].count().reset_index().sort_values('id', ascending=True).reset_index()\n",
        "status_boleto_df = status_boleto_df[['status', 'id']]\n",
        "status_boleto_df.rename(columns = {'id': 'quantidade'}, inplace = True)\n",
        "status_boleto_df"
      ],
      "metadata": {
        "colab": {
          "base_uri": "https://localhost:8080/",
          "height": 112
        },
        "id": "_SKm4rPQqssB",
        "outputId": "d087af22-37cd-4ed9-8281-50334da06f74"
      },
      "execution_count": 24,
      "outputs": [
        {
          "output_type": "execute_result",
          "data": {
            "text/plain": [
              "   status  quantidade\n",
              "0  unpaid       57682\n",
              "1    paid       96787"
            ],
            "text/html": [
              "\n",
              "  <div id=\"df-3f18e9c3-d102-4bd5-9f7c-da60e5072bcd\">\n",
              "    <div class=\"colab-df-container\">\n",
              "      <div>\n",
              "<style scoped>\n",
              "    .dataframe tbody tr th:only-of-type {\n",
              "        vertical-align: middle;\n",
              "    }\n",
              "\n",
              "    .dataframe tbody tr th {\n",
              "        vertical-align: top;\n",
              "    }\n",
              "\n",
              "    .dataframe thead th {\n",
              "        text-align: right;\n",
              "    }\n",
              "</style>\n",
              "<table border=\"1\" class=\"dataframe\">\n",
              "  <thead>\n",
              "    <tr style=\"text-align: right;\">\n",
              "      <th></th>\n",
              "      <th>status</th>\n",
              "      <th>quantidade</th>\n",
              "    </tr>\n",
              "  </thead>\n",
              "  <tbody>\n",
              "    <tr>\n",
              "      <th>0</th>\n",
              "      <td>unpaid</td>\n",
              "      <td>57682</td>\n",
              "    </tr>\n",
              "    <tr>\n",
              "      <th>1</th>\n",
              "      <td>paid</td>\n",
              "      <td>96787</td>\n",
              "    </tr>\n",
              "  </tbody>\n",
              "</table>\n",
              "</div>\n",
              "      <button class=\"colab-df-convert\" onclick=\"convertToInteractive('df-3f18e9c3-d102-4bd5-9f7c-da60e5072bcd')\"\n",
              "              title=\"Convert this dataframe to an interactive table.\"\n",
              "              style=\"display:none;\">\n",
              "        \n",
              "  <svg xmlns=\"http://www.w3.org/2000/svg\" height=\"24px\"viewBox=\"0 0 24 24\"\n",
              "       width=\"24px\">\n",
              "    <path d=\"M0 0h24v24H0V0z\" fill=\"none\"/>\n",
              "    <path d=\"M18.56 5.44l.94 2.06.94-2.06 2.06-.94-2.06-.94-.94-2.06-.94 2.06-2.06.94zm-11 1L8.5 8.5l.94-2.06 2.06-.94-2.06-.94L8.5 2.5l-.94 2.06-2.06.94zm10 10l.94 2.06.94-2.06 2.06-.94-2.06-.94-.94-2.06-.94 2.06-2.06.94z\"/><path d=\"M17.41 7.96l-1.37-1.37c-.4-.4-.92-.59-1.43-.59-.52 0-1.04.2-1.43.59L10.3 9.45l-7.72 7.72c-.78.78-.78 2.05 0 2.83L4 21.41c.39.39.9.59 1.41.59.51 0 1.02-.2 1.41-.59l7.78-7.78 2.81-2.81c.8-.78.8-2.07 0-2.86zM5.41 20L4 18.59l7.72-7.72 1.47 1.35L5.41 20z\"/>\n",
              "  </svg>\n",
              "      </button>\n",
              "      \n",
              "  <style>\n",
              "    .colab-df-container {\n",
              "      display:flex;\n",
              "      flex-wrap:wrap;\n",
              "      gap: 12px;\n",
              "    }\n",
              "\n",
              "    .colab-df-convert {\n",
              "      background-color: #E8F0FE;\n",
              "      border: none;\n",
              "      border-radius: 50%;\n",
              "      cursor: pointer;\n",
              "      display: none;\n",
              "      fill: #1967D2;\n",
              "      height: 32px;\n",
              "      padding: 0 0 0 0;\n",
              "      width: 32px;\n",
              "    }\n",
              "\n",
              "    .colab-df-convert:hover {\n",
              "      background-color: #E2EBFA;\n",
              "      box-shadow: 0px 1px 2px rgba(60, 64, 67, 0.3), 0px 1px 3px 1px rgba(60, 64, 67, 0.15);\n",
              "      fill: #174EA6;\n",
              "    }\n",
              "\n",
              "    [theme=dark] .colab-df-convert {\n",
              "      background-color: #3B4455;\n",
              "      fill: #D2E3FC;\n",
              "    }\n",
              "\n",
              "    [theme=dark] .colab-df-convert:hover {\n",
              "      background-color: #434B5C;\n",
              "      box-shadow: 0px 1px 3px 1px rgba(0, 0, 0, 0.15);\n",
              "      filter: drop-shadow(0px 1px 2px rgba(0, 0, 0, 0.3));\n",
              "      fill: #FFFFFF;\n",
              "    }\n",
              "  </style>\n",
              "\n",
              "      <script>\n",
              "        const buttonEl =\n",
              "          document.querySelector('#df-3f18e9c3-d102-4bd5-9f7c-da60e5072bcd button.colab-df-convert');\n",
              "        buttonEl.style.display =\n",
              "          google.colab.kernel.accessAllowed ? 'block' : 'none';\n",
              "\n",
              "        async function convertToInteractive(key) {\n",
              "          const element = document.querySelector('#df-3f18e9c3-d102-4bd5-9f7c-da60e5072bcd');\n",
              "          const dataTable =\n",
              "            await google.colab.kernel.invokeFunction('convertToInteractive',\n",
              "                                                     [key], {});\n",
              "          if (!dataTable) return;\n",
              "\n",
              "          const docLinkHtml = 'Like what you see? Visit the ' +\n",
              "            '<a target=\"_blank\" href=https://colab.research.google.com/notebooks/data_table.ipynb>data table notebook</a>'\n",
              "            + ' to learn more about interactive tables.';\n",
              "          element.innerHTML = '';\n",
              "          dataTable['output_type'] = 'display_data';\n",
              "          await google.colab.output.renderOutput(dataTable, element);\n",
              "          const docLink = document.createElement('div');\n",
              "          docLink.innerHTML = docLinkHtml;\n",
              "          element.appendChild(docLink);\n",
              "        }\n",
              "      </script>\n",
              "    </div>\n",
              "  </div>\n",
              "  "
            ]
          },
          "metadata": {},
          "execution_count": 24
        }
      ]
    },
    {
      "cell_type": "code",
      "source": [
        "plt.figure(figsize=(7,5))\n",
        "plt.barh(status_boleto_df['status'], status_boleto_df['quantidade'])\n",
        "plt.title('Quantidade boletos emitidos, por status')\n",
        "plt.ylabel('Status')\n",
        "plt.xlabel('Quantidade de Boletos')\n",
        "plt.show()"
      ],
      "metadata": {
        "colab": {
          "base_uri": "https://localhost:8080/",
          "height": 350
        },
        "id": "Kjpz2h7Zr6kI",
        "outputId": "35fe3640-6426-4aa6-89ef-674308d3f160"
      },
      "execution_count": 25,
      "outputs": [
        {
          "output_type": "display_data",
          "data": {
            "text/plain": [
              "<Figure size 504x360 with 1 Axes>"
            ],
            "image/png": "[encoded data removed]"
          },
          "metadata": {
            "needs_background": "light"
          }
        }
      ]
    },
    {
      "cell_type": "code",
      "source": [
        "emissoes_de_boleto_df = charges_df.groupby(['account_number', 'status'])\n",
        "emissoes_de_boleto_df = emissoes_de_boleto_df['id'].count().reset_index().sort_values('id', ascending=True).reset_index()\n",
        "emissoes_de_boleto_df = emissoes_de_boleto_df[['account_number', 'status', 'id']]\n",
        "emissoes_de_boleto_df.rename(columns = {'id': 'quantidade'}, inplace = True)\n",
        "emissoes_de_boleto_df"
      ],
      "metadata": {
        "colab": {
          "base_uri": "https://localhost:8080/",
          "height": 424
        },
        "id": "UhUcr49TlH0B",
        "outputId": "3b14d619-422f-4895-da2f-3fdc3b7a47e2"
      },
      "execution_count": 26,
      "outputs": [
        {
          "output_type": "execute_result",
          "data": {
            "text/plain": [
              "      account_number  status  quantidade\n",
              "0             871229  unpaid           1\n",
              "1             418641    paid           1\n",
              "2             960579    paid           1\n",
              "3             741807  unpaid           1\n",
              "4             947006  unpaid           2\n",
              "...              ...     ...         ...\n",
              "1751          254087    paid         579\n",
              "1752          830539    paid         588\n",
              "1753          619093    paid         684\n",
              "1754          850348    paid         693\n",
              "1755          311410    paid         764\n",
              "\n",
              "[1756 rows x 3 columns]"
            ],
            "text/html": [
              "\n",
              "  <div id=\"df-7203d298-e47c-4011-9b40-751a1a8c2f69\">\n",
              "    <div class=\"colab-df-container\">\n",
              "      <div>\n",
              "<style scoped>\n",
              "    .dataframe tbody tr th:only-of-type {\n",
              "        vertical-align: middle;\n",
              "    }\n",
              "\n",
              "    .dataframe tbody tr th {\n",
              "        vertical-align: top;\n",
              "    }\n",
              "\n",
              "    .dataframe thead th {\n",
              "        text-align: right;\n",
              "    }\n",
              "</style>\n",
              "<table border=\"1\" class=\"dataframe\">\n",
              "  <thead>\n",
              "    <tr style=\"text-align: right;\">\n",
              "      <th></th>\n",
              "      <th>account_number</th>\n",
              "      <th>status</th>\n",
              "      <th>quantidade</th>\n",
              "    </tr>\n",
              "  </thead>\n",
              "  <tbody>\n",
              "    <tr>\n",
              "      <th>0</th>\n",
              "      <td>871229</td>\n",
              "      <td>unpaid</td>\n",
              "      <td>1</td>\n",
              "    </tr>\n",
              "    <tr>\n",
              "      <th>1</th>\n",
              "      <td>418641</td>\n",
              "      <td>paid</td>\n",
              "      <td>1</td>\n",
              "    </tr>\n",
              "    <tr>\n",
              "      <th>2</th>\n",
              "      <td>960579</td>\n",
              "      <td>paid</td>\n",
              "      <td>1</td>\n",
              "    </tr>\n",
              "    <tr>\n",
              "      <th>3</th>\n",
              "      <td>741807</td>\n",
              "      <td>unpaid</td>\n",
              "      <td>1</td>\n",
              "    </tr>\n",
              "    <tr>\n",
              "      <th>4</th>\n",
              "      <td>947006</td>\n",
              "      <td>unpaid</td>\n",
              "      <td>2</td>\n",
              "    </tr>\n",
              "    <tr>\n",
              "      <th>...</th>\n",
              "      <td>...</td>\n",
              "      <td>...</td>\n",
              "      <td>...</td>\n",
              "    </tr>\n",
              "    <tr>\n",
              "      <th>1751</th>\n",
              "      <td>254087</td>\n",
              "      <td>paid</td>\n",
              "      <td>579</td>\n",
              "    </tr>\n",
              "    <tr>\n",
              "      <th>1752</th>\n",
              "      <td>830539</td>\n",
              "      <td>paid</td>\n",
              "      <td>588</td>\n",
              "    </tr>\n",
              "    <tr>\n",
              "      <th>1753</th>\n",
              "      <td>619093</td>\n",
              "      <td>paid</td>\n",
              "      <td>684</td>\n",
              "    </tr>\n",
              "    <tr>\n",
              "      <th>1754</th>\n",
              "      <td>850348</td>\n",
              "      <td>paid</td>\n",
              "      <td>693</td>\n",
              "    </tr>\n",
              "    <tr>\n",
              "      <th>1755</th>\n",
              "      <td>311410</td>\n",
              "      <td>paid</td>\n",
              "      <td>764</td>\n",
              "    </tr>\n",
              "  </tbody>\n",
              "</table>\n",
              "<p>1756 rows × 3 columns</p>\n",
              "</div>\n",
              "      <button class=\"colab-df-convert\" onclick=\"convertToInteractive('df-7203d298-e47c-4011-9b40-751a1a8c2f69')\"\n",
              "              title=\"Convert this dataframe to an interactive table.\"\n",
              "              style=\"display:none;\">\n",
              "        \n",
              "  <svg xmlns=\"http://www.w3.org/2000/svg\" height=\"24px\"viewBox=\"0 0 24 24\"\n",
              "       width=\"24px\">\n",
              "    <path d=\"M0 0h24v24H0V0z\" fill=\"none\"/>\n",
              "    <path d=\"M18.56 5.44l.94 2.06.94-2.06 2.06-.94-2.06-.94-.94-2.06-.94 2.06-2.06.94zm-11 1L8.5 8.5l.94-2.06 2.06-.94-2.06-.94L8.5 2.5l-.94 2.06-2.06.94zm10 10l.94 2.06.94-2.06 2.06-.94-2.06-.94-.94-2.06-.94 2.06-2.06.94z\"/><path d=\"M17.41 7.96l-1.37-1.37c-.4-.4-.92-.59-1.43-.59-.52 0-1.04.2-1.43.59L10.3 9.45l-7.72 7.72c-.78.78-.78 2.05 0 2.83L4 21.41c.39.39.9.59 1.41.59.51 0 1.02-.2 1.41-.59l7.78-7.78 2.81-2.81c.8-.78.8-2.07 0-2.86zM5.41 20L4 18.59l7.72-7.72 1.47 1.35L5.41 20z\"/>\n",
              "  </svg>\n",
              "      </button>\n",
              "      \n",
              "  <style>\n",
              "    .colab-df-container {\n",
              "      display:flex;\n",
              "      flex-wrap:wrap;\n",
              "      gap: 12px;\n",
              "    }\n",
              "\n",
              "    .colab-df-convert {\n",
              "      background-color: #E8F0FE;\n",
              "      border: none;\n",
              "      border-radius: 50%;\n",
              "      cursor: pointer;\n",
              "      display: none;\n",
              "      fill: #1967D2;\n",
              "      height: 32px;\n",
              "      padding: 0 0 0 0;\n",
              "      width: 32px;\n",
              "    }\n",
              "\n",
              "    .colab-df-convert:hover {\n",
              "      background-color: #E2EBFA;\n",
              "      box-shadow: 0px 1px 2px rgba(60, 64, 67, 0.3), 0px 1px 3px 1px rgba(60, 64, 67, 0.15);\n",
              "      fill: #174EA6;\n",
              "    }\n",
              "\n",
              "    [theme=dark] .colab-df-convert {\n",
              "      background-color: #3B4455;\n",
              "      fill: #D2E3FC;\n",
              "    }\n",
              "\n",
              "    [theme=dark] .colab-df-convert:hover {\n",
              "      background-color: #434B5C;\n",
              "      box-shadow: 0px 1px 3px 1px rgba(0, 0, 0, 0.15);\n",
              "      filter: drop-shadow(0px 1px 2px rgba(0, 0, 0, 0.3));\n",
              "      fill: #FFFFFF;\n",
              "    }\n",
              "  </style>\n",
              "\n",
              "      <script>\n",
              "        const buttonEl =\n",
              "          document.querySelector('#df-7203d298-e47c-4011-9b40-751a1a8c2f69 button.colab-df-convert');\n",
              "        buttonEl.style.display =\n",
              "          google.colab.kernel.accessAllowed ? 'block' : 'none';\n",
              "\n",
              "        async function convertToInteractive(key) {\n",
              "          const element = document.querySelector('#df-7203d298-e47c-4011-9b40-751a1a8c2f69');\n",
              "          const dataTable =\n",
              "            await google.colab.kernel.invokeFunction('convertToInteractive',\n",
              "                                                     [key], {});\n",
              "          if (!dataTable) return;\n",
              "\n",
              "          const docLinkHtml = 'Like what you see? Visit the ' +\n",
              "            '<a target=\"_blank\" href=https://colab.research.google.com/notebooks/data_table.ipynb>data table notebook</a>'\n",
              "            + ' to learn more about interactive tables.';\n",
              "          element.innerHTML = '';\n",
              "          dataTable['output_type'] = 'display_data';\n",
              "          await google.colab.output.renderOutput(dataTable, element);\n",
              "          const docLink = document.createElement('div');\n",
              "          docLink.innerHTML = docLinkHtml;\n",
              "          element.appendChild(docLink);\n",
              "        }\n",
              "      </script>\n",
              "    </div>\n",
              "  </div>\n",
              "  "
            ]
          },
          "metadata": {},
          "execution_count": 26
        }
      ]
    },
    {
      "cell_type": "code",
      "source": [
        "boletos_pagos = (emissoes_de_boleto_df['status'] == 'paid')\n",
        "boletos_nao_pagos = (emissoes_de_boleto_df['status'] == 'unpaid')"
      ],
      "metadata": {
        "id": "lVnOtn2XDvfA"
      },
      "execution_count": 27,
      "outputs": []
    },
    {
      "cell_type": "code",
      "source": [
        "plt.figure(figsize=(7,5))\n",
        "plt.hist(emissoes_de_boleto_df[boletos_pagos]['quantidade'], bins = 10)\n",
        "plt.title('Quantidade de boletos pagos por número de conta')\n",
        "plt.ylabel('Frequência dos valores')\n",
        "plt.xlabel('Quantidade de boletos pagos')\n",
        "plt.show()"
      ],
      "metadata": {
        "colab": {
          "base_uri": "https://localhost:8080/",
          "height": 350
        },
        "id": "AcV0wIx4p846",
        "outputId": "cf472a1b-7fac-4a25-da0b-0ed332bbf3b0"
      },
      "execution_count": 28,
      "outputs": [
        {
          "output_type": "display_data",
          "data": {
            "text/plain": [
              "<Figure size 504x360 with 1 Axes>"
            ],
            "image/png": "[encoded data removed]"
          },
          "metadata": {
            "needs_background": "light"
          }
        }
      ]
    },
    {
      "cell_type": "code",
      "source": [
        "plt.figure(figsize=(7,5))\n",
        "plt.hist(emissoes_de_boleto_df[boletos_nao_pagos]['quantidade'], bins = 10)\n",
        "plt.title('Quantidade de boletos pagos por número de conta')\n",
        "plt.ylabel('Frequência dos valores')\n",
        "plt.xlabel('Quantidade de boletos não pagos')\n",
        "plt.show()"
      ],
      "metadata": {
        "colab": {
          "base_uri": "https://localhost:8080/",
          "height": 350
        },
        "id": "SIOPWmnip-mw",
        "outputId": "bc0e68ce-d13a-4115-8aba-0e4d47d0611e"
      },
      "execution_count": 29,
      "outputs": [
        {
          "output_type": "display_data",
          "data": {
            "text/plain": [
              "<Figure size 504x360 with 1 Axes>"
            ],
            "image/png": "[encoded data removed]"
          },
          "metadata": {
            "needs_background": "light"
          }
        }
      ]
    },
    {
      "cell_type": "markdown",
      "source": [
        "### Tabela de transações efetivadas"
      ],
      "metadata": {
        "id": "5YWOhspQDEAE"
      }
    },
    {
      "cell_type": "code",
      "source": [
        "transactions_df.head()"
      ],
      "metadata": {
        "colab": {
          "base_uri": "https://localhost:8080/",
          "height": 206
        },
        "outputId": "eae79c33-5277-400b-ac00-6eb7ce6c1899",
        "id": "75ABWcwABlvR"
      },
      "execution_count": 30,
      "outputs": [
        {
          "output_type": "execute_result",
          "data": {
            "text/plain": [
              "   id  account_number  transaction_type_id  value           created_at\n",
              "0   1          155938                    1  11992  2021-04-01 03:00:00\n",
              "1   2          155938                    1   9689  2021-04-01 13:30:00\n",
              "2   3          155938                    1  11579  2021-04-01 11:30:00\n",
              "3   4          155938                    3  11168  2021-04-01 11:00:00\n",
              "4   5          155938                    3  10772  2021-04-01 21:00:00"
            ],
            "text/html": [
              "\n",
              "  <div id=\"df-6d611e81-62ec-4988-8707-72ce609f314c\">\n",
              "    <div class=\"colab-df-container\">\n",
              "      <div>\n",
              "<style scoped>\n",
              "    .dataframe tbody tr th:only-of-type {\n",
              "        vertical-align: middle;\n",
              "    }\n",
              "\n",
              "    .dataframe tbody tr th {\n",
              "        vertical-align: top;\n",
              "    }\n",
              "\n",
              "    .dataframe thead th {\n",
              "        text-align: right;\n",
              "    }\n",
              "</style>\n",
              "<table border=\"1\" class=\"dataframe\">\n",
              "  <thead>\n",
              "    <tr style=\"text-align: right;\">\n",
              "      <th></th>\n",
              "      <th>id</th>\n",
              "      <th>account_number</th>\n",
              "      <th>transaction_type_id</th>\n",
              "      <th>value</th>\n",
              "      <th>created_at</th>\n",
              "    </tr>\n",
              "  </thead>\n",
              "  <tbody>\n",
              "    <tr>\n",
              "      <th>0</th>\n",
              "      <td>1</td>\n",
              "      <td>155938</td>\n",
              "      <td>1</td>\n",
              "      <td>11992</td>\n",
              "      <td>2021-04-01 03:00:00</td>\n",
              "    </tr>\n",
              "    <tr>\n",
              "      <th>1</th>\n",
              "      <td>2</td>\n",
              "      <td>155938</td>\n",
              "      <td>1</td>\n",
              "      <td>9689</td>\n",
              "      <td>2021-04-01 13:30:00</td>\n",
              "    </tr>\n",
              "    <tr>\n",
              "      <th>2</th>\n",
              "      <td>3</td>\n",
              "      <td>155938</td>\n",
              "      <td>1</td>\n",
              "      <td>11579</td>\n",
              "      <td>2021-04-01 11:30:00</td>\n",
              "    </tr>\n",
              "    <tr>\n",
              "      <th>3</th>\n",
              "      <td>4</td>\n",
              "      <td>155938</td>\n",
              "      <td>3</td>\n",
              "      <td>11168</td>\n",
              "      <td>2021-04-01 11:00:00</td>\n",
              "    </tr>\n",
              "    <tr>\n",
              "      <th>4</th>\n",
              "      <td>5</td>\n",
              "      <td>155938</td>\n",
              "      <td>3</td>\n",
              "      <td>10772</td>\n",
              "      <td>2021-04-01 21:00:00</td>\n",
              "    </tr>\n",
              "  </tbody>\n",
              "</table>\n",
              "</div>\n",
              "      <button class=\"colab-df-convert\" onclick=\"convertToInteractive('df-6d611e81-62ec-4988-8707-72ce609f314c')\"\n",
              "              title=\"Convert this dataframe to an interactive table.\"\n",
              "              style=\"display:none;\">\n",
              "        \n",
              "  <svg xmlns=\"http://www.w3.org/2000/svg\" height=\"24px\"viewBox=\"0 0 24 24\"\n",
              "       width=\"24px\">\n",
              "    <path d=\"M0 0h24v24H0V0z\" fill=\"none\"/>\n",
              "    <path d=\"M18.56 5.44l.94 2.06.94-2.06 2.06-.94-2.06-.94-.94-2.06-.94 2.06-2.06.94zm-11 1L8.5 8.5l.94-2.06 2.06-.94-2.06-.94L8.5 2.5l-.94 2.06-2.06.94zm10 10l.94 2.06.94-2.06 2.06-.94-2.06-.94-.94-2.06-.94 2.06-2.06.94z\"/><path d=\"M17.41 7.96l-1.37-1.37c-.4-.4-.92-.59-1.43-.59-.52 0-1.04.2-1.43.59L10.3 9.45l-7.72 7.72c-.78.78-.78 2.05 0 2.83L4 21.41c.39.39.9.59 1.41.59.51 0 1.02-.2 1.41-.59l7.78-7.78 2.81-2.81c.8-.78.8-2.07 0-2.86zM5.41 20L4 18.59l7.72-7.72 1.47 1.35L5.41 20z\"/>\n",
              "  </svg>\n",
              "      </button>\n",
              "      \n",
              "  <style>\n",
              "    .colab-df-container {\n",
              "      display:flex;\n",
              "      flex-wrap:wrap;\n",
              "      gap: 12px;\n",
              "    }\n",
              "\n",
              "    .colab-df-convert {\n",
              "      background-color: #E8F0FE;\n",
              "      border: none;\n",
              "      border-radius: 50%;\n",
              "      cursor: pointer;\n",
              "      display: none;\n",
              "      fill: #1967D2;\n",
              "      height: 32px;\n",
              "      padding: 0 0 0 0;\n",
              "      width: 32px;\n",
              "    }\n",
              "\n",
              "    .colab-df-convert:hover {\n",
              "      background-color: #E2EBFA;\n",
              "      box-shadow: 0px 1px 2px rgba(60, 64, 67, 0.3), 0px 1px 3px 1px rgba(60, 64, 67, 0.15);\n",
              "      fill: #174EA6;\n",
              "    }\n",
              "\n",
              "    [theme=dark] .colab-df-convert {\n",
              "      background-color: #3B4455;\n",
              "      fill: #D2E3FC;\n",
              "    }\n",
              "\n",
              "    [theme=dark] .colab-df-convert:hover {\n",
              "      background-color: #434B5C;\n",
              "      box-shadow: 0px 1px 3px 1px rgba(0, 0, 0, 0.15);\n",
              "      filter: drop-shadow(0px 1px 2px rgba(0, 0, 0, 0.3));\n",
              "      fill: #FFFFFF;\n",
              "    }\n",
              "  </style>\n",
              "\n",
              "      <script>\n",
              "        const buttonEl =\n",
              "          document.querySelector('#df-6d611e81-62ec-4988-8707-72ce609f314c button.colab-df-convert');\n",
              "        buttonEl.style.display =\n",
              "          google.colab.kernel.accessAllowed ? 'block' : 'none';\n",
              "\n",
              "        async function convertToInteractive(key) {\n",
              "          const element = document.querySelector('#df-6d611e81-62ec-4988-8707-72ce609f314c');\n",
              "          const dataTable =\n",
              "            await google.colab.kernel.invokeFunction('convertToInteractive',\n",
              "                                                     [key], {});\n",
              "          if (!dataTable) return;\n",
              "\n",
              "          const docLinkHtml = 'Like what you see? Visit the ' +\n",
              "            '<a target=\"_blank\" href=https://colab.research.google.com/notebooks/data_table.ipynb>data table notebook</a>'\n",
              "            + ' to learn more about interactive tables.';\n",
              "          element.innerHTML = '';\n",
              "          dataTable['output_type'] = 'display_data';\n",
              "          await google.colab.output.renderOutput(dataTable, element);\n",
              "          const docLink = document.createElement('div');\n",
              "          docLink.innerHTML = docLinkHtml;\n",
              "          element.appendChild(docLink);\n",
              "        }\n",
              "      </script>\n",
              "    </div>\n",
              "  </div>\n",
              "  "
            ]
          },
          "metadata": {},
          "execution_count": 30
        }
      ]
    },
    {
      "cell_type": "markdown",
      "source": [
        "Conversão dos valores para reais"
      ],
      "metadata": {
        "id": "uxIKt-9TGVk2"
      }
    },
    {
      "cell_type": "code",
      "source": [
        "transactions_df['value'] = transactions_df['value'] / 100\n",
        "transactions_df.head()"
      ],
      "metadata": {
        "colab": {
          "base_uri": "https://localhost:8080/",
          "height": 206
        },
        "outputId": "844f3f27-86f7-4208-aba0-7d8cac62b2a4",
        "id": "7JkscahoGVk2"
      },
      "execution_count": 31,
      "outputs": [
        {
          "output_type": "execute_result",
          "data": {
            "text/plain": [
              "   id  account_number  transaction_type_id   value           created_at\n",
              "0   1          155938                    1  119.92  2021-04-01 03:00:00\n",
              "1   2          155938                    1   96.89  2021-04-01 13:30:00\n",
              "2   3          155938                    1  115.79  2021-04-01 11:30:00\n",
              "3   4          155938                    3  111.68  2021-04-01 11:00:00\n",
              "4   5          155938                    3  107.72  2021-04-01 21:00:00"
            ],
            "text/html": [
              "\n",
              "  <div id=\"df-984597ce-0b48-4ef8-a854-4cf78a49edf0\">\n",
              "    <div class=\"colab-df-container\">\n",
              "      <div>\n",
              "<style scoped>\n",
              "    .dataframe tbody tr th:only-of-type {\n",
              "        vertical-align: middle;\n",
              "    }\n",
              "\n",
              "    .dataframe tbody tr th {\n",
              "        vertical-align: top;\n",
              "    }\n",
              "\n",
              "    .dataframe thead th {\n",
              "        text-align: right;\n",
              "    }\n",
              "</style>\n",
              "<table border=\"1\" class=\"dataframe\">\n",
              "  <thead>\n",
              "    <tr style=\"text-align: right;\">\n",
              "      <th></th>\n",
              "      <th>id</th>\n",
              "      <th>account_number</th>\n",
              "      <th>transaction_type_id</th>\n",
              "      <th>value</th>\n",
              "      <th>created_at</th>\n",
              "    </tr>\n",
              "  </thead>\n",
              "  <tbody>\n",
              "    <tr>\n",
              "      <th>0</th>\n",
              "      <td>1</td>\n",
              "      <td>155938</td>\n",
              "      <td>1</td>\n",
              "      <td>119.92</td>\n",
              "      <td>2021-04-01 03:00:00</td>\n",
              "    </tr>\n",
              "    <tr>\n",
              "      <th>1</th>\n",
              "      <td>2</td>\n",
              "      <td>155938</td>\n",
              "      <td>1</td>\n",
              "      <td>96.89</td>\n",
              "      <td>2021-04-01 13:30:00</td>\n",
              "    </tr>\n",
              "    <tr>\n",
              "      <th>2</th>\n",
              "      <td>3</td>\n",
              "      <td>155938</td>\n",
              "      <td>1</td>\n",
              "      <td>115.79</td>\n",
              "      <td>2021-04-01 11:30:00</td>\n",
              "    </tr>\n",
              "    <tr>\n",
              "      <th>3</th>\n",
              "      <td>4</td>\n",
              "      <td>155938</td>\n",
              "      <td>3</td>\n",
              "      <td>111.68</td>\n",
              "      <td>2021-04-01 11:00:00</td>\n",
              "    </tr>\n",
              "    <tr>\n",
              "      <th>4</th>\n",
              "      <td>5</td>\n",
              "      <td>155938</td>\n",
              "      <td>3</td>\n",
              "      <td>107.72</td>\n",
              "      <td>2021-04-01 21:00:00</td>\n",
              "    </tr>\n",
              "  </tbody>\n",
              "</table>\n",
              "</div>\n",
              "      <button class=\"colab-df-convert\" onclick=\"convertToInteractive('df-984597ce-0b48-4ef8-a854-4cf78a49edf0')\"\n",
              "              title=\"Convert this dataframe to an interactive table.\"\n",
              "              style=\"display:none;\">\n",
              "        \n",
              "  <svg xmlns=\"http://www.w3.org/2000/svg\" height=\"24px\"viewBox=\"0 0 24 24\"\n",
              "       width=\"24px\">\n",
              "    <path d=\"M0 0h24v24H0V0z\" fill=\"none\"/>\n",
              "    <path d=\"M18.56 5.44l.94 2.06.94-2.06 2.06-.94-2.06-.94-.94-2.06-.94 2.06-2.06.94zm-11 1L8.5 8.5l.94-2.06 2.06-.94-2.06-.94L8.5 2.5l-.94 2.06-2.06.94zm10 10l.94 2.06.94-2.06 2.06-.94-2.06-.94-.94-2.06-.94 2.06-2.06.94z\"/><path d=\"M17.41 7.96l-1.37-1.37c-.4-.4-.92-.59-1.43-.59-.52 0-1.04.2-1.43.59L10.3 9.45l-7.72 7.72c-.78.78-.78 2.05 0 2.83L4 21.41c.39.39.9.59 1.41.59.51 0 1.02-.2 1.41-.59l7.78-7.78 2.81-2.81c.8-.78.8-2.07 0-2.86zM5.41 20L4 18.59l7.72-7.72 1.47 1.35L5.41 20z\"/>\n",
              "  </svg>\n",
              "      </button>\n",
              "      \n",
              "  <style>\n",
              "    .colab-df-container {\n",
              "      display:flex;\n",
              "      flex-wrap:wrap;\n",
              "      gap: 12px;\n",
              "    }\n",
              "\n",
              "    .colab-df-convert {\n",
              "      background-color: #E8F0FE;\n",
              "      border: none;\n",
              "      border-radius: 50%;\n",
              "      cursor: pointer;\n",
              "      display: none;\n",
              "      fill: #1967D2;\n",
              "      height: 32px;\n",
              "      padding: 0 0 0 0;\n",
              "      width: 32px;\n",
              "    }\n",
              "\n",
              "    .colab-df-convert:hover {\n",
              "      background-color: #E2EBFA;\n",
              "      box-shadow: 0px 1px 2px rgba(60, 64, 67, 0.3), 0px 1px 3px 1px rgba(60, 64, 67, 0.15);\n",
              "      fill: #174EA6;\n",
              "    }\n",
              "\n",
              "    [theme=dark] .colab-df-convert {\n",
              "      background-color: #3B4455;\n",
              "      fill: #D2E3FC;\n",
              "    }\n",
              "\n",
              "    [theme=dark] .colab-df-convert:hover {\n",
              "      background-color: #434B5C;\n",
              "      box-shadow: 0px 1px 3px 1px rgba(0, 0, 0, 0.15);\n",
              "      filter: drop-shadow(0px 1px 2px rgba(0, 0, 0, 0.3));\n",
              "      fill: #FFFFFF;\n",
              "    }\n",
              "  </style>\n",
              "\n",
              "      <script>\n",
              "        const buttonEl =\n",
              "          document.querySelector('#df-984597ce-0b48-4ef8-a854-4cf78a49edf0 button.colab-df-convert');\n",
              "        buttonEl.style.display =\n",
              "          google.colab.kernel.accessAllowed ? 'block' : 'none';\n",
              "\n",
              "        async function convertToInteractive(key) {\n",
              "          const element = document.querySelector('#df-984597ce-0b48-4ef8-a854-4cf78a49edf0');\n",
              "          const dataTable =\n",
              "            await google.colab.kernel.invokeFunction('convertToInteractive',\n",
              "                                                     [key], {});\n",
              "          if (!dataTable) return;\n",
              "\n",
              "          const docLinkHtml = 'Like what you see? Visit the ' +\n",
              "            '<a target=\"_blank\" href=https://colab.research.google.com/notebooks/data_table.ipynb>data table notebook</a>'\n",
              "            + ' to learn more about interactive tables.';\n",
              "          element.innerHTML = '';\n",
              "          dataTable['output_type'] = 'display_data';\n",
              "          await google.colab.output.renderOutput(dataTable, element);\n",
              "          const docLink = document.createElement('div');\n",
              "          docLink.innerHTML = docLinkHtml;\n",
              "          element.appendChild(docLink);\n",
              "        }\n",
              "      </script>\n",
              "    </div>\n",
              "  </div>\n",
              "  "
            ]
          },
          "metadata": {},
          "execution_count": 31
        }
      ]
    },
    {
      "cell_type": "code",
      "source": [
        "display('Tipo dos dados presentes')\n",
        "display(transactions_df.dtypes)"
      ],
      "metadata": {
        "colab": {
          "base_uri": "https://localhost:8080/",
          "height": 140
        },
        "id": "rMGi7Y5wyktO",
        "outputId": "c46bc3e5-f526-4e63-88ac-ef4939c7f0f2"
      },
      "execution_count": 32,
      "outputs": [
        {
          "output_type": "display_data",
          "data": {
            "text/plain": [
              "'Tipo dos dados presentes'"
            ],
            "application/vnd.google.colaboratory.intrinsic+json": {
              "type": "string"
            }
          },
          "metadata": {}
        },
        {
          "output_type": "display_data",
          "data": {
            "text/plain": [
              "id                       int64\n",
              "account_number           int64\n",
              "transaction_type_id      int64\n",
              "value                  float64\n",
              "created_at              object\n",
              "dtype: object"
            ]
          },
          "metadata": {}
        }
      ]
    },
    {
      "cell_type": "markdown",
      "source": [
        "id: Númerico\n",
        "\n",
        "account_number: Numérico\n",
        "\n",
        "transaction_type_id: Numérico\n",
        "\n",
        "value: Numérico\n",
        "\n",
        "created_at: Numérico"
      ],
      "metadata": {
        "id": "ObhES5YC0cgL"
      }
    },
    {
      "cell_type": "markdown",
      "source": [
        "#### Quais as medidas de tendência central e desvio padrão para as transações efetivadas, considerando o tipo?"
      ],
      "metadata": {
        "id": "fwCCtmICECav"
      }
    },
    {
      "cell_type": "code",
      "source": [
        "boleto_recebido = (transactions_df['transaction_type_id'] == 1)\n",
        "pix_enviado = (transactions_df['transaction_type_id'] == 2)\n",
        "pix_recebido = (transactions_df['transaction_type_id'] == 3)\n",
        "\n",
        "valores_recebidos_boleto = transactions_df[boleto_recebido]['value']\n",
        "display('Média dos valores recebidos por boleto')\n",
        "display(round(valores_recebidos_boleto.mean(), 2))\n",
        "display('Desvio padrão dos valores recebidos por boleto')\n",
        "display(round(valores_recebidos_boleto.std(), 2))\n",
        "display('Mediana dos valores recebidos por boleto')\n",
        "display(valores_recebidos_boleto.median())\n",
        "display('Moda dos valores recebidos por boleto')\n",
        "display(valores_recebidos_boleto.mode())\n",
        "print()\n",
        "\n",
        "valores_enviados_pix = transactions_df[pix_enviado]['value']\n",
        "display('Média dos valores enviados por pix')\n",
        "display(round(valores_enviados_pix.mean(), 2))\n",
        "display('Desvio padrão dos valores enviados por pix')\n",
        "display(round(valores_enviados_pix.std(), 2))\n",
        "display('Mediana dos valores enviados por pix')\n",
        "display(valores_enviados_pix.median())\n",
        "display('Moda dos valores enviados por pix')\n",
        "display(valores_enviados_pix.mode())\n",
        "print()\n",
        "\n",
        "valores_recebidos_pix = transactions_df[pix_recebido]['value']\n",
        "display('Média dos valores recebidos por pix')\n",
        "display(round(valores_recebidos_pix.mean(), 2))\n",
        "display('Desvio padrão dos valores recebidos por pix')\n",
        "display(round(valores_recebidos_pix.std(), 2))\n",
        "display('Mediana dos valores recebidos por pix')\n",
        "display(valores_recebidos_pix.median())\n",
        "display('Moda dos valores recebidos por pix')\n",
        "display(valores_recebidos_pix.mode())\n",
        "print()"
      ],
      "metadata": {
        "colab": {
          "base_uri": "https://localhost:8080/",
          "height": 585
        },
        "id": "2Gr_bK6dEeAX",
        "outputId": "55662baa-7750-40c7-d429-75552b705659"
      },
      "execution_count": 33,
      "outputs": [
        {
          "output_type": "display_data",
          "data": {
            "text/plain": [
              "'Média dos valores recebidos por boleto'"
            ],
            "application/vnd.google.colaboratory.intrinsic+json": {
              "type": "string"
            }
          },
          "metadata": {}
        },
        {
          "output_type": "display_data",
          "data": {
            "text/plain": [
              "54.31"
            ]
          },
          "metadata": {}
        },
        {
          "output_type": "display_data",
          "data": {
            "text/plain": [
              "'Desvio padrão dos valores recebidos por boleto'"
            ],
            "application/vnd.google.colaboratory.intrinsic+json": {
              "type": "string"
            }
          },
          "metadata": {}
        },
        {
          "output_type": "display_data",
          "data": {
            "text/plain": [
              "19.32"
            ]
          },
          "metadata": {}
        },
        {
          "output_type": "display_data",
          "data": {
            "text/plain": [
              "'Mediana dos valores recebidos por boleto'"
            ],
            "application/vnd.google.colaboratory.intrinsic+json": {
              "type": "string"
            }
          },
          "metadata": {}
        },
        {
          "output_type": "display_data",
          "data": {
            "text/plain": [
              "50.4"
            ]
          },
          "metadata": {}
        },
        {
          "output_type": "display_data",
          "data": {
            "text/plain": [
              "'Moda dos valores recebidos por boleto'"
            ],
            "application/vnd.google.colaboratory.intrinsic+json": {
              "type": "string"
            }
          },
          "metadata": {}
        },
        {
          "output_type": "display_data",
          "data": {
            "text/plain": [
              "0    37.23\n",
              "dtype: float64"
            ]
          },
          "metadata": {}
        },
        {
          "output_type": "stream",
          "name": "stdout",
          "text": [
            "\n"
          ]
        },
        {
          "output_type": "display_data",
          "data": {
            "text/plain": [
              "'Média dos valores enviados por pix'"
            ],
            "application/vnd.google.colaboratory.intrinsic+json": {
              "type": "string"
            }
          },
          "metadata": {}
        },
        {
          "output_type": "display_data",
          "data": {
            "text/plain": [
              "1045.55"
            ]
          },
          "metadata": {}
        },
        {
          "output_type": "display_data",
          "data": {
            "text/plain": [
              "'Desvio padrão dos valores enviados por pix'"
            ],
            "application/vnd.google.colaboratory.intrinsic+json": {
              "type": "string"
            }
          },
          "metadata": {}
        },
        {
          "output_type": "display_data",
          "data": {
            "text/plain": [
              "929.17"
            ]
          },
          "metadata": {}
        },
        {
          "output_type": "display_data",
          "data": {
            "text/plain": [
              "'Mediana dos valores enviados por pix'"
            ],
            "application/vnd.google.colaboratory.intrinsic+json": {
              "type": "string"
            }
          },
          "metadata": {}
        },
        {
          "output_type": "display_data",
          "data": {
            "text/plain": [
              "772.68"
            ]
          },
          "metadata": {}
        },
        {
          "output_type": "display_data",
          "data": {
            "text/plain": [
              "'Moda dos valores enviados por pix'"
            ],
            "application/vnd.google.colaboratory.intrinsic+json": {
              "type": "string"
            }
          },
          "metadata": {}
        },
        {
          "output_type": "display_data",
          "data": {
            "text/plain": [
              "0     312.06\n",
              "1     316.31\n",
              "2    1125.58\n",
              "dtype: float64"
            ]
          },
          "metadata": {}
        },
        {
          "output_type": "stream",
          "name": "stdout",
          "text": [
            "\n"
          ]
        },
        {
          "output_type": "display_data",
          "data": {
            "text/plain": [
              "'Média dos valores recebidos por pix'"
            ],
            "application/vnd.google.colaboratory.intrinsic+json": {
              "type": "string"
            }
          },
          "metadata": {}
        },
        {
          "output_type": "display_data",
          "data": {
            "text/plain": [
              "55.11"
            ]
          },
          "metadata": {}
        },
        {
          "output_type": "display_data",
          "data": {
            "text/plain": [
              "'Desvio padrão dos valores recebidos por pix'"
            ],
            "application/vnd.google.colaboratory.intrinsic+json": {
              "type": "string"
            }
          },
          "metadata": {}
        },
        {
          "output_type": "display_data",
          "data": {
            "text/plain": [
              "20.06"
            ]
          },
          "metadata": {}
        },
        {
          "output_type": "display_data",
          "data": {
            "text/plain": [
              "'Mediana dos valores recebidos por pix'"
            ],
            "application/vnd.google.colaboratory.intrinsic+json": {
              "type": "string"
            }
          },
          "metadata": {}
        },
        {
          "output_type": "display_data",
          "data": {
            "text/plain": [
              "50.8"
            ]
          },
          "metadata": {}
        },
        {
          "output_type": "display_data",
          "data": {
            "text/plain": [
              "'Moda dos valores recebidos por pix'"
            ],
            "application/vnd.google.colaboratory.intrinsic+json": {
              "type": "string"
            }
          },
          "metadata": {}
        },
        {
          "output_type": "display_data",
          "data": {
            "text/plain": [
              "0    53.14\n",
              "dtype: float64"
            ]
          },
          "metadata": {}
        },
        {
          "output_type": "stream",
          "name": "stdout",
          "text": [
            "\n"
          ]
        }
      ]
    },
    {
      "cell_type": "markdown",
      "source": [
        "#### Como se distribuem as transações efetivadas, de acordo com os tipos?"
      ],
      "metadata": {
        "id": "W2iYximADwwd"
      }
    },
    {
      "cell_type": "code",
      "source": [
        "ids = []\n",
        "for id in transactions_df['transaction_type_id']:\n",
        "  if id == 1:\n",
        "    ids.append('boleto_recebido')\n",
        "  elif id == 2:\n",
        "    ids.append('pix_enviado')\n",
        "  elif id == 3:\n",
        "    ids.append('pix_recebido')\n",
        "\n",
        "transactions_df['transaction_type_id'] = ids\n",
        "\n",
        "transacoes_df = transactions_df.groupby(['transaction_type_id']).count().reset_index().sort_values('id', ascending=True).reset_index()\n",
        "transacoes_df = transacoes_df[['transaction_type_id', 'id']]\n",
        "transacoes_df.rename(columns = {'id': 'quantidade'}, inplace = True)\n",
        "\n",
        "percentual = []\n",
        "total = transacoes_df['quantidade'].sum()\n",
        "for quantidade in transacoes_df['quantidade']:\n",
        "  percentual.append(round((quantidade / total) * 100, 2))\n",
        "\n",
        "transacoes_df['quantidade relativa'] = percentual\n",
        "\n",
        "transacoes_df.loc[transacoes_df.shape[0]] = ['Total', transacoes_df['quantidade'].sum(), 100]\n",
        "\n",
        "display(transacoes_df)\n",
        "print()\n",
        "\n",
        "plt.figure(figsize=(7,5))\n",
        "plt.barh(transacoes_df['transaction_type_id'].iloc[:-1], transacoes_df['quantidade'].iloc[:-1])\n",
        "plt.title('Quantidade de transações efetivadas, por tipo de transação')\n",
        "plt.ylabel('Tipo de transação')\n",
        "plt.xlabel('Quantidade de Contas')\n",
        "plt.show()"
      ],
      "metadata": {
        "colab": {
          "base_uri": "https://localhost:8080/",
          "height": 525
        },
        "id": "GmMhKvKWDylY",
        "outputId": "0f95bf18-b202-4e7b-b192-2efa00c8a1bc"
      },
      "execution_count": 34,
      "outputs": [
        {
          "output_type": "display_data",
          "data": {
            "text/plain": [
              "  transaction_type_id  quantidade  quantidade relativa\n",
              "0         pix_enviado       11502                 4.49\n",
              "1     boleto_recebido       96787                37.77\n",
              "2        pix_recebido      147938                57.74\n",
              "3               Total      256227               100.00"
            ],
            "text/html": [
              "\n",
              "  <div id=\"df-3d533480-511d-4c66-b266-fb7f775f1148\">\n",
              "    <div class=\"colab-df-container\">\n",
              "      <div>\n",
              "<style scoped>\n",
              "    .dataframe tbody tr th:only-of-type {\n",
              "        vertical-align: middle;\n",
              "    }\n",
              "\n",
              "    .dataframe tbody tr th {\n",
              "        vertical-align: top;\n",
              "    }\n",
              "\n",
              "    .dataframe thead th {\n",
              "        text-align: right;\n",
              "    }\n",
              "</style>\n",
              "<table border=\"1\" class=\"dataframe\">\n",
              "  <thead>\n",
              "    <tr style=\"text-align: right;\">\n",
              "      <th></th>\n",
              "      <th>transaction_type_id</th>\n",
              "      <th>quantidade</th>\n",
              "      <th>quantidade relativa</th>\n",
              "    </tr>\n",
              "  </thead>\n",
              "  <tbody>\n",
              "    <tr>\n",
              "      <th>0</th>\n",
              "      <td>pix_enviado</td>\n",
              "      <td>11502</td>\n",
              "      <td>4.49</td>\n",
              "    </tr>\n",
              "    <tr>\n",
              "      <th>1</th>\n",
              "      <td>boleto_recebido</td>\n",
              "      <td>96787</td>\n",
              "      <td>37.77</td>\n",
              "    </tr>\n",
              "    <tr>\n",
              "      <th>2</th>\n",
              "      <td>pix_recebido</td>\n",
              "      <td>147938</td>\n",
              "      <td>57.74</td>\n",
              "    </tr>\n",
              "    <tr>\n",
              "      <th>3</th>\n",
              "      <td>Total</td>\n",
              "      <td>256227</td>\n",
              "      <td>100.00</td>\n",
              "    </tr>\n",
              "  </tbody>\n",
              "</table>\n",
              "</div>\n",
              "      <button class=\"colab-df-convert\" onclick=\"convertToInteractive('df-3d533480-511d-4c66-b266-fb7f775f1148')\"\n",
              "              title=\"Convert this dataframe to an interactive table.\"\n",
              "              style=\"display:none;\">\n",
              "        \n",
              "  <svg xmlns=\"http://www.w3.org/2000/svg\" height=\"24px\"viewBox=\"0 0 24 24\"\n",
              "       width=\"24px\">\n",
              "    <path d=\"M0 0h24v24H0V0z\" fill=\"none\"/>\n",
              "    <path d=\"M18.56 5.44l.94 2.06.94-2.06 2.06-.94-2.06-.94-.94-2.06-.94 2.06-2.06.94zm-11 1L8.5 8.5l.94-2.06 2.06-.94-2.06-.94L8.5 2.5l-.94 2.06-2.06.94zm10 10l.94 2.06.94-2.06 2.06-.94-2.06-.94-.94-2.06-.94 2.06-2.06.94z\"/><path d=\"M17.41 7.96l-1.37-1.37c-.4-.4-.92-.59-1.43-.59-.52 0-1.04.2-1.43.59L10.3 9.45l-7.72 7.72c-.78.78-.78 2.05 0 2.83L4 21.41c.39.39.9.59 1.41.59.51 0 1.02-.2 1.41-.59l7.78-7.78 2.81-2.81c.8-.78.8-2.07 0-2.86zM5.41 20L4 18.59l7.72-7.72 1.47 1.35L5.41 20z\"/>\n",
              "  </svg>\n",
              "      </button>\n",
              "      \n",
              "  <style>\n",
              "    .colab-df-container {\n",
              "      display:flex;\n",
              "      flex-wrap:wrap;\n",
              "      gap: 12px;\n",
              "    }\n",
              "\n",
              "    .colab-df-convert {\n",
              "      background-color: #E8F0FE;\n",
              "      border: none;\n",
              "      border-radius: 50%;\n",
              "      cursor: pointer;\n",
              "      display: none;\n",
              "      fill: #1967D2;\n",
              "      height: 32px;\n",
              "      padding: 0 0 0 0;\n",
              "      width: 32px;\n",
              "    }\n",
              "\n",
              "    .colab-df-convert:hover {\n",
              "      background-color: #E2EBFA;\n",
              "      box-shadow: 0px 1px 2px rgba(60, 64, 67, 0.3), 0px 1px 3px 1px rgba(60, 64, 67, 0.15);\n",
              "      fill: #174EA6;\n",
              "    }\n",
              "\n",
              "    [theme=dark] .colab-df-convert {\n",
              "      background-color: #3B4455;\n",
              "      fill: #D2E3FC;\n",
              "    }\n",
              "\n",
              "    [theme=dark] .colab-df-convert:hover {\n",
              "      background-color: #434B5C;\n",
              "      box-shadow: 0px 1px 3px 1px rgba(0, 0, 0, 0.15);\n",
              "      filter: drop-shadow(0px 1px 2px rgba(0, 0, 0, 0.3));\n",
              "      fill: #FFFFFF;\n",
              "    }\n",
              "  </style>\n",
              "\n",
              "      <script>\n",
              "        const buttonEl =\n",
              "          document.querySelector('#df-3d533480-511d-4c66-b266-fb7f775f1148 button.colab-df-convert');\n",
              "        buttonEl.style.display =\n",
              "          google.colab.kernel.accessAllowed ? 'block' : 'none';\n",
              "\n",
              "        async function convertToInteractive(key) {\n",
              "          const element = document.querySelector('#df-3d533480-511d-4c66-b266-fb7f775f1148');\n",
              "          const dataTable =\n",
              "            await google.colab.kernel.invokeFunction('convertToInteractive',\n",
              "                                                     [key], {});\n",
              "          if (!dataTable) return;\n",
              "\n",
              "          const docLinkHtml = 'Like what you see? Visit the ' +\n",
              "            '<a target=\"_blank\" href=https://colab.research.google.com/notebooks/data_table.ipynb>data table notebook</a>'\n",
              "            + ' to learn more about interactive tables.';\n",
              "          element.innerHTML = '';\n",
              "          dataTable['output_type'] = 'display_data';\n",
              "          await google.colab.output.renderOutput(dataTable, element);\n",
              "          const docLink = document.createElement('div');\n",
              "          docLink.innerHTML = docLinkHtml;\n",
              "          element.appendChild(docLink);\n",
              "        }\n",
              "      </script>\n",
              "    </div>\n",
              "  </div>\n",
              "  "
            ]
          },
          "metadata": {}
        },
        {
          "output_type": "stream",
          "name": "stdout",
          "text": [
            "\n"
          ]
        },
        {
          "output_type": "display_data",
          "data": {
            "text/plain": [
              "<Figure size 504x360 with 1 Axes>"
            ],
            "image/png": "[encoded data removed]"
          },
          "metadata": {
            "needs_background": "light"
          }
        }
      ]
    },
    {
      "cell_type": "markdown",
      "source": [
        "Mais de 50% das transações efetivadas foram de pix_recebidos. Mais de 95% das transações efetivadas foram de recebimento de valores."
      ],
      "metadata": {
        "id": "dABohu8TXLkm"
      }
    },
    {
      "cell_type": "code",
      "source": [
        "boleto_recebido = (transactions_df['transaction_type_id'] == 'boleto_recebido')\n",
        "pix_enviado = (transactions_df['transaction_type_id'] == 'pix_enviado')\n",
        "pix_recebido = (transactions_df['transaction_type_id'] == 'pix_recebido')\n",
        "\n",
        "valores_recebidos_boleto = transactions_df[boleto_recebido]['value']\n",
        "valores_enviados_pix = transactions_df[pix_enviado]['value']\n",
        "valores_recebidos_pix = transactions_df[pix_recebido]['value']"
      ],
      "metadata": {
        "id": "NGLa5jWjEoXR"
      },
      "execution_count": 35,
      "outputs": []
    },
    {
      "cell_type": "markdown",
      "source": [
        "#### Como se distribuem as transações efetivadas, de acordo com os valores?"
      ],
      "metadata": {
        "id": "ogWi8NUbehDB"
      }
    },
    {
      "cell_type": "code",
      "source": [
        "boxplot_boleto_recebido = transactions_df[boleto_recebido].boxplot(\n",
        "    column=['value'],\n",
        "    by='transaction_type_id',\n",
        "    vert=False,\n",
        "    figsize=(7,5))\n",
        "boxplot_boleto_recebido.set_ylabel('Tipo de Transação')\n",
        "boxplot_boleto_recebido.set_xlabel('Valor da Transação (em reais)')\n",
        "boxplot_boleto_recebido.set_title('Valores das transações efetivadas via recebimento de boleto');\n",
        "boxplot_boleto_recebido.grid(False)"
      ],
      "metadata": {
        "colab": {
          "base_uri": "https://localhost:8080/",
          "height": 361
        },
        "id": "u6GxflonYx5G",
        "outputId": "8da6832d-fec0-4c4d-c840-9d76f672e0f8"
      },
      "execution_count": 36,
      "outputs": [
        {
          "output_type": "display_data",
          "data": {
            "text/plain": [
              "<Figure size 504x360 with 1 Axes>"
            ],
            "image/png": "[encoded data removed]"
          },
          "metadata": {
            "needs_background": "light"
          }
        }
      ]
    },
    {
      "cell_type": "markdown",
      "source": [
        "Mais de 50% das transações efetivadas por recebimento de boletos tiveram valores maiores que R\\$ 50. Valores maiores quem R\\$ 100 representaram o valor de 25% das transações efetivadas por recebimento de boleto. 75% das transações efetivadas por recebimento de boleto tiveram valor menor que R\\$ 100."
      ],
      "metadata": {
        "id": "5VZGAlYUhtKW"
      }
    },
    {
      "cell_type": "code",
      "source": [
        "plt.figure(figsize=(7,5))\n",
        "plt.hist(valores_recebidos_boleto, bins = 10)\n",
        "plt.title('Distribuição das transações efetivadas via boleto recebido')\n",
        "plt.ylabel('Frequência dos valores')\n",
        "plt.xlabel('Valor da Transação (em reais)')\n",
        "plt.show()"
      ],
      "metadata": {
        "colab": {
          "base_uri": "https://localhost:8080/",
          "height": 350
        },
        "id": "kgZrEy87cVkT",
        "outputId": "f9ad46b0-600b-4cf3-a984-3ef6a0a70688"
      },
      "execution_count": 37,
      "outputs": [
        {
          "output_type": "display_data",
          "data": {
            "text/plain": [
              "<Figure size 504x360 with 1 Axes>"
            ],
            "image/png": "[encoded data removed]"
          },
          "metadata": {
            "needs_background": "light"
          }
        }
      ]
    },
    {
      "cell_type": "markdown",
      "source": [
        "A faixa de valores entre R\\$ 30 a R$ 60 apresenta a maior quantidade de transações efetivadas via recebimento de boleto. A distribuição apresenta assimetria positiva, a maior concentração de valores se encontra nos menores valores das transações."
      ],
      "metadata": {
        "id": "ow8fIsv3kmbj"
      }
    },
    {
      "cell_type": "code",
      "source": [
        "boxplot_pix_enviado = transactions_df[pix_enviado].boxplot(\n",
        "    column=['value'],\n",
        "    by='transaction_type_id',\n",
        "    vert=False,\n",
        "    figsize=(7,5))\n",
        "boxplot_pix_enviado.set_ylabel('Tipo de Transação')\n",
        "boxplot_pix_enviado.set_xlabel('Valor da Transação (em reais)')\n",
        "boxplot_pix_enviado.set_title('Valores das transações efetivadas via envio de pix');\n",
        "boxplot_pix_enviado.grid(False)"
      ],
      "metadata": {
        "colab": {
          "base_uri": "https://localhost:8080/",
          "height": 361
        },
        "id": "D1DeJB00awxp",
        "outputId": "a71d491e-ec75-4f18-94c5-fb0ab7ad2776"
      },
      "execution_count": 38,
      "outputs": [
        {
          "output_type": "display_data",
          "data": {
            "text/plain": [
              "<Figure size 504x360 with 1 Axes>"
            ],
            "image/png": "[encoded data removed]"
          },
          "metadata": {
            "needs_background": "light"
          }
        }
      ]
    },
    {
      "cell_type": "markdown",
      "source": [
        "Mais de 50% das transações efetivadas por envio de pix tiveram valores maiores que R\\$ 800. Valores maiores quem R\\$ 2200 representaram o valor de 25% das transações efetivadas por envio de pix. Mais de 75% das transações efetivadas por envio de pix tiveram valor menor que R\\$ 3000."
      ],
      "metadata": {
        "id": "7NlTtrIPi0m_"
      }
    },
    {
      "cell_type": "code",
      "source": [
        "plt.figure(figsize=(7,5))\n",
        "plt.hist(valores_enviados_pix, bins = 10)\n",
        "plt.title('Distribuição das transações efetivadas via envio de pix')\n",
        "plt.ylabel('Frequência dos valores')\n",
        "plt.xlabel('Valor da Transação (em reais)')\n",
        "plt.show()"
      ],
      "metadata": {
        "colab": {
          "base_uri": "https://localhost:8080/",
          "height": 350
        },
        "id": "R6fmea5zGNxI",
        "outputId": "90525d88-8320-4bb8-8b93-4ae3a2d6c977"
      },
      "execution_count": 39,
      "outputs": [
        {
          "output_type": "display_data",
          "data": {
            "text/plain": [
              "<Figure size 504x360 with 1 Axes>"
            ],
            "image/png": "[encoded data removed]"
          },
          "metadata": {
            "needs_background": "light"
          }
        }
      ]
    },
    {
      "cell_type": "markdown",
      "source": [
        "A faixa de valores entre R\\$ 0 a R$ 2000 apresenta a maior quantidade de transações efetivadas via envio de pix. A distribuição apresenta assimetria positiva, a maior concentração de valores se encontra nos menores valores das transações."
      ],
      "metadata": {
        "id": "OiFHDK6GkaSF"
      }
    },
    {
      "cell_type": "code",
      "source": [
        "boxplot_pix_recebido = transactions_df[pix_recebido].boxplot(\n",
        "    column=['value'],\n",
        "    by='transaction_type_id',\n",
        "    vert=False,\n",
        "    figsize=(7,5))\n",
        "boxplot_pix_recebido.set_ylabel('Tipo de Transação')\n",
        "boxplot_pix_recebido.set_xlabel('Valor da Transação (em reais)')\n",
        "boxplot_pix_recebido.set_title('Valores das transações efetivadas via recebimento de pix');\n",
        "boxplot_pix_recebido.grid(False)"
      ],
      "metadata": {
        "colab": {
          "base_uri": "https://localhost:8080/",
          "height": 361
        },
        "id": "9_F4TG7wbKiK",
        "outputId": "bfb40bdc-0908-4d44-a7a2-6da9d69e0bfc"
      },
      "execution_count": 40,
      "outputs": [
        {
          "output_type": "display_data",
          "data": {
            "text/plain": [
              "<Figure size 504x360 with 1 Axes>"
            ],
            "image/png": "[encoded data removed]"
          },
          "metadata": {
            "needs_background": "light"
          }
        }
      ]
    },
    {
      "cell_type": "markdown",
      "source": [
        "Mais de 50% das transações efetivadas por recebimento de pix tiveram valores maiores que R\\$ 50. Valores maiores quem R\\$ 100 representaram o valor de pouco mais de 25% das transações efetivadas por recebimento de pix. Pouco menos de 75% das transações efetivadas por recebimento de pix tiveram valor menor que R\\$ 100."
      ],
      "metadata": {
        "id": "HIXnBIGejbmO"
      }
    },
    {
      "cell_type": "code",
      "source": [
        "plt.figure(figsize=(7,5))\n",
        "plt.hist(valores_recebidos_pix, bins = 10)\n",
        "plt.title('Distribuição das transações efetivadas via recebimento de pix')\n",
        "plt.ylabel('Frequência dos valores')\n",
        "plt.xlabel('Valor da Transação (em reais)')\n",
        "plt.show()"
      ],
      "metadata": {
        "colab": {
          "base_uri": "https://localhost:8080/",
          "height": 350
        },
        "id": "M3WryPbIGQ6o",
        "outputId": "92c9003b-0652-4a9e-f1bb-f9fde56657a4"
      },
      "execution_count": 41,
      "outputs": [
        {
          "output_type": "display_data",
          "data": {
            "text/plain": [
              "<Figure size 504x360 with 1 Axes>"
            ],
            "image/png": "[encoded data removed]"
          },
          "metadata": {
            "needs_background": "light"
          }
        }
      ]
    },
    {
      "cell_type": "markdown",
      "source": [
        "A faixa de valores entre R\\$ 30 a R$ 60 apresenta a maior quantidade de transações efetivadas via recebimento de pix. A distribuição apresenta assimetria positiva, a maior concentração de valores se encontra nos menores valores das transações."
      ],
      "metadata": {
        "id": "6GCXeV-Xjwej"
      }
    },
    {
      "cell_type": "markdown",
      "source": [
        "### Tabela do tipo de transações"
      ],
      "metadata": {
        "id": "35NCg-YcDKDa"
      }
    },
    {
      "cell_type": "code",
      "source": [
        "transaction_types_df.head()"
      ],
      "metadata": {
        "colab": {
          "base_uri": "https://localhost:8080/",
          "height": 143
        },
        "outputId": "dfee6fa4-d460-4c01-f506-f85ac25fc7c4",
        "id": "PRlKf_XWB2TU"
      },
      "execution_count": 42,
      "outputs": [
        {
          "output_type": "execute_result",
          "data": {
            "text/plain": [
              "   id      description                                 description_long\n",
              "0   1  boleto_recebido                     BOLETO RECEBIDO PELO CLIENTE\n",
              "1   2      pix_enviado  PIX ENVIADO PELO CLIENTE PARA UMA CONTA EXTERNA\n",
              "2   3     pix_recebido                        PIX RECEBIDO PELO CLIENTE"
            ],
            "text/html": [
              "\n",
              "  <div id=\"df-9a08896a-4dba-4a91-87be-a993664bb6ad\">\n",
              "    <div class=\"colab-df-container\">\n",
              "      <div>\n",
              "<style scoped>\n",
              "    .dataframe tbody tr th:only-of-type {\n",
              "        vertical-align: middle;\n",
              "    }\n",
              "\n",
              "    .dataframe tbody tr th {\n",
              "        vertical-align: top;\n",
              "    }\n",
              "\n",
              "    .dataframe thead th {\n",
              "        text-align: right;\n",
              "    }\n",
              "</style>\n",
              "<table border=\"1\" class=\"dataframe\">\n",
              "  <thead>\n",
              "    <tr style=\"text-align: right;\">\n",
              "      <th></th>\n",
              "      <th>id</th>\n",
              "      <th>description</th>\n",
              "      <th>description_long</th>\n",
              "    </tr>\n",
              "  </thead>\n",
              "  <tbody>\n",
              "    <tr>\n",
              "      <th>0</th>\n",
              "      <td>1</td>\n",
              "      <td>boleto_recebido</td>\n",
              "      <td>BOLETO RECEBIDO PELO CLIENTE</td>\n",
              "    </tr>\n",
              "    <tr>\n",
              "      <th>1</th>\n",
              "      <td>2</td>\n",
              "      <td>pix_enviado</td>\n",
              "      <td>PIX ENVIADO PELO CLIENTE PARA UMA CONTA EXTERNA</td>\n",
              "    </tr>\n",
              "    <tr>\n",
              "      <th>2</th>\n",
              "      <td>3</td>\n",
              "      <td>pix_recebido</td>\n",
              "      <td>PIX RECEBIDO PELO CLIENTE</td>\n",
              "    </tr>\n",
              "  </tbody>\n",
              "</table>\n",
              "</div>\n",
              "      <button class=\"colab-df-convert\" onclick=\"convertToInteractive('df-9a08896a-4dba-4a91-87be-a993664bb6ad')\"\n",
              "              title=\"Convert this dataframe to an interactive table.\"\n",
              "              style=\"display:none;\">\n",
              "        \n",
              "  <svg xmlns=\"http://www.w3.org/2000/svg\" height=\"24px\"viewBox=\"0 0 24 24\"\n",
              "       width=\"24px\">\n",
              "    <path d=\"M0 0h24v24H0V0z\" fill=\"none\"/>\n",
              "    <path d=\"M18.56 5.44l.94 2.06.94-2.06 2.06-.94-2.06-.94-.94-2.06-.94 2.06-2.06.94zm-11 1L8.5 8.5l.94-2.06 2.06-.94-2.06-.94L8.5 2.5l-.94 2.06-2.06.94zm10 10l.94 2.06.94-2.06 2.06-.94-2.06-.94-.94-2.06-.94 2.06-2.06.94z\"/><path d=\"M17.41 7.96l-1.37-1.37c-.4-.4-.92-.59-1.43-.59-.52 0-1.04.2-1.43.59L10.3 9.45l-7.72 7.72c-.78.78-.78 2.05 0 2.83L4 21.41c.39.39.9.59 1.41.59.51 0 1.02-.2 1.41-.59l7.78-7.78 2.81-2.81c.8-.78.8-2.07 0-2.86zM5.41 20L4 18.59l7.72-7.72 1.47 1.35L5.41 20z\"/>\n",
              "  </svg>\n",
              "      </button>\n",
              "      \n",
              "  <style>\n",
              "    .colab-df-container {\n",
              "      display:flex;\n",
              "      flex-wrap:wrap;\n",
              "      gap: 12px;\n",
              "    }\n",
              "\n",
              "    .colab-df-convert {\n",
              "      background-color: #E8F0FE;\n",
              "      border: none;\n",
              "      border-radius: 50%;\n",
              "      cursor: pointer;\n",
              "      display: none;\n",
              "      fill: #1967D2;\n",
              "      height: 32px;\n",
              "      padding: 0 0 0 0;\n",
              "      width: 32px;\n",
              "    }\n",
              "\n",
              "    .colab-df-convert:hover {\n",
              "      background-color: #E2EBFA;\n",
              "      box-shadow: 0px 1px 2px rgba(60, 64, 67, 0.3), 0px 1px 3px 1px rgba(60, 64, 67, 0.15);\n",
              "      fill: #174EA6;\n",
              "    }\n",
              "\n",
              "    [theme=dark] .colab-df-convert {\n",
              "      background-color: #3B4455;\n",
              "      fill: #D2E3FC;\n",
              "    }\n",
              "\n",
              "    [theme=dark] .colab-df-convert:hover {\n",
              "      background-color: #434B5C;\n",
              "      box-shadow: 0px 1px 3px 1px rgba(0, 0, 0, 0.15);\n",
              "      filter: drop-shadow(0px 1px 2px rgba(0, 0, 0, 0.3));\n",
              "      fill: #FFFFFF;\n",
              "    }\n",
              "  </style>\n",
              "\n",
              "      <script>\n",
              "        const buttonEl =\n",
              "          document.querySelector('#df-9a08896a-4dba-4a91-87be-a993664bb6ad button.colab-df-convert');\n",
              "        buttonEl.style.display =\n",
              "          google.colab.kernel.accessAllowed ? 'block' : 'none';\n",
              "\n",
              "        async function convertToInteractive(key) {\n",
              "          const element = document.querySelector('#df-9a08896a-4dba-4a91-87be-a993664bb6ad');\n",
              "          const dataTable =\n",
              "            await google.colab.kernel.invokeFunction('convertToInteractive',\n",
              "                                                     [key], {});\n",
              "          if (!dataTable) return;\n",
              "\n",
              "          const docLinkHtml = 'Like what you see? Visit the ' +\n",
              "            '<a target=\"_blank\" href=https://colab.research.google.com/notebooks/data_table.ipynb>data table notebook</a>'\n",
              "            + ' to learn more about interactive tables.';\n",
              "          element.innerHTML = '';\n",
              "          dataTable['output_type'] = 'display_data';\n",
              "          await google.colab.output.renderOutput(dataTable, element);\n",
              "          const docLink = document.createElement('div');\n",
              "          docLink.innerHTML = docLinkHtml;\n",
              "          element.appendChild(docLink);\n",
              "        }\n",
              "      </script>\n",
              "    </div>\n",
              "  </div>\n",
              "  "
            ]
          },
          "metadata": {},
          "execution_count": 42
        }
      ]
    },
    {
      "cell_type": "code",
      "source": [
        "display('Tipo dos dados presentes')\n",
        "display(transaction_types_df.dtypes)"
      ],
      "metadata": {
        "colab": {
          "base_uri": "https://localhost:8080/",
          "height": 105
        },
        "id": "BkjP6oIXyp-S",
        "outputId": "4f955cba-2609-469d-a6a1-9c8df2570cf9"
      },
      "execution_count": 43,
      "outputs": [
        {
          "output_type": "display_data",
          "data": {
            "text/plain": [
              "'Tipo dos dados presentes'"
            ],
            "application/vnd.google.colaboratory.intrinsic+json": {
              "type": "string"
            }
          },
          "metadata": {}
        },
        {
          "output_type": "display_data",
          "data": {
            "text/plain": [
              "id                   int64\n",
              "description         object\n",
              "description_long    object\n",
              "dtype: object"
            ]
          },
          "metadata": {}
        }
      ]
    },
    {
      "cell_type": "markdown",
      "source": [
        "id: Númerico\n",
        "\n",
        "description: Categórico Nominal\n",
        "\n",
        "description_long: Categórico Nominal"
      ],
      "metadata": {
        "id": "uhwH9fY_0m9k"
      }
    },
    {
      "cell_type": "markdown",
      "source": [
        "## 3 - Modelo para classificar as contas em lícitas ou ilícitas"
      ],
      "metadata": {
        "id": "YAg7wwnNjpdh"
      }
    },
    {
      "cell_type": "markdown",
      "source": [
        "### Montagem de um único dataframe contendo os dados"
      ],
      "metadata": {
        "id": "Iz6tqjHQom6e"
      }
    },
    {
      "cell_type": "markdown",
      "source": [
        "Adicionando cidades e estados no dataframe de contas"
      ],
      "metadata": {
        "id": "lS0Txdtfwn7q"
      }
    },
    {
      "cell_type": "code",
      "source": [
        "dict_address = {}\n",
        "for i in range(address_df.shape[0]):\n",
        "  dict_address[address_df.iloc[i]['id']] = {'estado': address_df.iloc[i]['state'], 'cidade': address_df.iloc[i]['city']}"
      ],
      "metadata": {
        "id": "NRiT8oXEpMca"
      },
      "execution_count": 44,
      "outputs": []
    },
    {
      "cell_type": "code",
      "source": [
        "contas_com_endereco = accounts_df.copy()\n",
        "cidades = []\n",
        "estados = []\n",
        "for i in range(contas_com_endereco.shape[0]):\n",
        "  cidades.append(dict_address[contas_com_endereco.iloc[i]['address_id']]['cidade'])\n",
        "  estados.append(dict_address[contas_com_endereco.iloc[i]['address_id']]['estado'])\n",
        "contas_com_endereco['city'] = cidades\n",
        "contas_com_endereco['state'] = estados"
      ],
      "metadata": {
        "id": "BlYsWO81rPc0"
      },
      "execution_count": 45,
      "outputs": []
    },
    {
      "cell_type": "code",
      "source": [
        "contas_com_endereco.head()"
      ],
      "metadata": {
        "colab": {
          "base_uri": "https://localhost:8080/",
          "height": 337
        },
        "id": "AxVBR_rnst7o",
        "outputId": "bf466f8d-c683-4a15-eb61-64cba441eab5"
      },
      "execution_count": 46,
      "outputs": [
        {
          "output_type": "execute_result",
          "data": {
            "text/plain": [
              "   id  account_number       birth   ocupation  \\\n",
              "0   1          155938  1984-10-29      Outros   \n",
              "1   2          747007  1977-03-26    Corretor   \n",
              "2   3          208404  1984-01-26    Analista   \n",
              "3   4           66402  1982-06-30  Investidor   \n",
              "4   5          277012  1967-01-11      Outros   \n",
              "\n",
              "                                email  address_id           created_at  \\\n",
              "0  mariaceciliaazevedo042@example.com           1  2021-04-01 02:30:00   \n",
              "1               ananunes3@example.com           2  2021-04-01 02:00:00   \n",
              "2      luizfernandovieira@example.com           3  2021-04-01 11:30:00   \n",
              "3    gabriellynascimento6@example.com           4  2021-04-01 14:30:00   \n",
              "4        aliciagoncalves7@example.com           5  2021-04-02 15:30:00   \n",
              "\n",
              "         city state  \n",
              "0       Carmo    RJ  \n",
              "1  Bertopolis    MG  \n",
              "2      Olaria    MG  \n",
              "3    Icaraima    PR  \n",
              "4  Ecoporanga    ES  "
            ],
            "text/html": [
              "\n",
              "  <div id=\"df-4ba7e800-6fbf-4b5e-a720-16a73a7728e7\">\n",
              "    <div class=\"colab-df-container\">\n",
              "      <div>\n",
              "<style scoped>\n",
              "    .dataframe tbody tr th:only-of-type {\n",
              "        vertical-align: middle;\n",
              "    }\n",
              "\n",
              "    .dataframe tbody tr th {\n",
              "        vertical-align: top;\n",
              "    }\n",
              "\n",
              "    .dataframe thead th {\n",
              "        text-align: right;\n",
              "    }\n",
              "</style>\n",
              "<table border=\"1\" class=\"dataframe\">\n",
              "  <thead>\n",
              "    <tr style=\"text-align: right;\">\n",
              "      <th></th>\n",
              "      <th>id</th>\n",
              "      <th>account_number</th>\n",
              "      <th>birth</th>\n",
              "      <th>ocupation</th>\n",
              "      <th>email</th>\n",
              "      <th>address_id</th>\n",
              "      <th>created_at</th>\n",
              "      <th>city</th>\n",
              "      <th>state</th>\n",
              "    </tr>\n",
              "  </thead>\n",
              "  <tbody>\n",
              "    <tr>\n",
              "      <th>0</th>\n",
              "      <td>1</td>\n",
              "      <td>155938</td>\n",
              "      <td>1984-10-29</td>\n",
              "      <td>Outros</td>\n",
              "      <td>mariaceciliaazevedo042@example.com</td>\n",
              "      <td>1</td>\n",
              "      <td>2021-04-01 02:30:00</td>\n",
              "      <td>Carmo</td>\n",
              "      <td>RJ</td>\n",
              "    </tr>\n",
              "    <tr>\n",
              "      <th>1</th>\n",
              "      <td>2</td>\n",
              "      <td>747007</td>\n",
              "      <td>1977-03-26</td>\n",
              "      <td>Corretor</td>\n",
              "      <td>ananunes3@example.com</td>\n",
              "      <td>2</td>\n",
              "      <td>2021-04-01 02:00:00</td>\n",
              "      <td>Bertopolis</td>\n",
              "      <td>MG</td>\n",
              "    </tr>\n",
              "    <tr>\n",
              "      <th>2</th>\n",
              "      <td>3</td>\n",
              "      <td>208404</td>\n",
              "      <td>1984-01-26</td>\n",
              "      <td>Analista</td>\n",
              "      <td>luizfernandovieira@example.com</td>\n",
              "      <td>3</td>\n",
              "      <td>2021-04-01 11:30:00</td>\n",
              "      <td>Olaria</td>\n",
              "      <td>MG</td>\n",
              "    </tr>\n",
              "    <tr>\n",
              "      <th>3</th>\n",
              "      <td>4</td>\n",
              "      <td>66402</td>\n",
              "      <td>1982-06-30</td>\n",
              "      <td>Investidor</td>\n",
              "      <td>gabriellynascimento6@example.com</td>\n",
              "      <td>4</td>\n",
              "      <td>2021-04-01 14:30:00</td>\n",
              "      <td>Icaraima</td>\n",
              "      <td>PR</td>\n",
              "    </tr>\n",
              "    <tr>\n",
              "      <th>4</th>\n",
              "      <td>5</td>\n",
              "      <td>277012</td>\n",
              "      <td>1967-01-11</td>\n",
              "      <td>Outros</td>\n",
              "      <td>aliciagoncalves7@example.com</td>\n",
              "      <td>5</td>\n",
              "      <td>2021-04-02 15:30:00</td>\n",
              "      <td>Ecoporanga</td>\n",
              "      <td>ES</td>\n",
              "    </tr>\n",
              "  </tbody>\n",
              "</table>\n",
              "</div>\n",
              "      <button class=\"colab-df-convert\" onclick=\"convertToInteractive('df-4ba7e800-6fbf-4b5e-a720-16a73a7728e7')\"\n",
              "              title=\"Convert this dataframe to an interactive table.\"\n",
              "              style=\"display:none;\">\n",
              "        \n",
              "  <svg xmlns=\"http://www.w3.org/2000/svg\" height=\"24px\"viewBox=\"0 0 24 24\"\n",
              "       width=\"24px\">\n",
              "    <path d=\"M0 0h24v24H0V0z\" fill=\"none\"/>\n",
              "    <path d=\"M18.56 5.44l.94 2.06.94-2.06 2.06-.94-2.06-.94-.94-2.06-.94 2.06-2.06.94zm-11 1L8.5 8.5l.94-2.06 2.06-.94-2.06-.94L8.5 2.5l-.94 2.06-2.06.94zm10 10l.94 2.06.94-2.06 2.06-.94-2.06-.94-.94-2.06-.94 2.06-2.06.94z\"/><path d=\"M17.41 7.96l-1.37-1.37c-.4-.4-.92-.59-1.43-.59-.52 0-1.04.2-1.43.59L10.3 9.45l-7.72 7.72c-.78.78-.78 2.05 0 2.83L4 21.41c.39.39.9.59 1.41.59.51 0 1.02-.2 1.41-.59l7.78-7.78 2.81-2.81c.8-.78.8-2.07 0-2.86zM5.41 20L4 18.59l7.72-7.72 1.47 1.35L5.41 20z\"/>\n",
              "  </svg>\n",
              "      </button>\n",
              "      \n",
              "  <style>\n",
              "    .colab-df-container {\n",
              "      display:flex;\n",
              "      flex-wrap:wrap;\n",
              "      gap: 12px;\n",
              "    }\n",
              "\n",
              "    .colab-df-convert {\n",
              "      background-color: #E8F0FE;\n",
              "      border: none;\n",
              "      border-radius: 50%;\n",
              "      cursor: pointer;\n",
              "      display: none;\n",
              "      fill: #1967D2;\n",
              "      height: 32px;\n",
              "      padding: 0 0 0 0;\n",
              "      width: 32px;\n",
              "    }\n",
              "\n",
              "    .colab-df-convert:hover {\n",
              "      background-color: #E2EBFA;\n",
              "      box-shadow: 0px 1px 2px rgba(60, 64, 67, 0.3), 0px 1px 3px 1px rgba(60, 64, 67, 0.15);\n",
              "      fill: #174EA6;\n",
              "    }\n",
              "\n",
              "    [theme=dark] .colab-df-convert {\n",
              "      background-color: #3B4455;\n",
              "      fill: #D2E3FC;\n",
              "    }\n",
              "\n",
              "    [theme=dark] .colab-df-convert:hover {\n",
              "      background-color: #434B5C;\n",
              "      box-shadow: 0px 1px 3px 1px rgba(0, 0, 0, 0.15);\n",
              "      filter: drop-shadow(0px 1px 2px rgba(0, 0, 0, 0.3));\n",
              "      fill: #FFFFFF;\n",
              "    }\n",
              "  </style>\n",
              "\n",
              "      <script>\n",
              "        const buttonEl =\n",
              "          document.querySelector('#df-4ba7e800-6fbf-4b5e-a720-16a73a7728e7 button.colab-df-convert');\n",
              "        buttonEl.style.display =\n",
              "          google.colab.kernel.accessAllowed ? 'block' : 'none';\n",
              "\n",
              "        async function convertToInteractive(key) {\n",
              "          const element = document.querySelector('#df-4ba7e800-6fbf-4b5e-a720-16a73a7728e7');\n",
              "          const dataTable =\n",
              "            await google.colab.kernel.invokeFunction('convertToInteractive',\n",
              "                                                     [key], {});\n",
              "          if (!dataTable) return;\n",
              "\n",
              "          const docLinkHtml = 'Like what you see? Visit the ' +\n",
              "            '<a target=\"_blank\" href=https://colab.research.google.com/notebooks/data_table.ipynb>data table notebook</a>'\n",
              "            + ' to learn more about interactive tables.';\n",
              "          element.innerHTML = '';\n",
              "          dataTable['output_type'] = 'display_data';\n",
              "          await google.colab.output.renderOutput(dataTable, element);\n",
              "          const docLink = document.createElement('div');\n",
              "          docLink.innerHTML = docLinkHtml;\n",
              "          element.appendChild(docLink);\n",
              "        }\n",
              "      </script>\n",
              "    </div>\n",
              "  </div>\n",
              "  "
            ]
          },
          "metadata": {},
          "execution_count": 46
        }
      ]
    },
    {
      "cell_type": "markdown",
      "source": [
        "Adicionando nível no dataframe de contas"
      ],
      "metadata": {
        "id": "4lwmBcNlwxJa"
      }
    },
    {
      "cell_type": "code",
      "source": [
        "dict_levels = {}\n",
        "for i in range(levels_df.shape[0]):\n",
        "  dict_levels[levels_df.iloc[i]['account_number']] = levels_df.iloc[i]['level']"
      ],
      "metadata": {
        "id": "pfd7hPT9taFJ"
      },
      "execution_count": 47,
      "outputs": []
    },
    {
      "cell_type": "code",
      "source": [
        "contas_com_niveis = contas_com_endereco.copy()\n",
        "niveis = []\n",
        "for i in range(contas_com_niveis.shape[0]):\n",
        "  if contas_com_niveis.iloc[i]['account_number'] in dict_levels:\n",
        "    niveis.append(dict_levels[contas_com_niveis.iloc[i]['account_number']])\n",
        "  else:\n",
        "    niveis.append(np.nan)"
      ],
      "metadata": {
        "id": "196RMXOMtDwZ"
      },
      "execution_count": 48,
      "outputs": []
    },
    {
      "cell_type": "code",
      "source": [
        "contas_com_niveis['level'] = niveis\n",
        "contas_com_niveis.head()"
      ],
      "metadata": {
        "colab": {
          "base_uri": "https://localhost:8080/",
          "height": 357
        },
        "id": "LWWlvJINvieU",
        "outputId": "3e834693-dde6-4386-f68d-7997c0479296"
      },
      "execution_count": 49,
      "outputs": [
        {
          "output_type": "execute_result",
          "data": {
            "text/plain": [
              "   id  account_number       birth   ocupation  \\\n",
              "0   1          155938  1984-10-29      Outros   \n",
              "1   2          747007  1977-03-26    Corretor   \n",
              "2   3          208404  1984-01-26    Analista   \n",
              "3   4           66402  1982-06-30  Investidor   \n",
              "4   5          277012  1967-01-11      Outros   \n",
              "\n",
              "                                email  address_id           created_at  \\\n",
              "0  mariaceciliaazevedo042@example.com           1  2021-04-01 02:30:00   \n",
              "1               ananunes3@example.com           2  2021-04-01 02:00:00   \n",
              "2      luizfernandovieira@example.com           3  2021-04-01 11:30:00   \n",
              "3    gabriellynascimento6@example.com           4  2021-04-01 14:30:00   \n",
              "4        aliciagoncalves7@example.com           5  2021-04-02 15:30:00   \n",
              "\n",
              "         city state level  \n",
              "0       Carmo    RJ     F  \n",
              "1  Bertopolis    MG     D  \n",
              "2      Olaria    MG   NaN  \n",
              "3    Icaraima    PR     D  \n",
              "4  Ecoporanga    ES     D  "
            ],
            "text/html": [
              "\n",
              "  <div id=\"df-3f82011d-95a0-4f65-9bea-98e37d7ab1f3\">\n",
              "    <div class=\"colab-df-container\">\n",
              "      <div>\n",
              "<style scoped>\n",
              "    .dataframe tbody tr th:only-of-type {\n",
              "        vertical-align: middle;\n",
              "    }\n",
              "\n",
              "    .dataframe tbody tr th {\n",
              "        vertical-align: top;\n",
              "    }\n",
              "\n",
              "    .dataframe thead th {\n",
              "        text-align: right;\n",
              "    }\n",
              "</style>\n",
              "<table border=\"1\" class=\"dataframe\">\n",
              "  <thead>\n",
              "    <tr style=\"text-align: right;\">\n",
              "      <th></th>\n",
              "      <th>id</th>\n",
              "      <th>account_number</th>\n",
              "      <th>birth</th>\n",
              "      <th>ocupation</th>\n",
              "      <th>email</th>\n",
              "      <th>address_id</th>\n",
              "      <th>created_at</th>\n",
              "      <th>city</th>\n",
              "      <th>state</th>\n",
              "      <th>level</th>\n",
              "    </tr>\n",
              "  </thead>\n",
              "  <tbody>\n",
              "    <tr>\n",
              "      <th>0</th>\n",
              "      <td>1</td>\n",
              "      <td>155938</td>\n",
              "      <td>1984-10-29</td>\n",
              "      <td>Outros</td>\n",
              "      <td>mariaceciliaazevedo042@example.com</td>\n",
              "      <td>1</td>\n",
              "      <td>2021-04-01 02:30:00</td>\n",
              "      <td>Carmo</td>\n",
              "      <td>RJ</td>\n",
              "      <td>F</td>\n",
              "    </tr>\n",
              "    <tr>\n",
              "      <th>1</th>\n",
              "      <td>2</td>\n",
              "      <td>747007</td>\n",
              "      <td>1977-03-26</td>\n",
              "      <td>Corretor</td>\n",
              "      <td>ananunes3@example.com</td>\n",
              "      <td>2</td>\n",
              "      <td>2021-04-01 02:00:00</td>\n",
              "      <td>Bertopolis</td>\n",
              "      <td>MG</td>\n",
              "      <td>D</td>\n",
              "    </tr>\n",
              "    <tr>\n",
              "      <th>2</th>\n",
              "      <td>3</td>\n",
              "      <td>208404</td>\n",
              "      <td>1984-01-26</td>\n",
              "      <td>Analista</td>\n",
              "      <td>luizfernandovieira@example.com</td>\n",
              "      <td>3</td>\n",
              "      <td>2021-04-01 11:30:00</td>\n",
              "      <td>Olaria</td>\n",
              "      <td>MG</td>\n",
              "      <td>NaN</td>\n",
              "    </tr>\n",
              "    <tr>\n",
              "      <th>3</th>\n",
              "      <td>4</td>\n",
              "      <td>66402</td>\n",
              "      <td>1982-06-30</td>\n",
              "      <td>Investidor</td>\n",
              "      <td>gabriellynascimento6@example.com</td>\n",
              "      <td>4</td>\n",
              "      <td>2021-04-01 14:30:00</td>\n",
              "      <td>Icaraima</td>\n",
              "      <td>PR</td>\n",
              "      <td>D</td>\n",
              "    </tr>\n",
              "    <tr>\n",
              "      <th>4</th>\n",
              "      <td>5</td>\n",
              "      <td>277012</td>\n",
              "      <td>1967-01-11</td>\n",
              "      <td>Outros</td>\n",
              "      <td>aliciagoncalves7@example.com</td>\n",
              "      <td>5</td>\n",
              "      <td>2021-04-02 15:30:00</td>\n",
              "      <td>Ecoporanga</td>\n",
              "      <td>ES</td>\n",
              "      <td>D</td>\n",
              "    </tr>\n",
              "  </tbody>\n",
              "</table>\n",
              "</div>\n",
              "      <button class=\"colab-df-convert\" onclick=\"convertToInteractive('df-3f82011d-95a0-4f65-9bea-98e37d7ab1f3')\"\n",
              "              title=\"Convert this dataframe to an interactive table.\"\n",
              "              style=\"display:none;\">\n",
              "        \n",
              "  <svg xmlns=\"http://www.w3.org/2000/svg\" height=\"24px\"viewBox=\"0 0 24 24\"\n",
              "       width=\"24px\">\n",
              "    <path d=\"M0 0h24v24H0V0z\" fill=\"none\"/>\n",
              "    <path d=\"M18.56 5.44l.94 2.06.94-2.06 2.06-.94-2.06-.94-.94-2.06-.94 2.06-2.06.94zm-11 1L8.5 8.5l.94-2.06 2.06-.94-2.06-.94L8.5 2.5l-.94 2.06-2.06.94zm10 10l.94 2.06.94-2.06 2.06-.94-2.06-.94-.94-2.06-.94 2.06-2.06.94z\"/><path d=\"M17.41 7.96l-1.37-1.37c-.4-.4-.92-.59-1.43-.59-.52 0-1.04.2-1.43.59L10.3 9.45l-7.72 7.72c-.78.78-.78 2.05 0 2.83L4 21.41c.39.39.9.59 1.41.59.51 0 1.02-.2 1.41-.59l7.78-7.78 2.81-2.81c.8-.78.8-2.07 0-2.86zM5.41 20L4 18.59l7.72-7.72 1.47 1.35L5.41 20z\"/>\n",
              "  </svg>\n",
              "      </button>\n",
              "      \n",
              "  <style>\n",
              "    .colab-df-container {\n",
              "      display:flex;\n",
              "      flex-wrap:wrap;\n",
              "      gap: 12px;\n",
              "    }\n",
              "\n",
              "    .colab-df-convert {\n",
              "      background-color: #E8F0FE;\n",
              "      border: none;\n",
              "      border-radius: 50%;\n",
              "      cursor: pointer;\n",
              "      display: none;\n",
              "      fill: #1967D2;\n",
              "      height: 32px;\n",
              "      padding: 0 0 0 0;\n",
              "      width: 32px;\n",
              "    }\n",
              "\n",
              "    .colab-df-convert:hover {\n",
              "      background-color: #E2EBFA;\n",
              "      box-shadow: 0px 1px 2px rgba(60, 64, 67, 0.3), 0px 1px 3px 1px rgba(60, 64, 67, 0.15);\n",
              "      fill: #174EA6;\n",
              "    }\n",
              "\n",
              "    [theme=dark] .colab-df-convert {\n",
              "      background-color: #3B4455;\n",
              "      fill: #D2E3FC;\n",
              "    }\n",
              "\n",
              "    [theme=dark] .colab-df-convert:hover {\n",
              "      background-color: #434B5C;\n",
              "      box-shadow: 0px 1px 3px 1px rgba(0, 0, 0, 0.15);\n",
              "      filter: drop-shadow(0px 1px 2px rgba(0, 0, 0, 0.3));\n",
              "      fill: #FFFFFF;\n",
              "    }\n",
              "  </style>\n",
              "\n",
              "      <script>\n",
              "        const buttonEl =\n",
              "          document.querySelector('#df-3f82011d-95a0-4f65-9bea-98e37d7ab1f3 button.colab-df-convert');\n",
              "        buttonEl.style.display =\n",
              "          google.colab.kernel.accessAllowed ? 'block' : 'none';\n",
              "\n",
              "        async function convertToInteractive(key) {\n",
              "          const element = document.querySelector('#df-3f82011d-95a0-4f65-9bea-98e37d7ab1f3');\n",
              "          const dataTable =\n",
              "            await google.colab.kernel.invokeFunction('convertToInteractive',\n",
              "                                                     [key], {});\n",
              "          if (!dataTable) return;\n",
              "\n",
              "          const docLinkHtml = 'Like what you see? Visit the ' +\n",
              "            '<a target=\"_blank\" href=https://colab.research.google.com/notebooks/data_table.ipynb>data table notebook</a>'\n",
              "            + ' to learn more about interactive tables.';\n",
              "          element.innerHTML = '';\n",
              "          dataTable['output_type'] = 'display_data';\n",
              "          await google.colab.output.renderOutput(dataTable, element);\n",
              "          const docLink = document.createElement('div');\n",
              "          docLink.innerHTML = docLinkHtml;\n",
              "          element.appendChild(docLink);\n",
              "        }\n",
              "      </script>\n",
              "    </div>\n",
              "  </div>\n",
              "  "
            ]
          },
          "metadata": {},
          "execution_count": 49
        }
      ]
    },
    {
      "cell_type": "markdown",
      "source": [
        "Adicionando quantidade de boletos pagos e não pagos no dataframe de  contas"
      ],
      "metadata": {
        "id": "fq-PUswhOYHp"
      }
    },
    {
      "cell_type": "code",
      "source": [
        "dict_boletos_pagos = {}\n",
        "dict_boletos_nao_pagos = {}\n",
        "for i in range(emissoes_de_boleto_df.shape[0]):\n",
        "  if emissoes_de_boleto_df.iloc[i]['status'] == 'paid':\n",
        "    dict_boletos_pagos[emissoes_de_boleto_df.iloc[i]['account_number']] = emissoes_de_boleto_df.iloc[i]['quantidade']\n",
        "  elif emissoes_de_boleto_df.iloc[i]['status'] == 'unpaid':\n",
        "    dict_boletos_nao_pagos[emissoes_de_boleto_df.iloc[i]['account_number']] = emissoes_de_boleto_df.iloc[i]['quantidade']"
      ],
      "metadata": {
        "id": "lGiGS3oCOXMn"
      },
      "execution_count": 50,
      "outputs": []
    },
    {
      "cell_type": "code",
      "source": [
        "contas_com_boletos_pagos_e_nao_pagos = contas_com_niveis.copy()\n",
        "pagos = []\n",
        "for i in range(contas_com_boletos_pagos_e_nao_pagos.shape[0]):\n",
        "  if contas_com_boletos_pagos_e_nao_pagos.iloc[i]['account_number'] in dict_boletos_pagos:\n",
        "    pagos.append(dict_boletos_pagos[contas_com_boletos_pagos_e_nao_pagos.iloc[i]['account_number']])\n",
        "  else:\n",
        "    pagos.append(0)\n",
        "\n",
        "nao_pagos = []\n",
        "for i in range(contas_com_boletos_pagos_e_nao_pagos.shape[0]):\n",
        "  if contas_com_boletos_pagos_e_nao_pagos.iloc[i]['account_number'] in dict_boletos_nao_pagos:\n",
        "    nao_pagos.append(dict_boletos_nao_pagos[contas_com_boletos_pagos_e_nao_pagos.iloc[i]['account_number']])\n",
        "  else:\n",
        "    nao_pagos.append(0)"
      ],
      "metadata": {
        "id": "YlY-JfV-uADd"
      },
      "execution_count": 51,
      "outputs": []
    },
    {
      "cell_type": "code",
      "source": [
        "contas_com_boletos_pagos_e_nao_pagos['amount_paid'] = pagos\n",
        "contas_com_boletos_pagos_e_nao_pagos['amount_unpaid'] = nao_pagos\n",
        "contas_com_boletos_pagos_e_nao_pagos.head()"
      ],
      "metadata": {
        "colab": {
          "base_uri": "https://localhost:8080/",
          "height": 357
        },
        "id": "oOsj5pVdux_C",
        "outputId": "6e9c8780-0aa4-4d27-923c-48dff5a6aba3"
      },
      "execution_count": 52,
      "outputs": [
        {
          "output_type": "execute_result",
          "data": {
            "text/plain": [
              "   id  account_number       birth   ocupation  \\\n",
              "0   1          155938  1984-10-29      Outros   \n",
              "1   2          747007  1977-03-26    Corretor   \n",
              "2   3          208404  1984-01-26    Analista   \n",
              "3   4           66402  1982-06-30  Investidor   \n",
              "4   5          277012  1967-01-11      Outros   \n",
              "\n",
              "                                email  address_id           created_at  \\\n",
              "0  mariaceciliaazevedo042@example.com           1  2021-04-01 02:30:00   \n",
              "1               ananunes3@example.com           2  2021-04-01 02:00:00   \n",
              "2      luizfernandovieira@example.com           3  2021-04-01 11:30:00   \n",
              "3    gabriellynascimento6@example.com           4  2021-04-01 14:30:00   \n",
              "4        aliciagoncalves7@example.com           5  2021-04-02 15:30:00   \n",
              "\n",
              "         city state level  amount_paid  amount_unpaid  \n",
              "0       Carmo    RJ     F           30             39  \n",
              "1  Bertopolis    MG     D          113            153  \n",
              "2      Olaria    MG   NaN           64             79  \n",
              "3    Icaraima    PR     D          184             33  \n",
              "4  Ecoporanga    ES     D           90            112  "
            ],
            "text/html": [
              "\n",
              "  <div id=\"df-9f241ffe-96e7-4831-b7b5-4a6c3885e337\">\n",
              "    <div class=\"colab-df-container\">\n",
              "      <div>\n",
              "<style scoped>\n",
              "    .dataframe tbody tr th:only-of-type {\n",
              "        vertical-align: middle;\n",
              "    }\n",
              "\n",
              "    .dataframe tbody tr th {\n",
              "        vertical-align: top;\n",
              "    }\n",
              "\n",
              "    .dataframe thead th {\n",
              "        text-align: right;\n",
              "    }\n",
              "</style>\n",
              "<table border=\"1\" class=\"dataframe\">\n",
              "  <thead>\n",
              "    <tr style=\"text-align: right;\">\n",
              "      <th></th>\n",
              "      <th>id</th>\n",
              "      <th>account_number</th>\n",
              "      <th>birth</th>\n",
              "      <th>ocupation</th>\n",
              "      <th>email</th>\n",
              "      <th>address_id</th>\n",
              "      <th>created_at</th>\n",
              "      <th>city</th>\n",
              "      <th>state</th>\n",
              "      <th>level</th>\n",
              "      <th>amount_paid</th>\n",
              "      <th>amount_unpaid</th>\n",
              "    </tr>\n",
              "  </thead>\n",
              "  <tbody>\n",
              "    <tr>\n",
              "      <th>0</th>\n",
              "      <td>1</td>\n",
              "      <td>155938</td>\n",
              "      <td>1984-10-29</td>\n",
              "      <td>Outros</td>\n",
              "      <td>mariaceciliaazevedo042@example.com</td>\n",
              "      <td>1</td>\n",
              "      <td>2021-04-01 02:30:00</td>\n",
              "      <td>Carmo</td>\n",
              "      <td>RJ</td>\n",
              "      <td>F</td>\n",
              "      <td>30</td>\n",
              "      <td>39</td>\n",
              "    </tr>\n",
              "    <tr>\n",
              "      <th>1</th>\n",
              "      <td>2</td>\n",
              "      <td>747007</td>\n",
              "      <td>1977-03-26</td>\n",
              "      <td>Corretor</td>\n",
              "      <td>ananunes3@example.com</td>\n",
              "      <td>2</td>\n",
              "      <td>2021-04-01 02:00:00</td>\n",
              "      <td>Bertopolis</td>\n",
              "      <td>MG</td>\n",
              "      <td>D</td>\n",
              "      <td>113</td>\n",
              "      <td>153</td>\n",
              "    </tr>\n",
              "    <tr>\n",
              "      <th>2</th>\n",
              "      <td>3</td>\n",
              "      <td>208404</td>\n",
              "      <td>1984-01-26</td>\n",
              "      <td>Analista</td>\n",
              "      <td>luizfernandovieira@example.com</td>\n",
              "      <td>3</td>\n",
              "      <td>2021-04-01 11:30:00</td>\n",
              "      <td>Olaria</td>\n",
              "      <td>MG</td>\n",
              "      <td>NaN</td>\n",
              "      <td>64</td>\n",
              "      <td>79</td>\n",
              "    </tr>\n",
              "    <tr>\n",
              "      <th>3</th>\n",
              "      <td>4</td>\n",
              "      <td>66402</td>\n",
              "      <td>1982-06-30</td>\n",
              "      <td>Investidor</td>\n",
              "      <td>gabriellynascimento6@example.com</td>\n",
              "      <td>4</td>\n",
              "      <td>2021-04-01 14:30:00</td>\n",
              "      <td>Icaraima</td>\n",
              "      <td>PR</td>\n",
              "      <td>D</td>\n",
              "      <td>184</td>\n",
              "      <td>33</td>\n",
              "    </tr>\n",
              "    <tr>\n",
              "      <th>4</th>\n",
              "      <td>5</td>\n",
              "      <td>277012</td>\n",
              "      <td>1967-01-11</td>\n",
              "      <td>Outros</td>\n",
              "      <td>aliciagoncalves7@example.com</td>\n",
              "      <td>5</td>\n",
              "      <td>2021-04-02 15:30:00</td>\n",
              "      <td>Ecoporanga</td>\n",
              "      <td>ES</td>\n",
              "      <td>D</td>\n",
              "      <td>90</td>\n",
              "      <td>112</td>\n",
              "    </tr>\n",
              "  </tbody>\n",
              "</table>\n",
              "</div>\n",
              "      <button class=\"colab-df-convert\" onclick=\"convertToInteractive('df-9f241ffe-96e7-4831-b7b5-4a6c3885e337')\"\n",
              "              title=\"Convert this dataframe to an interactive table.\"\n",
              "              style=\"display:none;\">\n",
              "        \n",
              "  <svg xmlns=\"http://www.w3.org/2000/svg\" height=\"24px\"viewBox=\"0 0 24 24\"\n",
              "       width=\"24px\">\n",
              "    <path d=\"M0 0h24v24H0V0z\" fill=\"none\"/>\n",
              "    <path d=\"M18.56 5.44l.94 2.06.94-2.06 2.06-.94-2.06-.94-.94-2.06-.94 2.06-2.06.94zm-11 1L8.5 8.5l.94-2.06 2.06-.94-2.06-.94L8.5 2.5l-.94 2.06-2.06.94zm10 10l.94 2.06.94-2.06 2.06-.94-2.06-.94-.94-2.06-.94 2.06-2.06.94z\"/><path d=\"M17.41 7.96l-1.37-1.37c-.4-.4-.92-.59-1.43-.59-.52 0-1.04.2-1.43.59L10.3 9.45l-7.72 7.72c-.78.78-.78 2.05 0 2.83L4 21.41c.39.39.9.59 1.41.59.51 0 1.02-.2 1.41-.59l7.78-7.78 2.81-2.81c.8-.78.8-2.07 0-2.86zM5.41 20L4 18.59l7.72-7.72 1.47 1.35L5.41 20z\"/>\n",
              "  </svg>\n",
              "      </button>\n",
              "      \n",
              "  <style>\n",
              "    .colab-df-container {\n",
              "      display:flex;\n",
              "      flex-wrap:wrap;\n",
              "      gap: 12px;\n",
              "    }\n",
              "\n",
              "    .colab-df-convert {\n",
              "      background-color: #E8F0FE;\n",
              "      border: none;\n",
              "      border-radius: 50%;\n",
              "      cursor: pointer;\n",
              "      display: none;\n",
              "      fill: #1967D2;\n",
              "      height: 32px;\n",
              "      padding: 0 0 0 0;\n",
              "      width: 32px;\n",
              "    }\n",
              "\n",
              "    .colab-df-convert:hover {\n",
              "      background-color: #E2EBFA;\n",
              "      box-shadow: 0px 1px 2px rgba(60, 64, 67, 0.3), 0px 1px 3px 1px rgba(60, 64, 67, 0.15);\n",
              "      fill: #174EA6;\n",
              "    }\n",
              "\n",
              "    [theme=dark] .colab-df-convert {\n",
              "      background-color: #3B4455;\n",
              "      fill: #D2E3FC;\n",
              "    }\n",
              "\n",
              "    [theme=dark] .colab-df-convert:hover {\n",
              "      background-color: #434B5C;\n",
              "      box-shadow: 0px 1px 3px 1px rgba(0, 0, 0, 0.15);\n",
              "      filter: drop-shadow(0px 1px 2px rgba(0, 0, 0, 0.3));\n",
              "      fill: #FFFFFF;\n",
              "    }\n",
              "  </style>\n",
              "\n",
              "      <script>\n",
              "        const buttonEl =\n",
              "          document.querySelector('#df-9f241ffe-96e7-4831-b7b5-4a6c3885e337 button.colab-df-convert');\n",
              "        buttonEl.style.display =\n",
              "          google.colab.kernel.accessAllowed ? 'block' : 'none';\n",
              "\n",
              "        async function convertToInteractive(key) {\n",
              "          const element = document.querySelector('#df-9f241ffe-96e7-4831-b7b5-4a6c3885e337');\n",
              "          const dataTable =\n",
              "            await google.colab.kernel.invokeFunction('convertToInteractive',\n",
              "                                                     [key], {});\n",
              "          if (!dataTable) return;\n",
              "\n",
              "          const docLinkHtml = 'Like what you see? Visit the ' +\n",
              "            '<a target=\"_blank\" href=https://colab.research.google.com/notebooks/data_table.ipynb>data table notebook</a>'\n",
              "            + ' to learn more about interactive tables.';\n",
              "          element.innerHTML = '';\n",
              "          dataTable['output_type'] = 'display_data';\n",
              "          await google.colab.output.renderOutput(dataTable, element);\n",
              "          const docLink = document.createElement('div');\n",
              "          docLink.innerHTML = docLinkHtml;\n",
              "          element.appendChild(docLink);\n",
              "        }\n",
              "      </script>\n",
              "    </div>\n",
              "  </div>\n",
              "  "
            ]
          },
          "metadata": {},
          "execution_count": 52
        }
      ]
    },
    {
      "cell_type": "markdown",
      "source": [
        "### A base de dados de será composta por número da conta, ocupação, quantidade de boletos pagos e de boletos não pagos. As contas com nível F serão consideradas ilícitas, classe 1, e as contas dos demais níveis serão consideradas lícitas, classe 0."
      ],
      "metadata": {
        "id": "sMBMC4AAv-2a"
      }
    },
    {
      "cell_type": "code",
      "source": [
        "dataset = contas_com_boletos_pagos_e_nao_pagos[['account_number', 'ocupation', 'amount_paid', 'amount_unpaid', 'level']].copy()\n",
        "\n",
        "list_fraud = []\n",
        "for i in range(dataset.shape[0]):\n",
        "  if dataset.iloc[i]['level'] == 'F':\n",
        "    list_fraud.append('1')\n",
        "  elif dataset.iloc[i]['level'] == 'A' or dataset.iloc[i]['level'] == 'B' or dataset.iloc[i]['level'] == 'C' or dataset.iloc[i]['level'] == 'D':\n",
        "    list_fraud.append('0')\n",
        "  else:\n",
        "    list_fraud.append('2')\n",
        "\n",
        "dataset['fraud'] = list_fraud\n",
        "\n",
        "list_ocupation = []\n",
        "for i in range(dataset.shape[0]):\n",
        "  if dataset.iloc[i]['ocupation'] == 'Autonomo':\n",
        "    list_ocupation.append(0)\n",
        "  elif dataset.iloc[i]['ocupation'] == 'Investidor':\n",
        "    list_ocupation.append(1)\n",
        "  elif dataset.iloc[i]['ocupation'] == 'Corretor':\n",
        "    list_ocupation.append(2)\n",
        "  elif dataset.iloc[i]['ocupation'] == 'Desenvolvedor':\n",
        "    list_ocupation.append(3)\n",
        "  elif dataset.iloc[i]['ocupation'] == 'Analista':\n",
        "    list_ocupation.append(4)\n",
        "  elif dataset.iloc[i]['ocupation'] == 'Outros':\n",
        "    list_ocupation.append(5)\n",
        "    \n",
        "dataset['ocupation'] = list_ocupation\n",
        "dataset.reset_index()"
      ],
      "metadata": {
        "colab": {
          "base_uri": "https://localhost:8080/",
          "height": 424
        },
        "id": "KwyEfAtxvEHc",
        "outputId": "c6373364-8e1c-4a11-ea40-9f1110e141a7"
      },
      "execution_count": 53,
      "outputs": [
        {
          "output_type": "execute_result",
          "data": {
            "text/plain": [
              "      index  account_number  ocupation  amount_paid  amount_unpaid level fraud\n",
              "0         0          155938          5           30             39     F     1\n",
              "1         1          747007          2          113            153     D     0\n",
              "2         2          208404          4           64             79   NaN     2\n",
              "3         3           66402          1          184             33     D     0\n",
              "4         4          277012          5           90            112     D     0\n",
              "...     ...             ...        ...          ...            ...   ...   ...\n",
              "1024   1024          385922          4            0              0     D     0\n",
              "1025   1025           37393          1            0              0     C     0\n",
              "1026   1026          714025          2            0              0     D     0\n",
              "1027   1027          708615          2            0              0     D     0\n",
              "1028   1028          418641          2            1              0     F     1\n",
              "\n",
              "[1029 rows x 7 columns]"
            ],
            "text/html": [
              "\n",
              "  <div id=\"df-c359264c-646a-468b-b61f-0cdf7cce818f\">\n",
              "    <div class=\"colab-df-container\">\n",
              "      <div>\n",
              "<style scoped>\n",
              "    .dataframe tbody tr th:only-of-type {\n",
              "        vertical-align: middle;\n",
              "    }\n",
              "\n",
              "    .dataframe tbody tr th {\n",
              "        vertical-align: top;\n",
              "    }\n",
              "\n",
              "    .dataframe thead th {\n",
              "        text-align: right;\n",
              "    }\n",
              "</style>\n",
              "<table border=\"1\" class=\"dataframe\">\n",
              "  <thead>\n",
              "    <tr style=\"text-align: right;\">\n",
              "      <th></th>\n",
              "      <th>index</th>\n",
              "      <th>account_number</th>\n",
              "      <th>ocupation</th>\n",
              "      <th>amount_paid</th>\n",
              "      <th>amount_unpaid</th>\n",
              "      <th>level</th>\n",
              "      <th>fraud</th>\n",
              "    </tr>\n",
              "  </thead>\n",
              "  <tbody>\n",
              "    <tr>\n",
              "      <th>0</th>\n",
              "      <td>0</td>\n",
              "      <td>155938</td>\n",
              "      <td>5</td>\n",
              "      <td>30</td>\n",
              "      <td>39</td>\n",
              "      <td>F</td>\n",
              "      <td>1</td>\n",
              "    </tr>\n",
              "    <tr>\n",
              "      <th>1</th>\n",
              "      <td>1</td>\n",
              "      <td>747007</td>\n",
              "      <td>2</td>\n",
              "      <td>113</td>\n",
              "      <td>153</td>\n",
              "      <td>D</td>\n",
              "      <td>0</td>\n",
              "    </tr>\n",
              "    <tr>\n",
              "      <th>2</th>\n",
              "      <td>2</td>\n",
              "      <td>208404</td>\n",
              "      <td>4</td>\n",
              "      <td>64</td>\n",
              "      <td>79</td>\n",
              "      <td>NaN</td>\n",
              "      <td>2</td>\n",
              "    </tr>\n",
              "    <tr>\n",
              "      <th>3</th>\n",
              "      <td>3</td>\n",
              "      <td>66402</td>\n",
              "      <td>1</td>\n",
              "      <td>184</td>\n",
              "      <td>33</td>\n",
              "      <td>D</td>\n",
              "      <td>0</td>\n",
              "    </tr>\n",
              "    <tr>\n",
              "      <th>4</th>\n",
              "      <td>4</td>\n",
              "      <td>277012</td>\n",
              "      <td>5</td>\n",
              "      <td>90</td>\n",
              "      <td>112</td>\n",
              "      <td>D</td>\n",
              "      <td>0</td>\n",
              "    </tr>\n",
              "    <tr>\n",
              "      <th>...</th>\n",
              "      <td>...</td>\n",
              "      <td>...</td>\n",
              "      <td>...</td>\n",
              "      <td>...</td>\n",
              "      <td>...</td>\n",
              "      <td>...</td>\n",
              "      <td>...</td>\n",
              "    </tr>\n",
              "    <tr>\n",
              "      <th>1024</th>\n",
              "      <td>1024</td>\n",
              "      <td>385922</td>\n",
              "      <td>4</td>\n",
              "      <td>0</td>\n",
              "      <td>0</td>\n",
              "      <td>D</td>\n",
              "      <td>0</td>\n",
              "    </tr>\n",
              "    <tr>\n",
              "      <th>1025</th>\n",
              "      <td>1025</td>\n",
              "      <td>37393</td>\n",
              "      <td>1</td>\n",
              "      <td>0</td>\n",
              "      <td>0</td>\n",
              "      <td>C</td>\n",
              "      <td>0</td>\n",
              "    </tr>\n",
              "    <tr>\n",
              "      <th>1026</th>\n",
              "      <td>1026</td>\n",
              "      <td>714025</td>\n",
              "      <td>2</td>\n",
              "      <td>0</td>\n",
              "      <td>0</td>\n",
              "      <td>D</td>\n",
              "      <td>0</td>\n",
              "    </tr>\n",
              "    <tr>\n",
              "      <th>1027</th>\n",
              "      <td>1027</td>\n",
              "      <td>708615</td>\n",
              "      <td>2</td>\n",
              "      <td>0</td>\n",
              "      <td>0</td>\n",
              "      <td>D</td>\n",
              "      <td>0</td>\n",
              "    </tr>\n",
              "    <tr>\n",
              "      <th>1028</th>\n",
              "      <td>1028</td>\n",
              "      <td>418641</td>\n",
              "      <td>2</td>\n",
              "      <td>1</td>\n",
              "      <td>0</td>\n",
              "      <td>F</td>\n",
              "      <td>1</td>\n",
              "    </tr>\n",
              "  </tbody>\n",
              "</table>\n",
              "<p>1029 rows × 7 columns</p>\n",
              "</div>\n",
              "      <button class=\"colab-df-convert\" onclick=\"convertToInteractive('df-c359264c-646a-468b-b61f-0cdf7cce818f')\"\n",
              "              title=\"Convert this dataframe to an interactive table.\"\n",
              "              style=\"display:none;\">\n",
              "        \n",
              "  <svg xmlns=\"http://www.w3.org/2000/svg\" height=\"24px\"viewBox=\"0 0 24 24\"\n",
              "       width=\"24px\">\n",
              "    <path d=\"M0 0h24v24H0V0z\" fill=\"none\"/>\n",
              "    <path d=\"M18.56 5.44l.94 2.06.94-2.06 2.06-.94-2.06-.94-.94-2.06-.94 2.06-2.06.94zm-11 1L8.5 8.5l.94-2.06 2.06-.94-2.06-.94L8.5 2.5l-.94 2.06-2.06.94zm10 10l.94 2.06.94-2.06 2.06-.94-2.06-.94-.94-2.06-.94 2.06-2.06.94z\"/><path d=\"M17.41 7.96l-1.37-1.37c-.4-.4-.92-.59-1.43-.59-.52 0-1.04.2-1.43.59L10.3 9.45l-7.72 7.72c-.78.78-.78 2.05 0 2.83L4 21.41c.39.39.9.59 1.41.59.51 0 1.02-.2 1.41-.59l7.78-7.78 2.81-2.81c.8-.78.8-2.07 0-2.86zM5.41 20L4 18.59l7.72-7.72 1.47 1.35L5.41 20z\"/>\n",
              "  </svg>\n",
              "      </button>\n",
              "      \n",
              "  <style>\n",
              "    .colab-df-container {\n",
              "      display:flex;\n",
              "      flex-wrap:wrap;\n",
              "      gap: 12px;\n",
              "    }\n",
              "\n",
              "    .colab-df-convert {\n",
              "      background-color: #E8F0FE;\n",
              "      border: none;\n",
              "      border-radius: 50%;\n",
              "      cursor: pointer;\n",
              "      display: none;\n",
              "      fill: #1967D2;\n",
              "      height: 32px;\n",
              "      padding: 0 0 0 0;\n",
              "      width: 32px;\n",
              "    }\n",
              "\n",
              "    .colab-df-convert:hover {\n",
              "      background-color: #E2EBFA;\n",
              "      box-shadow: 0px 1px 2px rgba(60, 64, 67, 0.3), 0px 1px 3px 1px rgba(60, 64, 67, 0.15);\n",
              "      fill: #174EA6;\n",
              "    }\n",
              "\n",
              "    [theme=dark] .colab-df-convert {\n",
              "      background-color: #3B4455;\n",
              "      fill: #D2E3FC;\n",
              "    }\n",
              "\n",
              "    [theme=dark] .colab-df-convert:hover {\n",
              "      background-color: #434B5C;\n",
              "      box-shadow: 0px 1px 3px 1px rgba(0, 0, 0, 0.15);\n",
              "      filter: drop-shadow(0px 1px 2px rgba(0, 0, 0, 0.3));\n",
              "      fill: #FFFFFF;\n",
              "    }\n",
              "  </style>\n",
              "\n",
              "      <script>\n",
              "        const buttonEl =\n",
              "          document.querySelector('#df-c359264c-646a-468b-b61f-0cdf7cce818f button.colab-df-convert');\n",
              "        buttonEl.style.display =\n",
              "          google.colab.kernel.accessAllowed ? 'block' : 'none';\n",
              "\n",
              "        async function convertToInteractive(key) {\n",
              "          const element = document.querySelector('#df-c359264c-646a-468b-b61f-0cdf7cce818f');\n",
              "          const dataTable =\n",
              "            await google.colab.kernel.invokeFunction('convertToInteractive',\n",
              "                                                     [key], {});\n",
              "          if (!dataTable) return;\n",
              "\n",
              "          const docLinkHtml = 'Like what you see? Visit the ' +\n",
              "            '<a target=\"_blank\" href=https://colab.research.google.com/notebooks/data_table.ipynb>data table notebook</a>'\n",
              "            + ' to learn more about interactive tables.';\n",
              "          element.innerHTML = '';\n",
              "          dataTable['output_type'] = 'display_data';\n",
              "          await google.colab.output.renderOutput(dataTable, element);\n",
              "          const docLink = document.createElement('div');\n",
              "          docLink.innerHTML = docLinkHtml;\n",
              "          element.appendChild(docLink);\n",
              "        }\n",
              "      </script>\n",
              "    </div>\n",
              "  </div>\n",
              "  "
            ]
          },
          "metadata": {},
          "execution_count": 53
        }
      ]
    },
    {
      "cell_type": "code",
      "source": [
        "X_train = dataset[(dataset['fraud'] != '2')][['account_number', 'ocupation', 'amount_paid', 'amount_unpaid']]\n",
        "y_train = dataset[(dataset['fraud'] != '2')]['fraud']\n",
        "\n",
        "X_test = dataset[(dataset['fraud'] == '2')][['account_number', 'ocupation', 'amount_paid', 'amount_unpaid']]"
      ],
      "metadata": {
        "id": "Uq0I-J-Lz8aR"
      },
      "execution_count": 54,
      "outputs": []
    },
    {
      "cell_type": "code",
      "source": [
        "X_train"
      ],
      "metadata": {
        "colab": {
          "base_uri": "https://localhost:8080/",
          "height": 424
        },
        "id": "6CzIUAnE0UHq",
        "outputId": "07f5bec9-f4d8-4cee-ed92-5284b97922da"
      },
      "execution_count": 55,
      "outputs": [
        {
          "output_type": "execute_result",
          "data": {
            "text/plain": [
              "      account_number  ocupation  amount_paid  amount_unpaid\n",
              "0             155938          5           30             39\n",
              "1             747007          2          113            153\n",
              "3              66402          1          184             33\n",
              "4             277012          5           90            112\n",
              "5             228213          4            0              0\n",
              "...              ...        ...          ...            ...\n",
              "1024          385922          4            0              0\n",
              "1025           37393          1            0              0\n",
              "1026          714025          2            0              0\n",
              "1027          708615          2            0              0\n",
              "1028          418641          2            1              0\n",
              "\n",
              "[926 rows x 4 columns]"
            ],
            "text/html": [
              "\n",
              "  <div id=\"df-7bfea413-8cf7-4cdc-848e-b5755c37af1d\">\n",
              "    <div class=\"colab-df-container\">\n",
              "      <div>\n",
              "<style scoped>\n",
              "    .dataframe tbody tr th:only-of-type {\n",
              "        vertical-align: middle;\n",
              "    }\n",
              "\n",
              "    .dataframe tbody tr th {\n",
              "        vertical-align: top;\n",
              "    }\n",
              "\n",
              "    .dataframe thead th {\n",
              "        text-align: right;\n",
              "    }\n",
              "</style>\n",
              "<table border=\"1\" class=\"dataframe\">\n",
              "  <thead>\n",
              "    <tr style=\"text-align: right;\">\n",
              "      <th></th>\n",
              "      <th>account_number</th>\n",
              "      <th>ocupation</th>\n",
              "      <th>amount_paid</th>\n",
              "      <th>amount_unpaid</th>\n",
              "    </tr>\n",
              "  </thead>\n",
              "  <tbody>\n",
              "    <tr>\n",
              "      <th>0</th>\n",
              "      <td>155938</td>\n",
              "      <td>5</td>\n",
              "      <td>30</td>\n",
              "      <td>39</td>\n",
              "    </tr>\n",
              "    <tr>\n",
              "      <th>1</th>\n",
              "      <td>747007</td>\n",
              "      <td>2</td>\n",
              "      <td>113</td>\n",
              "      <td>153</td>\n",
              "    </tr>\n",
              "    <tr>\n",
              "      <th>3</th>\n",
              "      <td>66402</td>\n",
              "      <td>1</td>\n",
              "      <td>184</td>\n",
              "      <td>33</td>\n",
              "    </tr>\n",
              "    <tr>\n",
              "      <th>4</th>\n",
              "      <td>277012</td>\n",
              "      <td>5</td>\n",
              "      <td>90</td>\n",
              "      <td>112</td>\n",
              "    </tr>\n",
              "    <tr>\n",
              "      <th>5</th>\n",
              "      <td>228213</td>\n",
              "      <td>4</td>\n",
              "      <td>0</td>\n",
              "      <td>0</td>\n",
              "    </tr>\n",
              "    <tr>\n",
              "      <th>...</th>\n",
              "      <td>...</td>\n",
              "      <td>...</td>\n",
              "      <td>...</td>\n",
              "      <td>...</td>\n",
              "    </tr>\n",
              "    <tr>\n",
              "      <th>1024</th>\n",
              "      <td>385922</td>\n",
              "      <td>4</td>\n",
              "      <td>0</td>\n",
              "      <td>0</td>\n",
              "    </tr>\n",
              "    <tr>\n",
              "      <th>1025</th>\n",
              "      <td>37393</td>\n",
              "      <td>1</td>\n",
              "      <td>0</td>\n",
              "      <td>0</td>\n",
              "    </tr>\n",
              "    <tr>\n",
              "      <th>1026</th>\n",
              "      <td>714025</td>\n",
              "      <td>2</td>\n",
              "      <td>0</td>\n",
              "      <td>0</td>\n",
              "    </tr>\n",
              "    <tr>\n",
              "      <th>1027</th>\n",
              "      <td>708615</td>\n",
              "      <td>2</td>\n",
              "      <td>0</td>\n",
              "      <td>0</td>\n",
              "    </tr>\n",
              "    <tr>\n",
              "      <th>1028</th>\n",
              "      <td>418641</td>\n",
              "      <td>2</td>\n",
              "      <td>1</td>\n",
              "      <td>0</td>\n",
              "    </tr>\n",
              "  </tbody>\n",
              "</table>\n",
              "<p>926 rows × 4 columns</p>\n",
              "</div>\n",
              "      <button class=\"colab-df-convert\" onclick=\"convertToInteractive('df-7bfea413-8cf7-4cdc-848e-b5755c37af1d')\"\n",
              "              title=\"Convert this dataframe to an interactive table.\"\n",
              "              style=\"display:none;\">\n",
              "        \n",
              "  <svg xmlns=\"http://www.w3.org/2000/svg\" height=\"24px\"viewBox=\"0 0 24 24\"\n",
              "       width=\"24px\">\n",
              "    <path d=\"M0 0h24v24H0V0z\" fill=\"none\"/>\n",
              "    <path d=\"M18.56 5.44l.94 2.06.94-2.06 2.06-.94-2.06-.94-.94-2.06-.94 2.06-2.06.94zm-11 1L8.5 8.5l.94-2.06 2.06-.94-2.06-.94L8.5 2.5l-.94 2.06-2.06.94zm10 10l.94 2.06.94-2.06 2.06-.94-2.06-.94-.94-2.06-.94 2.06-2.06.94z\"/><path d=\"M17.41 7.96l-1.37-1.37c-.4-.4-.92-.59-1.43-.59-.52 0-1.04.2-1.43.59L10.3 9.45l-7.72 7.72c-.78.78-.78 2.05 0 2.83L4 21.41c.39.39.9.59 1.41.59.51 0 1.02-.2 1.41-.59l7.78-7.78 2.81-2.81c.8-.78.8-2.07 0-2.86zM5.41 20L4 18.59l7.72-7.72 1.47 1.35L5.41 20z\"/>\n",
              "  </svg>\n",
              "      </button>\n",
              "      \n",
              "  <style>\n",
              "    .colab-df-container {\n",
              "      display:flex;\n",
              "      flex-wrap:wrap;\n",
              "      gap: 12px;\n",
              "    }\n",
              "\n",
              "    .colab-df-convert {\n",
              "      background-color: #E8F0FE;\n",
              "      border: none;\n",
              "      border-radius: 50%;\n",
              "      cursor: pointer;\n",
              "      display: none;\n",
              "      fill: #1967D2;\n",
              "      height: 32px;\n",
              "      padding: 0 0 0 0;\n",
              "      width: 32px;\n",
              "    }\n",
              "\n",
              "    .colab-df-convert:hover {\n",
              "      background-color: #E2EBFA;\n",
              "      box-shadow: 0px 1px 2px rgba(60, 64, 67, 0.3), 0px 1px 3px 1px rgba(60, 64, 67, 0.15);\n",
              "      fill: #174EA6;\n",
              "    }\n",
              "\n",
              "    [theme=dark] .colab-df-convert {\n",
              "      background-color: #3B4455;\n",
              "      fill: #D2E3FC;\n",
              "    }\n",
              "\n",
              "    [theme=dark] .colab-df-convert:hover {\n",
              "      background-color: #434B5C;\n",
              "      box-shadow: 0px 1px 3px 1px rgba(0, 0, 0, 0.15);\n",
              "      filter: drop-shadow(0px 1px 2px rgba(0, 0, 0, 0.3));\n",
              "      fill: #FFFFFF;\n",
              "    }\n",
              "  </style>\n",
              "\n",
              "      <script>\n",
              "        const buttonEl =\n",
              "          document.querySelector('#df-7bfea413-8cf7-4cdc-848e-b5755c37af1d button.colab-df-convert');\n",
              "        buttonEl.style.display =\n",
              "          google.colab.kernel.accessAllowed ? 'block' : 'none';\n",
              "\n",
              "        async function convertToInteractive(key) {\n",
              "          const element = document.querySelector('#df-7bfea413-8cf7-4cdc-848e-b5755c37af1d');\n",
              "          const dataTable =\n",
              "            await google.colab.kernel.invokeFunction('convertToInteractive',\n",
              "                                                     [key], {});\n",
              "          if (!dataTable) return;\n",
              "\n",
              "          const docLinkHtml = 'Like what you see? Visit the ' +\n",
              "            '<a target=\"_blank\" href=https://colab.research.google.com/notebooks/data_table.ipynb>data table notebook</a>'\n",
              "            + ' to learn more about interactive tables.';\n",
              "          element.innerHTML = '';\n",
              "          dataTable['output_type'] = 'display_data';\n",
              "          await google.colab.output.renderOutput(dataTable, element);\n",
              "          const docLink = document.createElement('div');\n",
              "          docLink.innerHTML = docLinkHtml;\n",
              "          element.appendChild(docLink);\n",
              "        }\n",
              "      </script>\n",
              "    </div>\n",
              "  </div>\n",
              "  "
            ]
          },
          "metadata": {},
          "execution_count": 55
        }
      ]
    },
    {
      "cell_type": "code",
      "source": [
        "y_train"
      ],
      "metadata": {
        "colab": {
          "base_uri": "https://localhost:8080/"
        },
        "id": "5ys39VIp0iAR",
        "outputId": "be2ace75-4697-4607-a9bf-f017dbd8e6aa"
      },
      "execution_count": 56,
      "outputs": [
        {
          "output_type": "execute_result",
          "data": {
            "text/plain": [
              "0       1\n",
              "1       0\n",
              "3       0\n",
              "4       0\n",
              "5       0\n",
              "       ..\n",
              "1024    0\n",
              "1025    0\n",
              "1026    0\n",
              "1027    0\n",
              "1028    1\n",
              "Name: fraud, Length: 926, dtype: object"
            ]
          },
          "metadata": {},
          "execution_count": 56
        }
      ]
    },
    {
      "cell_type": "code",
      "source": [
        "X_test"
      ],
      "metadata": {
        "colab": {
          "base_uri": "https://localhost:8080/",
          "height": 424
        },
        "id": "np8G4exY9x77",
        "outputId": "47995c3f-8520-479e-ea43-c1c5bf9ee2f5"
      },
      "execution_count": 57,
      "outputs": [
        {
          "output_type": "execute_result",
          "data": {
            "text/plain": [
              "      account_number  ocupation  amount_paid  amount_unpaid\n",
              "2             208404          4           64             79\n",
              "6             108762          4          167             42\n",
              "7             309054          3          350            385\n",
              "8              89836          1          482            190\n",
              "51            900180          2          128             75\n",
              "...              ...        ...          ...            ...\n",
              "977           905598          0           27              9\n",
              "978           886210          3            0              0\n",
              "993           583343          4           11             10\n",
              "1008           81888          5            2              6\n",
              "1010          354382          2            0              6\n",
              "\n",
              "[103 rows x 4 columns]"
            ],
            "text/html": [
              "\n",
              "  <div id=\"df-7e72ef55-ffca-42d7-bad0-4e1b1010cc48\">\n",
              "    <div class=\"colab-df-container\">\n",
              "      <div>\n",
              "<style scoped>\n",
              "    .dataframe tbody tr th:only-of-type {\n",
              "        vertical-align: middle;\n",
              "    }\n",
              "\n",
              "    .dataframe tbody tr th {\n",
              "        vertical-align: top;\n",
              "    }\n",
              "\n",
              "    .dataframe thead th {\n",
              "        text-align: right;\n",
              "    }\n",
              "</style>\n",
              "<table border=\"1\" class=\"dataframe\">\n",
              "  <thead>\n",
              "    <tr style=\"text-align: right;\">\n",
              "      <th></th>\n",
              "      <th>account_number</th>\n",
              "      <th>ocupation</th>\n",
              "      <th>amount_paid</th>\n",
              "      <th>amount_unpaid</th>\n",
              "    </tr>\n",
              "  </thead>\n",
              "  <tbody>\n",
              "    <tr>\n",
              "      <th>2</th>\n",
              "      <td>208404</td>\n",
              "      <td>4</td>\n",
              "      <td>64</td>\n",
              "      <td>79</td>\n",
              "    </tr>\n",
              "    <tr>\n",
              "      <th>6</th>\n",
              "      <td>108762</td>\n",
              "      <td>4</td>\n",
              "      <td>167</td>\n",
              "      <td>42</td>\n",
              "    </tr>\n",
              "    <tr>\n",
              "      <th>7</th>\n",
              "      <td>309054</td>\n",
              "      <td>3</td>\n",
              "      <td>350</td>\n",
              "      <td>385</td>\n",
              "    </tr>\n",
              "    <tr>\n",
              "      <th>8</th>\n",
              "      <td>89836</td>\n",
              "      <td>1</td>\n",
              "      <td>482</td>\n",
              "      <td>190</td>\n",
              "    </tr>\n",
              "    <tr>\n",
              "      <th>51</th>\n",
              "      <td>900180</td>\n",
              "      <td>2</td>\n",
              "      <td>128</td>\n",
              "      <td>75</td>\n",
              "    </tr>\n",
              "    <tr>\n",
              "      <th>...</th>\n",
              "      <td>...</td>\n",
              "      <td>...</td>\n",
              "      <td>...</td>\n",
              "      <td>...</td>\n",
              "    </tr>\n",
              "    <tr>\n",
              "      <th>977</th>\n",
              "      <td>905598</td>\n",
              "      <td>0</td>\n",
              "      <td>27</td>\n",
              "      <td>9</td>\n",
              "    </tr>\n",
              "    <tr>\n",
              "      <th>978</th>\n",
              "      <td>886210</td>\n",
              "      <td>3</td>\n",
              "      <td>0</td>\n",
              "      <td>0</td>\n",
              "    </tr>\n",
              "    <tr>\n",
              "      <th>993</th>\n",
              "      <td>583343</td>\n",
              "      <td>4</td>\n",
              "      <td>11</td>\n",
              "      <td>10</td>\n",
              "    </tr>\n",
              "    <tr>\n",
              "      <th>1008</th>\n",
              "      <td>81888</td>\n",
              "      <td>5</td>\n",
              "      <td>2</td>\n",
              "      <td>6</td>\n",
              "    </tr>\n",
              "    <tr>\n",
              "      <th>1010</th>\n",
              "      <td>354382</td>\n",
              "      <td>2</td>\n",
              "      <td>0</td>\n",
              "      <td>6</td>\n",
              "    </tr>\n",
              "  </tbody>\n",
              "</table>\n",
              "<p>103 rows × 4 columns</p>\n",
              "</div>\n",
              "      <button class=\"colab-df-convert\" onclick=\"convertToInteractive('df-7e72ef55-ffca-42d7-bad0-4e1b1010cc48')\"\n",
              "              title=\"Convert this dataframe to an interactive table.\"\n",
              "              style=\"display:none;\">\n",
              "        \n",
              "  <svg xmlns=\"http://www.w3.org/2000/svg\" height=\"24px\"viewBox=\"0 0 24 24\"\n",
              "       width=\"24px\">\n",
              "    <path d=\"M0 0h24v24H0V0z\" fill=\"none\"/>\n",
              "    <path d=\"M18.56 5.44l.94 2.06.94-2.06 2.06-.94-2.06-.94-.94-2.06-.94 2.06-2.06.94zm-11 1L8.5 8.5l.94-2.06 2.06-.94-2.06-.94L8.5 2.5l-.94 2.06-2.06.94zm10 10l.94 2.06.94-2.06 2.06-.94-2.06-.94-.94-2.06-.94 2.06-2.06.94z\"/><path d=\"M17.41 7.96l-1.37-1.37c-.4-.4-.92-.59-1.43-.59-.52 0-1.04.2-1.43.59L10.3 9.45l-7.72 7.72c-.78.78-.78 2.05 0 2.83L4 21.41c.39.39.9.59 1.41.59.51 0 1.02-.2 1.41-.59l7.78-7.78 2.81-2.81c.8-.78.8-2.07 0-2.86zM5.41 20L4 18.59l7.72-7.72 1.47 1.35L5.41 20z\"/>\n",
              "  </svg>\n",
              "      </button>\n",
              "      \n",
              "  <style>\n",
              "    .colab-df-container {\n",
              "      display:flex;\n",
              "      flex-wrap:wrap;\n",
              "      gap: 12px;\n",
              "    }\n",
              "\n",
              "    .colab-df-convert {\n",
              "      background-color: #E8F0FE;\n",
              "      border: none;\n",
              "      border-radius: 50%;\n",
              "      cursor: pointer;\n",
              "      display: none;\n",
              "      fill: #1967D2;\n",
              "      height: 32px;\n",
              "      padding: 0 0 0 0;\n",
              "      width: 32px;\n",
              "    }\n",
              "\n",
              "    .colab-df-convert:hover {\n",
              "      background-color: #E2EBFA;\n",
              "      box-shadow: 0px 1px 2px rgba(60, 64, 67, 0.3), 0px 1px 3px 1px rgba(60, 64, 67, 0.15);\n",
              "      fill: #174EA6;\n",
              "    }\n",
              "\n",
              "    [theme=dark] .colab-df-convert {\n",
              "      background-color: #3B4455;\n",
              "      fill: #D2E3FC;\n",
              "    }\n",
              "\n",
              "    [theme=dark] .colab-df-convert:hover {\n",
              "      background-color: #434B5C;\n",
              "      box-shadow: 0px 1px 3px 1px rgba(0, 0, 0, 0.15);\n",
              "      filter: drop-shadow(0px 1px 2px rgba(0, 0, 0, 0.3));\n",
              "      fill: #FFFFFF;\n",
              "    }\n",
              "  </style>\n",
              "\n",
              "      <script>\n",
              "        const buttonEl =\n",
              "          document.querySelector('#df-7e72ef55-ffca-42d7-bad0-4e1b1010cc48 button.colab-df-convert');\n",
              "        buttonEl.style.display =\n",
              "          google.colab.kernel.accessAllowed ? 'block' : 'none';\n",
              "\n",
              "        async function convertToInteractive(key) {\n",
              "          const element = document.querySelector('#df-7e72ef55-ffca-42d7-bad0-4e1b1010cc48');\n",
              "          const dataTable =\n",
              "            await google.colab.kernel.invokeFunction('convertToInteractive',\n",
              "                                                     [key], {});\n",
              "          if (!dataTable) return;\n",
              "\n",
              "          const docLinkHtml = 'Like what you see? Visit the ' +\n",
              "            '<a target=\"_blank\" href=https://colab.research.google.com/notebooks/data_table.ipynb>data table notebook</a>'\n",
              "            + ' to learn more about interactive tables.';\n",
              "          element.innerHTML = '';\n",
              "          dataTable['output_type'] = 'display_data';\n",
              "          await google.colab.output.renderOutput(dataTable, element);\n",
              "          const docLink = document.createElement('div');\n",
              "          docLink.innerHTML = docLinkHtml;\n",
              "          element.appendChild(docLink);\n",
              "        }\n",
              "      </script>\n",
              "    </div>\n",
              "  </div>\n",
              "  "
            ]
          },
          "metadata": {},
          "execution_count": 57
        }
      ]
    },
    {
      "cell_type": "markdown",
      "source": [
        "### Normalização do dataset"
      ],
      "metadata": {
        "id": "LmRd36fZLRhh"
      }
    },
    {
      "cell_type": "code",
      "source": [
        "from imblearn.over_sampling import RandomOverSampler\n",
        "from sklearn.preprocessing import MinMaxScaler\n",
        "\n",
        "train_X = np.array(X_train)\n",
        "train_y = np.array(y_train)\n",
        "\n",
        "test_X = np.array(X_test)\n",
        "\n",
        "# Normalização dos dados\n",
        "scaler = MinMaxScaler().fit(train_X)\n",
        "\n",
        "# Normalizando dados do treinamento\n",
        "train_X = scaler.transform(train_X)\n",
        "\n",
        "# Normalizando dados do teste\n",
        "test_X = scaler.transform(test_X)"
      ],
      "metadata": {
        "id": "dWMC-kQjLUyw"
      },
      "execution_count": 58,
      "outputs": []
    },
    {
      "cell_type": "markdown",
      "source": [
        "### Classificação com SVC"
      ],
      "metadata": {
        "id": "ZnJ3QWee1dqU"
      }
    },
    {
      "cell_type": "code",
      "source": [
        "from sklearn.svm import SVC\n",
        "\n",
        "c = 100\n",
        "g = 'auto'\n",
        "d = 1\n",
        "ke = 'poly'\n",
        "\n",
        "clf = SVC(kernel=ke, degree=d, gamma=g, C=c)\n",
        "\n",
        "oversample = RandomOverSampler(sampling_strategy = 'minority')\n",
        "\n",
        "X_over, y_over = oversample.fit_resample(train_X, train_y)\n",
        "  \n",
        "clf.fit(X_over, y_over)\n",
        "  \n",
        "predicted_svc = clf.predict(test_X)\n",
        "predicted_svc"
      ],
      "metadata": {
        "colab": {
          "base_uri": "https://localhost:8080/"
        },
        "id": "zWrGNXuX1ctq",
        "outputId": "21e6eff2-dade-4b41-8e04-f1f7bbfb7ed6"
      },
      "execution_count": 59,
      "outputs": [
        {
          "output_type": "execute_result",
          "data": {
            "text/plain": [
              "array(['1', '0', '0', '0', '0', '1', '0', '0', '0', '0', '0', '0', '1',\n",
              "       '0', '1', '0', '0', '0', '1', '1', '1', '0', '1', '0', '0', '1',\n",
              "       '0', '0', '0', '0', '1', '1', '0', '0', '1', '0', '0', '0', '0',\n",
              "       '0', '1', '0', '1', '0', '0', '0', '1', '0', '0', '0', '0', '1',\n",
              "       '0', '0', '0', '0', '1', '0', '0', '1', '0', '1', '0', '1', '1',\n",
              "       '1', '0', '1', '1', '1', '0', '0', '1', '0', '0', '1', '0', '0',\n",
              "       '0', '0', '1', '1', '0', '1', '0', '1', '0', '0', '1', '1', '1',\n",
              "       '1', '1', '0', '1', '1', '0', '1', '1', '1', '1', '1', '1'],\n",
              "      dtype=object)"
            ]
          },
          "metadata": {},
          "execution_count": 59
        }
      ]
    },
    {
      "cell_type": "markdown",
      "source": [
        "### Classificação com Árvore de Decisão"
      ],
      "metadata": {
        "id": "r5BRyvR63f8D"
      }
    },
    {
      "cell_type": "code",
      "source": [
        "from sklearn.tree import DecisionTreeClassifier\n",
        "\n",
        "d = 3\n",
        "\n",
        "clf = DecisionTreeClassifier(max_depth=d)\n",
        "\n",
        "oversample = RandomOverSampler(sampling_strategy = 'minority')\n",
        "\n",
        "X_over, y_over = oversample.fit_resample(train_X, train_y)\n",
        "  \n",
        "clf.fit(X_over, y_over)\n",
        "  \n",
        "predicted_dt = clf.predict(test_X)\n",
        "predicted_dt"
      ],
      "metadata": {
        "colab": {
          "base_uri": "https://localhost:8080/"
        },
        "id": "DLuw1tUY3FOe",
        "outputId": "5628adbb-ba1f-4ff2-f746-d490acaf4f6f"
      },
      "execution_count": 60,
      "outputs": [
        {
          "output_type": "execute_result",
          "data": {
            "text/plain": [
              "array(['1', '0', '0', '0', '0', '1', '0', '0', '1', '0', '0', '0', '1',\n",
              "       '0', '1', '0', '0', '0', '1', '0', '0', '0', '0', '0', '0', '0',\n",
              "       '0', '0', '0', '0', '1', '1', '0', '0', '0', '0', '0', '0', '0',\n",
              "       '0', '1', '0', '1', '0', '0', '0', '1', '0', '0', '0', '1', '0',\n",
              "       '0', '0', '0', '0', '0', '0', '0', '1', '0', '0', '0', '1', '0',\n",
              "       '1', '0', '0', '0', '1', '0', '0', '1', '0', '0', '1', '0', '0',\n",
              "       '0', '0', '1', '0', '0', '1', '0', '1', '0', '0', '0', '1', '1',\n",
              "       '1', '1', '1', '1', '0', '0', '0', '1', '0', '0', '0', '0'],\n",
              "      dtype=object)"
            ]
          },
          "metadata": {},
          "execution_count": 60
        }
      ]
    },
    {
      "cell_type": "markdown",
      "source": [
        "### Classificação com Rede Neural"
      ],
      "metadata": {
        "id": "H8PrE2vdLntV"
      }
    },
    {
      "cell_type": "code",
      "source": [
        "from sklearn.neural_network import MLPClassifier\n",
        "\n",
        "clf = MLPClassifier(activation='relu', solver='adam', batch_size=64, learning_rate='adaptive')\n",
        "\n",
        "oversample = RandomOverSampler(sampling_strategy = 'minority')\n",
        "\n",
        "X_over, y_over = oversample.fit_resample(train_X, train_y)\n",
        "  \n",
        "clf.fit(X_over, y_over)\n",
        "  \n",
        "predicted_nn = clf.predict(test_X)\n",
        "predicted_nn"
      ],
      "metadata": {
        "colab": {
          "base_uri": "https://localhost:8080/"
        },
        "id": "KwPneKQrLHeo",
        "outputId": "a8666b78-43af-4a6c-a645-e98a637ae188"
      },
      "execution_count": 61,
      "outputs": [
        {
          "output_type": "stream",
          "name": "stderr",
          "text": [
            "/usr/local/lib/python3.7/dist-packages/sklearn/neural_network/_multilayer_perceptron.py:696: ConvergenceWarning: Stochastic Optimizer: Maximum iterations (200) reached and the optimization hasn't converged yet.\n",
            "  ConvergenceWarning,\n"
          ]
        },
        {
          "output_type": "execute_result",
          "data": {
            "text/plain": [
              "array(['1', '0', '0', '0', '0', '1', '0', '0', '0', '0', '0', '0', '1',\n",
              "       '0', '1', '0', '0', '0', '1', '0', '0', '0', '0', '0', '0', '0',\n",
              "       '0', '0', '0', '0', '1', '1', '0', '0', '1', '0', '0', '0', '0',\n",
              "       '0', '1', '0', '1', '0', '0', '0', '1', '0', '0', '0', '0', '1',\n",
              "       '0', '0', '0', '0', '0', '0', '0', '1', '0', '0', '0', '1', '0',\n",
              "       '1', '0', '1', '0', '0', '0', '0', '1', '0', '0', '1', '0', '0',\n",
              "       '0', '0', '1', '0', '0', '1', '0', '1', '0', '0', '0', '1', '1',\n",
              "       '1', '1', '0', '1', '0', '0', '0', '1', '0', '0', '1', '0'],\n",
              "      dtype='<U1')"
            ]
          },
          "metadata": {},
          "execution_count": 61
        }
      ]
    },
    {
      "cell_type": "markdown",
      "source": [
        "### Assembleia com as saídas dos três modelos"
      ],
      "metadata": {
        "id": "XRz3KCz7NW9i"
      }
    },
    {
      "cell_type": "code",
      "source": [
        "predicted = []\n",
        "for svc, dt, nn in zip(predicted_svc, predicted_dt, predicted_nn):\n",
        "  if int(svc) + int(dt) + int(nn) > 1:\n",
        "    predicted.append(1)\n",
        "  else:\n",
        "    predicted.append(0)\n",
        "predicted"
      ],
      "metadata": {
        "colab": {
          "base_uri": "https://localhost:8080/"
        },
        "id": "hg1k5gdjNeOh",
        "outputId": "05c54433-f3ed-4def-8813-5b916ee7ee0e"
      },
      "execution_count": 62,
      "outputs": [
        {
          "output_type": "execute_result",
          "data": {
            "text/plain": [
              "[1,\n",
              " 0,\n",
              " 0,\n",
              " 0,\n",
              " 0,\n",
              " 1,\n",
              " 0,\n",
              " 0,\n",
              " 0,\n",
              " 0,\n",
              " 0,\n",
              " 0,\n",
              " 1,\n",
              " 0,\n",
              " 1,\n",
              " 0,\n",
              " 0,\n",
              " 0,\n",
              " 1,\n",
              " 0,\n",
              " 0,\n",
              " 0,\n",
              " 0,\n",
              " 0,\n",
              " 0,\n",
              " 0,\n",
              " 0,\n",
              " 0,\n",
              " 0,\n",
              " 0,\n",
              " 1,\n",
              " 1,\n",
              " 0,\n",
              " 0,\n",
              " 1,\n",
              " 0,\n",
              " 0,\n",
              " 0,\n",
              " 0,\n",
              " 0,\n",
              " 1,\n",
              " 0,\n",
              " 1,\n",
              " 0,\n",
              " 0,\n",
              " 0,\n",
              " 1,\n",
              " 0,\n",
              " 0,\n",
              " 0,\n",
              " 0,\n",
              " 1,\n",
              " 0,\n",
              " 0,\n",
              " 0,\n",
              " 0,\n",
              " 0,\n",
              " 0,\n",
              " 0,\n",
              " 1,\n",
              " 0,\n",
              " 0,\n",
              " 0,\n",
              " 1,\n",
              " 0,\n",
              " 1,\n",
              " 0,\n",
              " 1,\n",
              " 0,\n",
              " 1,\n",
              " 0,\n",
              " 0,\n",
              " 1,\n",
              " 0,\n",
              " 0,\n",
              " 1,\n",
              " 0,\n",
              " 0,\n",
              " 0,\n",
              " 0,\n",
              " 1,\n",
              " 0,\n",
              " 0,\n",
              " 1,\n",
              " 0,\n",
              " 1,\n",
              " 0,\n",
              " 0,\n",
              " 0,\n",
              " 1,\n",
              " 1,\n",
              " 1,\n",
              " 1,\n",
              " 0,\n",
              " 1,\n",
              " 0,\n",
              " 0,\n",
              " 0,\n",
              " 1,\n",
              " 0,\n",
              " 0,\n",
              " 1,\n",
              " 0]"
            ]
          },
          "metadata": {},
          "execution_count": 62
        }
      ]
    },
    {
      "cell_type": "markdown",
      "source": [
        "### Saídas preditas"
      ],
      "metadata": {
        "id": "Dva9lNAINfcZ"
      }
    },
    {
      "cell_type": "code",
      "source": [
        "outputs_df = pd.DataFrame()\n",
        "outputs_df['account_number'] = X_test['account_number']\n",
        "outputs_df['fraud'] = predicted\n",
        "outputs_df = outputs_df.reset_index()\n",
        "outputs_df = outputs_df[['account_number', 'fraud']]\n",
        "outputs_df"
      ],
      "metadata": {
        "colab": {
          "base_uri": "https://localhost:8080/",
          "height": 424
        },
        "id": "iaSFeLsMGqJI",
        "outputId": "88738b4f-2822-48b9-9d5e-f232bb5ad323"
      },
      "execution_count": 63,
      "outputs": [
        {
          "output_type": "execute_result",
          "data": {
            "text/plain": [
              "     account_number  fraud\n",
              "0            208404      1\n",
              "1            108762      0\n",
              "2            309054      0\n",
              "3             89836      0\n",
              "4            900180      0\n",
              "..              ...    ...\n",
              "98           905598      1\n",
              "99           886210      0\n",
              "100          583343      0\n",
              "101           81888      1\n",
              "102          354382      0\n",
              "\n",
              "[103 rows x 2 columns]"
            ],
            "text/html": [
              "\n",
              "  <div id=\"df-f84306a8-a407-491b-a5a0-bde6dad85b86\">\n",
              "    <div class=\"colab-df-container\">\n",
              "      <div>\n",
              "<style scoped>\n",
              "    .dataframe tbody tr th:only-of-type {\n",
              "        vertical-align: middle;\n",
              "    }\n",
              "\n",
              "    .dataframe tbody tr th {\n",
              "        vertical-align: top;\n",
              "    }\n",
              "\n",
              "    .dataframe thead th {\n",
              "        text-align: right;\n",
              "    }\n",
              "</style>\n",
              "<table border=\"1\" class=\"dataframe\">\n",
              "  <thead>\n",
              "    <tr style=\"text-align: right;\">\n",
              "      <th></th>\n",
              "      <th>account_number</th>\n",
              "      <th>fraud</th>\n",
              "    </tr>\n",
              "  </thead>\n",
              "  <tbody>\n",
              "    <tr>\n",
              "      <th>0</th>\n",
              "      <td>208404</td>\n",
              "      <td>1</td>\n",
              "    </tr>\n",
              "    <tr>\n",
              "      <th>1</th>\n",
              "      <td>108762</td>\n",
              "      <td>0</td>\n",
              "    </tr>\n",
              "    <tr>\n",
              "      <th>2</th>\n",
              "      <td>309054</td>\n",
              "      <td>0</td>\n",
              "    </tr>\n",
              "    <tr>\n",
              "      <th>3</th>\n",
              "      <td>89836</td>\n",
              "      <td>0</td>\n",
              "    </tr>\n",
              "    <tr>\n",
              "      <th>4</th>\n",
              "      <td>900180</td>\n",
              "      <td>0</td>\n",
              "    </tr>\n",
              "    <tr>\n",
              "      <th>...</th>\n",
              "      <td>...</td>\n",
              "      <td>...</td>\n",
              "    </tr>\n",
              "    <tr>\n",
              "      <th>98</th>\n",
              "      <td>905598</td>\n",
              "      <td>1</td>\n",
              "    </tr>\n",
              "    <tr>\n",
              "      <th>99</th>\n",
              "      <td>886210</td>\n",
              "      <td>0</td>\n",
              "    </tr>\n",
              "    <tr>\n",
              "      <th>100</th>\n",
              "      <td>583343</td>\n",
              "      <td>0</td>\n",
              "    </tr>\n",
              "    <tr>\n",
              "      <th>101</th>\n",
              "      <td>81888</td>\n",
              "      <td>1</td>\n",
              "    </tr>\n",
              "    <tr>\n",
              "      <th>102</th>\n",
              "      <td>354382</td>\n",
              "      <td>0</td>\n",
              "    </tr>\n",
              "  </tbody>\n",
              "</table>\n",
              "<p>103 rows × 2 columns</p>\n",
              "</div>\n",
              "      <button class=\"colab-df-convert\" onclick=\"convertToInteractive('df-f84306a8-a407-491b-a5a0-bde6dad85b86')\"\n",
              "              title=\"Convert this dataframe to an interactive table.\"\n",
              "              style=\"display:none;\">\n",
              "        \n",
              "  <svg xmlns=\"http://www.w3.org/2000/svg\" height=\"24px\"viewBox=\"0 0 24 24\"\n",
              "       width=\"24px\">\n",
              "    <path d=\"M0 0h24v24H0V0z\" fill=\"none\"/>\n",
              "    <path d=\"M18.56 5.44l.94 2.06.94-2.06 2.06-.94-2.06-.94-.94-2.06-.94 2.06-2.06.94zm-11 1L8.5 8.5l.94-2.06 2.06-.94-2.06-.94L8.5 2.5l-.94 2.06-2.06.94zm10 10l.94 2.06.94-2.06 2.06-.94-2.06-.94-.94-2.06-.94 2.06-2.06.94z\"/><path d=\"M17.41 7.96l-1.37-1.37c-.4-.4-.92-.59-1.43-.59-.52 0-1.04.2-1.43.59L10.3 9.45l-7.72 7.72c-.78.78-.78 2.05 0 2.83L4 21.41c.39.39.9.59 1.41.59.51 0 1.02-.2 1.41-.59l7.78-7.78 2.81-2.81c.8-.78.8-2.07 0-2.86zM5.41 20L4 18.59l7.72-7.72 1.47 1.35L5.41 20z\"/>\n",
              "  </svg>\n",
              "      </button>\n",
              "      \n",
              "  <style>\n",
              "    .colab-df-container {\n",
              "      display:flex;\n",
              "      flex-wrap:wrap;\n",
              "      gap: 12px;\n",
              "    }\n",
              "\n",
              "    .colab-df-convert {\n",
              "      background-color: #E8F0FE;\n",
              "      border: none;\n",
              "      border-radius: 50%;\n",
              "      cursor: pointer;\n",
              "      display: none;\n",
              "      fill: #1967D2;\n",
              "      height: 32px;\n",
              "      padding: 0 0 0 0;\n",
              "      width: 32px;\n",
              "    }\n",
              "\n",
              "    .colab-df-convert:hover {\n",
              "      background-color: #E2EBFA;\n",
              "      box-shadow: 0px 1px 2px rgba(60, 64, 67, 0.3), 0px 1px 3px 1px rgba(60, 64, 67, 0.15);\n",
              "      fill: #174EA6;\n",
              "    }\n",
              "\n",
              "    [theme=dark] .colab-df-convert {\n",
              "      background-color: #3B4455;\n",
              "      fill: #D2E3FC;\n",
              "    }\n",
              "\n",
              "    [theme=dark] .colab-df-convert:hover {\n",
              "      background-color: #434B5C;\n",
              "      box-shadow: 0px 1px 3px 1px rgba(0, 0, 0, 0.15);\n",
              "      filter: drop-shadow(0px 1px 2px rgba(0, 0, 0, 0.3));\n",
              "      fill: #FFFFFF;\n",
              "    }\n",
              "  </style>\n",
              "\n",
              "      <script>\n",
              "        const buttonEl =\n",
              "          document.querySelector('#df-f84306a8-a407-491b-a5a0-bde6dad85b86 button.colab-df-convert');\n",
              "        buttonEl.style.display =\n",
              "          google.colab.kernel.accessAllowed ? 'block' : 'none';\n",
              "\n",
              "        async function convertToInteractive(key) {\n",
              "          const element = document.querySelector('#df-f84306a8-a407-491b-a5a0-bde6dad85b86');\n",
              "          const dataTable =\n",
              "            await google.colab.kernel.invokeFunction('convertToInteractive',\n",
              "                                                     [key], {});\n",
              "          if (!dataTable) return;\n",
              "\n",
              "          const docLinkHtml = 'Like what you see? Visit the ' +\n",
              "            '<a target=\"_blank\" href=https://colab.research.google.com/notebooks/data_table.ipynb>data table notebook</a>'\n",
              "            + ' to learn more about interactive tables.';\n",
              "          element.innerHTML = '';\n",
              "          dataTable['output_type'] = 'display_data';\n",
              "          await google.colab.output.renderOutput(dataTable, element);\n",
              "          const docLink = document.createElement('div');\n",
              "          docLink.innerHTML = docLinkHtml;\n",
              "          element.appendChild(docLink);\n",
              "        }\n",
              "      </script>\n",
              "    </div>\n",
              "  </div>\n",
              "  "
            ]
          },
          "metadata": {},
          "execution_count": 63
        }
      ]
    },
    {
      "cell_type": "code",
      "source": [
        "output_csv = outputs_df.to_csv\n",
        "output_csv('predicted.csv', sep=',', encoding='utf-8')"
      ],
      "metadata": {
        "id": "EYMQQkHmJMnO"
      },
      "execution_count": 64,
      "outputs": []
    }
  ]
}