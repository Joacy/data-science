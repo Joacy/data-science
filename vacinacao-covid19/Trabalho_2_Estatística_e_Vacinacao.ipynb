{
  "nbformat": 4,
  "nbformat_minor": 0,
  "metadata": {
    "colab": {
      "name": "Trabalho-2-Estatística-e-Vacinacao_Joacy.ipynb",
      "provenance": [],
      "collapsed_sections": []
    },
    "kernelspec": {
      "name": "python3",
      "display_name": "Python 3"
    },
    "language_info": {
      "name": "python"
    }
  },
  "cells": [
    {
      "cell_type": "code",
      "metadata": {
        "id": "KWPpgkv8PKPz"
      },
      "source": [
        "import warnings\n",
        "warnings.filterwarnings(\"ignore\")"
      ],
      "execution_count": null,
      "outputs": []
    },
    {
      "cell_type": "code",
      "metadata": {
        "id": "HUAU8Zh4nSUC"
      },
      "source": [
        "import pandas as pd\n",
        "import matplotlib.pyplot as plt\n",
        "from matplotlib.pyplot import figure\n",
        "\n",
        "import scipy.stats as st\n",
        "from statsmodels.stats import weightstats as stests\n",
        "from sklearn.linear_model import LinearRegression\n",
        "\n",
        "from IPython.display import display, HTML\n",
        "\n",
        "import urllib.request\n",
        "\n",
        "opener = urllib.request.build_opener()\n",
        "opener.addheaders = [('User-agent', 'Mozilla/5.0 (Windows NT 10.0; Win64; x64) AppleWebKit/537.36 (KHTML, like Gecko) Chrome/83.0.4103.61 Safari/537.36')]\n",
        "urllib.request.install_opener(opener)\n",
        "\n",
        "url = \"http://aulas.artificial.eng.br/Home/pgcc005/dados-vacinados-metod2-atividade.csv.gz\"\n",
        "urllib.request.urlretrieve (url, \"dados-vacinados-metod2.csv.gz\")\n",
        "\n",
        "vacinadf = pd.read_csv(\"dados-vacinados-metod2.csv.gz\",index_col=False, compression='gzip')\n",
        "\n",
        "vacinadf['vacina_dataAplicacao']= pd.to_datetime(vacinadf['vacina_dataAplicacao'], format='%Y-%m-%d')"
      ],
      "execution_count": null,
      "outputs": []
    },
    {
      "cell_type": "markdown",
      "metadata": {
        "id": "l0usTaJ8K6R-"
      },
      "source": [
        "# 1. Quais são os tipos de dados (cf slides 12 e 13 da aula 4) disponíveis na base? (avalie cada campo, não tome como base os tipos do panda)"
      ]
    },
    {
      "cell_type": "code",
      "metadata": {
        "id": "BN0Rumr4LF-l",
        "colab": {
          "base_uri": "https://localhost:8080/",
          "height": 613
        },
        "outputId": "1c4f0dac-ec3f-402b-9ecf-c64b724331c0"
      },
      "source": [
        "display(\"Tipos de dados disponíveis na base\")\n",
        "display(vacinadf.dtypes)"
      ],
      "execution_count": null,
      "outputs": [
        {
          "output_type": "display_data",
          "data": {
            "application/vnd.google.colaboratory.intrinsic+json": {
              "type": "string"
            },
            "text/plain": [
              "'Tipos de dados disponíveis na base'"
            ]
          },
          "metadata": {}
        },
        {
          "output_type": "display_data",
          "data": {
            "text/plain": [
              "document_id                                              object\n",
              "paciente_id                                              object\n",
              "paciente_idade                                            int64\n",
              "paciente_dataNascimento                                  object\n",
              "paciente_enumSexoBiologico                               object\n",
              "paciente_racaCor_codigo                                   int64\n",
              "paciente_racaCor_valor                                   object\n",
              "paciente_endereco_coIbgeMunicipio                       float64\n",
              "paciente_endereco_coPais                                float64\n",
              "paciente_endereco_nmMunicipio                            object\n",
              "paciente_endereco_nmPais                                 object\n",
              "paciente_endereco_uf                                     object\n",
              "paciente_endereco_cep                                   float64\n",
              "paciente_nacionalidade_enumNacionalidade                 object\n",
              "estabelecimento_valor                                     int64\n",
              "estabelecimento_razaoSocial                              object\n",
              "estalecimento_noFantasia                                 object\n",
              "estabelecimento_municipio_codigo                          int64\n",
              "estabelecimento_municipio_nome                           object\n",
              "estabelecimento_uf                                       object\n",
              "vacina_grupoAtendimento_codigo                            int64\n",
              "vacina_grupoAtendimento_nome                             object\n",
              "vacina_categoria_codigo                                 float64\n",
              "vacina_categoria_nome                                    object\n",
              "vacina_lote                                              object\n",
              "vacina_fabricante_nome                                   object\n",
              "vacina_fabricante_referencia                             object\n",
              "vacina_dataAplicacao                        datetime64[ns, UTC]\n",
              "vacina_descricao_dose                                    object\n",
              "vacina_codigo                                             int64\n",
              "vacina_nome                                              object\n",
              "sistema_origem                                           object\n",
              "data_importacao_rnds                                     object\n",
              "dtype: object"
            ]
          },
          "metadata": {}
        }
      ]
    },
    {
      "cell_type": "markdown",
      "metadata": {
        "id": "AT8V11WhPF2i"
      },
      "source": [
        "document_id: Categórico Nominal\n",
        "\n",
        "paciente_id: Categórico Nominal\n",
        "\n",
        "paciente_idade: Numérico\n",
        "\n",
        "paciente_dataNascimento: Numérico\n",
        "\n",
        "paciente_enumSexoBiologico: Categórico Nominal\n",
        "\n",
        "paciente_racaCor_codigo: Categórico Nominal\n",
        "\n",
        "paciente_racaCor_valor: Categórico Nominal\n",
        "\n",
        "paciente_endereco_coIbgeMunicipio: Categórico Nominal\n",
        "\n",
        "paciente_endereco_coPais: Categórico Nominal\n",
        "\n",
        "paciente_endereco_nmMunicipio: Categórico Nominal\n",
        "\n",
        "paciente_endereco_nmPais: Categórico Nominal\n",
        "\n",
        "paciente_endereco_uf: Categórico Nominal\n",
        "\n",
        "paciente_endereco_cep: Categórico Nominal\n",
        "\n",
        "paciente_nacionalidade_enumNacionalidade: Categórico Nominal\n",
        "\n",
        "estabelecimento_valor: Categórico Nominal\n",
        "\n",
        "estabelecimento_razaoSocial: Categórico Nominal\n",
        "\n",
        "estalecimento_noFantasia: Categórico Nominal\n",
        "\n",
        "estabelecimento_municipio_codigo: Categórico Nominal\n",
        "\n",
        "estabelecimento_municipio_nome: Categórico Nominal\n",
        "\n",
        "estabelecimento_uf: Categórico Nominal\n",
        "\n",
        "vacina_grupoAtendimento_codigo: Categórico Nominal\n",
        "\n",
        "vacina_grupoAtendimento_nome: Categórico Nominal\n",
        "\n",
        "vacina_categoria_codigo: Categórico Nominal\n",
        "\n",
        "vacina_categoria_nome: Categórico Nominal\n",
        "\n",
        "vacina_lote: Categórico Nominal\n",
        "\n",
        "vacina_fabricante_nome: Categórico Nominal\n",
        "\n",
        "vacina_fabricante_referencia: Categórico Nominal\n",
        "\n",
        "vacina_dataAplicacao: Numérico\n",
        "\n",
        "vacina_descricao_dose: Categórico Nominal\n",
        "\n",
        "vacina_codigo: Categórico Nominal\n",
        "\n",
        "vacina_nome: Categórico Nominal\n",
        "\n",
        "sistema_origem: Categórico Nominal\n",
        "\n",
        "data_importacao_rnds: Numérico"
      ]
    },
    {
      "cell_type": "markdown",
      "metadata": {
        "id": "fiPUcN2xK-Ok"
      },
      "source": [
        "# 2. Quais são as cidades dos estabelecimentos com dados disponíveis na base? Quais são as cidades dos pacientes com dados disponíveis na base? Compare e comente os resultados."
      ]
    },
    {
      "cell_type": "code",
      "metadata": {
        "colab": {
          "base_uri": "https://localhost:8080/",
          "height": 121
        },
        "id": "UlHCu6d7LGbZ",
        "outputId": "ae92b450-399e-4727-9999-6b7b24bc2d69"
      },
      "source": [
        "display(\"Cidades dos estabelecimentos com dados disponíveis na base\")\n",
        "display(vacinadf.estabelecimento_municipio_nome.unique())\n",
        "\n",
        "display(\"Cidades dos pacientes com dados disponíveis na base\")\n",
        "display(vacinadf.paciente_endereco_nmMunicipio.unique())"
      ],
      "execution_count": null,
      "outputs": [
        {
          "output_type": "display_data",
          "data": {
            "application/vnd.google.colaboratory.intrinsic+json": {
              "type": "string"
            },
            "text/plain": [
              "'Cidades dos estabelecimentos com dados disponíveis na base'"
            ]
          },
          "metadata": {}
        },
        {
          "output_type": "display_data",
          "data": {
            "text/plain": [
              "array(['FEIRA DE SANTANA', 'JUAZEIRO', 'SALVADOR', 'VITORIA DA CONQUISTA',\n",
              "       'CAMACARI'], dtype=object)"
            ]
          },
          "metadata": {}
        },
        {
          "output_type": "display_data",
          "data": {
            "application/vnd.google.colaboratory.intrinsic+json": {
              "type": "string"
            },
            "text/plain": [
              "'Cidades dos pacientes com dados disponíveis na base'"
            ]
          },
          "metadata": {}
        },
        {
          "output_type": "display_data",
          "data": {
            "text/plain": [
              "array(['FEIRA DE SANTANA', 'JUAZEIRO', 'SALVADOR', ..., 'DOIS VIZINHOS',\n",
              "       'SAO LEOPOLDO', 'BETANIA'], dtype=object)"
            ]
          },
          "metadata": {}
        }
      ]
    },
    {
      "cell_type": "markdown",
      "metadata": {
        "id": "Kkq1wLIZO6Nu"
      },
      "source": [
        "A quantidade de cidades dos pacientes é bastante superior à quantidade de cidades dos estabelecimentos. Isso ocorre porque nem todos os moradores e profissionais de saúde vacinados nasceram nas cidades dos estabelecimentos onde receberam a vacina."
      ]
    },
    {
      "cell_type": "markdown",
      "metadata": {
        "id": "GSwtKRw1LIiQ"
      },
      "source": [
        "# 3. Escolha uma cidade e escolha dois períodos de sete dias (não sobrepostos) dentro da faixa de tempo disponível na base. Calcule a tendência central (média, mediana e/ou moda, conforme possibilidade) e desvio padrão para idade. Que análise pode ser feita observando cada período e comparando os períodos?"
      ]
    },
    {
      "cell_type": "code",
      "metadata": {
        "id": "kT6Xn0ItLH3V",
        "colab": {
          "base_uri": "https://localhost:8080/",
          "height": 297
        },
        "outputId": "c37d2f20-7150-4a89-a85e-341cc67c5207"
      },
      "source": [
        "cidade = (vacinadf['estabelecimento_municipio_nome'] == 'JUAZEIRO')\n",
        "\n",
        "primeira_semana = (vacinadf['vacina_dataAplicacao'] >= '2021-03-03') & (vacinadf['vacina_dataAplicacao'] < '2021-03-10')\n",
        "segunda_semana = (vacinadf['vacina_dataAplicacao'] >= '2021-03-17') & (vacinadf['vacina_dataAplicacao'] < '2021-03-23')\n",
        "\n",
        "display(\"Média das idades dos vacinados em Juazeiro de 03/03/2021 à 09/03/2021\")\n",
        "display(vacinadf[primeira_semana & cidade]['paciente_idade'].mean())\n",
        "\n",
        "display(\"Desvio Padrão das idades dos vacinados em Juazeiro de 03/03/2021 à 09/03/2021\")\n",
        "display(vacinadf[primeira_semana & cidade]['paciente_idade'].std())\n",
        "\n",
        "display(\"Mediana das idades dos vacinados em Juazeiro de 03/03/2021 à 09/03/2021\")\n",
        "display(vacinadf[primeira_semana & cidade]['paciente_idade'].median())\n",
        "\n",
        "display(\"Moda das idades dos vacinados em Juazeiro de 03/03/2021 à 09/03/2021\")\n",
        "display(vacinadf[primeira_semana & cidade]['paciente_idade'].mode()[0])\n",
        "\n",
        "display(\"Média das idades dos vacinados em Juazeiro de 17/03/2021 à 23/03/2021\")\n",
        "display(vacinadf[segunda_semana & cidade]['paciente_idade'].mean())\n",
        "\n",
        "display(\"Desvio Padrão das idades dos vacinados em Juazeiro de 17/03/2021 à 23/03/2021\")\n",
        "display(vacinadf[segunda_semana & cidade]['paciente_idade'].std())\n",
        "\n",
        "display(\"Mediana das idades dos vacinados em Juazeiro de 17/03/2021 à 23/03/2021\")\n",
        "display(vacinadf[segunda_semana & cidade]['paciente_idade'].median())\n",
        "\n",
        "display(\"Moda das idades dos vacinados em Juazeiro de 17/03/2021 à 23/03/2021\")\n",
        "display(vacinadf[segunda_semana & cidade]['paciente_idade'].mode()[0])"
      ],
      "execution_count": null,
      "outputs": [
        {
          "output_type": "display_data",
          "data": {
            "application/vnd.google.colaboratory.intrinsic+json": {
              "type": "string"
            },
            "text/plain": [
              "'Média das idades dos vacinados em Juazeiro de 03/03/2021 à 09/03/2021'"
            ]
          },
          "metadata": {}
        },
        {
          "output_type": "display_data",
          "data": {
            "text/plain": [
              "75.39640077821012"
            ]
          },
          "metadata": {}
        },
        {
          "output_type": "display_data",
          "data": {
            "application/vnd.google.colaboratory.intrinsic+json": {
              "type": "string"
            },
            "text/plain": [
              "'Desvio Padrão das idades dos vacinados em Juazeiro de 03/03/2021 à 09/03/2021'"
            ]
          },
          "metadata": {}
        },
        {
          "output_type": "display_data",
          "data": {
            "text/plain": [
              "15.970470520468012"
            ]
          },
          "metadata": {}
        },
        {
          "output_type": "display_data",
          "data": {
            "application/vnd.google.colaboratory.intrinsic+json": {
              "type": "string"
            },
            "text/plain": [
              "'Mediana das idades dos vacinados em Juazeiro de 03/03/2021 à 09/03/2021'"
            ]
          },
          "metadata": {}
        },
        {
          "output_type": "display_data",
          "data": {
            "text/plain": [
              "80.0"
            ]
          },
          "metadata": {}
        },
        {
          "output_type": "display_data",
          "data": {
            "application/vnd.google.colaboratory.intrinsic+json": {
              "type": "string"
            },
            "text/plain": [
              "'Moda das idades dos vacinados em Juazeiro de 03/03/2021 à 09/03/2021'"
            ]
          },
          "metadata": {}
        },
        {
          "output_type": "display_data",
          "data": {
            "text/plain": [
              "80"
            ]
          },
          "metadata": {}
        },
        {
          "output_type": "display_data",
          "data": {
            "application/vnd.google.colaboratory.intrinsic+json": {
              "type": "string"
            },
            "text/plain": [
              "'Média das idades dos vacinados em Juazeiro de 17/03/2021 à 23/03/2021'"
            ]
          },
          "metadata": {}
        },
        {
          "output_type": "display_data",
          "data": {
            "text/plain": [
              "67.52301886792453"
            ]
          },
          "metadata": {}
        },
        {
          "output_type": "display_data",
          "data": {
            "application/vnd.google.colaboratory.intrinsic+json": {
              "type": "string"
            },
            "text/plain": [
              "'Desvio Padrão das idades dos vacinados em Juazeiro de 17/03/2021 à 23/03/2021'"
            ]
          },
          "metadata": {}
        },
        {
          "output_type": "display_data",
          "data": {
            "text/plain": [
              "15.304723219094424"
            ]
          },
          "metadata": {}
        },
        {
          "output_type": "display_data",
          "data": {
            "application/vnd.google.colaboratory.intrinsic+json": {
              "type": "string"
            },
            "text/plain": [
              "'Mediana das idades dos vacinados em Juazeiro de 17/03/2021 à 23/03/2021'"
            ]
          },
          "metadata": {}
        },
        {
          "output_type": "display_data",
          "data": {
            "text/plain": [
              "72.0"
            ]
          },
          "metadata": {}
        },
        {
          "output_type": "display_data",
          "data": {
            "application/vnd.google.colaboratory.intrinsic+json": {
              "type": "string"
            },
            "text/plain": [
              "'Moda das idades dos vacinados em Juazeiro de 17/03/2021 à 23/03/2021'"
            ]
          },
          "metadata": {}
        },
        {
          "output_type": "display_data",
          "data": {
            "text/plain": [
              "72"
            ]
          },
          "metadata": {}
        }
      ]
    },
    {
      "cell_type": "markdown",
      "metadata": {
        "id": "oWtEJToTO9Rx"
      },
      "source": [
        "No primeiro período, de 03/03/2021 à 09/03/2021, foram vacinadas em Juazeiro pessoas com idade média um pouco maior que 75 anos, 50% dos vacinados mais jovens tinham até 80 anos, e a maioria dos vacinados tinha 80 anos.\n",
        "\n",
        "No segundo período, 17/03/2021 à 23/03/2021, foram vacinadas em Juazeiro pessoas com idade média um pouco maior que 67 anos, 50% dos vacinados mais jovens tinham até 72 anos, e a maioria dos vacinados tinha 72 anos.\n",
        "\n",
        "No segundo período de tempo, pode ser percebida uma queda nos valores de tendência central, essa queda pode ser explicada pelo fato de o calendário de vacinação seguir uma ordem descrescente de idades."
      ]
    },
    {
      "cell_type": "markdown",
      "metadata": {
        "id": "jcgC1YM_LNib"
      },
      "source": [
        "# 4. Escolha uma cidade, identifique os 15 grupos de atendimento com maior número de vacinados. Escolha dois grupos de atendimento dentre estes. Para cada grupo, faça box-plot das idades em cada grupo divididos conforme raça/cor. O que você observa? Comente."
      ]
    },
    {
      "cell_type": "code",
      "metadata": {
        "id": "ch3pFXFhLNzi",
        "colab": {
          "base_uri": "https://localhost:8080/",
          "height": 532
        },
        "outputId": "e37c4ce0-f59f-41a8-8618-8f89bd90aa69"
      },
      "source": [
        "cidade = (vacinadf['estabelecimento_municipio_nome'] == 'CAMACARI')\n",
        "\n",
        "lista_grupos = vacinadf[cidade].groupby('vacina_grupoAtendimento_nome')\n",
        "lista_grupos = lista_grupos['vacina_grupoAtendimento_nome'].count().reset_index(\n",
        "    name='vacina_grupoAtendimento_quantidade'\n",
        "    ).sort_values('vacina_grupoAtendimento_quantidade', ascending=False)\n",
        "display('Os 15 grupos de atendimento com maior número de vacinados')\n",
        "display(lista_grupos.head(15))"
      ],
      "execution_count": null,
      "outputs": [
        {
          "output_type": "display_data",
          "data": {
            "application/vnd.google.colaboratory.intrinsic+json": {
              "type": "string"
            },
            "text/plain": [
              "'Os 15 grupos de atendimento com maior número de vacinados'"
            ]
          },
          "metadata": {}
        },
        {
          "output_type": "display_data",
          "data": {
            "text/html": [
              "<div>\n",
              "<style scoped>\n",
              "    .dataframe tbody tr th:only-of-type {\n",
              "        vertical-align: middle;\n",
              "    }\n",
              "\n",
              "    .dataframe tbody tr th {\n",
              "        vertical-align: top;\n",
              "    }\n",
              "\n",
              "    .dataframe thead th {\n",
              "        text-align: right;\n",
              "    }\n",
              "</style>\n",
              "<table border=\"1\" class=\"dataframe\">\n",
              "  <thead>\n",
              "    <tr style=\"text-align: right;\">\n",
              "      <th></th>\n",
              "      <th>vacina_grupoAtendimento_nome</th>\n",
              "      <th>vacina_grupoAtendimento_quantidade</th>\n",
              "    </tr>\n",
              "  </thead>\n",
              "  <tbody>\n",
              "    <tr>\n",
              "      <th>20</th>\n",
              "      <td>Pessoas de 80 anos ou mais</td>\n",
              "      <td>2132</td>\n",
              "    </tr>\n",
              "    <tr>\n",
              "      <th>19</th>\n",
              "      <td>Pessoas de 75 a 79 anos</td>\n",
              "      <td>1316</td>\n",
              "    </tr>\n",
              "    <tr>\n",
              "      <th>13</th>\n",
              "      <td>Outros</td>\n",
              "      <td>802</td>\n",
              "    </tr>\n",
              "    <tr>\n",
              "      <th>18</th>\n",
              "      <td>Pessoas de 70 a 74 anos</td>\n",
              "      <td>198</td>\n",
              "    </tr>\n",
              "    <tr>\n",
              "      <th>24</th>\n",
              "      <td>Técnico de Enfermagem</td>\n",
              "      <td>105</td>\n",
              "    </tr>\n",
              "    <tr>\n",
              "      <th>4</th>\n",
              "      <td>Enfermeiro(a)</td>\n",
              "      <td>51</td>\n",
              "    </tr>\n",
              "    <tr>\n",
              "      <th>22</th>\n",
              "      <td>Recepcionista</td>\n",
              "      <td>32</td>\n",
              "    </tr>\n",
              "    <tr>\n",
              "      <th>23</th>\n",
              "      <td>Segurança</td>\n",
              "      <td>29</td>\n",
              "    </tr>\n",
              "    <tr>\n",
              "      <th>9</th>\n",
              "      <td>Médico</td>\n",
              "      <td>24</td>\n",
              "    </tr>\n",
              "    <tr>\n",
              "      <th>3</th>\n",
              "      <td>Cozinheiro e Auxiliares</td>\n",
              "      <td>22</td>\n",
              "    </tr>\n",
              "    <tr>\n",
              "      <th>6</th>\n",
              "      <td>Farmacêutico</td>\n",
              "      <td>22</td>\n",
              "    </tr>\n",
              "    <tr>\n",
              "      <th>14</th>\n",
              "      <td>Pessoal da Limpeza</td>\n",
              "      <td>22</td>\n",
              "    </tr>\n",
              "    <tr>\n",
              "      <th>7</th>\n",
              "      <td>Fisioterapeutas</td>\n",
              "      <td>20</td>\n",
              "    </tr>\n",
              "    <tr>\n",
              "      <th>1</th>\n",
              "      <td>Auxiliar de Enfermagem</td>\n",
              "      <td>18</td>\n",
              "    </tr>\n",
              "    <tr>\n",
              "      <th>8</th>\n",
              "      <td>Motorista de Ambulância</td>\n",
              "      <td>17</td>\n",
              "    </tr>\n",
              "  </tbody>\n",
              "</table>\n",
              "</div>"
            ],
            "text/plain": [
              "   vacina_grupoAtendimento_nome  vacina_grupoAtendimento_quantidade\n",
              "20   Pessoas de 80 anos ou mais                                2132\n",
              "19      Pessoas de 75 a 79 anos                                1316\n",
              "13                       Outros                                 802\n",
              "18      Pessoas de 70 a 74 anos                                 198\n",
              "24        Técnico de Enfermagem                                 105\n",
              "4                 Enfermeiro(a)                                  51\n",
              "22                Recepcionista                                  32\n",
              "23                    Segurança                                  29\n",
              "9                        Médico                                  24\n",
              "3       Cozinheiro e Auxiliares                                  22\n",
              "6                  Farmacêutico                                  22\n",
              "14           Pessoal da Limpeza                                  22\n",
              "7               Fisioterapeutas                                  20\n",
              "1        Auxiliar de Enfermagem                                  18\n",
              "8       Motorista de Ambulância                                  17"
            ]
          },
          "metadata": {}
        }
      ]
    },
    {
      "cell_type": "code",
      "metadata": {
        "colab": {
          "base_uri": "https://localhost:8080/",
          "height": 705
        },
        "id": "dXOflosxQOY5",
        "outputId": "27f23212-30a0-46dc-9628-196dbce99bf4"
      },
      "source": [
        "cidade = (vacinadf['estabelecimento_municipio_nome'] == 'CAMACARI')\n",
        "\n",
        "grupo1 = (vacinadf['vacina_grupoAtendimento_nome'] == 'Pessoas de 80 anos ou mais')\n",
        "grupo2 = (vacinadf['vacina_grupoAtendimento_nome'] == 'Pessoas de 75 a 79 anos')\n",
        "\n",
        "cond_grupo1 = (vacinadf['paciente_idade'] >= 80)\n",
        "cond_grupo2 = (vacinadf['paciente_idade'] >= 75) & (vacinadf['paciente_idade'] < 80)\n",
        "\n",
        "idades1 = vacinadf[cidade & grupo1 & cond_grupo1].boxplot(\n",
        "    column=['paciente_idade'],\n",
        "    by='paciente_racaCor_valor',\n",
        "    vert=False,\n",
        "    figsize=(7,5))\n",
        "idades1.set_ylabel('Raça / Cor')\n",
        "idades1.set_xlabel('Idades')\n",
        "idades1.set_title('Idades, conforme raça/cor, para Pessoas de 80 anos ou mais em Camaçari');\n",
        "idades1.grid(False)\n",
        "\n",
        "idades2 = vacinadf[cidade & grupo2 & cond_grupo2].boxplot(\n",
        "    column=['paciente_idade'],\n",
        "    by='paciente_racaCor_valor',\n",
        "    vert=False,\n",
        "    figsize=(7,5))\n",
        "idades2.set_ylabel('Raça / Cor')\n",
        "idades2.set_xlabel('Idades')\n",
        "idades2.set_title('Idades, conforme raça/cor, para Pessoas de 75 a 79 anos em Camaçari');\n",
        "idades2.grid(False)"
      ],
      "execution_count": null,
      "outputs": [
        {
          "output_type": "display_data",
          "data": {
            "image/png": "[encoded data removed]",
            "text/plain": [
              "<Figure size 504x360 with 1 Axes>"
            ]
          },
          "metadata": {
            "needs_background": "light"
          }
        },
        {
          "output_type": "display_data",
          "data": {
            "image/png": "[encoded data removed]",
            "text/plain": [
              "<Figure size 504x360 with 1 Axes>"
            ]
          },
          "metadata": {
            "needs_background": "light"
          }
        }
      ]
    },
    {
      "cell_type": "markdown",
      "metadata": {
        "id": "L5I3boTXO9wa"
      },
      "source": [
        "Para o grupo de pessoas de 80 anos ou mais em Camaçari, pode ser notado que para os vacinados de 'raça/cor' indígena o boxplot somente aponta a mediana e não possui bigodes, indicando que há apenas 1 vacinado de 'raça/cor' indígena pertencente a esse grupo. Nos demais casos, pouco mais de 50% dos vacinados tinham menos de 85 anos. Para todas as 'raça/cor', exceto a indígena, as idades formaram uma distribuição assimétrica positiva.\n",
        "\n",
        "Para pessoas entre 75 e 79 anos ou mais em Camaçari, pode ser notado que 50% dos vacinados de 'raça/cor' indígena possuíam menos de 77 anos e meio. Nos demais casos, 50% dos vacinados tinham menos de 77 anos. Para todas as 'raça/cor', exceto a branca, as idades formaram uma distribuição normal.\n",
        "\n",
        "Nos dois grupos selecionados, precisou ser adicionada uma condição para eliminar os valores de idade não pertencentes aos grupos."
      ]
    },
    {
      "cell_type": "markdown",
      "metadata": {
        "id": "TvqtFdjFLRMo"
      },
      "source": [
        "# 5. Escolha duas categorias de vacinados e uma cidade, calcule o total de vacinados (1a dose) de cada categoria a cada semana (escolha um dia da semana de referência). Faça um gráfico de barra dos valores semanais de cada categoria. O que você observa? Comente."
      ]
    },
    {
      "cell_type": "code",
      "metadata": {
        "id": "Z3IS-JghLabo",
        "colab": {
          "base_uri": "https://localhost:8080/",
          "height": 350
        },
        "outputId": "62dcf7eb-240d-4958-b775-c0f3d74a4592"
      },
      "source": [
        "cidade = (vacinadf['estabelecimento_municipio_nome'] == 'CAMACARI')\n",
        "\n",
        "categoria1 = (vacinadf['vacina_categoria_nome'] == 'Faixa Etária')\n",
        "categoria2 = (vacinadf['vacina_categoria_nome'] == 'Trabalhadores de Saúde')\n",
        "\n",
        "semana1 = (vacinadf['vacina_dataAplicacao'] >= '2021-03-01') & (vacinadf['vacina_dataAplicacao'] < '2021-03-08')\n",
        "semana2 = (vacinadf['vacina_dataAplicacao'] >= '2021-03-08') & (vacinadf['vacina_dataAplicacao'] < '2021-03-15')\n",
        "semana3 = (vacinadf['vacina_dataAplicacao'] >= '2021-03-15') & (vacinadf['vacina_dataAplicacao'] < '2021-03-22')\n",
        "semana4 = (vacinadf['vacina_dataAplicacao'] >= '2021-03-22') & (vacinadf['vacina_dataAplicacao'] < '2021-03-29')\n",
        "\n",
        "primeira_dose = (vacinadf['vacina_descricao_dose'] == '\\xa0\\xa0\\xa0\\xa01ª\\xa0Dose')\n",
        "\n",
        "fe_s1 = vacinadf[cidade & categoria1 & primeira_dose & semana1].size\n",
        "fe_s2 = vacinadf[cidade & categoria1 & primeira_dose & semana2].size\n",
        "fe_s3 = vacinadf[cidade & categoria1 & primeira_dose & semana3].size\n",
        "fe_s4 = vacinadf[cidade & categoria1 & primeira_dose & semana4].size\n",
        "\n",
        "ts_s1 = vacinadf[cidade & categoria2 & primeira_dose & semana1].size\n",
        "ts_s2 = vacinadf[cidade & categoria2 & primeira_dose & semana2].size\n",
        "ts_s3 = vacinadf[cidade & categoria2 & primeira_dose & semana3].size\n",
        "ts_s4 = vacinadf[cidade & categoria2 & primeira_dose & semana4].size\n",
        "\n",
        "faixa_etaria = [fe_s1, fe_s2, fe_s3, fe_s4]\n",
        "trabalhadores_de_saude = [ts_s1, ts_s2, ts_s3, ts_s4]\n",
        "\n",
        "labels = ['01/03 à 07/03', '08/03 à 14/03', '15/03 à 21/03', '22/03 à 28/03']\n",
        "idades = pd.DataFrame({'Faixa Etária': faixa_etaria,\n",
        "                   'Trabalhadores de Saúde': trabalhadores_de_saude}, index=labels)\n",
        "\n",
        "fig, ax = plt.subplots(figsize=(7,5))\n",
        "idades.plot.bar(ax=ax, rot=0)\n",
        "ax.set_xlabel('Semanas')\n",
        "ax.set_ylabel('Quantidade')\n",
        "ax.set_title('Quantidade de vacinados das duas categorias ao longo das semanas');\n",
        "ax.grid()"
      ],
      "execution_count": null,
      "outputs": [
        {
          "output_type": "display_data",
          "data": {
            "image/png": "[encoded data removed]",
            "text/plain": [
              "<Figure size 504x360 with 1 Axes>"
            ]
          },
          "metadata": {
            "needs_background": "light"
          }
        }
      ]
    },
    {
      "cell_type": "markdown",
      "metadata": {
        "id": "oaNuWbuNO-Cx"
      },
      "source": [
        "Ao longos das semanas, na cidade de Camaçari, foram vacinadas (1a dose) mais pessoas da categoria 'Faixa etária' do que da categoria 'Trabalhadores de saúde'. Como, de acordo com o calendário de vacinação, a vacinação de idosos e de profissionais de saúde ocorreu na primeira fase do plano de vacinação, pode ser concluído que a população de idosos no município de Camaçari é superior à população de trabalhores da saúde."
      ]
    },
    {
      "cell_type": "markdown",
      "metadata": {
        "id": "eu8TEPoeLany"
      },
      "source": [
        "# 6. Escolha uma cidade e um período de 15 dias, faça histogramas sobrepostos da idade dos vacinados (1a dose) por sexo biológico. O que você observa? Comente."
      ]
    },
    {
      "cell_type": "code",
      "metadata": {
        "id": "l6-UuKDyLdLI",
        "colab": {
          "base_uri": "https://localhost:8080/",
          "height": 365
        },
        "outputId": "17cb75fc-6b88-4913-fe60-fd2cb1a9c2c1"
      },
      "source": [
        "cidade = (vacinadf['estabelecimento_municipio_nome'] == 'VITORIA DA CONQUISTA')\n",
        "\n",
        "masculino = (vacinadf['paciente_enumSexoBiologico'] == 'M')\n",
        "feminino = (vacinadf['paciente_enumSexoBiologico'] == 'F')\n",
        "\n",
        "quinzena = (vacinadf['vacina_dataAplicacao'] >= '2021-03-01') & (vacinadf['vacina_dataAplicacao'] < '2021-03-16')\n",
        "\n",
        "primeira_dose = (vacinadf['vacina_descricao_dose'] ==  '\\xa0\\xa0\\xa0\\xa01ª\\xa0Dose')\n",
        "\n",
        "hist_m = vacinadf[cidade & quinzena & masculino & primeira_dose]['paciente_idade']\n",
        "hist_f = vacinadf[cidade & quinzena & feminino & primeira_dose]['paciente_idade']\n",
        "\n",
        "plt.figure(figsize=(7,5))\n",
        "plt.hist(hist_m, bins = 10, alpha=1.0, label='Sexo Masculino')\n",
        "plt.hist(hist_f, bins = 10, alpha=0.3, label='Sexo Feminino')\n",
        "plt.legend(loc='best')\n",
        "plt.title('Quantidade dos vacinados por idade e por sexo biológico na cidade de\\nVitória da Conquista, de 01/03/2021 à 15/03/2021')\n",
        "plt.ylabel('Quantidade de vacinados')\n",
        "plt.xlabel('Idade dos vacinados')\n",
        "plt.grid()\n",
        "plt.show()"
      ],
      "execution_count": null,
      "outputs": [
        {
          "output_type": "display_data",
          "data": {
            "image/png": "[encoded data removed]",
            "text/plain": [
              "<Figure size 504x360 with 1 Axes>"
            ]
          },
          "metadata": {
            "needs_background": "light"
          }
        }
      ]
    },
    {
      "cell_type": "markdown",
      "metadata": {
        "id": "n5ux8vJ0O-cy"
      },
      "source": [
        "Através do histograma acima, pode ser percebido a quantidade de mulheres vacinadas foi superior à quantidade de homens vacinados em Vitória da Conquista, na quinzena de 01/03/2021 à 15/03/2021.\n",
        "\n",
        "Nas faixas de 20 à 70 anos e acima de 90 anos o número não é tão distante, contudo, na faixa dos 80 anos, foram vacinadas cerca de 1000 mulheres a mais que homens.\n",
        "\n",
        "As distribuições de homens e de mulheres vacinados apresentam assimetria negativa, a maior concentração de vacinados se encontra nos maiores valores de idade."
      ]
    },
    {
      "cell_type": "markdown",
      "metadata": {
        "id": "L1u8f1zn5e8V"
      },
      "source": [
        "# 7 Escolha uma categoria de vacinados e duas cidades, considere os vacinados em 1ª dose como a população de interesse. Calcule a média de idade desta população. Faça uma amostragem aleatória de 10% de indivíduos desta população, calcule a média desta amostra. Compare e comente sobre os valores destas médias."
      ]
    },
    {
      "cell_type": "code",
      "metadata": {
        "id": "q50Z4mA75rvs",
        "colab": {
          "base_uri": "https://localhost:8080/",
          "height": 87
        },
        "outputId": "63263458-7549-4b26-a402-f447a84a43ae"
      },
      "source": [
        "cidade1 = (vacinadf['estabelecimento_municipio_nome'] == 'JUAZEIRO')\n",
        "cidade2 = (vacinadf['estabelecimento_municipio_nome'] == 'VITORIA DA CONQUISTA')\n",
        "\n",
        "categoria = (vacinadf['vacina_categoria_nome'] == 'Faixa Etária')\n",
        "\n",
        "primeira_dose = (vacinadf['vacina_descricao_dose'] ==  '\\xa0\\xa0\\xa0\\xa01ª\\xa0Dose')\n",
        "\n",
        "populacao = vacinadf[cidade1 | cidade2 & categoria & primeira_dose]['paciente_idade']\n",
        "amostra10 = populacao.sample(frac = 0.1, replace=False)\n",
        "\n",
        "display('Média de idade dos vacinados em 1ª dose nas cidades de Juazeiro e Vitória da Conquista')\n",
        "display(populacao.mean())\n",
        "\n",
        "display('Média de idade de uma amostragem aleatória de 10% dos vacinados em 1ª dose nas cidades de Juazeiro e Vitória da Conquista')\n",
        "display(amostra10.mean())"
      ],
      "execution_count": null,
      "outputs": [
        {
          "output_type": "display_data",
          "data": {
            "application/vnd.google.colaboratory.intrinsic+json": {
              "type": "string"
            },
            "text/plain": [
              "'Média de idade dos vacinados em 1ª dose nas cidades de Juazeiro e Vitória da Conquista'"
            ]
          },
          "metadata": {}
        },
        {
          "output_type": "display_data",
          "data": {
            "text/plain": [
              "75.80826230143356"
            ]
          },
          "metadata": {}
        },
        {
          "output_type": "display_data",
          "data": {
            "application/vnd.google.colaboratory.intrinsic+json": {
              "type": "string"
            },
            "text/plain": [
              "'Média de idade de uma amostragem aleatória de 10% dos vacinados em 1ª dose nas cidades de Juazeiro e Vitória da Conquista'"
            ]
          },
          "metadata": {}
        },
        {
          "output_type": "display_data",
          "data": {
            "text/plain": [
              "75.71767554479419"
            ]
          },
          "metadata": {}
        }
      ]
    },
    {
      "cell_type": "markdown",
      "metadata": {
        "id": "zFaz93KJ7LeP"
      },
      "source": [
        "A média amostral de 10% da população apresentou valor pouco superior em relação a média populacional, as médias apresentaram valores bem próximos."
      ]
    },
    {
      "cell_type": "markdown",
      "metadata": {
        "id": "VNq4YorL5sC2"
      },
      "source": [
        "#8. Considere a população do item anterior. Faça uma amostragem aleatória de 10% de indivíduos e outra amostragem aleatória de 1% de indivíduos desta população. Calcule a média e o erro padrão da cada amostra. O que você observa? Calcule o intervalo de confiança para 90% para cada amostra. Compare com a média real da população. Comente."
      ]
    },
    {
      "cell_type": "code",
      "metadata": {
        "id": "uLBYepz65sTW",
        "colab": {
          "base_uri": "https://localhost:8080/",
          "height": 262
        },
        "outputId": "3af24f42-0ea6-493c-d0d4-cbb858e95691"
      },
      "source": [
        "cidade1 = (vacinadf['estabelecimento_municipio_nome'] == 'JUAZEIRO')\n",
        "cidade2 = (vacinadf['estabelecimento_municipio_nome'] == 'VITORIA DA CONQUISTA')\n",
        "\n",
        "categoria = (vacinadf['vacina_categoria_nome'] == 'Faixa Etária')\n",
        "\n",
        "primeira_dose = (vacinadf['vacina_descricao_dose'] == '\\xa0\\xa0\\xa0\\xa01ª\\xa0Dose')\n",
        "\n",
        "populacao = vacinadf[cidade1 | cidade2 & categoria & primeira_dose]['paciente_idade']\n",
        "amostra10 = populacao.sample(frac = 0.1, replace=False)\n",
        "amostra1 = populacao.sample(frac = 0.01, replace=False)\n",
        "\n",
        "display('Média de idade dos vacinados em 1ª dose nas cidades de Juazeiro e Vitória da Conquista')\n",
        "display(populacao.mean())\n",
        "\n",
        "display('Média de idade de uma amostragem aleatória de 10% dos vacinados em 1ª dose nas cidades de Juazeiro e Vitória da Conquista')\n",
        "media10 = amostra10.mean()\n",
        "display(media10)\n",
        "\n",
        "display('Erro padrão de idade de uma amostragem aleatória de 10% dos vacinados em 1ª dose nas cidades de Juazeiro e Vitória da Conquista')\n",
        "erro_padrao10 = amostra10.sem()\n",
        "display(erro_padrao10)\n",
        "\n",
        "display('Média de idade de uma amostragem aleatória de 1% dos vacinados em 1ª dose nas cidades de Juazeiro e Vitória da Conquista')\n",
        "media1 = amostra1.mean()\n",
        "display(media1)\n",
        "\n",
        "display('Erro padrão de idade de uma amostragem aleatória de 1% dos vacinados em 1ª dose nas cidades de Juazeiro e Vitória da Conquista')\n",
        "erro_padrao1 = amostra1.sem()\n",
        "display(erro_padrao1)\n",
        "\n",
        "intervalo10 = st.t.interval(0.90, amostra10.size - 1, loc=media10, scale=erro_padrao10)\n",
        "intervalo1 = st.t.interval(0.90, amostra1.size - 1, loc=media1, scale=erro_padrao1)\n",
        "\n",
        "display('Intervalo de confiança de 90% para a média das idades da amostragem de 10% dos vacinados em 1ª dose nas cidades de Juazeiro e Vitória da Conquista')\n",
        "display(intervalo10)\n",
        "\n",
        "display('Intervalo de confiança de 90% para a média das idades da amostragem de 1% dos vacinados em 1ª dose nas cidades de Juazeiro e Vitória da Conquista')\n",
        "display(intervalo1)"
      ],
      "execution_count": null,
      "outputs": [
        {
          "output_type": "display_data",
          "data": {
            "application/vnd.google.colaboratory.intrinsic+json": {
              "type": "string"
            },
            "text/plain": [
              "'Média de idade dos vacinados em 1ª dose nas cidades de Juazeiro e Vitória da Conquista'"
            ]
          },
          "metadata": {}
        },
        {
          "output_type": "display_data",
          "data": {
            "text/plain": [
              "75.80826230143356"
            ]
          },
          "metadata": {}
        },
        {
          "output_type": "display_data",
          "data": {
            "application/vnd.google.colaboratory.intrinsic+json": {
              "type": "string"
            },
            "text/plain": [
              "'Média de idade de uma amostragem aleatória de 10% dos vacinados em 1ª dose nas cidades de Juazeiro e Vitória da Conquista'"
            ]
          },
          "metadata": {}
        },
        {
          "output_type": "display_data",
          "data": {
            "text/plain": [
              "75.63970944309928"
            ]
          },
          "metadata": {}
        },
        {
          "output_type": "display_data",
          "data": {
            "application/vnd.google.colaboratory.intrinsic+json": {
              "type": "string"
            },
            "text/plain": [
              "'Erro padrão de idade de uma amostragem aleatória de 10% dos vacinados em 1ª dose nas cidades de Juazeiro e Vitória da Conquista'"
            ]
          },
          "metadata": {}
        },
        {
          "output_type": "display_data",
          "data": {
            "text/plain": [
              "0.23118925804150656"
            ]
          },
          "metadata": {}
        },
        {
          "output_type": "display_data",
          "data": {
            "application/vnd.google.colaboratory.intrinsic+json": {
              "type": "string"
            },
            "text/plain": [
              "'Média de idade de uma amostragem aleatória de 1% dos vacinados em 1ª dose nas cidades de Juazeiro e Vitória da Conquista'"
            ]
          },
          "metadata": {}
        },
        {
          "output_type": "display_data",
          "data": {
            "text/plain": [
              "73.13592233009709"
            ]
          },
          "metadata": {}
        },
        {
          "output_type": "display_data",
          "data": {
            "application/vnd.google.colaboratory.intrinsic+json": {
              "type": "string"
            },
            "text/plain": [
              "'Erro padrão de idade de uma amostragem aleatória de 1% dos vacinados em 1ª dose nas cidades de Juazeiro e Vitória da Conquista'"
            ]
          },
          "metadata": {}
        },
        {
          "output_type": "display_data",
          "data": {
            "text/plain": [
              "0.8517396521892523"
            ]
          },
          "metadata": {}
        },
        {
          "output_type": "display_data",
          "data": {
            "application/vnd.google.colaboratory.intrinsic+json": {
              "type": "string"
            },
            "text/plain": [
              "'Intervalo de confiança de 90% para a média das idades da amostragem de 10% dos vacinados em 1ª dose nas cidades de Juazeiro e Vitória da Conquista'"
            ]
          },
          "metadata": {}
        },
        {
          "output_type": "display_data",
          "data": {
            "text/plain": [
              "(75.25926619856078, 76.02015268763778)"
            ]
          },
          "metadata": {}
        },
        {
          "output_type": "display_data",
          "data": {
            "application/vnd.google.colaboratory.intrinsic+json": {
              "type": "string"
            },
            "text/plain": [
              "'Intervalo de confiança de 90% para a média das idades da amostragem de 1% dos vacinados em 1ª dose nas cidades de Juazeiro e Vitória da Conquista'"
            ]
          },
          "metadata": {}
        },
        {
          "output_type": "display_data",
          "data": {
            "text/plain": [
              "(71.72857539461857, 74.5432692655756)"
            ]
          },
          "metadata": {}
        }
      ]
    },
    {
      "cell_type": "markdown",
      "metadata": {
        "id": "sEIjjgaM7MMD"
      },
      "source": [
        "Em relação às médias das amostras, os valores se aproximaram da média populacional. Além disso, pode ser percebido que a amostra de 1% teve valor do erro padrão superior ao da amostra de 10%, isso acontece porque quanto maior a quantidade de indivíduos em uma amostra, maior a probalidade dela representar a população.\n",
        "\n",
        "Considerando uma amostragem de 10% da população, com 90% de confiança, pode ser dito que a média populacional das idades está entre 75.24099974494007 e 76.01517458920037.\n",
        "\n",
        "Considerando uma amostragem de 1% da população, com 90% de confiança, pode ser dito que a média populacional das idades está entre 75.5451590493435 e 77.9305691059963.\n",
        "\n",
        "Em ambas amostragens, o valor real da média populacional pertence ao intervalo de confiança obtido. Pode ser afirmado que as amostragens foram representativas em relação a população."
      ]
    },
    {
      "cell_type": "markdown",
      "metadata": {
        "id": "KffIxxcJ07Z8"
      },
      "source": [
        "# 9. Escolha três categorias de vacinados e uma cidade, faça a tabela de contingência de vacinação em 1a dose entre estas categorias e o atributo raça/cor. O que você observa? Comente."
      ]
    },
    {
      "cell_type": "code",
      "metadata": {
        "id": "NOlnUSEa1Bv7",
        "colab": {
          "base_uri": "https://localhost:8080/",
          "height": 204
        },
        "outputId": "976c8848-a403-420d-917a-f28dc47122d3"
      },
      "source": [
        "cidade = (vacinadf['estabelecimento_municipio_nome'] == 'JUAZEIRO')\n",
        "\n",
        "categoria1 = (vacinadf['vacina_categoria_nome'] == 'Faixa Etária')\n",
        "categoria2 = (vacinadf['vacina_categoria_nome'] == 'Trabalhadores de Saúde')\n",
        "categoria3 = (vacinadf['vacina_categoria_nome'] == 'Comorbidades')\n",
        "categorias = (categoria1 | categoria2 | categoria3)\n",
        "\n",
        "primeira_dose = (vacinadf['vacina_descricao_dose'] == '\\xa0\\xa0\\xa0\\xa01ª\\xa0Dose')\n",
        "\n",
        "dados_tabela = vacinadf[categorias & cidade & primeira_dose]\n",
        "\n",
        "pd.crosstab(dados_tabela['vacina_categoria_nome'], dados_tabela['paciente_racaCor_valor'], margins=True, margins_name = 'Total')"
      ],
      "execution_count": null,
      "outputs": [
        {
          "output_type": "execute_result",
          "data": {
            "text/html": [
              "<div>\n",
              "<style scoped>\n",
              "    .dataframe tbody tr th:only-of-type {\n",
              "        vertical-align: middle;\n",
              "    }\n",
              "\n",
              "    .dataframe tbody tr th {\n",
              "        vertical-align: top;\n",
              "    }\n",
              "\n",
              "    .dataframe thead th {\n",
              "        text-align: right;\n",
              "    }\n",
              "</style>\n",
              "<table border=\"1\" class=\"dataframe\">\n",
              "  <thead>\n",
              "    <tr style=\"text-align: right;\">\n",
              "      <th>paciente_racaCor_valor</th>\n",
              "      <th>AMARELA</th>\n",
              "      <th>BRANCA</th>\n",
              "      <th>INDIGENA</th>\n",
              "      <th>PARDA</th>\n",
              "      <th>PRETA</th>\n",
              "      <th>SEM INFORMACAO</th>\n",
              "      <th>Total</th>\n",
              "    </tr>\n",
              "    <tr>\n",
              "      <th>vacina_categoria_nome</th>\n",
              "      <th></th>\n",
              "      <th></th>\n",
              "      <th></th>\n",
              "      <th></th>\n",
              "      <th></th>\n",
              "      <th></th>\n",
              "      <th></th>\n",
              "    </tr>\n",
              "  </thead>\n",
              "  <tbody>\n",
              "    <tr>\n",
              "      <th>Comorbidades</th>\n",
              "      <td>45</td>\n",
              "      <td>15</td>\n",
              "      <td>1</td>\n",
              "      <td>43</td>\n",
              "      <td>6</td>\n",
              "      <td>22</td>\n",
              "      <td>132</td>\n",
              "    </tr>\n",
              "    <tr>\n",
              "      <th>Faixa Etária</th>\n",
              "      <td>1871</td>\n",
              "      <td>864</td>\n",
              "      <td>12</td>\n",
              "      <td>1672</td>\n",
              "      <td>399</td>\n",
              "      <td>1249</td>\n",
              "      <td>6067</td>\n",
              "    </tr>\n",
              "    <tr>\n",
              "      <th>Trabalhadores de Saúde</th>\n",
              "      <td>191</td>\n",
              "      <td>111</td>\n",
              "      <td>0</td>\n",
              "      <td>197</td>\n",
              "      <td>21</td>\n",
              "      <td>191</td>\n",
              "      <td>711</td>\n",
              "    </tr>\n",
              "    <tr>\n",
              "      <th>Total</th>\n",
              "      <td>2107</td>\n",
              "      <td>990</td>\n",
              "      <td>13</td>\n",
              "      <td>1912</td>\n",
              "      <td>426</td>\n",
              "      <td>1462</td>\n",
              "      <td>6910</td>\n",
              "    </tr>\n",
              "  </tbody>\n",
              "</table>\n",
              "</div>"
            ],
            "text/plain": [
              "paciente_racaCor_valor  AMARELA  BRANCA  INDIGENA  ...  PRETA  SEM INFORMACAO  Total\n",
              "vacina_categoria_nome                              ...                              \n",
              "Comorbidades                 45      15         1  ...      6              22    132\n",
              "Faixa Etária               1871     864        12  ...    399            1249   6067\n",
              "Trabalhadores de Saúde      191     111         0  ...     21             191    711\n",
              "Total                      2107     990        13  ...    426            1462   6910\n",
              "\n",
              "[4 rows x 7 columns]"
            ]
          },
          "metadata": {},
          "execution_count": 12
        }
      ]
    },
    {
      "cell_type": "markdown",
      "metadata": {
        "id": "SSow0pgq1CPS"
      },
      "source": [
        "Através da tabela de contingência, pode ser observado que na cidade de Juazeiro, a grande maioria dos vacinados pertence a categoria 'Faixa Etária', dentro dessa categoria, pessoas de raça/cor amarela foram maioria. Dentre os 'Trabalhadores de Saúde', pode ser visto que não haviam indígenas, e apenas 21 eram de raça/cor preta. Nas três categorias consideradas, o menor número de vacinados foram as pessoas de raça/cor indígena."
      ]
    },
    {
      "cell_type": "markdown",
      "metadata": {
        "id": "GWLV0xLG1KgA"
      },
      "source": [
        "# 10. Escolha uma categoria de vacinados e duas cidades, obtenha o total diário de vacinados em 1a dose desta categoria para cada cidade. Faça um gráfico de dispersão de total de vacinados em uma cidade vs outra cidade. Calcule o coeficiente de correlação de Pearson e obtenha o modelo de regressão linear. Comente sobre o gráfico e os resultados."
      ]
    },
    {
      "cell_type": "code",
      "metadata": {
        "id": "jjfyhBGq1Pey",
        "colab": {
          "base_uri": "https://localhost:8080/",
          "height": 816
        },
        "outputId": "5cd9e1a5-e507-41a5-ecb8-53665043edb0"
      },
      "source": [
        "categoria = (vacinadf['vacina_categoria_nome'] == 'Faixa Etária')\n",
        "\n",
        "cidade1 = (vacinadf['estabelecimento_municipio_nome'] == 'CAMACARI')\n",
        "cidade2 = (vacinadf['estabelecimento_municipio_nome'] == 'FEIRA DE SANTANA')\n",
        "\n",
        "primeira_dose = (vacinadf['vacina_descricao_dose'] == '\\xa0\\xa0\\xa0\\xa01ª\\xa0Dose')\n",
        "\n",
        "diariamente = [pd.Grouper(key='vacina_dataAplicacao', freq='D')]\n",
        "\n",
        "vacinados_diariamente_cidade1 = vacinadf[cidade1 & categoria & primeira_dose].groupby(diariamente)\n",
        "vacinados_diariamente_cidade1 = vacinados_diariamente_cidade1['vacina_dataAplicacao'].count().reset_index(\n",
        "    name='vacina_dataAplicacao_quantidade'\n",
        "    ).sort_values('vacina_dataAplicacao', ascending=True)\n",
        "\n",
        "vacinados_diariamente_cidade2 = vacinadf[cidade2 & categoria & primeira_dose].groupby(diariamente)\n",
        "vacinados_diariamente_cidade2 = vacinados_diariamente_cidade2['vacina_dataAplicacao'].count().reset_index(\n",
        "    name='vacina_dataAplicacao_quantidade'\n",
        "    ).sort_values('vacina_dataAplicacao', ascending=True)\n",
        "\n",
        "plt.figure(figsize=(7,5))\n",
        "plt.scatter(x=vacinados_diariamente_cidade1['vacina_dataAplicacao'],\n",
        "            y=vacinados_diariamente_cidade1['vacina_dataAplicacao_quantidade'],\n",
        "            c='b',\n",
        "            label='Camaçari')\n",
        "plt.scatter(x=vacinados_diariamente_cidade2['vacina_dataAplicacao'],\n",
        "            y=vacinados_diariamente_cidade2['vacina_dataAplicacao_quantidade'],\n",
        "            c='r', label='Feira de Santana')\n",
        "plt.legend(loc='best')\n",
        "plt.title('Quantidade dos vacinados x Data de Aplicação da Vacina')\n",
        "plt.ylabel('Quantidade de vacinados')\n",
        "plt.xlabel('Data de aplicação')\n",
        "plt.grid()\n",
        "plt.show()\n",
        "\n",
        "vacinados_diariamente = pd.DataFrame({\n",
        "    'CAMACARI': vacinados_diariamente_cidade1['vacina_dataAplicacao_quantidade'],\n",
        "    'FEIRA DE SANTANA': vacinados_diariamente_cidade2['vacina_dataAplicacao_quantidade']\n",
        "})\n",
        "vacinados_diariamente = vacinados_diariamente.fillna(0)\n",
        "\n",
        "print('')\n",
        "display('Coeficiente de correlação de Pearson entre os vacinados diariamente em Camaçari e Feira de Santana')\n",
        "display(vacinados_diariamente.corr(method='pearson'))\n",
        "\n",
        "X = vacinados_diariamente['CAMACARI'].values.reshape(-1, 1)\n",
        "Y = vacinados_diariamente['FEIRA DE SANTANA'].values.reshape(-1, 1)\n",
        "\n",
        "reg = LinearRegression().fit(X, Y)\n",
        "Y_pred = reg.predict(X)\n",
        "\n",
        "print('')\n",
        "print('a=', reg.coef_, 'b=', reg.intercept_)\n",
        "\n",
        "plt.figure(figsize=(7,5))\n",
        "plt.scatter(x=X, y=Y, c='r')\n",
        "plt.plot(X, Y_pred, c='b')\n",
        "plt.grid()\n",
        "plt.show()"
      ],
      "execution_count": null,
      "outputs": [
        {
          "output_type": "display_data",
          "data": {
            "image/png": "[encoded data removed]",
            "text/plain": [
              "<Figure size 504x360 with 1 Axes>"
            ]
          },
          "metadata": {
            "needs_background": "light"
          }
        },
        {
          "output_type": "stream",
          "name": "stdout",
          "text": [
            "\n"
          ]
        },
        {
          "output_type": "display_data",
          "data": {
            "application/vnd.google.colaboratory.intrinsic+json": {
              "type": "string"
            },
            "text/plain": [
              "'Coeficiente de correlação de Pearson entre os vacinados diariamente em Camaçari e Feira de Santana'"
            ]
          },
          "metadata": {}
        },
        {
          "output_type": "display_data",
          "data": {
            "text/html": [
              "<div>\n",
              "<style scoped>\n",
              "    .dataframe tbody tr th:only-of-type {\n",
              "        vertical-align: middle;\n",
              "    }\n",
              "\n",
              "    .dataframe tbody tr th {\n",
              "        vertical-align: top;\n",
              "    }\n",
              "\n",
              "    .dataframe thead th {\n",
              "        text-align: right;\n",
              "    }\n",
              "</style>\n",
              "<table border=\"1\" class=\"dataframe\">\n",
              "  <thead>\n",
              "    <tr style=\"text-align: right;\">\n",
              "      <th></th>\n",
              "      <th>CAMACARI</th>\n",
              "      <th>FEIRA DE SANTANA</th>\n",
              "    </tr>\n",
              "  </thead>\n",
              "  <tbody>\n",
              "    <tr>\n",
              "      <th>CAMACARI</th>\n",
              "      <td>1.000000</td>\n",
              "      <td>-0.317508</td>\n",
              "    </tr>\n",
              "    <tr>\n",
              "      <th>FEIRA DE SANTANA</th>\n",
              "      <td>-0.317508</td>\n",
              "      <td>1.000000</td>\n",
              "    </tr>\n",
              "  </tbody>\n",
              "</table>\n",
              "</div>"
            ],
            "text/plain": [
              "                  CAMACARI  FEIRA DE SANTANA\n",
              "CAMACARI          1.000000         -0.317508\n",
              "FEIRA DE SANTANA -0.317508          1.000000"
            ]
          },
          "metadata": {}
        },
        {
          "output_type": "stream",
          "name": "stdout",
          "text": [
            "\n",
            "a= [[-1.83699116]] b= [565.15040408]\n"
          ]
        },
        {
          "output_type": "display_data",
          "data": {
            "image/png": "[encoded data removed]",
            "text/plain": [
              "<Figure size 504x360 with 1 Axes>"
            ]
          },
          "metadata": {
            "needs_background": "light"
          }
        }
      ]
    },
    {
      "cell_type": "markdown",
      "metadata": {
        "id": "upSUHJNc1P5G"
      },
      "source": [
        "O coeficiente de correlação Pearson igual a -0.317508 indica uma correlação negativa fraca entre a quantidade de vacinados diariamente em Camaçari e em Feira de Santana.\n",
        "\n",
        "Baseado na regressão linear, a fraca correlação pode ser confirmada, a reta de regressão obtida y = -1.83699116x + 565.15040408, uma reta decrescente e com inclinação relativamente pequena.\n",
        "\n",
        "Pode ser concluído que o a quantidade de vacinados diariamente em Camaçari não tem influência na quantidade de vacinados diariamente em Feira de Santana."
      ]
    },
    {
      "cell_type": "markdown",
      "metadata": {
        "id": "jMWMQtLQ1RK7"
      },
      "source": [
        "#11. Selecione uma semana específica e uma categoria (Faixa Etária ou Trabalhadores de Saúde), escolha duas cidades e obtenha as idades dos vacinados em 1a dose em cada. Verifique a hipótese da média de idades entre as cidades serem diferentes. Explique seus passos e conclusão."
      ]
    },
    {
      "cell_type": "code",
      "metadata": {
        "id": "byAV3g9_1Z7O",
        "colab": {
          "base_uri": "https://localhost:8080/",
          "height": 247
        },
        "outputId": "2b5b5dbb-dd31-48af-d8b2-b0c0a23c5aab"
      },
      "source": [
        "semana = (vacinadf['vacina_dataAplicacao'] >= '2021-03-01') & (vacinadf['vacina_dataAplicacao'] < '2021-03-08')\n",
        "\n",
        "categoria = (vacinadf['vacina_categoria_nome'] == 'Faixa Etária')\n",
        "\n",
        "cidade1 = (vacinadf['estabelecimento_municipio_nome'] == 'JUAZEIRO')\n",
        "cidade2 = (vacinadf['estabelecimento_municipio_nome'] == 'VITORIA DA CONQUISTA')\n",
        "\n",
        "primeira_dose = (vacinadf['vacina_descricao_dose'] == '\\xa0\\xa0\\xa0\\xa01ª\\xa0Dose')\n",
        "\n",
        "idades_cidade1 = vacinadf[semana & cidade1 & categoria & primeira_dose]['paciente_idade']\n",
        "idades_cidade2 = vacinadf[semana & cidade2 & categoria & primeira_dose]['paciente_idade']\n",
        "\n",
        "display('Quantidade dos vacinados da categoria \\'Faixa Etária\\' em Juazeiro, na semana de 01/03/2021 à 07/03/2021')\n",
        "display(idades_cidade1.size)\n",
        "\n",
        "display('Média de idade dos vacinados da categoria \\'Faixa Etária\\' em Juazeiro, na semana de 01/03/2021 à 07/03/2021')\n",
        "display(idades_cidade1.mean())\n",
        "\n",
        "display('Quantidade dos vacinados da categoria \\'Faixa Etária\\' em Vitória da Conquista, na semana de 01/03/2021 à 07/03/2021')\n",
        "display(idades_cidade2.size)\n",
        "\n",
        "display('Média de idade dos vacinados da categoria \\'Faixa Etária\\' em Vitória da Conquista, na semana de 01/03/2021 à 07/03/2021')\n",
        "display(idades_cidade2.mean())\n",
        "\n",
        "z_test, p_val = stests.ztest(x1=idades_cidade1, x2=idades_cidade2, value=0, alternative='two-sided')\n",
        "\n",
        "display('z_test = '+ str(float(z_test)))\n",
        "display('p_val = '+ str(float(p_val)))\n",
        "\n",
        "display('A média de idade dos vacinados da categoria \\'Faixa Etária\\' em Juazeiro e Vitória da Conquista, na semana')\n",
        "display('de 01/03/2021 à 07/03/2021, são iguais (diferença zero)?')\n",
        "if p_val < 0.1:\n",
        "  display('rejeite a hipótese nula')\n",
        "else:\n",
        "  display('rejeite a hipótese alternativa')"
      ],
      "execution_count": null,
      "outputs": [
        {
          "output_type": "display_data",
          "data": {
            "application/vnd.google.colaboratory.intrinsic+json": {
              "type": "string"
            },
            "text/plain": [
              "\"Quantidade dos vacinados da categoria 'Faixa Etária' em Juazeiro, na semana de 01/03/2021 à 07/03/2021\""
            ]
          },
          "metadata": {}
        },
        {
          "output_type": "display_data",
          "data": {
            "text/plain": [
              "1234"
            ]
          },
          "metadata": {}
        },
        {
          "output_type": "display_data",
          "data": {
            "application/vnd.google.colaboratory.intrinsic+json": {
              "type": "string"
            },
            "text/plain": [
              "\"Média de idade dos vacinados da categoria 'Faixa Etária' em Juazeiro, na semana de 01/03/2021 à 07/03/2021\""
            ]
          },
          "metadata": {}
        },
        {
          "output_type": "display_data",
          "data": {
            "text/plain": [
              "80.65559157212317"
            ]
          },
          "metadata": {}
        },
        {
          "output_type": "display_data",
          "data": {
            "application/vnd.google.colaboratory.intrinsic+json": {
              "type": "string"
            },
            "text/plain": [
              "\"Quantidade dos vacinados da categoria 'Faixa Etária' em Vitória da Conquista, na semana de 01/03/2021 à 07/03/2021\""
            ]
          },
          "metadata": {}
        },
        {
          "output_type": "display_data",
          "data": {
            "text/plain": [
              "3142"
            ]
          },
          "metadata": {}
        },
        {
          "output_type": "display_data",
          "data": {
            "application/vnd.google.colaboratory.intrinsic+json": {
              "type": "string"
            },
            "text/plain": [
              "\"Média de idade dos vacinados da categoria 'Faixa Etária' em Vitória da Conquista, na semana de 01/03/2021 à 07/03/2021\""
            ]
          },
          "metadata": {}
        },
        {
          "output_type": "display_data",
          "data": {
            "text/plain": [
              "82.58402291534055"
            ]
          },
          "metadata": {}
        },
        {
          "output_type": "display_data",
          "data": {
            "application/vnd.google.colaboratory.intrinsic+json": {
              "type": "string"
            },
            "text/plain": [
              "'z_test = -15.06747481975855'"
            ]
          },
          "metadata": {}
        },
        {
          "output_type": "display_data",
          "data": {
            "application/vnd.google.colaboratory.intrinsic+json": {
              "type": "string"
            },
            "text/plain": [
              "'p_val = 2.6505150702799182e-51'"
            ]
          },
          "metadata": {}
        },
        {
          "output_type": "display_data",
          "data": {
            "application/vnd.google.colaboratory.intrinsic+json": {
              "type": "string"
            },
            "text/plain": [
              "\"A média de idade dos vacinados da categoria 'Faixa Etária' em Juazeiro e Vitória da Conquista, na semana\""
            ]
          },
          "metadata": {}
        },
        {
          "output_type": "display_data",
          "data": {
            "application/vnd.google.colaboratory.intrinsic+json": {
              "type": "string"
            },
            "text/plain": [
              "'de 01/03/2021 à 07/03/2021, são iguais (diferença zero)?'"
            ]
          },
          "metadata": {}
        },
        {
          "output_type": "display_data",
          "data": {
            "application/vnd.google.colaboratory.intrinsic+json": {
              "type": "string"
            },
            "text/plain": [
              "'rejeite a hipótese nula'"
            ]
          },
          "metadata": {}
        }
      ]
    },
    {
      "cell_type": "markdown",
      "metadata": {
        "id": "egx8Ioa51aR8"
      },
      "source": [
        "Hipótese nula: A média de idade dos vacinados da categoria 'Faixa Etária' em Juazeiro e Vitória da Conquista, na semana de 01/03/2021 à 07/03/2021, são iguais.\n",
        "\n",
        "Hipótese alternativa: A média de idade dos vacinados da categoria 'Faixa Etária' em Juazeiro e Vitória da Conquista, na semana de 01/03/2021 à 07/03/2021, são diferentes\n",
        "\n",
        "Baseado nessas hipóteses e considerando as médias populacionais, foi adotado o teste bilateral. Foi escolhido 0,1 (10%) como nível de signifcância.\n",
        "\n",
        "Utilização do teste Z como estatística de teste, os dados da população foram considerados para a situação.\n",
        "\n",
        "Depois de aplicar o teste de hipótese, pode ser verificado um p_val menor que o nível de significância, implicando na decisão de rejeição da Hipótese nula, das médias serem iguais.\n",
        "\n",
        "Consequentemente, a decisão é a de aceitar a Hipótese alternativa, de que as médias são diferentes."
      ]
    }
  ]
}