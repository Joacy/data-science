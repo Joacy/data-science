{
  "nbformat": 4,
  "nbformat_minor": 0,
  "metadata": {
    "colab": {
      "name": "PGCC009_Atividade2_Joacy.ipynb",
      "provenance": []
    },
    "kernelspec": {
      "name": "python3",
      "display_name": "Python 3"
    },
    "language_info": {
      "name": "python"
    }
  },
  "cells": [
    {
      "cell_type": "markdown",
      "metadata": {
        "id": "tg4uX2eaHtId"
      },
      "source": [
        "\n",
        " **PGCC009 Ciência de Dados e Aprendizado de Máquina<br>\n",
        "Atividade 2**\n",
        "\n",
        "Para esta atividade vamos usar uma base disponibilizada pela iniciativa Dados Abertos de Feira (https://www.dadosabertosdefeira.com.br/) com dados de Assiduidade dos vereadores pelo painel eletrônico da Câmara de Vereadores de Feira de Santana, e podem ser acessados em https://www.kaggle.com/dadosabertosdefeira/assiduidade-dos-vereadores-painel-eletronico\n",
        "\n",
        "Foram disponibilizados dados no formato texto original e também em JSON, obtidos por script que extraiu e estruturou a informações. Com base no JSON, foi extraído um CSV  (código disponível em https://www.kaggle.com/dadosabertosdefeira/assiduidade-dos-vereadores-painel-eletronico/code)"
      ]
    },
    {
      "cell_type": "code",
      "metadata": {
        "id": "OLT5mAGugq6v"
      },
      "source": [
        "import warnings\n",
        "warnings.filterwarnings(\"ignore\")"
      ],
      "execution_count": null,
      "outputs": []
    },
    {
      "cell_type": "code",
      "metadata": {
        "id": "g98hEeexHnGU"
      },
      "source": [
        "import pandas as pd\n",
        "import numpy as np\n",
        "import matplotlib.pyplot as plt\n",
        "from matplotlib.pyplot import figure\n",
        "\n",
        "import scipy.stats as st\n",
        "from statsmodels.stats import weightstats as stests\n",
        "from sklearn.linear_model import LinearRegression\n",
        "\n",
        "from IPython.display import display, HTML\n",
        "\n",
        "import urllib.request\n",
        "\n",
        "opener = urllib.request.build_opener()\n",
        "opener.addheaders = [('User-agent', 'Mozilla/5.0 (Windows NT 10.0; Win64; x64) AppleWebKit/537.36 (KHTML, like Gecko) Chrome/83.0.4103.61 Safari/537.36')]\n",
        "urllib.request.install_opener(opener)\n",
        "\n",
        "url = \"http://aulas.artificial.eng.br/Home/pgcc009/AssiduidadeVereadoresFeiradeSantana-DadosAbertosdeFeira.csv.zip\"\n",
        "urllib.request.urlretrieve (url, \"assiduidade.csv.zip\")\n",
        "\n",
        "paineldf = pd.read_csv(\"assiduidade.csv.zip\",index_col=False, compression='zip')\n",
        "\n",
        "paineldf['date']= pd.to_datetime(paineldf['date'], format='%d/%m/%Y')\n",
        "\n",
        "import datetime"
      ],
      "execution_count": null,
      "outputs": []
    },
    {
      "cell_type": "code",
      "metadata": {
        "colab": {
          "base_uri": "https://localhost:8080/",
          "height": 231
        },
        "id": "YoXV2wFwLS0P",
        "outputId": "77c7e37c-2cc2-47ff-e420-d66ac6c5bc16"
      },
      "source": [
        "display(\"DIMENSOES\",paineldf.shape)\n",
        "\n",
        "display(paineldf.head(2))"
      ],
      "execution_count": null,
      "outputs": [
        {
          "output_type": "display_data",
          "data": {
            "application/vnd.google.colaboratory.intrinsic+json": {
              "type": "string"
            },
            "text/plain": [
              "'DIMENSOES'"
            ]
          },
          "metadata": {}
        },
        {
          "output_type": "display_data",
          "data": {
            "text/plain": [
              "(15195, 11)"
            ]
          },
          "metadata": {}
        },
        {
          "output_type": "display_data",
          "data": {
            "text/html": [
              "<div>\n",
              "<style scoped>\n",
              "    .dataframe tbody tr th:only-of-type {\n",
              "        vertical-align: middle;\n",
              "    }\n",
              "\n",
              "    .dataframe tbody tr th {\n",
              "        vertical-align: top;\n",
              "    }\n",
              "\n",
              "    .dataframe thead th {\n",
              "        text-align: right;\n",
              "    }\n",
              "</style>\n",
              "<table border=\"1\" class=\"dataframe\">\n",
              "  <thead>\n",
              "    <tr style=\"text-align: right;\">\n",
              "      <th></th>\n",
              "      <th>Unnamed: 0</th>\n",
              "      <th>agency</th>\n",
              "      <th>report</th>\n",
              "      <th>session</th>\n",
              "      <th>date</th>\n",
              "      <th>report_generated_by</th>\n",
              "      <th>report_generated_at</th>\n",
              "      <th>name</th>\n",
              "      <th>party</th>\n",
              "      <th>text</th>\n",
              "      <th>attendance</th>\n",
              "    </tr>\n",
              "  </thead>\n",
              "  <tbody>\n",
              "    <tr>\n",
              "      <th>0</th>\n",
              "      <td>0</td>\n",
              "      <td>Câmara Municipal de Ferira de Santana</td>\n",
              "      <td>Relatório de Presenças por Reunião</td>\n",
              "      <td>35ª SESSÃO ORDINÁRIA</td>\n",
              "      <td>2020-06-01</td>\n",
              "      <td>Yago Shamady</td>\n",
              "      <td>03/06/2020 10:59</td>\n",
              "      <td>ALBERTO NERY</td>\n",
              "      <td>PT</td>\n",
              "      <td>NaN</td>\n",
              "      <td>attending</td>\n",
              "    </tr>\n",
              "    <tr>\n",
              "      <th>1</th>\n",
              "      <td>1</td>\n",
              "      <td>Câmara Municipal de Ferira de Santana</td>\n",
              "      <td>Relatório de Presenças por Reunião</td>\n",
              "      <td>35ª SESSÃO ORDINÁRIA</td>\n",
              "      <td>2020-06-01</td>\n",
              "      <td>Yago Shamady</td>\n",
              "      <td>03/06/2020 10:59</td>\n",
              "      <td>CADMIEL PEREIRA</td>\n",
              "      <td>DEM</td>\n",
              "      <td>NaN</td>\n",
              "      <td>attending</td>\n",
              "    </tr>\n",
              "  </tbody>\n",
              "</table>\n",
              "</div>"
            ],
            "text/plain": [
              "   Unnamed: 0                                 agency  ... text attendance\n",
              "0           0  Câmara Municipal de Ferira de Santana  ...  NaN  attending\n",
              "1           1  Câmara Municipal de Ferira de Santana  ...  NaN  attending\n",
              "\n",
              "[2 rows x 11 columns]"
            ]
          },
          "metadata": {}
        }
      ]
    },
    {
      "cell_type": "markdown",
      "metadata": {
        "id": "Z5PR2AUZV649"
      },
      "source": [
        "O conjunto de dados de Assiduidade dos vereadores pelo painel eletrônico tem 15195 registros e 11 atributos."
      ]
    },
    {
      "cell_type": "code",
      "metadata": {
        "colab": {
          "base_uri": "https://localhost:8080/",
          "height": 425
        },
        "id": "8ZvhQ3D0Lk0o",
        "outputId": "36441d11-9e06-4e03-84f3-1a20f39391c1"
      },
      "source": [
        "display(paineldf.nunique())\n",
        "\n",
        "display(paineldf.dtypes)"
      ],
      "execution_count": null,
      "outputs": [
        {
          "output_type": "display_data",
          "data": {
            "text/plain": [
              "Unnamed: 0              28\n",
              "agency                   1\n",
              "report                   1\n",
              "session                223\n",
              "date                   438\n",
              "report_generated_by      1\n",
              "report_generated_at    209\n",
              "name                    41\n",
              "party                   16\n",
              "text                    12\n",
              "attendance               3\n",
              "dtype: int64"
            ]
          },
          "metadata": {}
        },
        {
          "output_type": "display_data",
          "data": {
            "text/plain": [
              "Unnamed: 0                      int64\n",
              "agency                         object\n",
              "report                         object\n",
              "session                        object\n",
              "date                   datetime64[ns]\n",
              "report_generated_by            object\n",
              "report_generated_at            object\n",
              "name                           object\n",
              "party                          object\n",
              "text                           object\n",
              "attendance                     object\n",
              "dtype: object"
            ]
          },
          "metadata": {}
        }
      ]
    },
    {
      "cell_type": "markdown",
      "metadata": {
        "id": "ZWbeb66zmlzF"
      },
      "source": [
        "#1 - Quem são os vereadores de cada partido a cada ano? Você observa mudanças? Com base em sua análise dos dados, comente sobre o que observa."
      ]
    },
    {
      "cell_type": "code",
      "metadata": {
        "colab": {
          "base_uri": "https://localhost:8080/"
        },
        "id": "4wAQe_DVSDMt",
        "outputId": "bd67e662-5e3f-41fb-c171-f6269c6464a7"
      },
      "source": [
        "anos = paineldf['date'].dt.year.unique()\n",
        "\n",
        "display('Anos de coleta dos dados presentes na base')\n",
        "display(anos)"
      ],
      "execution_count": null,
      "outputs": [
        {
          "output_type": "display_data",
          "data": {
            "application/vnd.google.colaboratory.intrinsic+json": {
              "type": "string"
            },
            "text/plain": [
              "'Anos de coleta dos dados presentes na base'"
            ]
          },
          "metadata": {}
        },
        {
          "output_type": "display_data",
          "data": {
            "text/plain": [
              "array([2020, 2017, 2019, 2021, 2018])"
            ]
          },
          "metadata": {}
        }
      ]
    },
    {
      "cell_type": "code",
      "metadata": {
        "colab": {
          "base_uri": "https://localhost:8080/"
        },
        "id": "IeRxjWhdROsU",
        "outputId": "bbc69771-2f4a-44dd-df75-a5e4ebd78524"
      },
      "source": [
        "partidos = paineldf['party'].unique()\n",
        "display('Partidos com vereadores presentes na base de dados')\n",
        "display(partidos)"
      ],
      "execution_count": null,
      "outputs": [
        {
          "output_type": "display_data",
          "data": {
            "application/vnd.google.colaboratory.intrinsic+json": {
              "type": "string"
            },
            "text/plain": [
              "'Partidos com vereadores presentes na base de dados'"
            ]
          },
          "metadata": {}
        },
        {
          "output_type": "display_data",
          "data": {
            "text/plain": [
              "array(['PT', 'DEM', 'MDB', 'REP', 'PROS', 'PSB', 'PATRI', 'PSD', 'PSDB',\n",
              "       'PHS', 'DC', 'PSOL', 'PL', 'PSC', 'CIDADAN', 'PV'], dtype=object)"
            ]
          },
          "metadata": {}
        }
      ]
    },
    {
      "cell_type": "code",
      "metadata": {
        "colab": {
          "base_uri": "https://localhost:8080/"
        },
        "id": "CWmZl0cQQLK-",
        "outputId": "9b14fb0e-38e0-4569-eb93-32e379dd1e8f"
      },
      "source": [
        "ano2017 = (paineldf['date'].dt.year == 2017)\n",
        "ano2018 = (paineldf['date'].dt.year == 2018)\n",
        "ano2019 = (paineldf['date'].dt.year == 2019)\n",
        "ano2020 = (paineldf['date'].dt.year == 2020)\n",
        "\n",
        "df2017 = pd.DataFrame()\n",
        "for partido in partidos:\n",
        "  for vereador in paineldf['name'][ano2017 & (paineldf['party'] == partido)].unique():\n",
        "    df = pd.DataFrame([[vereador, partido]], columns=['name', 'party'])\n",
        "    df2017 = df2017.append(df, ignore_index=True)\n",
        "\n",
        "df2018 = pd.DataFrame()\n",
        "for partido in partidos:\n",
        "  for vereador in paineldf['name'][ano2018 & (paineldf['party'] == partido)].unique():\n",
        "    df = pd.DataFrame([[vereador, partido]], columns=['name', 'party'])\n",
        "    df2018 = df2018.append(df, ignore_index=True)\n",
        "\n",
        "df2019 = pd.DataFrame()\n",
        "for partido in partidos:\n",
        "  for vereador in paineldf['name'][ano2019 & (paineldf['party'] == partido)].unique():\n",
        "    df = pd.DataFrame([[vereador, partido]], columns=['name', 'party'])\n",
        "    df2019 = df2019.append(df, ignore_index=True)\n",
        "\n",
        "df2020 = pd.DataFrame()\n",
        "for partido in partidos:\n",
        "  for vereador in paineldf['name'][ano2020 & (paineldf['party'] == partido)].unique():\n",
        "    df = pd.DataFrame([[vereador, partido]], columns=['name', 'party'])\n",
        "    df2020 = df2020.append(df, ignore_index=True)\n",
        "\n",
        "df2017_2020 = pd.DataFrame()\n",
        "display('Vereadores por partido no período de 2017-2020')\n",
        "for partido in partidos:\n",
        "  for vereador in paineldf['name'][(ano2017 | ano2018 | ano2019 | ano2020) & (paineldf['party'] == partido)].unique():\n",
        "    df = pd.DataFrame([[vereador, partido]], columns=['name', 'party'])\n",
        "    df2017_2020 = df2017_2020.append(df, ignore_index=True)\n",
        "display(df2017_2020)"
      ],
      "execution_count": null,
      "outputs": [
        {
          "output_type": "display_data",
          "data": {
            "application/vnd.google.colaboratory.intrinsic+json": {
              "type": "string"
            },
            "text/plain": [
              "'Vereadores por partido no período de 2017-2020'"
            ]
          },
          "metadata": {}
        },
        {
          "output_type": "display_data",
          "data": {
            "text/html": [
              "<div>\n",
              "<style scoped>\n",
              "    .dataframe tbody tr th:only-of-type {\n",
              "        vertical-align: middle;\n",
              "    }\n",
              "\n",
              "    .dataframe tbody tr th {\n",
              "        vertical-align: top;\n",
              "    }\n",
              "\n",
              "    .dataframe thead th {\n",
              "        text-align: right;\n",
              "    }\n",
              "</style>\n",
              "<table border=\"1\" class=\"dataframe\">\n",
              "  <thead>\n",
              "    <tr style=\"text-align: right;\">\n",
              "      <th></th>\n",
              "      <th>name</th>\n",
              "      <th>party</th>\n",
              "    </tr>\n",
              "  </thead>\n",
              "  <tbody>\n",
              "    <tr>\n",
              "      <th>0</th>\n",
              "      <td>ALBERTO NERY</td>\n",
              "      <td>PT</td>\n",
              "    </tr>\n",
              "    <tr>\n",
              "      <th>1</th>\n",
              "      <td>CADMIEL PEREIRA</td>\n",
              "      <td>DEM</td>\n",
              "    </tr>\n",
              "    <tr>\n",
              "      <th>2</th>\n",
              "      <td>GERUSA SAMPAIO</td>\n",
              "      <td>DEM</td>\n",
              "    </tr>\n",
              "    <tr>\n",
              "      <th>3</th>\n",
              "      <td>LULINHA</td>\n",
              "      <td>DEM</td>\n",
              "    </tr>\n",
              "    <tr>\n",
              "      <th>4</th>\n",
              "      <td>MARCOS LIMA</td>\n",
              "      <td>DEM</td>\n",
              "    </tr>\n",
              "    <tr>\n",
              "      <th>5</th>\n",
              "      <td>NEINHA</td>\n",
              "      <td>DEM</td>\n",
              "    </tr>\n",
              "    <tr>\n",
              "      <th>6</th>\n",
              "      <td>ZÉ CURUCA</td>\n",
              "      <td>DEM</td>\n",
              "    </tr>\n",
              "    <tr>\n",
              "      <th>7</th>\n",
              "      <td>ANTONIO CARLOS ATAÍDE</td>\n",
              "      <td>DEM</td>\n",
              "    </tr>\n",
              "    <tr>\n",
              "      <th>8</th>\n",
              "      <td>JUSTINIANO FRANÇA</td>\n",
              "      <td>DEM</td>\n",
              "    </tr>\n",
              "    <tr>\n",
              "      <th>9</th>\n",
              "      <td>PABLO ROBERTO</td>\n",
              "      <td>DEM</td>\n",
              "    </tr>\n",
              "    <tr>\n",
              "      <th>10</th>\n",
              "      <td>EDVALDO LIMA</td>\n",
              "      <td>MDB</td>\n",
              "    </tr>\n",
              "    <tr>\n",
              "      <th>11</th>\n",
              "      <td>FABIANO DA VAN</td>\n",
              "      <td>MDB</td>\n",
              "    </tr>\n",
              "    <tr>\n",
              "      <th>12</th>\n",
              "      <td>GILMAR AMORIM</td>\n",
              "      <td>MDB</td>\n",
              "    </tr>\n",
              "    <tr>\n",
              "      <th>13</th>\n",
              "      <td>ISAÍAS DE DIOGO</td>\n",
              "      <td>MDB</td>\n",
              "    </tr>\n",
              "    <tr>\n",
              "      <th>14</th>\n",
              "      <td>JOSÉ CARNEIRO</td>\n",
              "      <td>MDB</td>\n",
              "    </tr>\n",
              "    <tr>\n",
              "      <th>15</th>\n",
              "      <td>RON DO POVO</td>\n",
              "      <td>MDB</td>\n",
              "    </tr>\n",
              "    <tr>\n",
              "      <th>16</th>\n",
              "      <td>ELI RIBEIRO</td>\n",
              "      <td>REP</td>\n",
              "    </tr>\n",
              "    <tr>\n",
              "      <th>17</th>\n",
              "      <td>CÍNTIA MACHADO</td>\n",
              "      <td>REP</td>\n",
              "    </tr>\n",
              "    <tr>\n",
              "      <th>18</th>\n",
              "      <td>LUIZ DA FEIRA</td>\n",
              "      <td>PROS</td>\n",
              "    </tr>\n",
              "    <tr>\n",
              "      <th>19</th>\n",
              "      <td>ROBERTO TOURINHO</td>\n",
              "      <td>PSB</td>\n",
              "    </tr>\n",
              "    <tr>\n",
              "      <th>20</th>\n",
              "      <td>SGT JOSAFÁ RAMOS</td>\n",
              "      <td>PATRI</td>\n",
              "    </tr>\n",
              "    <tr>\n",
              "      <th>21</th>\n",
              "      <td>PR TOM</td>\n",
              "      <td>PATRI</td>\n",
              "    </tr>\n",
              "    <tr>\n",
              "      <th>22</th>\n",
              "      <td>ZÉ FILÉ</td>\n",
              "      <td>PSD</td>\n",
              "    </tr>\n",
              "    <tr>\n",
              "      <th>23</th>\n",
              "      <td>JOÃO BILILIU</td>\n",
              "      <td>PSD</td>\n",
              "    </tr>\n",
              "    <tr>\n",
              "      <th>24</th>\n",
              "      <td>EREMITA MOTA</td>\n",
              "      <td>PSDB</td>\n",
              "    </tr>\n",
              "    <tr>\n",
              "      <th>25</th>\n",
              "      <td>ROBECI DA VASSOURA</td>\n",
              "      <td>PHS</td>\n",
              "    </tr>\n",
              "    <tr>\n",
              "      <th>26</th>\n",
              "      <td>RONNY</td>\n",
              "      <td>PHS</td>\n",
              "    </tr>\n",
              "  </tbody>\n",
              "</table>\n",
              "</div>"
            ],
            "text/plain": [
              "                     name  party\n",
              "0            ALBERTO NERY     PT\n",
              "1         CADMIEL PEREIRA    DEM\n",
              "2          GERUSA SAMPAIO    DEM\n",
              "3                 LULINHA    DEM\n",
              "4             MARCOS LIMA    DEM\n",
              "5                  NEINHA    DEM\n",
              "6               ZÉ CURUCA    DEM\n",
              "7   ANTONIO CARLOS ATAÍDE    DEM\n",
              "8       JUSTINIANO FRANÇA    DEM\n",
              "9           PABLO ROBERTO    DEM\n",
              "10           EDVALDO LIMA    MDB\n",
              "11         FABIANO DA VAN    MDB\n",
              "12          GILMAR AMORIM    MDB\n",
              "13        ISAÍAS DE DIOGO    MDB\n",
              "14          JOSÉ CARNEIRO    MDB\n",
              "15            RON DO POVO    MDB\n",
              "16            ELI RIBEIRO    REP\n",
              "17         CÍNTIA MACHADO    REP\n",
              "18          LUIZ DA FEIRA   PROS\n",
              "19       ROBERTO TOURINHO    PSB\n",
              "20       SGT JOSAFÁ RAMOS  PATRI\n",
              "21                 PR TOM  PATRI\n",
              "22                ZÉ FILÉ    PSD\n",
              "23           JOÃO BILILIU    PSD\n",
              "24           EREMITA MOTA   PSDB\n",
              "25     ROBECI DA VASSOURA    PHS\n",
              "26                  RONNY    PHS"
            ]
          },
          "metadata": {}
        }
      ]
    },
    {
      "cell_type": "code",
      "metadata": {
        "colab": {
          "base_uri": "https://localhost:8080/"
        },
        "id": "iepy_fHelIqX",
        "outputId": "ab536eb1-28d9-46fc-f10a-51c4c791f9ab"
      },
      "source": [
        "ano2021 = (paineldf['date'].dt.year == 2021)\n",
        "\n",
        "df2021 = pd.DataFrame()\n",
        "display('Vereadores por partido no ano de 2021')\n",
        "for partido in partidos:\n",
        "  for vereador in paineldf['name'][ano2021 & (paineldf['party'] == partido)].unique():\n",
        "    df = pd.DataFrame([[vereador, partido]], columns=['name', 'party'])\n",
        "    df2021 = df2021.append(df, ignore_index=True)\n",
        "display(df2021)\n",
        "\n",
        "vereadores2021 = df2021.sort_values('name')['name'].values"
      ],
      "execution_count": null,
      "outputs": [
        {
          "output_type": "display_data",
          "data": {
            "application/vnd.google.colaboratory.intrinsic+json": {
              "type": "string"
            },
            "text/plain": [
              "'Vereadores por partido no ano de 2021'"
            ]
          },
          "metadata": {}
        },
        {
          "output_type": "display_data",
          "data": {
            "text/html": [
              "<div>\n",
              "<style scoped>\n",
              "    .dataframe tbody tr th:only-of-type {\n",
              "        vertical-align: middle;\n",
              "    }\n",
              "\n",
              "    .dataframe tbody tr th {\n",
              "        vertical-align: top;\n",
              "    }\n",
              "\n",
              "    .dataframe thead th {\n",
              "        text-align: right;\n",
              "    }\n",
              "</style>\n",
              "<table border=\"1\" class=\"dataframe\">\n",
              "  <thead>\n",
              "    <tr style=\"text-align: right;\">\n",
              "      <th></th>\n",
              "      <th>name</th>\n",
              "      <th>party</th>\n",
              "    </tr>\n",
              "  </thead>\n",
              "  <tbody>\n",
              "    <tr>\n",
              "      <th>0</th>\n",
              "      <td>PROFESSOR IVAMBERG</td>\n",
              "      <td>PT</td>\n",
              "    </tr>\n",
              "    <tr>\n",
              "      <th>1</th>\n",
              "      <td>SILVIO DIAS</td>\n",
              "      <td>PT</td>\n",
              "    </tr>\n",
              "    <tr>\n",
              "      <th>2</th>\n",
              "      <td>LULINHA</td>\n",
              "      <td>DEM</td>\n",
              "    </tr>\n",
              "    <tr>\n",
              "      <th>3</th>\n",
              "      <td>PEDRO AMÉRICO</td>\n",
              "      <td>DEM</td>\n",
              "    </tr>\n",
              "    <tr>\n",
              "      <th>4</th>\n",
              "      <td>ZÉ CURUCA</td>\n",
              "      <td>DEM</td>\n",
              "    </tr>\n",
              "    <tr>\n",
              "      <th>5</th>\n",
              "      <td>GERUSA SAMPAIO</td>\n",
              "      <td>DEM</td>\n",
              "    </tr>\n",
              "    <tr>\n",
              "      <th>6</th>\n",
              "      <td>EDVALDO LIMA</td>\n",
              "      <td>MDB</td>\n",
              "    </tr>\n",
              "    <tr>\n",
              "      <th>7</th>\n",
              "      <td>FABIANO DA VAN</td>\n",
              "      <td>MDB</td>\n",
              "    </tr>\n",
              "    <tr>\n",
              "      <th>8</th>\n",
              "      <td>LÚ DE RONNY</td>\n",
              "      <td>MDB</td>\n",
              "    </tr>\n",
              "    <tr>\n",
              "      <th>9</th>\n",
              "      <td>RON DO POVO</td>\n",
              "      <td>MDB</td>\n",
              "    </tr>\n",
              "    <tr>\n",
              "      <th>10</th>\n",
              "      <td>JOSÉ CARNEIRO</td>\n",
              "      <td>MDB</td>\n",
              "    </tr>\n",
              "    <tr>\n",
              "      <th>11</th>\n",
              "      <td>ELI RIBEIRO</td>\n",
              "      <td>REP</td>\n",
              "    </tr>\n",
              "    <tr>\n",
              "      <th>12</th>\n",
              "      <td>PETRONIO LIMA</td>\n",
              "      <td>REP</td>\n",
              "    </tr>\n",
              "    <tr>\n",
              "      <th>13</th>\n",
              "      <td>LUIZ DA FEIRA</td>\n",
              "      <td>PROS</td>\n",
              "    </tr>\n",
              "    <tr>\n",
              "      <th>14</th>\n",
              "      <td>GALEGUINHO SPA</td>\n",
              "      <td>PSB</td>\n",
              "    </tr>\n",
              "    <tr>\n",
              "      <th>15</th>\n",
              "      <td>CORREIA ZEZITO</td>\n",
              "      <td>PATRI</td>\n",
              "    </tr>\n",
              "    <tr>\n",
              "      <th>16</th>\n",
              "      <td>FERNANDO TORRES</td>\n",
              "      <td>PSD</td>\n",
              "    </tr>\n",
              "    <tr>\n",
              "      <th>17</th>\n",
              "      <td>EREMITA MOTA</td>\n",
              "      <td>PSDB</td>\n",
              "    </tr>\n",
              "    <tr>\n",
              "      <th>18</th>\n",
              "      <td>EMERSON MINHO</td>\n",
              "      <td>DC</td>\n",
              "    </tr>\n",
              "    <tr>\n",
              "      <th>19</th>\n",
              "      <td>JHONATAS MONTEIRO</td>\n",
              "      <td>PSOL</td>\n",
              "    </tr>\n",
              "    <tr>\n",
              "      <th>20</th>\n",
              "      <td>JURANDY CARVALHO</td>\n",
              "      <td>PL</td>\n",
              "    </tr>\n",
              "    <tr>\n",
              "      <th>21</th>\n",
              "      <td>PAULÃO DO CALDEIRÃO</td>\n",
              "      <td>PSC</td>\n",
              "    </tr>\n",
              "    <tr>\n",
              "      <th>22</th>\n",
              "      <td>PEDRO CICERO</td>\n",
              "      <td>CIDADAN</td>\n",
              "    </tr>\n",
              "    <tr>\n",
              "      <th>23</th>\n",
              "      <td>PR. VALDEMIR SANTOS</td>\n",
              "      <td>PV</td>\n",
              "    </tr>\n",
              "  </tbody>\n",
              "</table>\n",
              "</div>"
            ],
            "text/plain": [
              "                   name    party\n",
              "0    PROFESSOR IVAMBERG       PT\n",
              "1           SILVIO DIAS       PT\n",
              "2               LULINHA      DEM\n",
              "3         PEDRO AMÉRICO      DEM\n",
              "4             ZÉ CURUCA      DEM\n",
              "5        GERUSA SAMPAIO      DEM\n",
              "6          EDVALDO LIMA      MDB\n",
              "7        FABIANO DA VAN      MDB\n",
              "8           LÚ DE RONNY      MDB\n",
              "9           RON DO POVO      MDB\n",
              "10        JOSÉ CARNEIRO      MDB\n",
              "11          ELI RIBEIRO      REP\n",
              "12        PETRONIO LIMA      REP\n",
              "13        LUIZ DA FEIRA     PROS\n",
              "14       GALEGUINHO SPA      PSB\n",
              "15       CORREIA ZEZITO    PATRI\n",
              "16      FERNANDO TORRES      PSD\n",
              "17         EREMITA MOTA     PSDB\n",
              "18        EMERSON MINHO       DC\n",
              "19    JHONATAS MONTEIRO     PSOL\n",
              "20     JURANDY CARVALHO       PL\n",
              "21  PAULÃO DO CALDEIRÃO      PSC\n",
              "22         PEDRO CICERO  CIDADAN\n",
              "23  PR. VALDEMIR SANTOS       PV"
            ]
          },
          "metadata": {}
        }
      ]
    },
    {
      "cell_type": "code",
      "metadata": {
        "colab": {
          "base_uri": "https://localhost:8080/"
        },
        "id": "dIBSTjClRQhv",
        "outputId": "ee2915cb-0c88-4f27-f0ef-2700d3a8a42c"
      },
      "source": [
        "lista2020 = paineldf['name'][ano2020].unique().tolist()\n",
        "lista2021 = paineldf['name'][ano2021].unique().tolist()\n",
        "vereadores_todo_ano = sorted([vereador for vereador in lista2020 if vereador in lista2021])\n",
        "\n",
        "display('Vereadores atuantes em todo o período abrangido pelo dataset, e partidos')\n",
        "for vereador in vereadores_todo_ano:\n",
        "  print(vereador, '-',paineldf['party'][paineldf['name'] == vereador].unique()[0])"
      ],
      "execution_count": null,
      "outputs": [
        {
          "output_type": "display_data",
          "data": {
            "application/vnd.google.colaboratory.intrinsic+json": {
              "type": "string"
            },
            "text/plain": [
              "'Vereadores atuantes em todo o período abrangido pelo dataset, e partidos'"
            ]
          },
          "metadata": {}
        },
        {
          "output_type": "stream",
          "name": "stdout",
          "text": [
            "EDVALDO LIMA - MDB\n",
            "ELI RIBEIRO - REP\n",
            "EREMITA MOTA - PSDB\n",
            "FABIANO DA VAN - MDB\n",
            "GERUSA SAMPAIO - DEM\n",
            "JOSÉ CARNEIRO - MDB\n",
            "LUIZ DA FEIRA - PROS\n",
            "LULINHA - DEM\n",
            "RON DO POVO - MDB\n",
            "ZÉ CURUCA - DEM\n"
          ]
        }
      ]
    },
    {
      "cell_type": "markdown",
      "metadata": {
        "id": "3fOUpx58mr48"
      },
      "source": [
        "Em relação ao PT, Alberto Nery era o único vereador no período de 2017 a 2020, já após as eleições de 2021, o partido conta com dois vereadores, Professor Ivamberg e Sílvio Dias. O DEM ocupava 9 cadeiras, e em 2021 ocupa 4, dos 4 vereadores, três foram reeleitos em 2020. O MDB ocupava 6 cadeiras, e em 2021 ocupa 5, dos 5 vereadores, quatro foram reeleitos em 2020. O REP ocupava 2 cadeiras, e as manteve em 2021, sendo um verador reeleito e outro não.\n",
        "\n",
        "Apenas os vereadores Edvaldo Lima - MDB, Eli Ribeiro - REP, Eremita Mota - PSDB, Fabiano da Van - MDB, Gerusa Sampaio - DEM, José Carneiro - MDB, Luiz da Feira - PROS, Lulinha - DEM, Ron do Povo - MDB, e Zé Curuca - DEM conseguiram a reeleição.\n",
        "\n",
        "Alguns partidos passaram a ter cadeiras ocupadas depois da eleição, como por exemplo o PSOL, com Jhonatas Monteiro, o DC, com Emerson Minho, o PL, com Jurandy Carvalho, o PSC, com Paulão do Caldeirão, o Cidadania, com Pedro Cícero, e o PV, com o Pr. Valdemir Santos. Dos partidos que ocupavam cadeiras de 2017 a 2020, o PHS foi o único que não ocupa cadeiras em 2021.\n",
        "\n",
        "Um total de 13 vereadores não estavam de 2017 a 2020, e ocupam cadeiras em 2021.\n",
        "\n",
        "Houve uma diminuição das cadeiras na câmara, de 26 para 23 vereadores."
      ]
    },
    {
      "cell_type": "markdown",
      "metadata": {
        "id": "ubnh4CQUm4MA"
      },
      "source": [
        "#2 - Quem são os vereadores com maior quantidade (absoluta e relativa) de presenças, ausências e faltas justificadas a cada ano? Faça esta análise também por partido (agrupando vereadores por partido). Comente sobre o que você observa na análise dos dados."
      ]
    },
    {
      "cell_type": "code",
      "metadata": {
        "colab": {
          "base_uri": "https://localhost:8080/"
        },
        "id": "28FbfxSXoPol",
        "outputId": "f9fef55d-03b8-4f4e-c8fc-7ced4c5d55bd"
      },
      "source": [
        "paineldf['attendance'].unique()"
      ],
      "execution_count": null,
      "outputs": [
        {
          "output_type": "execute_result",
          "data": {
            "text/plain": [
              "array(['attending', 'justified', 'absent'], dtype=object)"
            ]
          },
          "metadata": {},
          "execution_count": 10
        }
      ]
    },
    {
      "cell_type": "code",
      "metadata": {
        "colab": {
          "base_uri": "https://localhost:8080/"
        },
        "id": "fIUtrZAzncqP",
        "outputId": "71eac954-4229-4465-b742-dc26076ec90d"
      },
      "source": [
        "ano2017 = (paineldf['date'].dt.year == 2017)\n",
        "\n",
        "presenca = (paineldf['attendance'] == 'attending')\n",
        "presencas2017 = paineldf[ano2017 & presenca].groupby(['name', 'party'])\n",
        "presencas2017 = presencas2017['name'].count().reset_index(name='quantidade_presencas').sort_values('quantidade_presencas', ascending=False)\n",
        "display('Presenças dos vereadores no ano de 2017')\n",
        "display(presencas2017)\n",
        "print('\\n')\n",
        "\n",
        "ausencia = (paineldf['attendance'] == 'absent')\n",
        "ausencias2017 = paineldf[ano2017 & ausencia].groupby(['name', 'party'])\n",
        "ausencias2017 = ausencias2017['name'].count().reset_index(name='quantidade_ausencias').sort_values('quantidade_ausencias', ascending=False)\n",
        "display('Ausências dos vereadores no ano de 2017')\n",
        "display(ausencias2017)\n",
        "print('\\n')\n",
        "\n",
        "justificativa = (paineldf['attendance'] == 'justified')\n",
        "justificativas2017 = paineldf[ano2017 & justificativa].groupby(['name', 'party'])\n",
        "justificativas2017 = justificativas2017['name'].count().reset_index(name='quantidade_justificativas').sort_values('quantidade_justificativas', ascending=False)\n",
        "display('Justificativas dos vereadores no ano de 2017')\n",
        "display(justificativas2017)"
      ],
      "execution_count": null,
      "outputs": [
        {
          "output_type": "display_data",
          "data": {
            "application/vnd.google.colaboratory.intrinsic+json": {
              "type": "string"
            },
            "text/plain": [
              "'Presenças dos vereadores no ano de 2017'"
            ]
          },
          "metadata": {}
        },
        {
          "output_type": "display_data",
          "data": {
            "text/html": [
              "<div>\n",
              "<style scoped>\n",
              "    .dataframe tbody tr th:only-of-type {\n",
              "        vertical-align: middle;\n",
              "    }\n",
              "\n",
              "    .dataframe tbody tr th {\n",
              "        vertical-align: top;\n",
              "    }\n",
              "\n",
              "    .dataframe thead th {\n",
              "        text-align: right;\n",
              "    }\n",
              "</style>\n",
              "<table border=\"1\" class=\"dataframe\">\n",
              "  <thead>\n",
              "    <tr style=\"text-align: right;\">\n",
              "      <th></th>\n",
              "      <th>name</th>\n",
              "      <th>party</th>\n",
              "      <th>quantidade_presencas</th>\n",
              "    </tr>\n",
              "  </thead>\n",
              "  <tbody>\n",
              "    <tr>\n",
              "      <th>7</th>\n",
              "      <td>GERUSA SAMPAIO</td>\n",
              "      <td>DEM</td>\n",
              "      <td>81</td>\n",
              "    </tr>\n",
              "    <tr>\n",
              "      <th>10</th>\n",
              "      <td>JOSÉ CARNEIRO</td>\n",
              "      <td>MDB</td>\n",
              "      <td>74</td>\n",
              "    </tr>\n",
              "    <tr>\n",
              "      <th>2</th>\n",
              "      <td>CADMIEL PEREIRA</td>\n",
              "      <td>DEM</td>\n",
              "      <td>73</td>\n",
              "    </tr>\n",
              "    <tr>\n",
              "      <th>18</th>\n",
              "      <td>ROBERTO TOURINHO</td>\n",
              "      <td>PSB</td>\n",
              "      <td>68</td>\n",
              "    </tr>\n",
              "    <tr>\n",
              "      <th>13</th>\n",
              "      <td>LULINHA</td>\n",
              "      <td>DEM</td>\n",
              "      <td>68</td>\n",
              "    </tr>\n",
              "    <tr>\n",
              "      <th>9</th>\n",
              "      <td>ISAÍAS DE DIOGO</td>\n",
              "      <td>MDB</td>\n",
              "      <td>67</td>\n",
              "    </tr>\n",
              "    <tr>\n",
              "      <th>11</th>\n",
              "      <td>JOÃO BILILIU</td>\n",
              "      <td>PSD</td>\n",
              "      <td>64</td>\n",
              "    </tr>\n",
              "    <tr>\n",
              "      <th>19</th>\n",
              "      <td>RON DO POVO</td>\n",
              "      <td>MDB</td>\n",
              "      <td>64</td>\n",
              "    </tr>\n",
              "    <tr>\n",
              "      <th>21</th>\n",
              "      <td>ZÉ CURUCA</td>\n",
              "      <td>DEM</td>\n",
              "      <td>63</td>\n",
              "    </tr>\n",
              "    <tr>\n",
              "      <th>12</th>\n",
              "      <td>LUIZ DA FEIRA</td>\n",
              "      <td>PROS</td>\n",
              "      <td>63</td>\n",
              "    </tr>\n",
              "    <tr>\n",
              "      <th>6</th>\n",
              "      <td>FABIANO DA VAN</td>\n",
              "      <td>MDB</td>\n",
              "      <td>62</td>\n",
              "    </tr>\n",
              "    <tr>\n",
              "      <th>4</th>\n",
              "      <td>EDVALDO LIMA</td>\n",
              "      <td>MDB</td>\n",
              "      <td>61</td>\n",
              "    </tr>\n",
              "    <tr>\n",
              "      <th>8</th>\n",
              "      <td>GILMAR AMORIM</td>\n",
              "      <td>MDB</td>\n",
              "      <td>61</td>\n",
              "    </tr>\n",
              "    <tr>\n",
              "      <th>14</th>\n",
              "      <td>MARCOS LIMA</td>\n",
              "      <td>DEM</td>\n",
              "      <td>59</td>\n",
              "    </tr>\n",
              "    <tr>\n",
              "      <th>22</th>\n",
              "      <td>ZÉ FILÉ</td>\n",
              "      <td>PSD</td>\n",
              "      <td>59</td>\n",
              "    </tr>\n",
              "    <tr>\n",
              "      <th>1</th>\n",
              "      <td>ANTONIO CARLOS ATAÍDE</td>\n",
              "      <td>DEM</td>\n",
              "      <td>58</td>\n",
              "    </tr>\n",
              "    <tr>\n",
              "      <th>5</th>\n",
              "      <td>EREMITA MOTA</td>\n",
              "      <td>PSDB</td>\n",
              "      <td>58</td>\n",
              "    </tr>\n",
              "    <tr>\n",
              "      <th>0</th>\n",
              "      <td>ALBERTO NERY</td>\n",
              "      <td>PT</td>\n",
              "      <td>56</td>\n",
              "    </tr>\n",
              "    <tr>\n",
              "      <th>17</th>\n",
              "      <td>PR TOM</td>\n",
              "      <td>PATRI</td>\n",
              "      <td>48</td>\n",
              "    </tr>\n",
              "    <tr>\n",
              "      <th>3</th>\n",
              "      <td>CÍNTIA MACHADO</td>\n",
              "      <td>REP</td>\n",
              "      <td>42</td>\n",
              "    </tr>\n",
              "    <tr>\n",
              "      <th>15</th>\n",
              "      <td>NEINHA</td>\n",
              "      <td>DEM</td>\n",
              "      <td>40</td>\n",
              "    </tr>\n",
              "    <tr>\n",
              "      <th>16</th>\n",
              "      <td>PABLO ROBERTO</td>\n",
              "      <td>DEM</td>\n",
              "      <td>10</td>\n",
              "    </tr>\n",
              "    <tr>\n",
              "      <th>20</th>\n",
              "      <td>RONNY</td>\n",
              "      <td>PHS</td>\n",
              "      <td>1</td>\n",
              "    </tr>\n",
              "  </tbody>\n",
              "</table>\n",
              "</div>"
            ],
            "text/plain": [
              "                     name  party  quantidade_presencas\n",
              "7          GERUSA SAMPAIO    DEM                    81\n",
              "10          JOSÉ CARNEIRO    MDB                    74\n",
              "2         CADMIEL PEREIRA    DEM                    73\n",
              "18       ROBERTO TOURINHO    PSB                    68\n",
              "13                LULINHA    DEM                    68\n",
              "9         ISAÍAS DE DIOGO    MDB                    67\n",
              "11           JOÃO BILILIU    PSD                    64\n",
              "19            RON DO POVO    MDB                    64\n",
              "21              ZÉ CURUCA    DEM                    63\n",
              "12          LUIZ DA FEIRA   PROS                    63\n",
              "6          FABIANO DA VAN    MDB                    62\n",
              "4            EDVALDO LIMA    MDB                    61\n",
              "8           GILMAR AMORIM    MDB                    61\n",
              "14            MARCOS LIMA    DEM                    59\n",
              "22                ZÉ FILÉ    PSD                    59\n",
              "1   ANTONIO CARLOS ATAÍDE    DEM                    58\n",
              "5            EREMITA MOTA   PSDB                    58\n",
              "0            ALBERTO NERY     PT                    56\n",
              "17                 PR TOM  PATRI                    48\n",
              "3          CÍNTIA MACHADO    REP                    42\n",
              "15                 NEINHA    DEM                    40\n",
              "16          PABLO ROBERTO    DEM                    10\n",
              "20                  RONNY    PHS                     1"
            ]
          },
          "metadata": {}
        },
        {
          "output_type": "stream",
          "name": "stdout",
          "text": [
            "\n",
            "\n"
          ]
        },
        {
          "output_type": "display_data",
          "data": {
            "application/vnd.google.colaboratory.intrinsic+json": {
              "type": "string"
            },
            "text/plain": [
              "'Ausências dos vereadores no ano de 2017'"
            ]
          },
          "metadata": {}
        },
        {
          "output_type": "display_data",
          "data": {
            "text/html": [
              "<div>\n",
              "<style scoped>\n",
              "    .dataframe tbody tr th:only-of-type {\n",
              "        vertical-align: middle;\n",
              "    }\n",
              "\n",
              "    .dataframe tbody tr th {\n",
              "        vertical-align: top;\n",
              "    }\n",
              "\n",
              "    .dataframe thead th {\n",
              "        text-align: right;\n",
              "    }\n",
              "</style>\n",
              "<table border=\"1\" class=\"dataframe\">\n",
              "  <thead>\n",
              "    <tr style=\"text-align: right;\">\n",
              "      <th></th>\n",
              "      <th>name</th>\n",
              "      <th>party</th>\n",
              "      <th>quantidade_ausencias</th>\n",
              "    </tr>\n",
              "  </thead>\n",
              "  <tbody>\n",
              "    <tr>\n",
              "      <th>3</th>\n",
              "      <td>CÍNTIA MACHADO</td>\n",
              "      <td>REP</td>\n",
              "      <td>43</td>\n",
              "    </tr>\n",
              "    <tr>\n",
              "      <th>17</th>\n",
              "      <td>PR TOM</td>\n",
              "      <td>PATRI</td>\n",
              "      <td>37</td>\n",
              "    </tr>\n",
              "    <tr>\n",
              "      <th>0</th>\n",
              "      <td>ALBERTO NERY</td>\n",
              "      <td>PT</td>\n",
              "      <td>29</td>\n",
              "    </tr>\n",
              "    <tr>\n",
              "      <th>1</th>\n",
              "      <td>ANTONIO CARLOS ATAÍDE</td>\n",
              "      <td>DEM</td>\n",
              "      <td>27</td>\n",
              "    </tr>\n",
              "    <tr>\n",
              "      <th>15</th>\n",
              "      <td>NEINHA</td>\n",
              "      <td>DEM</td>\n",
              "      <td>27</td>\n",
              "    </tr>\n",
              "    <tr>\n",
              "      <th>5</th>\n",
              "      <td>EREMITA MOTA</td>\n",
              "      <td>PSDB</td>\n",
              "      <td>27</td>\n",
              "    </tr>\n",
              "    <tr>\n",
              "      <th>14</th>\n",
              "      <td>MARCOS LIMA</td>\n",
              "      <td>DEM</td>\n",
              "      <td>26</td>\n",
              "    </tr>\n",
              "    <tr>\n",
              "      <th>22</th>\n",
              "      <td>ZÉ FILÉ</td>\n",
              "      <td>PSD</td>\n",
              "      <td>26</td>\n",
              "    </tr>\n",
              "    <tr>\n",
              "      <th>8</th>\n",
              "      <td>GILMAR AMORIM</td>\n",
              "      <td>MDB</td>\n",
              "      <td>24</td>\n",
              "    </tr>\n",
              "    <tr>\n",
              "      <th>4</th>\n",
              "      <td>EDVALDO LIMA</td>\n",
              "      <td>MDB</td>\n",
              "      <td>24</td>\n",
              "    </tr>\n",
              "    <tr>\n",
              "      <th>6</th>\n",
              "      <td>FABIANO DA VAN</td>\n",
              "      <td>MDB</td>\n",
              "      <td>23</td>\n",
              "    </tr>\n",
              "    <tr>\n",
              "      <th>12</th>\n",
              "      <td>LUIZ DA FEIRA</td>\n",
              "      <td>PROS</td>\n",
              "      <td>22</td>\n",
              "    </tr>\n",
              "    <tr>\n",
              "      <th>21</th>\n",
              "      <td>ZÉ CURUCA</td>\n",
              "      <td>DEM</td>\n",
              "      <td>22</td>\n",
              "    </tr>\n",
              "    <tr>\n",
              "      <th>19</th>\n",
              "      <td>RON DO POVO</td>\n",
              "      <td>MDB</td>\n",
              "      <td>21</td>\n",
              "    </tr>\n",
              "    <tr>\n",
              "      <th>11</th>\n",
              "      <td>JOÃO BILILIU</td>\n",
              "      <td>PSD</td>\n",
              "      <td>21</td>\n",
              "    </tr>\n",
              "    <tr>\n",
              "      <th>9</th>\n",
              "      <td>ISAÍAS DE DIOGO</td>\n",
              "      <td>MDB</td>\n",
              "      <td>18</td>\n",
              "    </tr>\n",
              "    <tr>\n",
              "      <th>13</th>\n",
              "      <td>LULINHA</td>\n",
              "      <td>DEM</td>\n",
              "      <td>17</td>\n",
              "    </tr>\n",
              "    <tr>\n",
              "      <th>18</th>\n",
              "      <td>ROBERTO TOURINHO</td>\n",
              "      <td>PSB</td>\n",
              "      <td>17</td>\n",
              "    </tr>\n",
              "    <tr>\n",
              "      <th>2</th>\n",
              "      <td>CADMIEL PEREIRA</td>\n",
              "      <td>DEM</td>\n",
              "      <td>12</td>\n",
              "    </tr>\n",
              "    <tr>\n",
              "      <th>10</th>\n",
              "      <td>JOSÉ CARNEIRO</td>\n",
              "      <td>MDB</td>\n",
              "      <td>11</td>\n",
              "    </tr>\n",
              "    <tr>\n",
              "      <th>7</th>\n",
              "      <td>GERUSA SAMPAIO</td>\n",
              "      <td>DEM</td>\n",
              "      <td>4</td>\n",
              "    </tr>\n",
              "    <tr>\n",
              "      <th>16</th>\n",
              "      <td>PABLO ROBERTO</td>\n",
              "      <td>DEM</td>\n",
              "      <td>4</td>\n",
              "    </tr>\n",
              "    <tr>\n",
              "      <th>20</th>\n",
              "      <td>RONNY</td>\n",
              "      <td>PHS</td>\n",
              "      <td>3</td>\n",
              "    </tr>\n",
              "  </tbody>\n",
              "</table>\n",
              "</div>"
            ],
            "text/plain": [
              "                     name  party  quantidade_ausencias\n",
              "3          CÍNTIA MACHADO    REP                    43\n",
              "17                 PR TOM  PATRI                    37\n",
              "0            ALBERTO NERY     PT                    29\n",
              "1   ANTONIO CARLOS ATAÍDE    DEM                    27\n",
              "15                 NEINHA    DEM                    27\n",
              "5            EREMITA MOTA   PSDB                    27\n",
              "14            MARCOS LIMA    DEM                    26\n",
              "22                ZÉ FILÉ    PSD                    26\n",
              "8           GILMAR AMORIM    MDB                    24\n",
              "4            EDVALDO LIMA    MDB                    24\n",
              "6          FABIANO DA VAN    MDB                    23\n",
              "12          LUIZ DA FEIRA   PROS                    22\n",
              "21              ZÉ CURUCA    DEM                    22\n",
              "19            RON DO POVO    MDB                    21\n",
              "11           JOÃO BILILIU    PSD                    21\n",
              "9         ISAÍAS DE DIOGO    MDB                    18\n",
              "13                LULINHA    DEM                    17\n",
              "18       ROBERTO TOURINHO    PSB                    17\n",
              "2         CADMIEL PEREIRA    DEM                    12\n",
              "10          JOSÉ CARNEIRO    MDB                    11\n",
              "7          GERUSA SAMPAIO    DEM                     4\n",
              "16          PABLO ROBERTO    DEM                     4\n",
              "20                  RONNY    PHS                     3"
            ]
          },
          "metadata": {}
        },
        {
          "output_type": "stream",
          "name": "stdout",
          "text": [
            "\n",
            "\n"
          ]
        },
        {
          "output_type": "display_data",
          "data": {
            "application/vnd.google.colaboratory.intrinsic+json": {
              "type": "string"
            },
            "text/plain": [
              "'Justificativas dos vereadores no ano de 2017'"
            ]
          },
          "metadata": {}
        },
        {
          "output_type": "display_data",
          "data": {
            "text/html": [
              "<div>\n",
              "<style scoped>\n",
              "    .dataframe tbody tr th:only-of-type {\n",
              "        vertical-align: middle;\n",
              "    }\n",
              "\n",
              "    .dataframe tbody tr th {\n",
              "        vertical-align: top;\n",
              "    }\n",
              "\n",
              "    .dataframe thead th {\n",
              "        text-align: right;\n",
              "    }\n",
              "</style>\n",
              "<table border=\"1\" class=\"dataframe\">\n",
              "  <thead>\n",
              "    <tr style=\"text-align: right;\">\n",
              "      <th></th>\n",
              "      <th>name</th>\n",
              "      <th>party</th>\n",
              "      <th>quantidade_justificativas</th>\n",
              "    </tr>\n",
              "  </thead>\n",
              "  <tbody>\n",
              "    <tr>\n",
              "      <th>0</th>\n",
              "      <td>ELI RIBEIRO</td>\n",
              "      <td>REP</td>\n",
              "      <td>85</td>\n",
              "    </tr>\n",
              "    <tr>\n",
              "      <th>1</th>\n",
              "      <td>JUSTINIANO FRANÇA</td>\n",
              "      <td>DEM</td>\n",
              "      <td>85</td>\n",
              "    </tr>\n",
              "    <tr>\n",
              "      <th>4</th>\n",
              "      <td>ROBECI DA VASSOURA</td>\n",
              "      <td>PHS</td>\n",
              "      <td>85</td>\n",
              "    </tr>\n",
              "    <tr>\n",
              "      <th>6</th>\n",
              "      <td>SGT JOSAFÁ RAMOS</td>\n",
              "      <td>PATRI</td>\n",
              "      <td>85</td>\n",
              "    </tr>\n",
              "    <tr>\n",
              "      <th>5</th>\n",
              "      <td>RONNY</td>\n",
              "      <td>PHS</td>\n",
              "      <td>81</td>\n",
              "    </tr>\n",
              "    <tr>\n",
              "      <th>3</th>\n",
              "      <td>PABLO ROBERTO</td>\n",
              "      <td>DEM</td>\n",
              "      <td>71</td>\n",
              "    </tr>\n",
              "    <tr>\n",
              "      <th>2</th>\n",
              "      <td>NEINHA</td>\n",
              "      <td>DEM</td>\n",
              "      <td>18</td>\n",
              "    </tr>\n",
              "  </tbody>\n",
              "</table>\n",
              "</div>"
            ],
            "text/plain": [
              "                 name  party  quantidade_justificativas\n",
              "0         ELI RIBEIRO    REP                         85\n",
              "1   JUSTINIANO FRANÇA    DEM                         85\n",
              "4  ROBECI DA VASSOURA    PHS                         85\n",
              "6    SGT JOSAFÁ RAMOS  PATRI                         85\n",
              "5               RONNY    PHS                         81\n",
              "3       PABLO ROBERTO    DEM                         71\n",
              "2              NEINHA    DEM                         18"
            ]
          },
          "metadata": {}
        }
      ]
    },
    {
      "cell_type": "code",
      "metadata": {
        "colab": {
          "base_uri": "https://localhost:8080/"
        },
        "id": "PQ8z7hE64XNj",
        "outputId": "a4343052-0ca2-4039-d4dd-9e9ba011bd3b"
      },
      "source": [
        "total_2017 = len(paineldf['session'][ano2017].unique())\n",
        "display('Total de Sessões em 2017')\n",
        "display(total_2017)\n",
        "print()\n",
        "\n",
        "participacoes2017 = pd.DataFrame()\n",
        "display('Comparecimento dos vereadores no ano de 2017')\n",
        "for vereador in df2017['name']:\n",
        "  df = pd.DataFrame([[vereador,\n",
        "                      df2017['party'][(df2017['name'] == vereador)].values[0],\n",
        "                      presencas2017['quantidade_presencas'][(presencas2017['name'] == vereador)].values[0] if vereador in presencas2017['name'].values else 0,\n",
        "                      ausencias2017['quantidade_ausencias'][(ausencias2017['name'] == vereador)].values[0] if vereador in ausencias2017['name'].values else 0,\n",
        "                      justificativas2017['quantidade_justificativas'][(justificativas2017['name'] == vereador)].values[0] if vereador in justificativas2017['name'].values else 0,\n",
        "                      round((presencas2017['quantidade_presencas'][(presencas2017['name'] == vereador)].values[0]) / total_2017 * 100, 2) if vereador in presencas2017['name'].values else 0,\n",
        "                      round((ausencias2017['quantidade_ausencias'][(ausencias2017['name'] == vereador)].values[0]) / total_2017 * 100, 2) if vereador in ausencias2017['name'].values else 0,\n",
        "                      round((justificativas2017['quantidade_justificativas'][(justificativas2017['name'] == vereador)].values[0]) / total_2017 * 100, 2) if vereador in justificativas2017['name'].values else 0]],\n",
        "                    columns=['name', 'party', 'presenca', 'ausencia', 'justificativa', 'presenca_rel', 'ausencia_rel', 'justificativa_rel'])\n",
        "  participacoes2017 = participacoes2017.append(df, ignore_index=True)\n",
        "\n",
        "display(participacoes2017)"
      ],
      "execution_count": null,
      "outputs": [
        {
          "output_type": "display_data",
          "data": {
            "application/vnd.google.colaboratory.intrinsic+json": {
              "type": "string"
            },
            "text/plain": [
              "'Total de Sessões em 2017'"
            ]
          },
          "metadata": {}
        },
        {
          "output_type": "display_data",
          "data": {
            "text/plain": [
              "85"
            ]
          },
          "metadata": {}
        },
        {
          "output_type": "stream",
          "name": "stdout",
          "text": [
            "\n"
          ]
        },
        {
          "output_type": "display_data",
          "data": {
            "application/vnd.google.colaboratory.intrinsic+json": {
              "type": "string"
            },
            "text/plain": [
              "'Comparecimento dos vereadores no ano de 2017'"
            ]
          },
          "metadata": {}
        },
        {
          "output_type": "display_data",
          "data": {
            "text/html": [
              "<div>\n",
              "<style scoped>\n",
              "    .dataframe tbody tr th:only-of-type {\n",
              "        vertical-align: middle;\n",
              "    }\n",
              "\n",
              "    .dataframe tbody tr th {\n",
              "        vertical-align: top;\n",
              "    }\n",
              "\n",
              "    .dataframe thead th {\n",
              "        text-align: right;\n",
              "    }\n",
              "</style>\n",
              "<table border=\"1\" class=\"dataframe\">\n",
              "  <thead>\n",
              "    <tr style=\"text-align: right;\">\n",
              "      <th></th>\n",
              "      <th>name</th>\n",
              "      <th>party</th>\n",
              "      <th>presenca</th>\n",
              "      <th>ausencia</th>\n",
              "      <th>justificativa</th>\n",
              "      <th>presenca_rel</th>\n",
              "      <th>ausencia_rel</th>\n",
              "      <th>justificativa_rel</th>\n",
              "    </tr>\n",
              "  </thead>\n",
              "  <tbody>\n",
              "    <tr>\n",
              "      <th>0</th>\n",
              "      <td>ALBERTO NERY</td>\n",
              "      <td>PT</td>\n",
              "      <td>56</td>\n",
              "      <td>29</td>\n",
              "      <td>0</td>\n",
              "      <td>65.88</td>\n",
              "      <td>34.12</td>\n",
              "      <td>0.00</td>\n",
              "    </tr>\n",
              "    <tr>\n",
              "      <th>1</th>\n",
              "      <td>ANTONIO CARLOS ATAÍDE</td>\n",
              "      <td>DEM</td>\n",
              "      <td>58</td>\n",
              "      <td>27</td>\n",
              "      <td>0</td>\n",
              "      <td>68.24</td>\n",
              "      <td>31.76</td>\n",
              "      <td>0.00</td>\n",
              "    </tr>\n",
              "    <tr>\n",
              "      <th>2</th>\n",
              "      <td>CADMIEL PEREIRA</td>\n",
              "      <td>DEM</td>\n",
              "      <td>73</td>\n",
              "      <td>12</td>\n",
              "      <td>0</td>\n",
              "      <td>85.88</td>\n",
              "      <td>14.12</td>\n",
              "      <td>0.00</td>\n",
              "    </tr>\n",
              "    <tr>\n",
              "      <th>3</th>\n",
              "      <td>GERUSA SAMPAIO</td>\n",
              "      <td>DEM</td>\n",
              "      <td>81</td>\n",
              "      <td>4</td>\n",
              "      <td>0</td>\n",
              "      <td>95.29</td>\n",
              "      <td>4.71</td>\n",
              "      <td>0.00</td>\n",
              "    </tr>\n",
              "    <tr>\n",
              "      <th>4</th>\n",
              "      <td>LULINHA</td>\n",
              "      <td>DEM</td>\n",
              "      <td>68</td>\n",
              "      <td>17</td>\n",
              "      <td>0</td>\n",
              "      <td>80.00</td>\n",
              "      <td>20.00</td>\n",
              "      <td>0.00</td>\n",
              "    </tr>\n",
              "    <tr>\n",
              "      <th>5</th>\n",
              "      <td>MARCOS LIMA</td>\n",
              "      <td>DEM</td>\n",
              "      <td>59</td>\n",
              "      <td>26</td>\n",
              "      <td>0</td>\n",
              "      <td>69.41</td>\n",
              "      <td>30.59</td>\n",
              "      <td>0.00</td>\n",
              "    </tr>\n",
              "    <tr>\n",
              "      <th>6</th>\n",
              "      <td>NEINHA</td>\n",
              "      <td>DEM</td>\n",
              "      <td>40</td>\n",
              "      <td>27</td>\n",
              "      <td>18</td>\n",
              "      <td>47.06</td>\n",
              "      <td>31.76</td>\n",
              "      <td>21.18</td>\n",
              "    </tr>\n",
              "    <tr>\n",
              "      <th>7</th>\n",
              "      <td>ZÉ CURUCA</td>\n",
              "      <td>DEM</td>\n",
              "      <td>63</td>\n",
              "      <td>22</td>\n",
              "      <td>0</td>\n",
              "      <td>74.12</td>\n",
              "      <td>25.88</td>\n",
              "      <td>0.00</td>\n",
              "    </tr>\n",
              "    <tr>\n",
              "      <th>8</th>\n",
              "      <td>JUSTINIANO FRANÇA</td>\n",
              "      <td>DEM</td>\n",
              "      <td>0</td>\n",
              "      <td>0</td>\n",
              "      <td>85</td>\n",
              "      <td>0.00</td>\n",
              "      <td>0.00</td>\n",
              "      <td>100.00</td>\n",
              "    </tr>\n",
              "    <tr>\n",
              "      <th>9</th>\n",
              "      <td>PABLO ROBERTO</td>\n",
              "      <td>DEM</td>\n",
              "      <td>10</td>\n",
              "      <td>4</td>\n",
              "      <td>71</td>\n",
              "      <td>11.76</td>\n",
              "      <td>4.71</td>\n",
              "      <td>83.53</td>\n",
              "    </tr>\n",
              "    <tr>\n",
              "      <th>10</th>\n",
              "      <td>EDVALDO LIMA</td>\n",
              "      <td>MDB</td>\n",
              "      <td>61</td>\n",
              "      <td>24</td>\n",
              "      <td>0</td>\n",
              "      <td>71.76</td>\n",
              "      <td>28.24</td>\n",
              "      <td>0.00</td>\n",
              "    </tr>\n",
              "    <tr>\n",
              "      <th>11</th>\n",
              "      <td>FABIANO DA VAN</td>\n",
              "      <td>MDB</td>\n",
              "      <td>62</td>\n",
              "      <td>23</td>\n",
              "      <td>0</td>\n",
              "      <td>72.94</td>\n",
              "      <td>27.06</td>\n",
              "      <td>0.00</td>\n",
              "    </tr>\n",
              "    <tr>\n",
              "      <th>12</th>\n",
              "      <td>GILMAR AMORIM</td>\n",
              "      <td>MDB</td>\n",
              "      <td>61</td>\n",
              "      <td>24</td>\n",
              "      <td>0</td>\n",
              "      <td>71.76</td>\n",
              "      <td>28.24</td>\n",
              "      <td>0.00</td>\n",
              "    </tr>\n",
              "    <tr>\n",
              "      <th>13</th>\n",
              "      <td>ISAÍAS DE DIOGO</td>\n",
              "      <td>MDB</td>\n",
              "      <td>67</td>\n",
              "      <td>18</td>\n",
              "      <td>0</td>\n",
              "      <td>78.82</td>\n",
              "      <td>21.18</td>\n",
              "      <td>0.00</td>\n",
              "    </tr>\n",
              "    <tr>\n",
              "      <th>14</th>\n",
              "      <td>JOSÉ CARNEIRO</td>\n",
              "      <td>MDB</td>\n",
              "      <td>74</td>\n",
              "      <td>11</td>\n",
              "      <td>0</td>\n",
              "      <td>87.06</td>\n",
              "      <td>12.94</td>\n",
              "      <td>0.00</td>\n",
              "    </tr>\n",
              "    <tr>\n",
              "      <th>15</th>\n",
              "      <td>RON DO POVO</td>\n",
              "      <td>MDB</td>\n",
              "      <td>64</td>\n",
              "      <td>21</td>\n",
              "      <td>0</td>\n",
              "      <td>75.29</td>\n",
              "      <td>24.71</td>\n",
              "      <td>0.00</td>\n",
              "    </tr>\n",
              "    <tr>\n",
              "      <th>16</th>\n",
              "      <td>CÍNTIA MACHADO</td>\n",
              "      <td>REP</td>\n",
              "      <td>42</td>\n",
              "      <td>43</td>\n",
              "      <td>0</td>\n",
              "      <td>49.41</td>\n",
              "      <td>50.59</td>\n",
              "      <td>0.00</td>\n",
              "    </tr>\n",
              "    <tr>\n",
              "      <th>17</th>\n",
              "      <td>ELI RIBEIRO</td>\n",
              "      <td>REP</td>\n",
              "      <td>0</td>\n",
              "      <td>0</td>\n",
              "      <td>85</td>\n",
              "      <td>0.00</td>\n",
              "      <td>0.00</td>\n",
              "      <td>100.00</td>\n",
              "    </tr>\n",
              "    <tr>\n",
              "      <th>18</th>\n",
              "      <td>LUIZ DA FEIRA</td>\n",
              "      <td>PROS</td>\n",
              "      <td>63</td>\n",
              "      <td>22</td>\n",
              "      <td>0</td>\n",
              "      <td>74.12</td>\n",
              "      <td>25.88</td>\n",
              "      <td>0.00</td>\n",
              "    </tr>\n",
              "    <tr>\n",
              "      <th>19</th>\n",
              "      <td>ROBERTO TOURINHO</td>\n",
              "      <td>PSB</td>\n",
              "      <td>68</td>\n",
              "      <td>17</td>\n",
              "      <td>0</td>\n",
              "      <td>80.00</td>\n",
              "      <td>20.00</td>\n",
              "      <td>0.00</td>\n",
              "    </tr>\n",
              "    <tr>\n",
              "      <th>20</th>\n",
              "      <td>PR TOM</td>\n",
              "      <td>PATRI</td>\n",
              "      <td>48</td>\n",
              "      <td>37</td>\n",
              "      <td>0</td>\n",
              "      <td>56.47</td>\n",
              "      <td>43.53</td>\n",
              "      <td>0.00</td>\n",
              "    </tr>\n",
              "    <tr>\n",
              "      <th>21</th>\n",
              "      <td>SGT JOSAFÁ RAMOS</td>\n",
              "      <td>PATRI</td>\n",
              "      <td>0</td>\n",
              "      <td>0</td>\n",
              "      <td>85</td>\n",
              "      <td>0.00</td>\n",
              "      <td>0.00</td>\n",
              "      <td>100.00</td>\n",
              "    </tr>\n",
              "    <tr>\n",
              "      <th>22</th>\n",
              "      <td>JOÃO BILILIU</td>\n",
              "      <td>PSD</td>\n",
              "      <td>64</td>\n",
              "      <td>21</td>\n",
              "      <td>0</td>\n",
              "      <td>75.29</td>\n",
              "      <td>24.71</td>\n",
              "      <td>0.00</td>\n",
              "    </tr>\n",
              "    <tr>\n",
              "      <th>23</th>\n",
              "      <td>ZÉ FILÉ</td>\n",
              "      <td>PSD</td>\n",
              "      <td>59</td>\n",
              "      <td>26</td>\n",
              "      <td>0</td>\n",
              "      <td>69.41</td>\n",
              "      <td>30.59</td>\n",
              "      <td>0.00</td>\n",
              "    </tr>\n",
              "    <tr>\n",
              "      <th>24</th>\n",
              "      <td>EREMITA MOTA</td>\n",
              "      <td>PSDB</td>\n",
              "      <td>58</td>\n",
              "      <td>27</td>\n",
              "      <td>0</td>\n",
              "      <td>68.24</td>\n",
              "      <td>31.76</td>\n",
              "      <td>0.00</td>\n",
              "    </tr>\n",
              "    <tr>\n",
              "      <th>25</th>\n",
              "      <td>ROBECI DA VASSOURA</td>\n",
              "      <td>PHS</td>\n",
              "      <td>0</td>\n",
              "      <td>0</td>\n",
              "      <td>85</td>\n",
              "      <td>0.00</td>\n",
              "      <td>0.00</td>\n",
              "      <td>100.00</td>\n",
              "    </tr>\n",
              "    <tr>\n",
              "      <th>26</th>\n",
              "      <td>RONNY</td>\n",
              "      <td>PHS</td>\n",
              "      <td>1</td>\n",
              "      <td>3</td>\n",
              "      <td>81</td>\n",
              "      <td>1.18</td>\n",
              "      <td>3.53</td>\n",
              "      <td>95.29</td>\n",
              "    </tr>\n",
              "  </tbody>\n",
              "</table>\n",
              "</div>"
            ],
            "text/plain": [
              "                     name  party  ...  ausencia_rel  justificativa_rel\n",
              "0            ALBERTO NERY     PT  ...         34.12               0.00\n",
              "1   ANTONIO CARLOS ATAÍDE    DEM  ...         31.76               0.00\n",
              "2         CADMIEL PEREIRA    DEM  ...         14.12               0.00\n",
              "3          GERUSA SAMPAIO    DEM  ...          4.71               0.00\n",
              "4                 LULINHA    DEM  ...         20.00               0.00\n",
              "5             MARCOS LIMA    DEM  ...         30.59               0.00\n",
              "6                  NEINHA    DEM  ...         31.76              21.18\n",
              "7               ZÉ CURUCA    DEM  ...         25.88               0.00\n",
              "8       JUSTINIANO FRANÇA    DEM  ...          0.00             100.00\n",
              "9           PABLO ROBERTO    DEM  ...          4.71              83.53\n",
              "10           EDVALDO LIMA    MDB  ...         28.24               0.00\n",
              "11         FABIANO DA VAN    MDB  ...         27.06               0.00\n",
              "12          GILMAR AMORIM    MDB  ...         28.24               0.00\n",
              "13        ISAÍAS DE DIOGO    MDB  ...         21.18               0.00\n",
              "14          JOSÉ CARNEIRO    MDB  ...         12.94               0.00\n",
              "15            RON DO POVO    MDB  ...         24.71               0.00\n",
              "16         CÍNTIA MACHADO    REP  ...         50.59               0.00\n",
              "17            ELI RIBEIRO    REP  ...          0.00             100.00\n",
              "18          LUIZ DA FEIRA   PROS  ...         25.88               0.00\n",
              "19       ROBERTO TOURINHO    PSB  ...         20.00               0.00\n",
              "20                 PR TOM  PATRI  ...         43.53               0.00\n",
              "21       SGT JOSAFÁ RAMOS  PATRI  ...          0.00             100.00\n",
              "22           JOÃO BILILIU    PSD  ...         24.71               0.00\n",
              "23                ZÉ FILÉ    PSD  ...         30.59               0.00\n",
              "24           EREMITA MOTA   PSDB  ...         31.76               0.00\n",
              "25     ROBECI DA VASSOURA    PHS  ...          0.00             100.00\n",
              "26                  RONNY    PHS  ...          3.53              95.29\n",
              "\n",
              "[27 rows x 8 columns]"
            ]
          },
          "metadata": {}
        }
      ]
    },
    {
      "cell_type": "markdown",
      "metadata": {
        "id": "I0FER1O9THcb"
      },
      "source": [
        "No ano de 2017, Gerusa Sampaio (DEM) foi a veradora com maior quantidade absoluta de presenças, com 81 (95.29%); Cíntia Machado (REP) foi a vereadora com maior quantidade absoluta de ausências, com 43 (50.59%); Eli Ribeiro, Justiniano França, Robeci da Vassoura e Sgt. Josafá Ramos foram os vereadores com maior quantidade absoluta de justificativas, com 85 (100%)."
      ]
    },
    {
      "cell_type": "code",
      "metadata": {
        "colab": {
          "base_uri": "https://localhost:8080/"
        },
        "id": "QQeK_-PZncqR",
        "outputId": "7dd9d239-7d9b-40ca-e8e1-704db91dd82b"
      },
      "source": [
        "ano2018 = (paineldf['date'].dt.year == 2018)\n",
        "\n",
        "presenca = (paineldf['attendance'] == 'attending')\n",
        "\n",
        "presencas2018 = paineldf[ano2018 & presenca].groupby(['name', 'party'])\n",
        "presencas2018 = presencas2018['name'].count().reset_index(name='quantidade_presencas').sort_values('quantidade_presencas', ascending=False)\n",
        "display('Presenças dos vereadores no ano de 2018')\n",
        "display(presencas2018)\n",
        "print('\\n')\n",
        "\n",
        "ausencia = (paineldf['attendance'] == 'absent')\n",
        "ausencias2018 = paineldf[ano2018 & ausencia].groupby(['name', 'party'])\n",
        "ausencias2018 = ausencias2018['name'].count().reset_index(name='quantidade_ausencias').sort_values('quantidade_ausencias', ascending=False)\n",
        "display('Ausências dos vereadores no ano de 2018')\n",
        "display(ausencias2018)\n",
        "print('\\n')\n",
        "\n",
        "justificativa = (paineldf['attendance'] == 'justified')\n",
        "justificativas2018 = paineldf[ano2018 & justificativa].groupby(['name', 'party'])\n",
        "justificativas2018 = justificativas2018['name'].count().reset_index(name='quantidade_justificativas').sort_values('quantidade_justificativas', ascending=False)\n",
        "display('Justificativas dos vereadores no ano de 2018')\n",
        "display(justificativas2018)"
      ],
      "execution_count": null,
      "outputs": [
        {
          "output_type": "display_data",
          "data": {
            "application/vnd.google.colaboratory.intrinsic+json": {
              "type": "string"
            },
            "text/plain": [
              "'Presenças dos vereadores no ano de 2018'"
            ]
          },
          "metadata": {}
        },
        {
          "output_type": "display_data",
          "data": {
            "text/html": [
              "<div>\n",
              "<style scoped>\n",
              "    .dataframe tbody tr th:only-of-type {\n",
              "        vertical-align: middle;\n",
              "    }\n",
              "\n",
              "    .dataframe tbody tr th {\n",
              "        vertical-align: top;\n",
              "    }\n",
              "\n",
              "    .dataframe thead th {\n",
              "        text-align: right;\n",
              "    }\n",
              "</style>\n",
              "<table border=\"1\" class=\"dataframe\">\n",
              "  <thead>\n",
              "    <tr style=\"text-align: right;\">\n",
              "      <th></th>\n",
              "      <th>name</th>\n",
              "      <th>party</th>\n",
              "      <th>quantidade_presencas</th>\n",
              "    </tr>\n",
              "  </thead>\n",
              "  <tbody>\n",
              "    <tr>\n",
              "      <th>10</th>\n",
              "      <td>JOSÉ CARNEIRO</td>\n",
              "      <td>MDB</td>\n",
              "      <td>175</td>\n",
              "    </tr>\n",
              "    <tr>\n",
              "      <th>7</th>\n",
              "      <td>GERUSA SAMPAIO</td>\n",
              "      <td>DEM</td>\n",
              "      <td>159</td>\n",
              "    </tr>\n",
              "    <tr>\n",
              "      <th>13</th>\n",
              "      <td>LULINHA</td>\n",
              "      <td>DEM</td>\n",
              "      <td>146</td>\n",
              "    </tr>\n",
              "    <tr>\n",
              "      <th>2</th>\n",
              "      <td>CADMIEL PEREIRA</td>\n",
              "      <td>DEM</td>\n",
              "      <td>140</td>\n",
              "    </tr>\n",
              "    <tr>\n",
              "      <th>17</th>\n",
              "      <td>ROBERTO TOURINHO</td>\n",
              "      <td>PSB</td>\n",
              "      <td>133</td>\n",
              "    </tr>\n",
              "    <tr>\n",
              "      <th>9</th>\n",
              "      <td>ISAÍAS DE DIOGO</td>\n",
              "      <td>MDB</td>\n",
              "      <td>131</td>\n",
              "    </tr>\n",
              "    <tr>\n",
              "      <th>18</th>\n",
              "      <td>RON DO POVO</td>\n",
              "      <td>MDB</td>\n",
              "      <td>127</td>\n",
              "    </tr>\n",
              "    <tr>\n",
              "      <th>8</th>\n",
              "      <td>GILMAR AMORIM</td>\n",
              "      <td>MDB</td>\n",
              "      <td>127</td>\n",
              "    </tr>\n",
              "    <tr>\n",
              "      <th>19</th>\n",
              "      <td>ZÉ CURUCA</td>\n",
              "      <td>DEM</td>\n",
              "      <td>124</td>\n",
              "    </tr>\n",
              "    <tr>\n",
              "      <th>4</th>\n",
              "      <td>EDVALDO LIMA</td>\n",
              "      <td>MDB</td>\n",
              "      <td>124</td>\n",
              "    </tr>\n",
              "    <tr>\n",
              "      <th>14</th>\n",
              "      <td>MARCOS LIMA</td>\n",
              "      <td>DEM</td>\n",
              "      <td>124</td>\n",
              "    </tr>\n",
              "    <tr>\n",
              "      <th>11</th>\n",
              "      <td>JOÃO BILILIU</td>\n",
              "      <td>PSD</td>\n",
              "      <td>121</td>\n",
              "    </tr>\n",
              "    <tr>\n",
              "      <th>6</th>\n",
              "      <td>FABIANO DA VAN</td>\n",
              "      <td>MDB</td>\n",
              "      <td>120</td>\n",
              "    </tr>\n",
              "    <tr>\n",
              "      <th>1</th>\n",
              "      <td>ANTONIO CARLOS ATAÍDE</td>\n",
              "      <td>DEM</td>\n",
              "      <td>118</td>\n",
              "    </tr>\n",
              "    <tr>\n",
              "      <th>15</th>\n",
              "      <td>NEINHA</td>\n",
              "      <td>DEM</td>\n",
              "      <td>118</td>\n",
              "    </tr>\n",
              "    <tr>\n",
              "      <th>12</th>\n",
              "      <td>LUIZ DA FEIRA</td>\n",
              "      <td>PROS</td>\n",
              "      <td>116</td>\n",
              "    </tr>\n",
              "    <tr>\n",
              "      <th>20</th>\n",
              "      <td>ZÉ FILÉ</td>\n",
              "      <td>PSD</td>\n",
              "      <td>113</td>\n",
              "    </tr>\n",
              "    <tr>\n",
              "      <th>5</th>\n",
              "      <td>EREMITA MOTA</td>\n",
              "      <td>PSDB</td>\n",
              "      <td>113</td>\n",
              "    </tr>\n",
              "    <tr>\n",
              "      <th>0</th>\n",
              "      <td>ALBERTO NERY</td>\n",
              "      <td>PT</td>\n",
              "      <td>112</td>\n",
              "    </tr>\n",
              "    <tr>\n",
              "      <th>3</th>\n",
              "      <td>CÍNTIA MACHADO</td>\n",
              "      <td>REP</td>\n",
              "      <td>80</td>\n",
              "    </tr>\n",
              "    <tr>\n",
              "      <th>16</th>\n",
              "      <td>PR TOM</td>\n",
              "      <td>PATRI</td>\n",
              "      <td>78</td>\n",
              "    </tr>\n",
              "  </tbody>\n",
              "</table>\n",
              "</div>"
            ],
            "text/plain": [
              "                     name  party  quantidade_presencas\n",
              "10          JOSÉ CARNEIRO    MDB                   175\n",
              "7          GERUSA SAMPAIO    DEM                   159\n",
              "13                LULINHA    DEM                   146\n",
              "2         CADMIEL PEREIRA    DEM                   140\n",
              "17       ROBERTO TOURINHO    PSB                   133\n",
              "9         ISAÍAS DE DIOGO    MDB                   131\n",
              "18            RON DO POVO    MDB                   127\n",
              "8           GILMAR AMORIM    MDB                   127\n",
              "19              ZÉ CURUCA    DEM                   124\n",
              "4            EDVALDO LIMA    MDB                   124\n",
              "14            MARCOS LIMA    DEM                   124\n",
              "11           JOÃO BILILIU    PSD                   121\n",
              "6          FABIANO DA VAN    MDB                   120\n",
              "1   ANTONIO CARLOS ATAÍDE    DEM                   118\n",
              "15                 NEINHA    DEM                   118\n",
              "12          LUIZ DA FEIRA   PROS                   116\n",
              "20                ZÉ FILÉ    PSD                   113\n",
              "5            EREMITA MOTA   PSDB                   113\n",
              "0            ALBERTO NERY     PT                   112\n",
              "3          CÍNTIA MACHADO    REP                    80\n",
              "16                 PR TOM  PATRI                    78"
            ]
          },
          "metadata": {}
        },
        {
          "output_type": "stream",
          "name": "stdout",
          "text": [
            "\n",
            "\n"
          ]
        },
        {
          "output_type": "display_data",
          "data": {
            "application/vnd.google.colaboratory.intrinsic+json": {
              "type": "string"
            },
            "text/plain": [
              "'Ausências dos vereadores no ano de 2018'"
            ]
          },
          "metadata": {}
        },
        {
          "output_type": "display_data",
          "data": {
            "text/html": [
              "<div>\n",
              "<style scoped>\n",
              "    .dataframe tbody tr th:only-of-type {\n",
              "        vertical-align: middle;\n",
              "    }\n",
              "\n",
              "    .dataframe tbody tr th {\n",
              "        vertical-align: top;\n",
              "    }\n",
              "\n",
              "    .dataframe thead th {\n",
              "        text-align: right;\n",
              "    }\n",
              "</style>\n",
              "<table border=\"1\" class=\"dataframe\">\n",
              "  <thead>\n",
              "    <tr style=\"text-align: right;\">\n",
              "      <th></th>\n",
              "      <th>name</th>\n",
              "      <th>party</th>\n",
              "      <th>quantidade_ausencias</th>\n",
              "    </tr>\n",
              "  </thead>\n",
              "  <tbody>\n",
              "    <tr>\n",
              "      <th>16</th>\n",
              "      <td>PR TOM</td>\n",
              "      <td>PATRI</td>\n",
              "      <td>110</td>\n",
              "    </tr>\n",
              "    <tr>\n",
              "      <th>3</th>\n",
              "      <td>CÍNTIA MACHADO</td>\n",
              "      <td>REP</td>\n",
              "      <td>108</td>\n",
              "    </tr>\n",
              "    <tr>\n",
              "      <th>0</th>\n",
              "      <td>ALBERTO NERY</td>\n",
              "      <td>PT</td>\n",
              "      <td>76</td>\n",
              "    </tr>\n",
              "    <tr>\n",
              "      <th>5</th>\n",
              "      <td>EREMITA MOTA</td>\n",
              "      <td>PSDB</td>\n",
              "      <td>75</td>\n",
              "    </tr>\n",
              "    <tr>\n",
              "      <th>20</th>\n",
              "      <td>ZÉ FILÉ</td>\n",
              "      <td>PSD</td>\n",
              "      <td>75</td>\n",
              "    </tr>\n",
              "    <tr>\n",
              "      <th>12</th>\n",
              "      <td>LUIZ DA FEIRA</td>\n",
              "      <td>PROS</td>\n",
              "      <td>72</td>\n",
              "    </tr>\n",
              "    <tr>\n",
              "      <th>1</th>\n",
              "      <td>ANTONIO CARLOS ATAÍDE</td>\n",
              "      <td>DEM</td>\n",
              "      <td>70</td>\n",
              "    </tr>\n",
              "    <tr>\n",
              "      <th>15</th>\n",
              "      <td>NEINHA</td>\n",
              "      <td>DEM</td>\n",
              "      <td>70</td>\n",
              "    </tr>\n",
              "    <tr>\n",
              "      <th>6</th>\n",
              "      <td>FABIANO DA VAN</td>\n",
              "      <td>MDB</td>\n",
              "      <td>68</td>\n",
              "    </tr>\n",
              "    <tr>\n",
              "      <th>11</th>\n",
              "      <td>JOÃO BILILIU</td>\n",
              "      <td>PSD</td>\n",
              "      <td>67</td>\n",
              "    </tr>\n",
              "    <tr>\n",
              "      <th>4</th>\n",
              "      <td>EDVALDO LIMA</td>\n",
              "      <td>MDB</td>\n",
              "      <td>64</td>\n",
              "    </tr>\n",
              "    <tr>\n",
              "      <th>14</th>\n",
              "      <td>MARCOS LIMA</td>\n",
              "      <td>DEM</td>\n",
              "      <td>64</td>\n",
              "    </tr>\n",
              "    <tr>\n",
              "      <th>19</th>\n",
              "      <td>ZÉ CURUCA</td>\n",
              "      <td>DEM</td>\n",
              "      <td>63</td>\n",
              "    </tr>\n",
              "    <tr>\n",
              "      <th>8</th>\n",
              "      <td>GILMAR AMORIM</td>\n",
              "      <td>MDB</td>\n",
              "      <td>61</td>\n",
              "    </tr>\n",
              "    <tr>\n",
              "      <th>18</th>\n",
              "      <td>RON DO POVO</td>\n",
              "      <td>MDB</td>\n",
              "      <td>61</td>\n",
              "    </tr>\n",
              "    <tr>\n",
              "      <th>9</th>\n",
              "      <td>ISAÍAS DE DIOGO</td>\n",
              "      <td>MDB</td>\n",
              "      <td>57</td>\n",
              "    </tr>\n",
              "    <tr>\n",
              "      <th>17</th>\n",
              "      <td>ROBERTO TOURINHO</td>\n",
              "      <td>PSB</td>\n",
              "      <td>55</td>\n",
              "    </tr>\n",
              "    <tr>\n",
              "      <th>2</th>\n",
              "      <td>CADMIEL PEREIRA</td>\n",
              "      <td>DEM</td>\n",
              "      <td>48</td>\n",
              "    </tr>\n",
              "    <tr>\n",
              "      <th>13</th>\n",
              "      <td>LULINHA</td>\n",
              "      <td>DEM</td>\n",
              "      <td>42</td>\n",
              "    </tr>\n",
              "    <tr>\n",
              "      <th>7</th>\n",
              "      <td>GERUSA SAMPAIO</td>\n",
              "      <td>DEM</td>\n",
              "      <td>29</td>\n",
              "    </tr>\n",
              "    <tr>\n",
              "      <th>10</th>\n",
              "      <td>JOSÉ CARNEIRO</td>\n",
              "      <td>MDB</td>\n",
              "      <td>13</td>\n",
              "    </tr>\n",
              "  </tbody>\n",
              "</table>\n",
              "</div>"
            ],
            "text/plain": [
              "                     name  party  quantidade_ausencias\n",
              "16                 PR TOM  PATRI                   110\n",
              "3          CÍNTIA MACHADO    REP                   108\n",
              "0            ALBERTO NERY     PT                    76\n",
              "5            EREMITA MOTA   PSDB                    75\n",
              "20                ZÉ FILÉ    PSD                    75\n",
              "12          LUIZ DA FEIRA   PROS                    72\n",
              "1   ANTONIO CARLOS ATAÍDE    DEM                    70\n",
              "15                 NEINHA    DEM                    70\n",
              "6          FABIANO DA VAN    MDB                    68\n",
              "11           JOÃO BILILIU    PSD                    67\n",
              "4            EDVALDO LIMA    MDB                    64\n",
              "14            MARCOS LIMA    DEM                    64\n",
              "19              ZÉ CURUCA    DEM                    63\n",
              "8           GILMAR AMORIM    MDB                    61\n",
              "18            RON DO POVO    MDB                    61\n",
              "9         ISAÍAS DE DIOGO    MDB                    57\n",
              "17       ROBERTO TOURINHO    PSB                    55\n",
              "2         CADMIEL PEREIRA    DEM                    48\n",
              "13                LULINHA    DEM                    42\n",
              "7          GERUSA SAMPAIO    DEM                    29\n",
              "10          JOSÉ CARNEIRO    MDB                    13"
            ]
          },
          "metadata": {}
        },
        {
          "output_type": "stream",
          "name": "stdout",
          "text": [
            "\n",
            "\n"
          ]
        },
        {
          "output_type": "display_data",
          "data": {
            "application/vnd.google.colaboratory.intrinsic+json": {
              "type": "string"
            },
            "text/plain": [
              "'Justificativas dos vereadores no ano de 2018'"
            ]
          },
          "metadata": {}
        },
        {
          "output_type": "display_data",
          "data": {
            "text/html": [
              "<div>\n",
              "<style scoped>\n",
              "    .dataframe tbody tr th:only-of-type {\n",
              "        vertical-align: middle;\n",
              "    }\n",
              "\n",
              "    .dataframe tbody tr th {\n",
              "        vertical-align: top;\n",
              "    }\n",
              "\n",
              "    .dataframe thead th {\n",
              "        text-align: right;\n",
              "    }\n",
              "</style>\n",
              "<table border=\"1\" class=\"dataframe\">\n",
              "  <thead>\n",
              "    <tr style=\"text-align: right;\">\n",
              "      <th></th>\n",
              "      <th>name</th>\n",
              "      <th>party</th>\n",
              "      <th>quantidade_justificativas</th>\n",
              "    </tr>\n",
              "  </thead>\n",
              "  <tbody>\n",
              "    <tr>\n",
              "      <th>0</th>\n",
              "      <td>ELI RIBEIRO</td>\n",
              "      <td>REP</td>\n",
              "      <td>188</td>\n",
              "    </tr>\n",
              "    <tr>\n",
              "      <th>1</th>\n",
              "      <td>JUSTINIANO FRANÇA</td>\n",
              "      <td>DEM</td>\n",
              "      <td>188</td>\n",
              "    </tr>\n",
              "    <tr>\n",
              "      <th>2</th>\n",
              "      <td>PABLO ROBERTO</td>\n",
              "      <td>DEM</td>\n",
              "      <td>188</td>\n",
              "    </tr>\n",
              "    <tr>\n",
              "      <th>3</th>\n",
              "      <td>ROBECI DA VASSOURA</td>\n",
              "      <td>PHS</td>\n",
              "      <td>188</td>\n",
              "    </tr>\n",
              "    <tr>\n",
              "      <th>4</th>\n",
              "      <td>RONNY</td>\n",
              "      <td>PHS</td>\n",
              "      <td>188</td>\n",
              "    </tr>\n",
              "    <tr>\n",
              "      <th>5</th>\n",
              "      <td>SGT JOSAFÁ RAMOS</td>\n",
              "      <td>PATRI</td>\n",
              "      <td>188</td>\n",
              "    </tr>\n",
              "  </tbody>\n",
              "</table>\n",
              "</div>"
            ],
            "text/plain": [
              "                 name  party  quantidade_justificativas\n",
              "0         ELI RIBEIRO    REP                        188\n",
              "1   JUSTINIANO FRANÇA    DEM                        188\n",
              "2       PABLO ROBERTO    DEM                        188\n",
              "3  ROBECI DA VASSOURA    PHS                        188\n",
              "4               RONNY    PHS                        188\n",
              "5    SGT JOSAFÁ RAMOS  PATRI                        188"
            ]
          },
          "metadata": {}
        }
      ]
    },
    {
      "cell_type": "code",
      "metadata": {
        "colab": {
          "base_uri": "https://localhost:8080/"
        },
        "id": "4dyjVRLKYpE1",
        "outputId": "4e0ef642-ed17-4950-93e3-2f599c19df16"
      },
      "source": [
        "total_2018 = len(paineldf['session'][ano2018].unique())\n",
        "display('Total de Sessões em 2018')\n",
        "display(total_2018)\n",
        "print()\n",
        "\n",
        "participacoes2018 = pd.DataFrame()\n",
        "display('Comparecimento dos vereadores no ano de 2018')\n",
        "for vereador in df2018['name']:\n",
        "  df = pd.DataFrame([[vereador,\n",
        "                      df2018['party'][(df2018['name'] == vereador)].values[0],\n",
        "                      presencas2018['quantidade_presencas'][(presencas2018['name'] == vereador)].values[0] if vereador in presencas2018['name'].values else 0,\n",
        "                      ausencias2018['quantidade_ausencias'][(ausencias2018['name'] == vereador)].values[0] if vereador in ausencias2018['name'].values else 0,\n",
        "                      justificativas2018['quantidade_justificativas'][(justificativas2018['name'] == vereador)].values[0] if vereador in justificativas2018['name'].values else 0,\n",
        "                      round((presencas2018['quantidade_presencas'][(presencas2018['name'] == vereador)].values[0]) / total_2018 * 100, 2) if vereador in presencas2018['name'].values else 0,\n",
        "                      round((ausencias2018['quantidade_ausencias'][(ausencias2018['name'] == vereador)].values[0]) / total_2018 * 100, 2) if vereador in ausencias2018['name'].values else 0,\n",
        "                      round((justificativas2018['quantidade_justificativas'][(justificativas2018['name'] == vereador)].values[0]) / total_2018 * 100, 2) if vereador in justificativas2018['name'].values else 0]],\n",
        "                    columns=['name', 'party', 'presenca', 'ausencia', 'justificativa', 'presenca_rel', 'ausencia_rel', 'justificativa_rel'])\n",
        "  participacoes2018 = participacoes2018.append(df, ignore_index=True)\n",
        "\n",
        "display(participacoes2018)"
      ],
      "execution_count": null,
      "outputs": [
        {
          "output_type": "display_data",
          "data": {
            "application/vnd.google.colaboratory.intrinsic+json": {
              "type": "string"
            },
            "text/plain": [
              "'Total de Sessões em 2018'"
            ]
          },
          "metadata": {}
        },
        {
          "output_type": "display_data",
          "data": {
            "text/plain": [
              "188"
            ]
          },
          "metadata": {}
        },
        {
          "output_type": "stream",
          "name": "stdout",
          "text": [
            "\n"
          ]
        },
        {
          "output_type": "display_data",
          "data": {
            "application/vnd.google.colaboratory.intrinsic+json": {
              "type": "string"
            },
            "text/plain": [
              "'Comparecimento dos vereadores no ano de 2018'"
            ]
          },
          "metadata": {}
        },
        {
          "output_type": "display_data",
          "data": {
            "text/html": [
              "<div>\n",
              "<style scoped>\n",
              "    .dataframe tbody tr th:only-of-type {\n",
              "        vertical-align: middle;\n",
              "    }\n",
              "\n",
              "    .dataframe tbody tr th {\n",
              "        vertical-align: top;\n",
              "    }\n",
              "\n",
              "    .dataframe thead th {\n",
              "        text-align: right;\n",
              "    }\n",
              "</style>\n",
              "<table border=\"1\" class=\"dataframe\">\n",
              "  <thead>\n",
              "    <tr style=\"text-align: right;\">\n",
              "      <th></th>\n",
              "      <th>name</th>\n",
              "      <th>party</th>\n",
              "      <th>presenca</th>\n",
              "      <th>ausencia</th>\n",
              "      <th>justificativa</th>\n",
              "      <th>presenca_rel</th>\n",
              "      <th>ausencia_rel</th>\n",
              "      <th>justificativa_rel</th>\n",
              "    </tr>\n",
              "  </thead>\n",
              "  <tbody>\n",
              "    <tr>\n",
              "      <th>0</th>\n",
              "      <td>ALBERTO NERY</td>\n",
              "      <td>PT</td>\n",
              "      <td>112</td>\n",
              "      <td>76</td>\n",
              "      <td>0</td>\n",
              "      <td>59.57</td>\n",
              "      <td>40.43</td>\n",
              "      <td>0.0</td>\n",
              "    </tr>\n",
              "    <tr>\n",
              "      <th>1</th>\n",
              "      <td>GERUSA SAMPAIO</td>\n",
              "      <td>DEM</td>\n",
              "      <td>159</td>\n",
              "      <td>29</td>\n",
              "      <td>0</td>\n",
              "      <td>84.57</td>\n",
              "      <td>15.43</td>\n",
              "      <td>0.0</td>\n",
              "    </tr>\n",
              "    <tr>\n",
              "      <th>2</th>\n",
              "      <td>ANTONIO CARLOS ATAÍDE</td>\n",
              "      <td>DEM</td>\n",
              "      <td>118</td>\n",
              "      <td>70</td>\n",
              "      <td>0</td>\n",
              "      <td>62.77</td>\n",
              "      <td>37.23</td>\n",
              "      <td>0.0</td>\n",
              "    </tr>\n",
              "    <tr>\n",
              "      <th>3</th>\n",
              "      <td>CADMIEL PEREIRA</td>\n",
              "      <td>DEM</td>\n",
              "      <td>140</td>\n",
              "      <td>48</td>\n",
              "      <td>0</td>\n",
              "      <td>74.47</td>\n",
              "      <td>25.53</td>\n",
              "      <td>0.0</td>\n",
              "    </tr>\n",
              "    <tr>\n",
              "      <th>4</th>\n",
              "      <td>LULINHA</td>\n",
              "      <td>DEM</td>\n",
              "      <td>146</td>\n",
              "      <td>42</td>\n",
              "      <td>0</td>\n",
              "      <td>77.66</td>\n",
              "      <td>22.34</td>\n",
              "      <td>0.0</td>\n",
              "    </tr>\n",
              "    <tr>\n",
              "      <th>5</th>\n",
              "      <td>MARCOS LIMA</td>\n",
              "      <td>DEM</td>\n",
              "      <td>124</td>\n",
              "      <td>64</td>\n",
              "      <td>0</td>\n",
              "      <td>65.96</td>\n",
              "      <td>34.04</td>\n",
              "      <td>0.0</td>\n",
              "    </tr>\n",
              "    <tr>\n",
              "      <th>6</th>\n",
              "      <td>NEINHA</td>\n",
              "      <td>DEM</td>\n",
              "      <td>118</td>\n",
              "      <td>70</td>\n",
              "      <td>0</td>\n",
              "      <td>62.77</td>\n",
              "      <td>37.23</td>\n",
              "      <td>0.0</td>\n",
              "    </tr>\n",
              "    <tr>\n",
              "      <th>7</th>\n",
              "      <td>ZÉ CURUCA</td>\n",
              "      <td>DEM</td>\n",
              "      <td>124</td>\n",
              "      <td>63</td>\n",
              "      <td>0</td>\n",
              "      <td>65.96</td>\n",
              "      <td>33.51</td>\n",
              "      <td>0.0</td>\n",
              "    </tr>\n",
              "    <tr>\n",
              "      <th>8</th>\n",
              "      <td>JUSTINIANO FRANÇA</td>\n",
              "      <td>DEM</td>\n",
              "      <td>0</td>\n",
              "      <td>0</td>\n",
              "      <td>188</td>\n",
              "      <td>0.00</td>\n",
              "      <td>0.00</td>\n",
              "      <td>100.0</td>\n",
              "    </tr>\n",
              "    <tr>\n",
              "      <th>9</th>\n",
              "      <td>PABLO ROBERTO</td>\n",
              "      <td>DEM</td>\n",
              "      <td>0</td>\n",
              "      <td>0</td>\n",
              "      <td>188</td>\n",
              "      <td>0.00</td>\n",
              "      <td>0.00</td>\n",
              "      <td>100.0</td>\n",
              "    </tr>\n",
              "    <tr>\n",
              "      <th>10</th>\n",
              "      <td>JOSÉ CARNEIRO</td>\n",
              "      <td>MDB</td>\n",
              "      <td>175</td>\n",
              "      <td>13</td>\n",
              "      <td>0</td>\n",
              "      <td>93.09</td>\n",
              "      <td>6.91</td>\n",
              "      <td>0.0</td>\n",
              "    </tr>\n",
              "    <tr>\n",
              "      <th>11</th>\n",
              "      <td>EDVALDO LIMA</td>\n",
              "      <td>MDB</td>\n",
              "      <td>124</td>\n",
              "      <td>64</td>\n",
              "      <td>0</td>\n",
              "      <td>65.96</td>\n",
              "      <td>34.04</td>\n",
              "      <td>0.0</td>\n",
              "    </tr>\n",
              "    <tr>\n",
              "      <th>12</th>\n",
              "      <td>FABIANO DA VAN</td>\n",
              "      <td>MDB</td>\n",
              "      <td>120</td>\n",
              "      <td>68</td>\n",
              "      <td>0</td>\n",
              "      <td>63.83</td>\n",
              "      <td>36.17</td>\n",
              "      <td>0.0</td>\n",
              "    </tr>\n",
              "    <tr>\n",
              "      <th>13</th>\n",
              "      <td>GILMAR AMORIM</td>\n",
              "      <td>MDB</td>\n",
              "      <td>127</td>\n",
              "      <td>61</td>\n",
              "      <td>0</td>\n",
              "      <td>67.55</td>\n",
              "      <td>32.45</td>\n",
              "      <td>0.0</td>\n",
              "    </tr>\n",
              "    <tr>\n",
              "      <th>14</th>\n",
              "      <td>ISAÍAS DE DIOGO</td>\n",
              "      <td>MDB</td>\n",
              "      <td>131</td>\n",
              "      <td>57</td>\n",
              "      <td>0</td>\n",
              "      <td>69.68</td>\n",
              "      <td>30.32</td>\n",
              "      <td>0.0</td>\n",
              "    </tr>\n",
              "    <tr>\n",
              "      <th>15</th>\n",
              "      <td>RON DO POVO</td>\n",
              "      <td>MDB</td>\n",
              "      <td>127</td>\n",
              "      <td>61</td>\n",
              "      <td>0</td>\n",
              "      <td>67.55</td>\n",
              "      <td>32.45</td>\n",
              "      <td>0.0</td>\n",
              "    </tr>\n",
              "    <tr>\n",
              "      <th>16</th>\n",
              "      <td>CÍNTIA MACHADO</td>\n",
              "      <td>REP</td>\n",
              "      <td>80</td>\n",
              "      <td>108</td>\n",
              "      <td>0</td>\n",
              "      <td>42.55</td>\n",
              "      <td>57.45</td>\n",
              "      <td>0.0</td>\n",
              "    </tr>\n",
              "    <tr>\n",
              "      <th>17</th>\n",
              "      <td>ELI RIBEIRO</td>\n",
              "      <td>REP</td>\n",
              "      <td>0</td>\n",
              "      <td>0</td>\n",
              "      <td>188</td>\n",
              "      <td>0.00</td>\n",
              "      <td>0.00</td>\n",
              "      <td>100.0</td>\n",
              "    </tr>\n",
              "    <tr>\n",
              "      <th>18</th>\n",
              "      <td>LUIZ DA FEIRA</td>\n",
              "      <td>PROS</td>\n",
              "      <td>116</td>\n",
              "      <td>72</td>\n",
              "      <td>0</td>\n",
              "      <td>61.70</td>\n",
              "      <td>38.30</td>\n",
              "      <td>0.0</td>\n",
              "    </tr>\n",
              "    <tr>\n",
              "      <th>19</th>\n",
              "      <td>ROBERTO TOURINHO</td>\n",
              "      <td>PSB</td>\n",
              "      <td>133</td>\n",
              "      <td>55</td>\n",
              "      <td>0</td>\n",
              "      <td>70.74</td>\n",
              "      <td>29.26</td>\n",
              "      <td>0.0</td>\n",
              "    </tr>\n",
              "    <tr>\n",
              "      <th>20</th>\n",
              "      <td>PR TOM</td>\n",
              "      <td>PATRI</td>\n",
              "      <td>78</td>\n",
              "      <td>110</td>\n",
              "      <td>0</td>\n",
              "      <td>41.49</td>\n",
              "      <td>58.51</td>\n",
              "      <td>0.0</td>\n",
              "    </tr>\n",
              "    <tr>\n",
              "      <th>21</th>\n",
              "      <td>SGT JOSAFÁ RAMOS</td>\n",
              "      <td>PATRI</td>\n",
              "      <td>0</td>\n",
              "      <td>0</td>\n",
              "      <td>188</td>\n",
              "      <td>0.00</td>\n",
              "      <td>0.00</td>\n",
              "      <td>100.0</td>\n",
              "    </tr>\n",
              "    <tr>\n",
              "      <th>22</th>\n",
              "      <td>JOÃO BILILIU</td>\n",
              "      <td>PSD</td>\n",
              "      <td>121</td>\n",
              "      <td>67</td>\n",
              "      <td>0</td>\n",
              "      <td>64.36</td>\n",
              "      <td>35.64</td>\n",
              "      <td>0.0</td>\n",
              "    </tr>\n",
              "    <tr>\n",
              "      <th>23</th>\n",
              "      <td>ZÉ FILÉ</td>\n",
              "      <td>PSD</td>\n",
              "      <td>113</td>\n",
              "      <td>75</td>\n",
              "      <td>0</td>\n",
              "      <td>60.11</td>\n",
              "      <td>39.89</td>\n",
              "      <td>0.0</td>\n",
              "    </tr>\n",
              "    <tr>\n",
              "      <th>24</th>\n",
              "      <td>EREMITA MOTA</td>\n",
              "      <td>PSDB</td>\n",
              "      <td>113</td>\n",
              "      <td>75</td>\n",
              "      <td>0</td>\n",
              "      <td>60.11</td>\n",
              "      <td>39.89</td>\n",
              "      <td>0.0</td>\n",
              "    </tr>\n",
              "    <tr>\n",
              "      <th>25</th>\n",
              "      <td>ROBECI DA VASSOURA</td>\n",
              "      <td>PHS</td>\n",
              "      <td>0</td>\n",
              "      <td>0</td>\n",
              "      <td>188</td>\n",
              "      <td>0.00</td>\n",
              "      <td>0.00</td>\n",
              "      <td>100.0</td>\n",
              "    </tr>\n",
              "    <tr>\n",
              "      <th>26</th>\n",
              "      <td>RONNY</td>\n",
              "      <td>PHS</td>\n",
              "      <td>0</td>\n",
              "      <td>0</td>\n",
              "      <td>188</td>\n",
              "      <td>0.00</td>\n",
              "      <td>0.00</td>\n",
              "      <td>100.0</td>\n",
              "    </tr>\n",
              "  </tbody>\n",
              "</table>\n",
              "</div>"
            ],
            "text/plain": [
              "                     name  party  ...  ausencia_rel  justificativa_rel\n",
              "0            ALBERTO NERY     PT  ...         40.43                0.0\n",
              "1          GERUSA SAMPAIO    DEM  ...         15.43                0.0\n",
              "2   ANTONIO CARLOS ATAÍDE    DEM  ...         37.23                0.0\n",
              "3         CADMIEL PEREIRA    DEM  ...         25.53                0.0\n",
              "4                 LULINHA    DEM  ...         22.34                0.0\n",
              "5             MARCOS LIMA    DEM  ...         34.04                0.0\n",
              "6                  NEINHA    DEM  ...         37.23                0.0\n",
              "7               ZÉ CURUCA    DEM  ...         33.51                0.0\n",
              "8       JUSTINIANO FRANÇA    DEM  ...          0.00              100.0\n",
              "9           PABLO ROBERTO    DEM  ...          0.00              100.0\n",
              "10          JOSÉ CARNEIRO    MDB  ...          6.91                0.0\n",
              "11           EDVALDO LIMA    MDB  ...         34.04                0.0\n",
              "12         FABIANO DA VAN    MDB  ...         36.17                0.0\n",
              "13          GILMAR AMORIM    MDB  ...         32.45                0.0\n",
              "14        ISAÍAS DE DIOGO    MDB  ...         30.32                0.0\n",
              "15            RON DO POVO    MDB  ...         32.45                0.0\n",
              "16         CÍNTIA MACHADO    REP  ...         57.45                0.0\n",
              "17            ELI RIBEIRO    REP  ...          0.00              100.0\n",
              "18          LUIZ DA FEIRA   PROS  ...         38.30                0.0\n",
              "19       ROBERTO TOURINHO    PSB  ...         29.26                0.0\n",
              "20                 PR TOM  PATRI  ...         58.51                0.0\n",
              "21       SGT JOSAFÁ RAMOS  PATRI  ...          0.00              100.0\n",
              "22           JOÃO BILILIU    PSD  ...         35.64                0.0\n",
              "23                ZÉ FILÉ    PSD  ...         39.89                0.0\n",
              "24           EREMITA MOTA   PSDB  ...         39.89                0.0\n",
              "25     ROBECI DA VASSOURA    PHS  ...          0.00              100.0\n",
              "26                  RONNY    PHS  ...          0.00              100.0\n",
              "\n",
              "[27 rows x 8 columns]"
            ]
          },
          "metadata": {}
        }
      ]
    },
    {
      "cell_type": "markdown",
      "metadata": {
        "id": "6FzH39_NUhUz"
      },
      "source": [
        "No ano de 2018, José Carneiro\t(MDB)\tfoi o verador com maior quantidade absoluta de presenças, com 175 (93.09%); Pr. Tom foi o vereador com maior quantidade absoluta de ausências, com 110 (58.51%); Eli Ribeiro, Justiniano França, Robeci da Vassoura, Sgt. Josafá Ramos e Ronny foram os vereadores com maior quantidade absoluta de justificativas, com 188 (100%)."
      ]
    },
    {
      "cell_type": "code",
      "metadata": {
        "colab": {
          "base_uri": "https://localhost:8080/"
        },
        "id": "II3TdtQ2ncqR",
        "outputId": "a3b1a4b0-1d04-494b-d7c9-9e2e55ed8a1d"
      },
      "source": [
        "ano2019 = (paineldf['date'].dt.year == 2019)\n",
        "\n",
        "presenca = (paineldf['attendance'] == 'attending')\n",
        "\n",
        "presencas2019 = paineldf[ano2019 & presenca].groupby(['name', 'party'])\n",
        "presencas2019 = presencas2019['name'].count().reset_index(name='quantidade_presencas').sort_values('quantidade_presencas', ascending=False)\n",
        "display('Presenças dos vereadores no ano de 2019')\n",
        "display(presencas2019)\n",
        "print('\\n')\n",
        "\n",
        "ausencia = (paineldf['attendance'] == 'absent')\n",
        "ausencias2019 = paineldf[ano2019 & ausencia].groupby(['name', 'party'])\n",
        "ausencias2019 = ausencias2019['name'].count().reset_index(name='quantidade_ausencias').sort_values('quantidade_ausencias', ascending=False)\n",
        "display('Ausências dos vereadores no ano de 2019')\n",
        "display(ausencias2019)\n",
        "print('\\n')\n",
        "\n",
        "justificativa = (paineldf['attendance'] == 'justified')\n",
        "justificativas2019 = paineldf[ano2019 & justificativa].groupby(['name', 'party'])\n",
        "justificativas2019 = justificativas2019['name'].count().reset_index(name='quantidade_justificativas').sort_values('quantidade_justificativas', ascending=False)\n",
        "display('Justificativas dos vereadores no ano de 2019')\n",
        "display(justificativas2019)"
      ],
      "execution_count": null,
      "outputs": [
        {
          "output_type": "display_data",
          "data": {
            "application/vnd.google.colaboratory.intrinsic+json": {
              "type": "string"
            },
            "text/plain": [
              "'Presenças dos vereadores no ano de 2019'"
            ]
          },
          "metadata": {}
        },
        {
          "output_type": "display_data",
          "data": {
            "text/html": [
              "<div>\n",
              "<style scoped>\n",
              "    .dataframe tbody tr th:only-of-type {\n",
              "        vertical-align: middle;\n",
              "    }\n",
              "\n",
              "    .dataframe tbody tr th {\n",
              "        vertical-align: top;\n",
              "    }\n",
              "\n",
              "    .dataframe thead th {\n",
              "        text-align: right;\n",
              "    }\n",
              "</style>\n",
              "<table border=\"1\" class=\"dataframe\">\n",
              "  <thead>\n",
              "    <tr style=\"text-align: right;\">\n",
              "      <th></th>\n",
              "      <th>name</th>\n",
              "      <th>party</th>\n",
              "      <th>quantidade_presencas</th>\n",
              "    </tr>\n",
              "  </thead>\n",
              "  <tbody>\n",
              "    <tr>\n",
              "      <th>7</th>\n",
              "      <td>GERUSA SAMPAIO</td>\n",
              "      <td>DEM</td>\n",
              "      <td>164</td>\n",
              "    </tr>\n",
              "    <tr>\n",
              "      <th>10</th>\n",
              "      <td>JOSÉ CARNEIRO</td>\n",
              "      <td>MDB</td>\n",
              "      <td>162</td>\n",
              "    </tr>\n",
              "    <tr>\n",
              "      <th>2</th>\n",
              "      <td>CADMIEL PEREIRA</td>\n",
              "      <td>DEM</td>\n",
              "      <td>144</td>\n",
              "    </tr>\n",
              "    <tr>\n",
              "      <th>13</th>\n",
              "      <td>LULINHA</td>\n",
              "      <td>DEM</td>\n",
              "      <td>143</td>\n",
              "    </tr>\n",
              "    <tr>\n",
              "      <th>17</th>\n",
              "      <td>ROBERTO TOURINHO</td>\n",
              "      <td>PSB</td>\n",
              "      <td>137</td>\n",
              "    </tr>\n",
              "    <tr>\n",
              "      <th>11</th>\n",
              "      <td>JOÃO BILILIU</td>\n",
              "      <td>PSD</td>\n",
              "      <td>130</td>\n",
              "    </tr>\n",
              "    <tr>\n",
              "      <th>9</th>\n",
              "      <td>ISAÍAS DE DIOGO</td>\n",
              "      <td>MDB</td>\n",
              "      <td>130</td>\n",
              "    </tr>\n",
              "    <tr>\n",
              "      <th>0</th>\n",
              "      <td>ALBERTO NERY</td>\n",
              "      <td>PT</td>\n",
              "      <td>130</td>\n",
              "    </tr>\n",
              "    <tr>\n",
              "      <th>14</th>\n",
              "      <td>MARCOS LIMA</td>\n",
              "      <td>DEM</td>\n",
              "      <td>125</td>\n",
              "    </tr>\n",
              "    <tr>\n",
              "      <th>12</th>\n",
              "      <td>LUIZ DA FEIRA</td>\n",
              "      <td>PROS</td>\n",
              "      <td>124</td>\n",
              "    </tr>\n",
              "    <tr>\n",
              "      <th>4</th>\n",
              "      <td>EDVALDO LIMA</td>\n",
              "      <td>MDB</td>\n",
              "      <td>124</td>\n",
              "    </tr>\n",
              "    <tr>\n",
              "      <th>8</th>\n",
              "      <td>GILMAR AMORIM</td>\n",
              "      <td>MDB</td>\n",
              "      <td>123</td>\n",
              "    </tr>\n",
              "    <tr>\n",
              "      <th>6</th>\n",
              "      <td>FABIANO DA VAN</td>\n",
              "      <td>MDB</td>\n",
              "      <td>121</td>\n",
              "    </tr>\n",
              "    <tr>\n",
              "      <th>5</th>\n",
              "      <td>EREMITA MOTA</td>\n",
              "      <td>PSDB</td>\n",
              "      <td>121</td>\n",
              "    </tr>\n",
              "    <tr>\n",
              "      <th>15</th>\n",
              "      <td>NEINHA</td>\n",
              "      <td>DEM</td>\n",
              "      <td>119</td>\n",
              "    </tr>\n",
              "    <tr>\n",
              "      <th>16</th>\n",
              "      <td>ROBECI DA VASSOURA</td>\n",
              "      <td>PHS</td>\n",
              "      <td>118</td>\n",
              "    </tr>\n",
              "    <tr>\n",
              "      <th>19</th>\n",
              "      <td>ZÉ CURUCA</td>\n",
              "      <td>DEM</td>\n",
              "      <td>118</td>\n",
              "    </tr>\n",
              "    <tr>\n",
              "      <th>20</th>\n",
              "      <td>ZÉ FILÉ</td>\n",
              "      <td>PSD</td>\n",
              "      <td>118</td>\n",
              "    </tr>\n",
              "    <tr>\n",
              "      <th>18</th>\n",
              "      <td>RON DO POVO</td>\n",
              "      <td>MDB</td>\n",
              "      <td>114</td>\n",
              "    </tr>\n",
              "    <tr>\n",
              "      <th>1</th>\n",
              "      <td>ANTONIO CARLOS ATAÍDE</td>\n",
              "      <td>DEM</td>\n",
              "      <td>111</td>\n",
              "    </tr>\n",
              "    <tr>\n",
              "      <th>3</th>\n",
              "      <td>CÍNTIA MACHADO</td>\n",
              "      <td>REP</td>\n",
              "      <td>102</td>\n",
              "    </tr>\n",
              "  </tbody>\n",
              "</table>\n",
              "</div>"
            ],
            "text/plain": [
              "                     name party  quantidade_presencas\n",
              "7          GERUSA SAMPAIO   DEM                   164\n",
              "10          JOSÉ CARNEIRO   MDB                   162\n",
              "2         CADMIEL PEREIRA   DEM                   144\n",
              "13                LULINHA   DEM                   143\n",
              "17       ROBERTO TOURINHO   PSB                   137\n",
              "11           JOÃO BILILIU   PSD                   130\n",
              "9         ISAÍAS DE DIOGO   MDB                   130\n",
              "0            ALBERTO NERY    PT                   130\n",
              "14            MARCOS LIMA   DEM                   125\n",
              "12          LUIZ DA FEIRA  PROS                   124\n",
              "4            EDVALDO LIMA   MDB                   124\n",
              "8           GILMAR AMORIM   MDB                   123\n",
              "6          FABIANO DA VAN   MDB                   121\n",
              "5            EREMITA MOTA  PSDB                   121\n",
              "15                 NEINHA   DEM                   119\n",
              "16     ROBECI DA VASSOURA   PHS                   118\n",
              "19              ZÉ CURUCA   DEM                   118\n",
              "20                ZÉ FILÉ   PSD                   118\n",
              "18            RON DO POVO   MDB                   114\n",
              "1   ANTONIO CARLOS ATAÍDE   DEM                   111\n",
              "3          CÍNTIA MACHADO   REP                   102"
            ]
          },
          "metadata": {}
        },
        {
          "output_type": "stream",
          "name": "stdout",
          "text": [
            "\n",
            "\n"
          ]
        },
        {
          "output_type": "display_data",
          "data": {
            "application/vnd.google.colaboratory.intrinsic+json": {
              "type": "string"
            },
            "text/plain": [
              "'Ausências dos vereadores no ano de 2019'"
            ]
          },
          "metadata": {}
        },
        {
          "output_type": "display_data",
          "data": {
            "text/html": [
              "<div>\n",
              "<style scoped>\n",
              "    .dataframe tbody tr th:only-of-type {\n",
              "        vertical-align: middle;\n",
              "    }\n",
              "\n",
              "    .dataframe tbody tr th {\n",
              "        vertical-align: top;\n",
              "    }\n",
              "\n",
              "    .dataframe thead th {\n",
              "        text-align: right;\n",
              "    }\n",
              "</style>\n",
              "<table border=\"1\" class=\"dataframe\">\n",
              "  <thead>\n",
              "    <tr style=\"text-align: right;\">\n",
              "      <th></th>\n",
              "      <th>name</th>\n",
              "      <th>party</th>\n",
              "      <th>quantidade_ausencias</th>\n",
              "    </tr>\n",
              "  </thead>\n",
              "  <tbody>\n",
              "    <tr>\n",
              "      <th>3</th>\n",
              "      <td>CÍNTIA MACHADO</td>\n",
              "      <td>REP</td>\n",
              "      <td>83</td>\n",
              "    </tr>\n",
              "    <tr>\n",
              "      <th>1</th>\n",
              "      <td>ANTONIO CARLOS ATAÍDE</td>\n",
              "      <td>DEM</td>\n",
              "      <td>74</td>\n",
              "    </tr>\n",
              "    <tr>\n",
              "      <th>19</th>\n",
              "      <td>RON DO POVO</td>\n",
              "      <td>MDB</td>\n",
              "      <td>71</td>\n",
              "    </tr>\n",
              "    <tr>\n",
              "      <th>21</th>\n",
              "      <td>ZÉ FILÉ</td>\n",
              "      <td>PSD</td>\n",
              "      <td>67</td>\n",
              "    </tr>\n",
              "    <tr>\n",
              "      <th>20</th>\n",
              "      <td>ZÉ CURUCA</td>\n",
              "      <td>DEM</td>\n",
              "      <td>67</td>\n",
              "    </tr>\n",
              "    <tr>\n",
              "      <th>15</th>\n",
              "      <td>NEINHA</td>\n",
              "      <td>DEM</td>\n",
              "      <td>66</td>\n",
              "    </tr>\n",
              "    <tr>\n",
              "      <th>5</th>\n",
              "      <td>EREMITA MOTA</td>\n",
              "      <td>PSDB</td>\n",
              "      <td>64</td>\n",
              "    </tr>\n",
              "    <tr>\n",
              "      <th>6</th>\n",
              "      <td>FABIANO DA VAN</td>\n",
              "      <td>MDB</td>\n",
              "      <td>64</td>\n",
              "    </tr>\n",
              "    <tr>\n",
              "      <th>17</th>\n",
              "      <td>ROBECI DA VASSOURA</td>\n",
              "      <td>PHS</td>\n",
              "      <td>63</td>\n",
              "    </tr>\n",
              "    <tr>\n",
              "      <th>8</th>\n",
              "      <td>GILMAR AMORIM</td>\n",
              "      <td>MDB</td>\n",
              "      <td>62</td>\n",
              "    </tr>\n",
              "    <tr>\n",
              "      <th>4</th>\n",
              "      <td>EDVALDO LIMA</td>\n",
              "      <td>MDB</td>\n",
              "      <td>61</td>\n",
              "    </tr>\n",
              "    <tr>\n",
              "      <th>12</th>\n",
              "      <td>LUIZ DA FEIRA</td>\n",
              "      <td>PROS</td>\n",
              "      <td>61</td>\n",
              "    </tr>\n",
              "    <tr>\n",
              "      <th>14</th>\n",
              "      <td>MARCOS LIMA</td>\n",
              "      <td>DEM</td>\n",
              "      <td>60</td>\n",
              "    </tr>\n",
              "    <tr>\n",
              "      <th>0</th>\n",
              "      <td>ALBERTO NERY</td>\n",
              "      <td>PT</td>\n",
              "      <td>55</td>\n",
              "    </tr>\n",
              "    <tr>\n",
              "      <th>9</th>\n",
              "      <td>ISAÍAS DE DIOGO</td>\n",
              "      <td>MDB</td>\n",
              "      <td>55</td>\n",
              "    </tr>\n",
              "    <tr>\n",
              "      <th>11</th>\n",
              "      <td>JOÃO BILILIU</td>\n",
              "      <td>PSD</td>\n",
              "      <td>55</td>\n",
              "    </tr>\n",
              "    <tr>\n",
              "      <th>18</th>\n",
              "      <td>ROBERTO TOURINHO</td>\n",
              "      <td>PSB</td>\n",
              "      <td>48</td>\n",
              "    </tr>\n",
              "    <tr>\n",
              "      <th>13</th>\n",
              "      <td>LULINHA</td>\n",
              "      <td>DEM</td>\n",
              "      <td>42</td>\n",
              "    </tr>\n",
              "    <tr>\n",
              "      <th>2</th>\n",
              "      <td>CADMIEL PEREIRA</td>\n",
              "      <td>DEM</td>\n",
              "      <td>41</td>\n",
              "    </tr>\n",
              "    <tr>\n",
              "      <th>7</th>\n",
              "      <td>GERUSA SAMPAIO</td>\n",
              "      <td>DEM</td>\n",
              "      <td>21</td>\n",
              "    </tr>\n",
              "    <tr>\n",
              "      <th>10</th>\n",
              "      <td>JOSÉ CARNEIRO</td>\n",
              "      <td>MDB</td>\n",
              "      <td>19</td>\n",
              "    </tr>\n",
              "    <tr>\n",
              "      <th>16</th>\n",
              "      <td>PR TOM</td>\n",
              "      <td>PATRI</td>\n",
              "      <td>1</td>\n",
              "    </tr>\n",
              "  </tbody>\n",
              "</table>\n",
              "</div>"
            ],
            "text/plain": [
              "                     name  party  quantidade_ausencias\n",
              "3          CÍNTIA MACHADO    REP                    83\n",
              "1   ANTONIO CARLOS ATAÍDE    DEM                    74\n",
              "19            RON DO POVO    MDB                    71\n",
              "21                ZÉ FILÉ    PSD                    67\n",
              "20              ZÉ CURUCA    DEM                    67\n",
              "15                 NEINHA    DEM                    66\n",
              "5            EREMITA MOTA   PSDB                    64\n",
              "6          FABIANO DA VAN    MDB                    64\n",
              "17     ROBECI DA VASSOURA    PHS                    63\n",
              "8           GILMAR AMORIM    MDB                    62\n",
              "4            EDVALDO LIMA    MDB                    61\n",
              "12          LUIZ DA FEIRA   PROS                    61\n",
              "14            MARCOS LIMA    DEM                    60\n",
              "0            ALBERTO NERY     PT                    55\n",
              "9         ISAÍAS DE DIOGO    MDB                    55\n",
              "11           JOÃO BILILIU    PSD                    55\n",
              "18       ROBERTO TOURINHO    PSB                    48\n",
              "13                LULINHA    DEM                    42\n",
              "2         CADMIEL PEREIRA    DEM                    41\n",
              "7          GERUSA SAMPAIO    DEM                    21\n",
              "10          JOSÉ CARNEIRO    MDB                    19\n",
              "16                 PR TOM  PATRI                     1"
            ]
          },
          "metadata": {}
        },
        {
          "output_type": "stream",
          "name": "stdout",
          "text": [
            "\n",
            "\n"
          ]
        },
        {
          "output_type": "display_data",
          "data": {
            "application/vnd.google.colaboratory.intrinsic+json": {
              "type": "string"
            },
            "text/plain": [
              "'Justificativas dos vereadores no ano de 2019'"
            ]
          },
          "metadata": {}
        },
        {
          "output_type": "display_data",
          "data": {
            "text/html": [
              "<div>\n",
              "<style scoped>\n",
              "    .dataframe tbody tr th:only-of-type {\n",
              "        vertical-align: middle;\n",
              "    }\n",
              "\n",
              "    .dataframe tbody tr th {\n",
              "        vertical-align: top;\n",
              "    }\n",
              "\n",
              "    .dataframe thead th {\n",
              "        text-align: right;\n",
              "    }\n",
              "</style>\n",
              "<table border=\"1\" class=\"dataframe\">\n",
              "  <thead>\n",
              "    <tr style=\"text-align: right;\">\n",
              "      <th></th>\n",
              "      <th>name</th>\n",
              "      <th>party</th>\n",
              "      <th>quantidade_justificativas</th>\n",
              "    </tr>\n",
              "  </thead>\n",
              "  <tbody>\n",
              "    <tr>\n",
              "      <th>0</th>\n",
              "      <td>ELI RIBEIRO</td>\n",
              "      <td>REP</td>\n",
              "      <td>185</td>\n",
              "    </tr>\n",
              "    <tr>\n",
              "      <th>2</th>\n",
              "      <td>JUSTINIANO FRANÇA</td>\n",
              "      <td>DEM</td>\n",
              "      <td>185</td>\n",
              "    </tr>\n",
              "    <tr>\n",
              "      <th>3</th>\n",
              "      <td>PABLO ROBERTO</td>\n",
              "      <td>DEM</td>\n",
              "      <td>185</td>\n",
              "    </tr>\n",
              "    <tr>\n",
              "      <th>6</th>\n",
              "      <td>RONNY</td>\n",
              "      <td>PHS</td>\n",
              "      <td>185</td>\n",
              "    </tr>\n",
              "    <tr>\n",
              "      <th>7</th>\n",
              "      <td>SGT JOSAFÁ RAMOS</td>\n",
              "      <td>PATRI</td>\n",
              "      <td>185</td>\n",
              "    </tr>\n",
              "    <tr>\n",
              "      <th>4</th>\n",
              "      <td>PR TOM</td>\n",
              "      <td>PATRI</td>\n",
              "      <td>184</td>\n",
              "    </tr>\n",
              "    <tr>\n",
              "      <th>1</th>\n",
              "      <td>JOSÉ CARNEIRO</td>\n",
              "      <td>MDB</td>\n",
              "      <td>4</td>\n",
              "    </tr>\n",
              "    <tr>\n",
              "      <th>5</th>\n",
              "      <td>ROBECI DA VASSOURA</td>\n",
              "      <td>PHS</td>\n",
              "      <td>4</td>\n",
              "    </tr>\n",
              "  </tbody>\n",
              "</table>\n",
              "</div>"
            ],
            "text/plain": [
              "                 name  party  quantidade_justificativas\n",
              "0         ELI RIBEIRO    REP                        185\n",
              "2   JUSTINIANO FRANÇA    DEM                        185\n",
              "3       PABLO ROBERTO    DEM                        185\n",
              "6               RONNY    PHS                        185\n",
              "7    SGT JOSAFÁ RAMOS  PATRI                        185\n",
              "4              PR TOM  PATRI                        184\n",
              "1       JOSÉ CARNEIRO    MDB                          4\n",
              "5  ROBECI DA VASSOURA    PHS                          4"
            ]
          },
          "metadata": {}
        }
      ]
    },
    {
      "cell_type": "code",
      "metadata": {
        "colab": {
          "base_uri": "https://localhost:8080/"
        },
        "id": "68dxjHuIYyz8",
        "outputId": "6252d54c-a7dd-4096-8b5c-d45599bcfe4e"
      },
      "source": [
        "total_2019 = len(paineldf['session'][ano2019].unique())\n",
        "display('Total de Sessões em 2019')\n",
        "display(total_2019)\n",
        "print()\n",
        "\n",
        "participacoes2019 = pd.DataFrame()\n",
        "display('Comparecimento dos vereadores no ano de 2019')\n",
        "for vereador in df2019['name']:\n",
        "  df = pd.DataFrame([[vereador,\n",
        "                      df2019['party'][(df2019['name'] == vereador)].values[0],\n",
        "                      presencas2019['quantidade_presencas'][(presencas2019['name'] == vereador)].values[0] if vereador in presencas2019['name'].values else 0,\n",
        "                      ausencias2019['quantidade_ausencias'][(ausencias2019['name'] == vereador)].values[0] if vereador in ausencias2019['name'].values else 0,\n",
        "                      justificativas2019['quantidade_justificativas'][(justificativas2019['name'] == vereador)].values[0] if vereador in justificativas2019['name'].values else 0,\n",
        "                      round((presencas2019['quantidade_presencas'][(presencas2019['name'] == vereador)].values[0]) / total_2019 * 100, 2) if vereador in presencas2019['name'].values else 0,\n",
        "                      round((ausencias2019['quantidade_ausencias'][(ausencias2019['name'] == vereador)].values[0]) / total_2019 * 100, 2) if vereador in ausencias2019['name'].values else 0,\n",
        "                      round((justificativas2019['quantidade_justificativas'][(justificativas2019['name'] == vereador)].values[0]) / total_2019 * 100, 2) if vereador in justificativas2019['name'].values else 0]],\n",
        "                    columns=['name', 'party', 'presenca', 'ausencia', 'justificativa', 'presenca_rel', 'ausencia_rel', 'justificativa_rel'])\n",
        "  participacoes2019 = participacoes2019.append(df, ignore_index=True)\n",
        "\n",
        "display(participacoes2019)"
      ],
      "execution_count": null,
      "outputs": [
        {
          "output_type": "display_data",
          "data": {
            "application/vnd.google.colaboratory.intrinsic+json": {
              "type": "string"
            },
            "text/plain": [
              "'Total de Sessões em 2019'"
            ]
          },
          "metadata": {}
        },
        {
          "output_type": "display_data",
          "data": {
            "text/plain": [
              "185"
            ]
          },
          "metadata": {}
        },
        {
          "output_type": "stream",
          "name": "stdout",
          "text": [
            "\n"
          ]
        },
        {
          "output_type": "display_data",
          "data": {
            "application/vnd.google.colaboratory.intrinsic+json": {
              "type": "string"
            },
            "text/plain": [
              "'Comparecimento dos vereadores no ano de 2019'"
            ]
          },
          "metadata": {}
        },
        {
          "output_type": "display_data",
          "data": {
            "text/html": [
              "<div>\n",
              "<style scoped>\n",
              "    .dataframe tbody tr th:only-of-type {\n",
              "        vertical-align: middle;\n",
              "    }\n",
              "\n",
              "    .dataframe tbody tr th {\n",
              "        vertical-align: top;\n",
              "    }\n",
              "\n",
              "    .dataframe thead th {\n",
              "        text-align: right;\n",
              "    }\n",
              "</style>\n",
              "<table border=\"1\" class=\"dataframe\">\n",
              "  <thead>\n",
              "    <tr style=\"text-align: right;\">\n",
              "      <th></th>\n",
              "      <th>name</th>\n",
              "      <th>party</th>\n",
              "      <th>presenca</th>\n",
              "      <th>ausencia</th>\n",
              "      <th>justificativa</th>\n",
              "      <th>presenca_rel</th>\n",
              "      <th>ausencia_rel</th>\n",
              "      <th>justificativa_rel</th>\n",
              "    </tr>\n",
              "  </thead>\n",
              "  <tbody>\n",
              "    <tr>\n",
              "      <th>0</th>\n",
              "      <td>ALBERTO NERY</td>\n",
              "      <td>PT</td>\n",
              "      <td>130</td>\n",
              "      <td>55</td>\n",
              "      <td>0</td>\n",
              "      <td>70.27</td>\n",
              "      <td>29.73</td>\n",
              "      <td>0.00</td>\n",
              "    </tr>\n",
              "    <tr>\n",
              "      <th>1</th>\n",
              "      <td>ANTONIO CARLOS ATAÍDE</td>\n",
              "      <td>DEM</td>\n",
              "      <td>111</td>\n",
              "      <td>74</td>\n",
              "      <td>0</td>\n",
              "      <td>60.00</td>\n",
              "      <td>40.00</td>\n",
              "      <td>0.00</td>\n",
              "    </tr>\n",
              "    <tr>\n",
              "      <th>2</th>\n",
              "      <td>CADMIEL PEREIRA</td>\n",
              "      <td>DEM</td>\n",
              "      <td>144</td>\n",
              "      <td>41</td>\n",
              "      <td>0</td>\n",
              "      <td>77.84</td>\n",
              "      <td>22.16</td>\n",
              "      <td>0.00</td>\n",
              "    </tr>\n",
              "    <tr>\n",
              "      <th>3</th>\n",
              "      <td>GERUSA SAMPAIO</td>\n",
              "      <td>DEM</td>\n",
              "      <td>164</td>\n",
              "      <td>21</td>\n",
              "      <td>0</td>\n",
              "      <td>88.65</td>\n",
              "      <td>11.35</td>\n",
              "      <td>0.00</td>\n",
              "    </tr>\n",
              "    <tr>\n",
              "      <th>4</th>\n",
              "      <td>LULINHA</td>\n",
              "      <td>DEM</td>\n",
              "      <td>143</td>\n",
              "      <td>42</td>\n",
              "      <td>0</td>\n",
              "      <td>77.30</td>\n",
              "      <td>22.70</td>\n",
              "      <td>0.00</td>\n",
              "    </tr>\n",
              "    <tr>\n",
              "      <th>5</th>\n",
              "      <td>MARCOS LIMA</td>\n",
              "      <td>DEM</td>\n",
              "      <td>125</td>\n",
              "      <td>60</td>\n",
              "      <td>0</td>\n",
              "      <td>67.57</td>\n",
              "      <td>32.43</td>\n",
              "      <td>0.00</td>\n",
              "    </tr>\n",
              "    <tr>\n",
              "      <th>6</th>\n",
              "      <td>NEINHA</td>\n",
              "      <td>DEM</td>\n",
              "      <td>119</td>\n",
              "      <td>66</td>\n",
              "      <td>0</td>\n",
              "      <td>64.32</td>\n",
              "      <td>35.68</td>\n",
              "      <td>0.00</td>\n",
              "    </tr>\n",
              "    <tr>\n",
              "      <th>7</th>\n",
              "      <td>ZÉ CURUCA</td>\n",
              "      <td>DEM</td>\n",
              "      <td>118</td>\n",
              "      <td>67</td>\n",
              "      <td>0</td>\n",
              "      <td>63.78</td>\n",
              "      <td>36.22</td>\n",
              "      <td>0.00</td>\n",
              "    </tr>\n",
              "    <tr>\n",
              "      <th>8</th>\n",
              "      <td>JUSTINIANO FRANÇA</td>\n",
              "      <td>DEM</td>\n",
              "      <td>0</td>\n",
              "      <td>0</td>\n",
              "      <td>185</td>\n",
              "      <td>0.00</td>\n",
              "      <td>0.00</td>\n",
              "      <td>100.00</td>\n",
              "    </tr>\n",
              "    <tr>\n",
              "      <th>9</th>\n",
              "      <td>PABLO ROBERTO</td>\n",
              "      <td>DEM</td>\n",
              "      <td>0</td>\n",
              "      <td>0</td>\n",
              "      <td>185</td>\n",
              "      <td>0.00</td>\n",
              "      <td>0.00</td>\n",
              "      <td>100.00</td>\n",
              "    </tr>\n",
              "    <tr>\n",
              "      <th>10</th>\n",
              "      <td>EDVALDO LIMA</td>\n",
              "      <td>MDB</td>\n",
              "      <td>124</td>\n",
              "      <td>61</td>\n",
              "      <td>0</td>\n",
              "      <td>67.03</td>\n",
              "      <td>32.97</td>\n",
              "      <td>0.00</td>\n",
              "    </tr>\n",
              "    <tr>\n",
              "      <th>11</th>\n",
              "      <td>FABIANO DA VAN</td>\n",
              "      <td>MDB</td>\n",
              "      <td>121</td>\n",
              "      <td>64</td>\n",
              "      <td>0</td>\n",
              "      <td>65.41</td>\n",
              "      <td>34.59</td>\n",
              "      <td>0.00</td>\n",
              "    </tr>\n",
              "    <tr>\n",
              "      <th>12</th>\n",
              "      <td>GILMAR AMORIM</td>\n",
              "      <td>MDB</td>\n",
              "      <td>123</td>\n",
              "      <td>62</td>\n",
              "      <td>0</td>\n",
              "      <td>66.49</td>\n",
              "      <td>33.51</td>\n",
              "      <td>0.00</td>\n",
              "    </tr>\n",
              "    <tr>\n",
              "      <th>13</th>\n",
              "      <td>ISAÍAS DE DIOGO</td>\n",
              "      <td>MDB</td>\n",
              "      <td>130</td>\n",
              "      <td>55</td>\n",
              "      <td>0</td>\n",
              "      <td>70.27</td>\n",
              "      <td>29.73</td>\n",
              "      <td>0.00</td>\n",
              "    </tr>\n",
              "    <tr>\n",
              "      <th>14</th>\n",
              "      <td>JOSÉ CARNEIRO</td>\n",
              "      <td>MDB</td>\n",
              "      <td>162</td>\n",
              "      <td>19</td>\n",
              "      <td>4</td>\n",
              "      <td>87.57</td>\n",
              "      <td>10.27</td>\n",
              "      <td>2.16</td>\n",
              "    </tr>\n",
              "    <tr>\n",
              "      <th>15</th>\n",
              "      <td>RON DO POVO</td>\n",
              "      <td>MDB</td>\n",
              "      <td>114</td>\n",
              "      <td>71</td>\n",
              "      <td>0</td>\n",
              "      <td>61.62</td>\n",
              "      <td>38.38</td>\n",
              "      <td>0.00</td>\n",
              "    </tr>\n",
              "    <tr>\n",
              "      <th>16</th>\n",
              "      <td>CÍNTIA MACHADO</td>\n",
              "      <td>REP</td>\n",
              "      <td>102</td>\n",
              "      <td>83</td>\n",
              "      <td>0</td>\n",
              "      <td>55.14</td>\n",
              "      <td>44.86</td>\n",
              "      <td>0.00</td>\n",
              "    </tr>\n",
              "    <tr>\n",
              "      <th>17</th>\n",
              "      <td>ELI RIBEIRO</td>\n",
              "      <td>REP</td>\n",
              "      <td>0</td>\n",
              "      <td>0</td>\n",
              "      <td>185</td>\n",
              "      <td>0.00</td>\n",
              "      <td>0.00</td>\n",
              "      <td>100.00</td>\n",
              "    </tr>\n",
              "    <tr>\n",
              "      <th>18</th>\n",
              "      <td>LUIZ DA FEIRA</td>\n",
              "      <td>PROS</td>\n",
              "      <td>124</td>\n",
              "      <td>61</td>\n",
              "      <td>0</td>\n",
              "      <td>67.03</td>\n",
              "      <td>32.97</td>\n",
              "      <td>0.00</td>\n",
              "    </tr>\n",
              "    <tr>\n",
              "      <th>19</th>\n",
              "      <td>ROBERTO TOURINHO</td>\n",
              "      <td>PSB</td>\n",
              "      <td>137</td>\n",
              "      <td>48</td>\n",
              "      <td>0</td>\n",
              "      <td>74.05</td>\n",
              "      <td>25.95</td>\n",
              "      <td>0.00</td>\n",
              "    </tr>\n",
              "    <tr>\n",
              "      <th>20</th>\n",
              "      <td>PR TOM</td>\n",
              "      <td>PATRI</td>\n",
              "      <td>0</td>\n",
              "      <td>1</td>\n",
              "      <td>184</td>\n",
              "      <td>0.00</td>\n",
              "      <td>0.54</td>\n",
              "      <td>99.46</td>\n",
              "    </tr>\n",
              "    <tr>\n",
              "      <th>21</th>\n",
              "      <td>SGT JOSAFÁ RAMOS</td>\n",
              "      <td>PATRI</td>\n",
              "      <td>0</td>\n",
              "      <td>0</td>\n",
              "      <td>185</td>\n",
              "      <td>0.00</td>\n",
              "      <td>0.00</td>\n",
              "      <td>100.00</td>\n",
              "    </tr>\n",
              "    <tr>\n",
              "      <th>22</th>\n",
              "      <td>JOÃO BILILIU</td>\n",
              "      <td>PSD</td>\n",
              "      <td>130</td>\n",
              "      <td>55</td>\n",
              "      <td>0</td>\n",
              "      <td>70.27</td>\n",
              "      <td>29.73</td>\n",
              "      <td>0.00</td>\n",
              "    </tr>\n",
              "    <tr>\n",
              "      <th>23</th>\n",
              "      <td>ZÉ FILÉ</td>\n",
              "      <td>PSD</td>\n",
              "      <td>118</td>\n",
              "      <td>67</td>\n",
              "      <td>0</td>\n",
              "      <td>63.78</td>\n",
              "      <td>36.22</td>\n",
              "      <td>0.00</td>\n",
              "    </tr>\n",
              "    <tr>\n",
              "      <th>24</th>\n",
              "      <td>EREMITA MOTA</td>\n",
              "      <td>PSDB</td>\n",
              "      <td>121</td>\n",
              "      <td>64</td>\n",
              "      <td>0</td>\n",
              "      <td>65.41</td>\n",
              "      <td>34.59</td>\n",
              "      <td>0.00</td>\n",
              "    </tr>\n",
              "    <tr>\n",
              "      <th>25</th>\n",
              "      <td>ROBECI DA VASSOURA</td>\n",
              "      <td>PHS</td>\n",
              "      <td>118</td>\n",
              "      <td>63</td>\n",
              "      <td>4</td>\n",
              "      <td>63.78</td>\n",
              "      <td>34.05</td>\n",
              "      <td>2.16</td>\n",
              "    </tr>\n",
              "    <tr>\n",
              "      <th>26</th>\n",
              "      <td>RONNY</td>\n",
              "      <td>PHS</td>\n",
              "      <td>0</td>\n",
              "      <td>0</td>\n",
              "      <td>185</td>\n",
              "      <td>0.00</td>\n",
              "      <td>0.00</td>\n",
              "      <td>100.00</td>\n",
              "    </tr>\n",
              "  </tbody>\n",
              "</table>\n",
              "</div>"
            ],
            "text/plain": [
              "                     name  party  ...  ausencia_rel  justificativa_rel\n",
              "0            ALBERTO NERY     PT  ...         29.73               0.00\n",
              "1   ANTONIO CARLOS ATAÍDE    DEM  ...         40.00               0.00\n",
              "2         CADMIEL PEREIRA    DEM  ...         22.16               0.00\n",
              "3          GERUSA SAMPAIO    DEM  ...         11.35               0.00\n",
              "4                 LULINHA    DEM  ...         22.70               0.00\n",
              "5             MARCOS LIMA    DEM  ...         32.43               0.00\n",
              "6                  NEINHA    DEM  ...         35.68               0.00\n",
              "7               ZÉ CURUCA    DEM  ...         36.22               0.00\n",
              "8       JUSTINIANO FRANÇA    DEM  ...          0.00             100.00\n",
              "9           PABLO ROBERTO    DEM  ...          0.00             100.00\n",
              "10           EDVALDO LIMA    MDB  ...         32.97               0.00\n",
              "11         FABIANO DA VAN    MDB  ...         34.59               0.00\n",
              "12          GILMAR AMORIM    MDB  ...         33.51               0.00\n",
              "13        ISAÍAS DE DIOGO    MDB  ...         29.73               0.00\n",
              "14          JOSÉ CARNEIRO    MDB  ...         10.27               2.16\n",
              "15            RON DO POVO    MDB  ...         38.38               0.00\n",
              "16         CÍNTIA MACHADO    REP  ...         44.86               0.00\n",
              "17            ELI RIBEIRO    REP  ...          0.00             100.00\n",
              "18          LUIZ DA FEIRA   PROS  ...         32.97               0.00\n",
              "19       ROBERTO TOURINHO    PSB  ...         25.95               0.00\n",
              "20                 PR TOM  PATRI  ...          0.54              99.46\n",
              "21       SGT JOSAFÁ RAMOS  PATRI  ...          0.00             100.00\n",
              "22           JOÃO BILILIU    PSD  ...         29.73               0.00\n",
              "23                ZÉ FILÉ    PSD  ...         36.22               0.00\n",
              "24           EREMITA MOTA   PSDB  ...         34.59               0.00\n",
              "25     ROBECI DA VASSOURA    PHS  ...         34.05               2.16\n",
              "26                  RONNY    PHS  ...          0.00             100.00\n",
              "\n",
              "[27 rows x 8 columns]"
            ]
          },
          "metadata": {}
        }
      ]
    },
    {
      "cell_type": "markdown",
      "metadata": {
        "id": "m4fr-Dm5Vgg7"
      },
      "source": [
        "No ano de 2019, Gerusa Sampaio (DEM) foi a veradora com maior quantidade absoluta de presenças, com 164 (88.65%); CÍntia Machado (REP)\tfoi a vereadora com maior quantidade absoluta de ausências, com 83 (44.86%); Eli Ribeiro, Justiniano França, Robeci da Vassoura, Sgt. Josafá Ramos e Ronny foram os vereadores com maior quantidade absoluta de justificativas, com 185 (100%)."
      ]
    },
    {
      "cell_type": "code",
      "metadata": {
        "colab": {
          "base_uri": "https://localhost:8080/"
        },
        "id": "KnmI6_a0ncqS",
        "outputId": "a9c7b6d9-3a04-4d38-821f-d892aa86a90a"
      },
      "source": [
        "ano2020 = (paineldf['date'].dt.year == 2020)\n",
        "\n",
        "presenca = (paineldf['attendance'] == 'attending')\n",
        "\n",
        "presencas2020 = paineldf[ano2020 & presenca].groupby(['name', 'party'])\n",
        "presencas2020 = presencas2020['name'].count().reset_index(name='quantidade_presencas').sort_values('quantidade_presencas', ascending=False)\n",
        "display('Presenças dos vereadores no ano de 2020')\n",
        "display(presencas2020)\n",
        "print('\\n')\n",
        "\n",
        "ausencia = (paineldf['attendance'] == 'absent')\n",
        "ausencias2020 = paineldf[ano2020 & ausencia].groupby(['name', 'party'])\n",
        "ausencias2020 = ausencias2020['name'].count().reset_index(name='quantidade_ausencias').sort_values('quantidade_ausencias', ascending=False)\n",
        "display('Ausências dos vereadores no ano de 2020')\n",
        "display(ausencias2020)\n",
        "print('\\n')\n",
        "\n",
        "justificativa = (paineldf['attendance'] == 'justified')\n",
        "justificativas2020 = paineldf[ano2020 & justificativa].groupby(['name', 'party'])\n",
        "justificativas2020 = justificativas2020['name'].count().reset_index(name='quantidade_justificativas').sort_values('quantidade_justificativas', ascending=False)\n",
        "display('Justificativas dos vereadores no ano de 2020')\n",
        "display(justificativas2020)"
      ],
      "execution_count": null,
      "outputs": [
        {
          "output_type": "display_data",
          "data": {
            "application/vnd.google.colaboratory.intrinsic+json": {
              "type": "string"
            },
            "text/plain": [
              "'Presenças dos vereadores no ano de 2020'"
            ]
          },
          "metadata": {}
        },
        {
          "output_type": "display_data",
          "data": {
            "text/html": [
              "<div>\n",
              "<style scoped>\n",
              "    .dataframe tbody tr th:only-of-type {\n",
              "        vertical-align: middle;\n",
              "    }\n",
              "\n",
              "    .dataframe tbody tr th {\n",
              "        vertical-align: top;\n",
              "    }\n",
              "\n",
              "    .dataframe thead th {\n",
              "        text-align: right;\n",
              "    }\n",
              "</style>\n",
              "<table border=\"1\" class=\"dataframe\">\n",
              "  <thead>\n",
              "    <tr style=\"text-align: right;\">\n",
              "      <th></th>\n",
              "      <th>name</th>\n",
              "      <th>party</th>\n",
              "      <th>quantidade_presencas</th>\n",
              "    </tr>\n",
              "  </thead>\n",
              "  <tbody>\n",
              "    <tr>\n",
              "      <th>11</th>\n",
              "      <td>JOSÉ CARNEIRO</td>\n",
              "      <td>MDB</td>\n",
              "      <td>96</td>\n",
              "    </tr>\n",
              "    <tr>\n",
              "      <th>24</th>\n",
              "      <td>ZÉ FILÉ</td>\n",
              "      <td>PSD</td>\n",
              "      <td>95</td>\n",
              "    </tr>\n",
              "    <tr>\n",
              "      <th>15</th>\n",
              "      <td>LULINHA</td>\n",
              "      <td>DEM</td>\n",
              "      <td>95</td>\n",
              "    </tr>\n",
              "    <tr>\n",
              "      <th>2</th>\n",
              "      <td>CADMIEL PEREIRA</td>\n",
              "      <td>DEM</td>\n",
              "      <td>95</td>\n",
              "    </tr>\n",
              "    <tr>\n",
              "      <th>9</th>\n",
              "      <td>GILMAR AMORIM</td>\n",
              "      <td>MDB</td>\n",
              "      <td>93</td>\n",
              "    </tr>\n",
              "    <tr>\n",
              "      <th>10</th>\n",
              "      <td>ISAÍAS DE DIOGO</td>\n",
              "      <td>MDB</td>\n",
              "      <td>93</td>\n",
              "    </tr>\n",
              "    <tr>\n",
              "      <th>16</th>\n",
              "      <td>MARCOS LIMA</td>\n",
              "      <td>DEM</td>\n",
              "      <td>93</td>\n",
              "    </tr>\n",
              "    <tr>\n",
              "      <th>20</th>\n",
              "      <td>ROBERTO TOURINHO</td>\n",
              "      <td>PSB</td>\n",
              "      <td>92</td>\n",
              "    </tr>\n",
              "    <tr>\n",
              "      <th>7</th>\n",
              "      <td>FABIANO DA VAN</td>\n",
              "      <td>MDB</td>\n",
              "      <td>91</td>\n",
              "    </tr>\n",
              "    <tr>\n",
              "      <th>8</th>\n",
              "      <td>GERUSA SAMPAIO</td>\n",
              "      <td>DEM</td>\n",
              "      <td>91</td>\n",
              "    </tr>\n",
              "    <tr>\n",
              "      <th>23</th>\n",
              "      <td>ZÉ CURUCA</td>\n",
              "      <td>DEM</td>\n",
              "      <td>90</td>\n",
              "    </tr>\n",
              "    <tr>\n",
              "      <th>14</th>\n",
              "      <td>LUIZ DA FEIRA</td>\n",
              "      <td>PROS</td>\n",
              "      <td>90</td>\n",
              "    </tr>\n",
              "    <tr>\n",
              "      <th>21</th>\n",
              "      <td>RON DO POVO</td>\n",
              "      <td>MDB</td>\n",
              "      <td>87</td>\n",
              "    </tr>\n",
              "    <tr>\n",
              "      <th>4</th>\n",
              "      <td>EDVALDO LIMA</td>\n",
              "      <td>MDB</td>\n",
              "      <td>86</td>\n",
              "    </tr>\n",
              "    <tr>\n",
              "      <th>17</th>\n",
              "      <td>NEINHA</td>\n",
              "      <td>DEM</td>\n",
              "      <td>83</td>\n",
              "    </tr>\n",
              "    <tr>\n",
              "      <th>0</th>\n",
              "      <td>ALBERTO NERY</td>\n",
              "      <td>PT</td>\n",
              "      <td>83</td>\n",
              "    </tr>\n",
              "    <tr>\n",
              "      <th>5</th>\n",
              "      <td>ELI RIBEIRO</td>\n",
              "      <td>REP</td>\n",
              "      <td>83</td>\n",
              "    </tr>\n",
              "    <tr>\n",
              "      <th>1</th>\n",
              "      <td>ANTONIO CARLOS ATAÍDE</td>\n",
              "      <td>DEM</td>\n",
              "      <td>81</td>\n",
              "    </tr>\n",
              "    <tr>\n",
              "      <th>12</th>\n",
              "      <td>JOÃO BILILIU</td>\n",
              "      <td>PSD</td>\n",
              "      <td>76</td>\n",
              "    </tr>\n",
              "    <tr>\n",
              "      <th>6</th>\n",
              "      <td>EREMITA MOTA</td>\n",
              "      <td>PSDB</td>\n",
              "      <td>63</td>\n",
              "    </tr>\n",
              "    <tr>\n",
              "      <th>22</th>\n",
              "      <td>SGT JOSAFÁ RAMOS</td>\n",
              "      <td>PATRI</td>\n",
              "      <td>57</td>\n",
              "    </tr>\n",
              "    <tr>\n",
              "      <th>19</th>\n",
              "      <td>ROBECI DA VASSOURA</td>\n",
              "      <td>PHS</td>\n",
              "      <td>25</td>\n",
              "    </tr>\n",
              "    <tr>\n",
              "      <th>13</th>\n",
              "      <td>JUSTINIANO FRANÇA</td>\n",
              "      <td>DEM</td>\n",
              "      <td>10</td>\n",
              "    </tr>\n",
              "    <tr>\n",
              "      <th>3</th>\n",
              "      <td>CÍNTIA MACHADO</td>\n",
              "      <td>REP</td>\n",
              "      <td>9</td>\n",
              "    </tr>\n",
              "    <tr>\n",
              "      <th>18</th>\n",
              "      <td>PABLO ROBERTO</td>\n",
              "      <td>DEM</td>\n",
              "      <td>7</td>\n",
              "    </tr>\n",
              "  </tbody>\n",
              "</table>\n",
              "</div>"
            ],
            "text/plain": [
              "                     name  party  quantidade_presencas\n",
              "11          JOSÉ CARNEIRO    MDB                    96\n",
              "24                ZÉ FILÉ    PSD                    95\n",
              "15                LULINHA    DEM                    95\n",
              "2         CADMIEL PEREIRA    DEM                    95\n",
              "9           GILMAR AMORIM    MDB                    93\n",
              "10        ISAÍAS DE DIOGO    MDB                    93\n",
              "16            MARCOS LIMA    DEM                    93\n",
              "20       ROBERTO TOURINHO    PSB                    92\n",
              "7          FABIANO DA VAN    MDB                    91\n",
              "8          GERUSA SAMPAIO    DEM                    91\n",
              "23              ZÉ CURUCA    DEM                    90\n",
              "14          LUIZ DA FEIRA   PROS                    90\n",
              "21            RON DO POVO    MDB                    87\n",
              "4            EDVALDO LIMA    MDB                    86\n",
              "17                 NEINHA    DEM                    83\n",
              "0            ALBERTO NERY     PT                    83\n",
              "5             ELI RIBEIRO    REP                    83\n",
              "1   ANTONIO CARLOS ATAÍDE    DEM                    81\n",
              "12           JOÃO BILILIU    PSD                    76\n",
              "6            EREMITA MOTA   PSDB                    63\n",
              "22       SGT JOSAFÁ RAMOS  PATRI                    57\n",
              "19     ROBECI DA VASSOURA    PHS                    25\n",
              "13      JUSTINIANO FRANÇA    DEM                    10\n",
              "3          CÍNTIA MACHADO    REP                     9\n",
              "18          PABLO ROBERTO    DEM                     7"
            ]
          },
          "metadata": {}
        },
        {
          "output_type": "stream",
          "name": "stdout",
          "text": [
            "\n",
            "\n"
          ]
        },
        {
          "output_type": "display_data",
          "data": {
            "application/vnd.google.colaboratory.intrinsic+json": {
              "type": "string"
            },
            "text/plain": [
              "'Ausências dos vereadores no ano de 2020'"
            ]
          },
          "metadata": {}
        },
        {
          "output_type": "display_data",
          "data": {
            "text/html": [
              "<div>\n",
              "<style scoped>\n",
              "    .dataframe tbody tr th:only-of-type {\n",
              "        vertical-align: middle;\n",
              "    }\n",
              "\n",
              "    .dataframe tbody tr th {\n",
              "        vertical-align: top;\n",
              "    }\n",
              "\n",
              "    .dataframe thead th {\n",
              "        text-align: right;\n",
              "    }\n",
              "</style>\n",
              "<table border=\"1\" class=\"dataframe\">\n",
              "  <thead>\n",
              "    <tr style=\"text-align: right;\">\n",
              "      <th></th>\n",
              "      <th>name</th>\n",
              "      <th>party</th>\n",
              "      <th>quantidade_ausencias</th>\n",
              "    </tr>\n",
              "  </thead>\n",
              "  <tbody>\n",
              "    <tr>\n",
              "      <th>15</th>\n",
              "      <td>RON DO POVO</td>\n",
              "      <td>MDB</td>\n",
              "      <td>9</td>\n",
              "    </tr>\n",
              "    <tr>\n",
              "      <th>12</th>\n",
              "      <td>NEINHA</td>\n",
              "      <td>DEM</td>\n",
              "      <td>7</td>\n",
              "    </tr>\n",
              "    <tr>\n",
              "      <th>16</th>\n",
              "      <td>ZÉ CURUCA</td>\n",
              "      <td>DEM</td>\n",
              "      <td>6</td>\n",
              "    </tr>\n",
              "    <tr>\n",
              "      <th>5</th>\n",
              "      <td>FABIANO DA VAN</td>\n",
              "      <td>MDB</td>\n",
              "      <td>5</td>\n",
              "    </tr>\n",
              "    <tr>\n",
              "      <th>14</th>\n",
              "      <td>ROBERTO TOURINHO</td>\n",
              "      <td>PSB</td>\n",
              "      <td>4</td>\n",
              "    </tr>\n",
              "    <tr>\n",
              "      <th>11</th>\n",
              "      <td>MARCOS LIMA</td>\n",
              "      <td>DEM</td>\n",
              "      <td>3</td>\n",
              "    </tr>\n",
              "    <tr>\n",
              "      <th>4</th>\n",
              "      <td>ELI RIBEIRO</td>\n",
              "      <td>REP</td>\n",
              "      <td>3</td>\n",
              "    </tr>\n",
              "    <tr>\n",
              "      <th>6</th>\n",
              "      <td>GILMAR AMORIM</td>\n",
              "      <td>MDB</td>\n",
              "      <td>3</td>\n",
              "    </tr>\n",
              "    <tr>\n",
              "      <th>13</th>\n",
              "      <td>ROBECI DA VASSOURA</td>\n",
              "      <td>PHS</td>\n",
              "      <td>2</td>\n",
              "    </tr>\n",
              "    <tr>\n",
              "      <th>0</th>\n",
              "      <td>ALBERTO NERY</td>\n",
              "      <td>PT</td>\n",
              "      <td>1</td>\n",
              "    </tr>\n",
              "    <tr>\n",
              "      <th>9</th>\n",
              "      <td>LUIZ DA FEIRA</td>\n",
              "      <td>PROS</td>\n",
              "      <td>1</td>\n",
              "    </tr>\n",
              "    <tr>\n",
              "      <th>10</th>\n",
              "      <td>LULINHA</td>\n",
              "      <td>DEM</td>\n",
              "      <td>1</td>\n",
              "    </tr>\n",
              "    <tr>\n",
              "      <th>1</th>\n",
              "      <td>ANTONIO CARLOS ATAÍDE</td>\n",
              "      <td>DEM</td>\n",
              "      <td>1</td>\n",
              "    </tr>\n",
              "    <tr>\n",
              "      <th>8</th>\n",
              "      <td>JOÃO BILILIU</td>\n",
              "      <td>PSD</td>\n",
              "      <td>1</td>\n",
              "    </tr>\n",
              "    <tr>\n",
              "      <th>7</th>\n",
              "      <td>ISAÍAS DE DIOGO</td>\n",
              "      <td>MDB</td>\n",
              "      <td>1</td>\n",
              "    </tr>\n",
              "    <tr>\n",
              "      <th>3</th>\n",
              "      <td>EDVALDO LIMA</td>\n",
              "      <td>MDB</td>\n",
              "      <td>1</td>\n",
              "    </tr>\n",
              "    <tr>\n",
              "      <th>2</th>\n",
              "      <td>CADMIEL PEREIRA</td>\n",
              "      <td>DEM</td>\n",
              "      <td>1</td>\n",
              "    </tr>\n",
              "    <tr>\n",
              "      <th>17</th>\n",
              "      <td>ZÉ FILÉ</td>\n",
              "      <td>PSD</td>\n",
              "      <td>1</td>\n",
              "    </tr>\n",
              "  </tbody>\n",
              "</table>\n",
              "</div>"
            ],
            "text/plain": [
              "                     name party  quantidade_ausencias\n",
              "15            RON DO POVO   MDB                     9\n",
              "12                 NEINHA   DEM                     7\n",
              "16              ZÉ CURUCA   DEM                     6\n",
              "5          FABIANO DA VAN   MDB                     5\n",
              "14       ROBERTO TOURINHO   PSB                     4\n",
              "11            MARCOS LIMA   DEM                     3\n",
              "4             ELI RIBEIRO   REP                     3\n",
              "6           GILMAR AMORIM   MDB                     3\n",
              "13     ROBECI DA VASSOURA   PHS                     2\n",
              "0            ALBERTO NERY    PT                     1\n",
              "9           LUIZ DA FEIRA  PROS                     1\n",
              "10                LULINHA   DEM                     1\n",
              "1   ANTONIO CARLOS ATAÍDE   DEM                     1\n",
              "8            JOÃO BILILIU   PSD                     1\n",
              "7         ISAÍAS DE DIOGO   MDB                     1\n",
              "3            EDVALDO LIMA   MDB                     1\n",
              "2         CADMIEL PEREIRA   DEM                     1\n",
              "17                ZÉ FILÉ   PSD                     1"
            ]
          },
          "metadata": {}
        },
        {
          "output_type": "stream",
          "name": "stdout",
          "text": [
            "\n",
            "\n"
          ]
        },
        {
          "output_type": "display_data",
          "data": {
            "application/vnd.google.colaboratory.intrinsic+json": {
              "type": "string"
            },
            "text/plain": [
              "'Justificativas dos vereadores no ano de 2020'"
            ]
          },
          "metadata": {}
        },
        {
          "output_type": "display_data",
          "data": {
            "text/html": [
              "<div>\n",
              "<style scoped>\n",
              "    .dataframe tbody tr th:only-of-type {\n",
              "        vertical-align: middle;\n",
              "    }\n",
              "\n",
              "    .dataframe tbody tr th {\n",
              "        vertical-align: top;\n",
              "    }\n",
              "\n",
              "    .dataframe thead th {\n",
              "        text-align: right;\n",
              "    }\n",
              "</style>\n",
              "<table border=\"1\" class=\"dataframe\">\n",
              "  <thead>\n",
              "    <tr style=\"text-align: right;\">\n",
              "      <th></th>\n",
              "      <th>name</th>\n",
              "      <th>party</th>\n",
              "      <th>quantidade_justificativas</th>\n",
              "    </tr>\n",
              "  </thead>\n",
              "  <tbody>\n",
              "    <tr>\n",
              "      <th>15</th>\n",
              "      <td>RONNY</td>\n",
              "      <td>PHS</td>\n",
              "      <td>96</td>\n",
              "    </tr>\n",
              "    <tr>\n",
              "      <th>13</th>\n",
              "      <td>PR TOM</td>\n",
              "      <td>PATRI</td>\n",
              "      <td>96</td>\n",
              "    </tr>\n",
              "    <tr>\n",
              "      <th>12</th>\n",
              "      <td>PABLO ROBERTO</td>\n",
              "      <td>DEM</td>\n",
              "      <td>89</td>\n",
              "    </tr>\n",
              "    <tr>\n",
              "      <th>2</th>\n",
              "      <td>CÍNTIA MACHADO</td>\n",
              "      <td>REP</td>\n",
              "      <td>87</td>\n",
              "    </tr>\n",
              "    <tr>\n",
              "      <th>9</th>\n",
              "      <td>JUSTINIANO FRANÇA</td>\n",
              "      <td>DEM</td>\n",
              "      <td>86</td>\n",
              "    </tr>\n",
              "    <tr>\n",
              "      <th>14</th>\n",
              "      <td>ROBECI DA VASSOURA</td>\n",
              "      <td>PHS</td>\n",
              "      <td>69</td>\n",
              "    </tr>\n",
              "    <tr>\n",
              "      <th>16</th>\n",
              "      <td>SGT JOSAFÁ RAMOS</td>\n",
              "      <td>PATRI</td>\n",
              "      <td>39</td>\n",
              "    </tr>\n",
              "    <tr>\n",
              "      <th>5</th>\n",
              "      <td>EREMITA MOTA</td>\n",
              "      <td>PSDB</td>\n",
              "      <td>36</td>\n",
              "    </tr>\n",
              "    <tr>\n",
              "      <th>8</th>\n",
              "      <td>JOÃO BILILIU</td>\n",
              "      <td>PSD</td>\n",
              "      <td>20</td>\n",
              "    </tr>\n",
              "    <tr>\n",
              "      <th>1</th>\n",
              "      <td>ANTONIO CARLOS ATAÍDE</td>\n",
              "      <td>DEM</td>\n",
              "      <td>14</td>\n",
              "    </tr>\n",
              "    <tr>\n",
              "      <th>0</th>\n",
              "      <td>ALBERTO NERY</td>\n",
              "      <td>PT</td>\n",
              "      <td>12</td>\n",
              "    </tr>\n",
              "    <tr>\n",
              "      <th>4</th>\n",
              "      <td>ELI RIBEIRO</td>\n",
              "      <td>REP</td>\n",
              "      <td>10</td>\n",
              "    </tr>\n",
              "    <tr>\n",
              "      <th>3</th>\n",
              "      <td>EDVALDO LIMA</td>\n",
              "      <td>MDB</td>\n",
              "      <td>10</td>\n",
              "    </tr>\n",
              "    <tr>\n",
              "      <th>11</th>\n",
              "      <td>NEINHA</td>\n",
              "      <td>DEM</td>\n",
              "      <td>6</td>\n",
              "    </tr>\n",
              "    <tr>\n",
              "      <th>10</th>\n",
              "      <td>LUIZ DA FEIRA</td>\n",
              "      <td>PROS</td>\n",
              "      <td>5</td>\n",
              "    </tr>\n",
              "    <tr>\n",
              "      <th>6</th>\n",
              "      <td>GERUSA SAMPAIO</td>\n",
              "      <td>DEM</td>\n",
              "      <td>5</td>\n",
              "    </tr>\n",
              "    <tr>\n",
              "      <th>7</th>\n",
              "      <td>ISAÍAS DE DIOGO</td>\n",
              "      <td>MDB</td>\n",
              "      <td>2</td>\n",
              "    </tr>\n",
              "  </tbody>\n",
              "</table>\n",
              "</div>"
            ],
            "text/plain": [
              "                     name  party  quantidade_justificativas\n",
              "15                  RONNY    PHS                         96\n",
              "13                 PR TOM  PATRI                         96\n",
              "12          PABLO ROBERTO    DEM                         89\n",
              "2          CÍNTIA MACHADO    REP                         87\n",
              "9       JUSTINIANO FRANÇA    DEM                         86\n",
              "14     ROBECI DA VASSOURA    PHS                         69\n",
              "16       SGT JOSAFÁ RAMOS  PATRI                         39\n",
              "5            EREMITA MOTA   PSDB                         36\n",
              "8            JOÃO BILILIU    PSD                         20\n",
              "1   ANTONIO CARLOS ATAÍDE    DEM                         14\n",
              "0            ALBERTO NERY     PT                         12\n",
              "4             ELI RIBEIRO    REP                         10\n",
              "3            EDVALDO LIMA    MDB                         10\n",
              "11                 NEINHA    DEM                          6\n",
              "10          LUIZ DA FEIRA   PROS                          5\n",
              "6          GERUSA SAMPAIO    DEM                          5\n",
              "7         ISAÍAS DE DIOGO    MDB                          2"
            ]
          },
          "metadata": {}
        }
      ]
    },
    {
      "cell_type": "code",
      "metadata": {
        "colab": {
          "base_uri": "https://localhost:8080/"
        },
        "id": "9SyFc0QDY8d-",
        "outputId": "635ac12e-abd7-4605-e6b2-53ce991f00b0"
      },
      "source": [
        "total_2020 = len(paineldf['session'][ano2020].unique()) + 1\n",
        "display('Total de Sessões em 2020')\n",
        "display(total_2020)\n",
        "print()\n",
        "\n",
        "participacoes2020 = pd.DataFrame()\n",
        "display('Comparecimento dos vereadores no ano de 2020')\n",
        "for vereador in df2020['name']:\n",
        "  df = pd.DataFrame([[vereador,\n",
        "                      df2020['party'][(df2020['name'] == vereador)].values[0],\n",
        "                      presencas2020['quantidade_presencas'][(presencas2020['name'] == vereador)].values[0] if vereador in presencas2020['name'].values else 0,\n",
        "                      ausencias2020['quantidade_ausencias'][(ausencias2020['name'] == vereador)].values[0] if vereador in ausencias2020['name'].values else 0,\n",
        "                      justificativas2020['quantidade_justificativas'][(justificativas2020['name'] == vereador)].values[0] if vereador in justificativas2020['name'].values else 0,\n",
        "                      round((presencas2020['quantidade_presencas'][(presencas2020['name'] == vereador)].values[0]) / total_2020 * 100, 2) if vereador in presencas2020['name'].values else 0,\n",
        "                      round((ausencias2020['quantidade_ausencias'][(ausencias2020['name'] == vereador)].values[0]) / total_2020 * 100, 2) if vereador in ausencias2020['name'].values else 0,\n",
        "                      round((justificativas2020['quantidade_justificativas'][(justificativas2020['name'] == vereador)].values[0]) / total_2020 * 100, 2) if vereador in justificativas2020['name'].values else 0]],\n",
        "                    columns=['name', 'party', 'presenca', 'ausencia', 'justificativa', 'presenca_rel', 'ausencia_rel', 'justificativa_rel'])\n",
        "  participacoes2020 = participacoes2020.append(df, ignore_index=True)\n",
        "\n",
        "display(participacoes2020)"
      ],
      "execution_count": null,
      "outputs": [
        {
          "output_type": "display_data",
          "data": {
            "application/vnd.google.colaboratory.intrinsic+json": {
              "type": "string"
            },
            "text/plain": [
              "'Total de Sessões em 2020'"
            ]
          },
          "metadata": {}
        },
        {
          "output_type": "display_data",
          "data": {
            "text/plain": [
              "96"
            ]
          },
          "metadata": {}
        },
        {
          "output_type": "stream",
          "name": "stdout",
          "text": [
            "\n"
          ]
        },
        {
          "output_type": "display_data",
          "data": {
            "application/vnd.google.colaboratory.intrinsic+json": {
              "type": "string"
            },
            "text/plain": [
              "'Comparecimento dos vereadores no ano de 2020'"
            ]
          },
          "metadata": {}
        },
        {
          "output_type": "display_data",
          "data": {
            "text/html": [
              "<div>\n",
              "<style scoped>\n",
              "    .dataframe tbody tr th:only-of-type {\n",
              "        vertical-align: middle;\n",
              "    }\n",
              "\n",
              "    .dataframe tbody tr th {\n",
              "        vertical-align: top;\n",
              "    }\n",
              "\n",
              "    .dataframe thead th {\n",
              "        text-align: right;\n",
              "    }\n",
              "</style>\n",
              "<table border=\"1\" class=\"dataframe\">\n",
              "  <thead>\n",
              "    <tr style=\"text-align: right;\">\n",
              "      <th></th>\n",
              "      <th>name</th>\n",
              "      <th>party</th>\n",
              "      <th>presenca</th>\n",
              "      <th>ausencia</th>\n",
              "      <th>justificativa</th>\n",
              "      <th>presenca_rel</th>\n",
              "      <th>ausencia_rel</th>\n",
              "      <th>justificativa_rel</th>\n",
              "    </tr>\n",
              "  </thead>\n",
              "  <tbody>\n",
              "    <tr>\n",
              "      <th>0</th>\n",
              "      <td>ALBERTO NERY</td>\n",
              "      <td>PT</td>\n",
              "      <td>83</td>\n",
              "      <td>1</td>\n",
              "      <td>12</td>\n",
              "      <td>86.46</td>\n",
              "      <td>1.04</td>\n",
              "      <td>12.50</td>\n",
              "    </tr>\n",
              "    <tr>\n",
              "      <th>1</th>\n",
              "      <td>CADMIEL PEREIRA</td>\n",
              "      <td>DEM</td>\n",
              "      <td>95</td>\n",
              "      <td>1</td>\n",
              "      <td>0</td>\n",
              "      <td>98.96</td>\n",
              "      <td>1.04</td>\n",
              "      <td>0.00</td>\n",
              "    </tr>\n",
              "    <tr>\n",
              "      <th>2</th>\n",
              "      <td>GERUSA SAMPAIO</td>\n",
              "      <td>DEM</td>\n",
              "      <td>91</td>\n",
              "      <td>0</td>\n",
              "      <td>5</td>\n",
              "      <td>94.79</td>\n",
              "      <td>0.00</td>\n",
              "      <td>5.21</td>\n",
              "    </tr>\n",
              "    <tr>\n",
              "      <th>3</th>\n",
              "      <td>LULINHA</td>\n",
              "      <td>DEM</td>\n",
              "      <td>95</td>\n",
              "      <td>1</td>\n",
              "      <td>0</td>\n",
              "      <td>98.96</td>\n",
              "      <td>1.04</td>\n",
              "      <td>0.00</td>\n",
              "    </tr>\n",
              "    <tr>\n",
              "      <th>4</th>\n",
              "      <td>MARCOS LIMA</td>\n",
              "      <td>DEM</td>\n",
              "      <td>93</td>\n",
              "      <td>3</td>\n",
              "      <td>0</td>\n",
              "      <td>96.88</td>\n",
              "      <td>3.12</td>\n",
              "      <td>0.00</td>\n",
              "    </tr>\n",
              "    <tr>\n",
              "      <th>5</th>\n",
              "      <td>NEINHA</td>\n",
              "      <td>DEM</td>\n",
              "      <td>83</td>\n",
              "      <td>7</td>\n",
              "      <td>6</td>\n",
              "      <td>86.46</td>\n",
              "      <td>7.29</td>\n",
              "      <td>6.25</td>\n",
              "    </tr>\n",
              "    <tr>\n",
              "      <th>6</th>\n",
              "      <td>ZÉ CURUCA</td>\n",
              "      <td>DEM</td>\n",
              "      <td>90</td>\n",
              "      <td>6</td>\n",
              "      <td>0</td>\n",
              "      <td>93.75</td>\n",
              "      <td>6.25</td>\n",
              "      <td>0.00</td>\n",
              "    </tr>\n",
              "    <tr>\n",
              "      <th>7</th>\n",
              "      <td>ANTONIO CARLOS ATAÍDE</td>\n",
              "      <td>DEM</td>\n",
              "      <td>81</td>\n",
              "      <td>1</td>\n",
              "      <td>14</td>\n",
              "      <td>84.38</td>\n",
              "      <td>1.04</td>\n",
              "      <td>14.58</td>\n",
              "    </tr>\n",
              "    <tr>\n",
              "      <th>8</th>\n",
              "      <td>JUSTINIANO FRANÇA</td>\n",
              "      <td>DEM</td>\n",
              "      <td>10</td>\n",
              "      <td>0</td>\n",
              "      <td>86</td>\n",
              "      <td>10.42</td>\n",
              "      <td>0.00</td>\n",
              "      <td>89.58</td>\n",
              "    </tr>\n",
              "    <tr>\n",
              "      <th>9</th>\n",
              "      <td>PABLO ROBERTO</td>\n",
              "      <td>DEM</td>\n",
              "      <td>7</td>\n",
              "      <td>0</td>\n",
              "      <td>89</td>\n",
              "      <td>7.29</td>\n",
              "      <td>0.00</td>\n",
              "      <td>92.71</td>\n",
              "    </tr>\n",
              "    <tr>\n",
              "      <th>10</th>\n",
              "      <td>EDVALDO LIMA</td>\n",
              "      <td>MDB</td>\n",
              "      <td>86</td>\n",
              "      <td>1</td>\n",
              "      <td>10</td>\n",
              "      <td>89.58</td>\n",
              "      <td>1.04</td>\n",
              "      <td>10.42</td>\n",
              "    </tr>\n",
              "    <tr>\n",
              "      <th>11</th>\n",
              "      <td>FABIANO DA VAN</td>\n",
              "      <td>MDB</td>\n",
              "      <td>91</td>\n",
              "      <td>5</td>\n",
              "      <td>0</td>\n",
              "      <td>94.79</td>\n",
              "      <td>5.21</td>\n",
              "      <td>0.00</td>\n",
              "    </tr>\n",
              "    <tr>\n",
              "      <th>12</th>\n",
              "      <td>GILMAR AMORIM</td>\n",
              "      <td>MDB</td>\n",
              "      <td>93</td>\n",
              "      <td>3</td>\n",
              "      <td>0</td>\n",
              "      <td>96.88</td>\n",
              "      <td>3.12</td>\n",
              "      <td>0.00</td>\n",
              "    </tr>\n",
              "    <tr>\n",
              "      <th>13</th>\n",
              "      <td>ISAÍAS DE DIOGO</td>\n",
              "      <td>MDB</td>\n",
              "      <td>93</td>\n",
              "      <td>1</td>\n",
              "      <td>2</td>\n",
              "      <td>96.88</td>\n",
              "      <td>1.04</td>\n",
              "      <td>2.08</td>\n",
              "    </tr>\n",
              "    <tr>\n",
              "      <th>14</th>\n",
              "      <td>JOSÉ CARNEIRO</td>\n",
              "      <td>MDB</td>\n",
              "      <td>96</td>\n",
              "      <td>0</td>\n",
              "      <td>0</td>\n",
              "      <td>100.00</td>\n",
              "      <td>0.00</td>\n",
              "      <td>0.00</td>\n",
              "    </tr>\n",
              "    <tr>\n",
              "      <th>15</th>\n",
              "      <td>RON DO POVO</td>\n",
              "      <td>MDB</td>\n",
              "      <td>87</td>\n",
              "      <td>9</td>\n",
              "      <td>0</td>\n",
              "      <td>90.62</td>\n",
              "      <td>9.38</td>\n",
              "      <td>0.00</td>\n",
              "    </tr>\n",
              "    <tr>\n",
              "      <th>16</th>\n",
              "      <td>ELI RIBEIRO</td>\n",
              "      <td>REP</td>\n",
              "      <td>83</td>\n",
              "      <td>3</td>\n",
              "      <td>10</td>\n",
              "      <td>86.46</td>\n",
              "      <td>3.12</td>\n",
              "      <td>10.42</td>\n",
              "    </tr>\n",
              "    <tr>\n",
              "      <th>17</th>\n",
              "      <td>CÍNTIA MACHADO</td>\n",
              "      <td>REP</td>\n",
              "      <td>9</td>\n",
              "      <td>0</td>\n",
              "      <td>87</td>\n",
              "      <td>9.38</td>\n",
              "      <td>0.00</td>\n",
              "      <td>90.62</td>\n",
              "    </tr>\n",
              "    <tr>\n",
              "      <th>18</th>\n",
              "      <td>LUIZ DA FEIRA</td>\n",
              "      <td>PROS</td>\n",
              "      <td>90</td>\n",
              "      <td>1</td>\n",
              "      <td>5</td>\n",
              "      <td>93.75</td>\n",
              "      <td>1.04</td>\n",
              "      <td>5.21</td>\n",
              "    </tr>\n",
              "    <tr>\n",
              "      <th>19</th>\n",
              "      <td>ROBERTO TOURINHO</td>\n",
              "      <td>PSB</td>\n",
              "      <td>92</td>\n",
              "      <td>4</td>\n",
              "      <td>0</td>\n",
              "      <td>95.83</td>\n",
              "      <td>4.17</td>\n",
              "      <td>0.00</td>\n",
              "    </tr>\n",
              "    <tr>\n",
              "      <th>20</th>\n",
              "      <td>SGT JOSAFÁ RAMOS</td>\n",
              "      <td>PATRI</td>\n",
              "      <td>57</td>\n",
              "      <td>0</td>\n",
              "      <td>39</td>\n",
              "      <td>59.38</td>\n",
              "      <td>0.00</td>\n",
              "      <td>40.62</td>\n",
              "    </tr>\n",
              "    <tr>\n",
              "      <th>21</th>\n",
              "      <td>PR TOM</td>\n",
              "      <td>PATRI</td>\n",
              "      <td>0</td>\n",
              "      <td>0</td>\n",
              "      <td>96</td>\n",
              "      <td>0.00</td>\n",
              "      <td>0.00</td>\n",
              "      <td>100.00</td>\n",
              "    </tr>\n",
              "    <tr>\n",
              "      <th>22</th>\n",
              "      <td>ZÉ FILÉ</td>\n",
              "      <td>PSD</td>\n",
              "      <td>95</td>\n",
              "      <td>1</td>\n",
              "      <td>0</td>\n",
              "      <td>98.96</td>\n",
              "      <td>1.04</td>\n",
              "      <td>0.00</td>\n",
              "    </tr>\n",
              "    <tr>\n",
              "      <th>23</th>\n",
              "      <td>JOÃO BILILIU</td>\n",
              "      <td>PSD</td>\n",
              "      <td>76</td>\n",
              "      <td>1</td>\n",
              "      <td>20</td>\n",
              "      <td>79.17</td>\n",
              "      <td>1.04</td>\n",
              "      <td>20.83</td>\n",
              "    </tr>\n",
              "    <tr>\n",
              "      <th>24</th>\n",
              "      <td>EREMITA MOTA</td>\n",
              "      <td>PSDB</td>\n",
              "      <td>63</td>\n",
              "      <td>0</td>\n",
              "      <td>36</td>\n",
              "      <td>65.62</td>\n",
              "      <td>0.00</td>\n",
              "      <td>37.50</td>\n",
              "    </tr>\n",
              "    <tr>\n",
              "      <th>25</th>\n",
              "      <td>ROBECI DA VASSOURA</td>\n",
              "      <td>PHS</td>\n",
              "      <td>25</td>\n",
              "      <td>2</td>\n",
              "      <td>69</td>\n",
              "      <td>26.04</td>\n",
              "      <td>2.08</td>\n",
              "      <td>71.88</td>\n",
              "    </tr>\n",
              "    <tr>\n",
              "      <th>26</th>\n",
              "      <td>RONNY</td>\n",
              "      <td>PHS</td>\n",
              "      <td>0</td>\n",
              "      <td>0</td>\n",
              "      <td>96</td>\n",
              "      <td>0.00</td>\n",
              "      <td>0.00</td>\n",
              "      <td>100.00</td>\n",
              "    </tr>\n",
              "  </tbody>\n",
              "</table>\n",
              "</div>"
            ],
            "text/plain": [
              "                     name  party  ...  ausencia_rel  justificativa_rel\n",
              "0            ALBERTO NERY     PT  ...          1.04              12.50\n",
              "1         CADMIEL PEREIRA    DEM  ...          1.04               0.00\n",
              "2          GERUSA SAMPAIO    DEM  ...          0.00               5.21\n",
              "3                 LULINHA    DEM  ...          1.04               0.00\n",
              "4             MARCOS LIMA    DEM  ...          3.12               0.00\n",
              "5                  NEINHA    DEM  ...          7.29               6.25\n",
              "6               ZÉ CURUCA    DEM  ...          6.25               0.00\n",
              "7   ANTONIO CARLOS ATAÍDE    DEM  ...          1.04              14.58\n",
              "8       JUSTINIANO FRANÇA    DEM  ...          0.00              89.58\n",
              "9           PABLO ROBERTO    DEM  ...          0.00              92.71\n",
              "10           EDVALDO LIMA    MDB  ...          1.04              10.42\n",
              "11         FABIANO DA VAN    MDB  ...          5.21               0.00\n",
              "12          GILMAR AMORIM    MDB  ...          3.12               0.00\n",
              "13        ISAÍAS DE DIOGO    MDB  ...          1.04               2.08\n",
              "14          JOSÉ CARNEIRO    MDB  ...          0.00               0.00\n",
              "15            RON DO POVO    MDB  ...          9.38               0.00\n",
              "16            ELI RIBEIRO    REP  ...          3.12              10.42\n",
              "17         CÍNTIA MACHADO    REP  ...          0.00              90.62\n",
              "18          LUIZ DA FEIRA   PROS  ...          1.04               5.21\n",
              "19       ROBERTO TOURINHO    PSB  ...          4.17               0.00\n",
              "20       SGT JOSAFÁ RAMOS  PATRI  ...          0.00              40.62\n",
              "21                 PR TOM  PATRI  ...          0.00             100.00\n",
              "22                ZÉ FILÉ    PSD  ...          1.04               0.00\n",
              "23           JOÃO BILILIU    PSD  ...          1.04              20.83\n",
              "24           EREMITA MOTA   PSDB  ...          0.00              37.50\n",
              "25     ROBECI DA VASSOURA    PHS  ...          2.08              71.88\n",
              "26                  RONNY    PHS  ...          0.00             100.00\n",
              "\n",
              "[27 rows x 8 columns]"
            ]
          },
          "metadata": {}
        }
      ]
    },
    {
      "cell_type": "markdown",
      "metadata": {
        "id": "SPQaWHksWgEj"
      },
      "source": [
        "No ano de 2020, José Carneiro (MDB) foi o verador com maior quantidade absoluta de presenças, com 96 (100%); Ron do Povo (MDB) foi o vereador com maior quantidade absoluta de ausências, com 9 (9.38%); Ronny e  Pr. Tom foram os vereadores com maior quantidade absoluta de justificativas, com 96 (100%)."
      ]
    },
    {
      "cell_type": "code",
      "metadata": {
        "colab": {
          "base_uri": "https://localhost:8080/"
        },
        "id": "W2oQI2wZncqT",
        "outputId": "e318df1e-8337-4c85-c80f-ee59af5a9907"
      },
      "source": [
        "ano2021 = (paineldf['date'].dt.year == 2021)\n",
        "\n",
        "presenca = (paineldf['attendance'] == 'attending')\n",
        "\n",
        "presencas2021 = paineldf[ano2021 & presenca].groupby(['name', 'party'])\n",
        "presencas2021 = presencas2021['name'].count().reset_index(name='quantidade_presencas').sort_values('quantidade_presencas', ascending=False)\n",
        "display('Presenças dos vereadores no ano de 2021')\n",
        "display(presencas2021)\n",
        "print('\\n')\n",
        "\n",
        "ausencia = (paineldf['attendance'] == 'absent')\n",
        "ausencias2021 = paineldf[ano2021 & ausencia].groupby(['name', 'party'])\n",
        "ausencias2021 = ausencias2021['name'].count().reset_index(name='quantidade_ausencias').sort_values('quantidade_ausencias', ascending=False)\n",
        "display('Ausências dos vereadores no ano de 2021')\n",
        "display(ausencias2021)\n",
        "print('\\n')\n",
        "\n",
        "justificativa = (paineldf['attendance'] == 'justified')\n",
        "justificativas2021 = paineldf[ano2021 & justificativa].groupby(['name', 'party'])\n",
        "justificativas2021 = justificativas2021['name'].count().reset_index(name='quantidade_justificativas').sort_values('quantidade_justificativas', ascending=False)\n",
        "display('Justificativas dos vereadores no ano de 2021')\n",
        "display(justificativas2021)"
      ],
      "execution_count": null,
      "outputs": [
        {
          "output_type": "display_data",
          "data": {
            "application/vnd.google.colaboratory.intrinsic+json": {
              "type": "string"
            },
            "text/plain": [
              "'Presenças dos vereadores no ano de 2021'"
            ]
          },
          "metadata": {}
        },
        {
          "output_type": "display_data",
          "data": {
            "text/html": [
              "<div>\n",
              "<style scoped>\n",
              "    .dataframe tbody tr th:only-of-type {\n",
              "        vertical-align: middle;\n",
              "    }\n",
              "\n",
              "    .dataframe tbody tr th {\n",
              "        vertical-align: top;\n",
              "    }\n",
              "\n",
              "    .dataframe thead th {\n",
              "        text-align: right;\n",
              "    }\n",
              "</style>\n",
              "<table border=\"1\" class=\"dataframe\">\n",
              "  <thead>\n",
              "    <tr style=\"text-align: right;\">\n",
              "      <th></th>\n",
              "      <th>name</th>\n",
              "      <th>party</th>\n",
              "      <th>quantidade_presencas</th>\n",
              "    </tr>\n",
              "  </thead>\n",
              "  <tbody>\n",
              "    <tr>\n",
              "      <th>23</th>\n",
              "      <td>ZÉ CURUCA</td>\n",
              "      <td>DEM</td>\n",
              "      <td>10</td>\n",
              "    </tr>\n",
              "    <tr>\n",
              "      <th>16</th>\n",
              "      <td>PEDRO AMÉRICO</td>\n",
              "      <td>DEM</td>\n",
              "      <td>10</td>\n",
              "    </tr>\n",
              "    <tr>\n",
              "      <th>22</th>\n",
              "      <td>SILVIO DIAS</td>\n",
              "      <td>PT</td>\n",
              "      <td>10</td>\n",
              "    </tr>\n",
              "    <tr>\n",
              "      <th>3</th>\n",
              "      <td>EMERSON MINHO</td>\n",
              "      <td>DC</td>\n",
              "      <td>10</td>\n",
              "    </tr>\n",
              "    <tr>\n",
              "      <th>4</th>\n",
              "      <td>EREMITA MOTA</td>\n",
              "      <td>PSDB</td>\n",
              "      <td>10</td>\n",
              "    </tr>\n",
              "    <tr>\n",
              "      <th>21</th>\n",
              "      <td>RON DO POVO</td>\n",
              "      <td>MDB</td>\n",
              "      <td>10</td>\n",
              "    </tr>\n",
              "    <tr>\n",
              "      <th>6</th>\n",
              "      <td>FERNANDO TORRES</td>\n",
              "      <td>PSD</td>\n",
              "      <td>10</td>\n",
              "    </tr>\n",
              "    <tr>\n",
              "      <th>7</th>\n",
              "      <td>GALEGUINHO SPA</td>\n",
              "      <td>PSB</td>\n",
              "      <td>10</td>\n",
              "    </tr>\n",
              "    <tr>\n",
              "      <th>20</th>\n",
              "      <td>PROFESSOR IVAMBERG</td>\n",
              "      <td>PT</td>\n",
              "      <td>10</td>\n",
              "    </tr>\n",
              "    <tr>\n",
              "      <th>9</th>\n",
              "      <td>JHONATAS MONTEIRO</td>\n",
              "      <td>PSOL</td>\n",
              "      <td>10</td>\n",
              "    </tr>\n",
              "    <tr>\n",
              "      <th>19</th>\n",
              "      <td>PR. VALDEMIR SANTOS</td>\n",
              "      <td>PV</td>\n",
              "      <td>10</td>\n",
              "    </tr>\n",
              "    <tr>\n",
              "      <th>11</th>\n",
              "      <td>JURANDY CARVALHO</td>\n",
              "      <td>PL</td>\n",
              "      <td>10</td>\n",
              "    </tr>\n",
              "    <tr>\n",
              "      <th>1</th>\n",
              "      <td>EDVALDO LIMA</td>\n",
              "      <td>MDB</td>\n",
              "      <td>10</td>\n",
              "    </tr>\n",
              "    <tr>\n",
              "      <th>17</th>\n",
              "      <td>PEDRO CICERO</td>\n",
              "      <td>CIDADAN</td>\n",
              "      <td>10</td>\n",
              "    </tr>\n",
              "    <tr>\n",
              "      <th>14</th>\n",
              "      <td>LÚ DE RONNY</td>\n",
              "      <td>MDB</td>\n",
              "      <td>10</td>\n",
              "    </tr>\n",
              "    <tr>\n",
              "      <th>15</th>\n",
              "      <td>PAULÃO DO CALDEIRÃO</td>\n",
              "      <td>PSC</td>\n",
              "      <td>10</td>\n",
              "    </tr>\n",
              "    <tr>\n",
              "      <th>12</th>\n",
              "      <td>LUIZ DA FEIRA</td>\n",
              "      <td>PROS</td>\n",
              "      <td>9</td>\n",
              "    </tr>\n",
              "    <tr>\n",
              "      <th>0</th>\n",
              "      <td>CORREIA ZEZITO</td>\n",
              "      <td>PATRI</td>\n",
              "      <td>8</td>\n",
              "    </tr>\n",
              "    <tr>\n",
              "      <th>13</th>\n",
              "      <td>LULINHA</td>\n",
              "      <td>DEM</td>\n",
              "      <td>7</td>\n",
              "    </tr>\n",
              "    <tr>\n",
              "      <th>5</th>\n",
              "      <td>FABIANO DA VAN</td>\n",
              "      <td>MDB</td>\n",
              "      <td>7</td>\n",
              "    </tr>\n",
              "    <tr>\n",
              "      <th>18</th>\n",
              "      <td>PETRONIO LIMA</td>\n",
              "      <td>REP</td>\n",
              "      <td>6</td>\n",
              "    </tr>\n",
              "    <tr>\n",
              "      <th>2</th>\n",
              "      <td>ELI RIBEIRO</td>\n",
              "      <td>REP</td>\n",
              "      <td>4</td>\n",
              "    </tr>\n",
              "    <tr>\n",
              "      <th>10</th>\n",
              "      <td>JOSÉ CARNEIRO</td>\n",
              "      <td>MDB</td>\n",
              "      <td>3</td>\n",
              "    </tr>\n",
              "    <tr>\n",
              "      <th>8</th>\n",
              "      <td>GERUSA SAMPAIO</td>\n",
              "      <td>DEM</td>\n",
              "      <td>3</td>\n",
              "    </tr>\n",
              "  </tbody>\n",
              "</table>\n",
              "</div>"
            ],
            "text/plain": [
              "                   name    party  quantidade_presencas\n",
              "23            ZÉ CURUCA      DEM                    10\n",
              "16        PEDRO AMÉRICO      DEM                    10\n",
              "22          SILVIO DIAS       PT                    10\n",
              "3         EMERSON MINHO       DC                    10\n",
              "4          EREMITA MOTA     PSDB                    10\n",
              "21          RON DO POVO      MDB                    10\n",
              "6       FERNANDO TORRES      PSD                    10\n",
              "7        GALEGUINHO SPA      PSB                    10\n",
              "20   PROFESSOR IVAMBERG       PT                    10\n",
              "9     JHONATAS MONTEIRO     PSOL                    10\n",
              "19  PR. VALDEMIR SANTOS       PV                    10\n",
              "11     JURANDY CARVALHO       PL                    10\n",
              "1          EDVALDO LIMA      MDB                    10\n",
              "17         PEDRO CICERO  CIDADAN                    10\n",
              "14          LÚ DE RONNY      MDB                    10\n",
              "15  PAULÃO DO CALDEIRÃO      PSC                    10\n",
              "12        LUIZ DA FEIRA     PROS                     9\n",
              "0        CORREIA ZEZITO    PATRI                     8\n",
              "13              LULINHA      DEM                     7\n",
              "5        FABIANO DA VAN      MDB                     7\n",
              "18        PETRONIO LIMA      REP                     6\n",
              "2           ELI RIBEIRO      REP                     4\n",
              "10        JOSÉ CARNEIRO      MDB                     3\n",
              "8        GERUSA SAMPAIO      DEM                     3"
            ]
          },
          "metadata": {}
        },
        {
          "output_type": "stream",
          "name": "stdout",
          "text": [
            "\n",
            "\n"
          ]
        },
        {
          "output_type": "display_data",
          "data": {
            "application/vnd.google.colaboratory.intrinsic+json": {
              "type": "string"
            },
            "text/plain": [
              "'Ausências dos vereadores no ano de 2021'"
            ]
          },
          "metadata": {}
        },
        {
          "output_type": "display_data",
          "data": {
            "text/html": [
              "<div>\n",
              "<style scoped>\n",
              "    .dataframe tbody tr th:only-of-type {\n",
              "        vertical-align: middle;\n",
              "    }\n",
              "\n",
              "    .dataframe tbody tr th {\n",
              "        vertical-align: top;\n",
              "    }\n",
              "\n",
              "    .dataframe thead th {\n",
              "        text-align: right;\n",
              "    }\n",
              "</style>\n",
              "<table border=\"1\" class=\"dataframe\">\n",
              "  <thead>\n",
              "    <tr style=\"text-align: right;\">\n",
              "      <th></th>\n",
              "      <th>name</th>\n",
              "      <th>party</th>\n",
              "      <th>quantidade_ausencias</th>\n",
              "    </tr>\n",
              "  </thead>\n",
              "  <tbody>\n",
              "    <tr>\n",
              "      <th>0</th>\n",
              "      <td>LUIZ DA FEIRA</td>\n",
              "      <td>PROS</td>\n",
              "      <td>1</td>\n",
              "    </tr>\n",
              "  </tbody>\n",
              "</table>\n",
              "</div>"
            ],
            "text/plain": [
              "            name party  quantidade_ausencias\n",
              "0  LUIZ DA FEIRA  PROS                     1"
            ]
          },
          "metadata": {}
        },
        {
          "output_type": "stream",
          "name": "stdout",
          "text": [
            "\n",
            "\n"
          ]
        },
        {
          "output_type": "display_data",
          "data": {
            "application/vnd.google.colaboratory.intrinsic+json": {
              "type": "string"
            },
            "text/plain": [
              "'Justificativas dos vereadores no ano de 2021'"
            ]
          },
          "metadata": {}
        },
        {
          "output_type": "display_data",
          "data": {
            "text/html": [
              "<div>\n",
              "<style scoped>\n",
              "    .dataframe tbody tr th:only-of-type {\n",
              "        vertical-align: middle;\n",
              "    }\n",
              "\n",
              "    .dataframe tbody tr th {\n",
              "        vertical-align: top;\n",
              "    }\n",
              "\n",
              "    .dataframe thead th {\n",
              "        text-align: right;\n",
              "    }\n",
              "</style>\n",
              "<table border=\"1\" class=\"dataframe\">\n",
              "  <thead>\n",
              "    <tr style=\"text-align: right;\">\n",
              "      <th></th>\n",
              "      <th>name</th>\n",
              "      <th>party</th>\n",
              "      <th>quantidade_justificativas</th>\n",
              "    </tr>\n",
              "  </thead>\n",
              "  <tbody>\n",
              "    <tr>\n",
              "      <th>3</th>\n",
              "      <td>GERUSA SAMPAIO</td>\n",
              "      <td>DEM</td>\n",
              "      <td>7</td>\n",
              "    </tr>\n",
              "    <tr>\n",
              "      <th>4</th>\n",
              "      <td>JOSÉ CARNEIRO</td>\n",
              "      <td>MDB</td>\n",
              "      <td>7</td>\n",
              "    </tr>\n",
              "    <tr>\n",
              "      <th>1</th>\n",
              "      <td>ELI RIBEIRO</td>\n",
              "      <td>REP</td>\n",
              "      <td>6</td>\n",
              "    </tr>\n",
              "    <tr>\n",
              "      <th>0</th>\n",
              "      <td>CORREIA ZEZITO</td>\n",
              "      <td>PATRI</td>\n",
              "      <td>2</td>\n",
              "    </tr>\n",
              "    <tr>\n",
              "      <th>2</th>\n",
              "      <td>FABIANO DA VAN</td>\n",
              "      <td>MDB</td>\n",
              "      <td>1</td>\n",
              "    </tr>\n",
              "    <tr>\n",
              "      <th>5</th>\n",
              "      <td>LULINHA</td>\n",
              "      <td>DEM</td>\n",
              "      <td>1</td>\n",
              "    </tr>\n",
              "    <tr>\n",
              "      <th>6</th>\n",
              "      <td>PETRONIO LIMA</td>\n",
              "      <td>REP</td>\n",
              "      <td>1</td>\n",
              "    </tr>\n",
              "  </tbody>\n",
              "</table>\n",
              "</div>"
            ],
            "text/plain": [
              "             name  party  quantidade_justificativas\n",
              "3  GERUSA SAMPAIO    DEM                          7\n",
              "4   JOSÉ CARNEIRO    MDB                          7\n",
              "1     ELI RIBEIRO    REP                          6\n",
              "0  CORREIA ZEZITO  PATRI                          2\n",
              "2  FABIANO DA VAN    MDB                          1\n",
              "5         LULINHA    DEM                          1\n",
              "6   PETRONIO LIMA    REP                          1"
            ]
          },
          "metadata": {}
        }
      ]
    },
    {
      "cell_type": "code",
      "metadata": {
        "colab": {
          "base_uri": "https://localhost:8080/"
        },
        "id": "uT-MZ6ICZBvQ",
        "outputId": "73bde58b-4d75-4719-afc2-fb4c2e5f99a9"
      },
      "source": [
        "total_2021 = len(paineldf['session'][ano2021].unique())\n",
        "display('Total de Sessões em 2021')\n",
        "display(total_2021)\n",
        "print()\n",
        "\n",
        "participacoes2021 = pd.DataFrame()\n",
        "display('Comparecimento dos vereadores no ano de 2021')\n",
        "for vereador in df2021['name']:\n",
        "  df = pd.DataFrame([[vereador,\n",
        "                      df2021['party'][(df2021['name'] == vereador)].values[0],\n",
        "                      presencas2021['quantidade_presencas'][(presencas2021['name'] == vereador)].values[0] if vereador in presencas2021['name'].values else 0,\n",
        "                      ausencias2021['quantidade_ausencias'][(ausencias2021['name'] == vereador)].values[0] if vereador in ausencias2021['name'].values else 0,\n",
        "                      justificativas2021['quantidade_justificativas'][(justificativas2021['name'] == vereador)].values[0] if vereador in justificativas2021['name'].values else 0,\n",
        "                      round((presencas2021['quantidade_presencas'][(presencas2021['name'] == vereador)].values[0]) / total_2021 * 100, 3) if vereador in presencas2021['name'].values else 0,\n",
        "                      round((ausencias2021['quantidade_ausencias'][(ausencias2021['name'] == vereador)].values[0]) / total_2021 * 100, 3) if vereador in ausencias2021['name'].values else 0,\n",
        "                      round((justificativas2021['quantidade_justificativas'][(justificativas2021['name'] == vereador)].values[0]) / total_2021 * 100, 3) if vereador in justificativas2021['name'].values else 0]],\n",
        "                    columns=['name', 'party', 'presenca', 'ausencia', 'justificativa', 'presenca_rel', 'ausencia_rel', 'justificativa_rel'])\n",
        "  participacoes2021 = participacoes2021.append(df, ignore_index=True)\n",
        "\n",
        "display(participacoes2021)"
      ],
      "execution_count": null,
      "outputs": [
        {
          "output_type": "display_data",
          "data": {
            "application/vnd.google.colaboratory.intrinsic+json": {
              "type": "string"
            },
            "text/plain": [
              "'Total de Sessões em 2021'"
            ]
          },
          "metadata": {}
        },
        {
          "output_type": "display_data",
          "data": {
            "text/plain": [
              "10"
            ]
          },
          "metadata": {}
        },
        {
          "output_type": "stream",
          "name": "stdout",
          "text": [
            "\n"
          ]
        },
        {
          "output_type": "display_data",
          "data": {
            "application/vnd.google.colaboratory.intrinsic+json": {
              "type": "string"
            },
            "text/plain": [
              "'Comparecimento dos vereadores no ano de 2021'"
            ]
          },
          "metadata": {}
        },
        {
          "output_type": "display_data",
          "data": {
            "text/html": [
              "<div>\n",
              "<style scoped>\n",
              "    .dataframe tbody tr th:only-of-type {\n",
              "        vertical-align: middle;\n",
              "    }\n",
              "\n",
              "    .dataframe tbody tr th {\n",
              "        vertical-align: top;\n",
              "    }\n",
              "\n",
              "    .dataframe thead th {\n",
              "        text-align: right;\n",
              "    }\n",
              "</style>\n",
              "<table border=\"1\" class=\"dataframe\">\n",
              "  <thead>\n",
              "    <tr style=\"text-align: right;\">\n",
              "      <th></th>\n",
              "      <th>name</th>\n",
              "      <th>party</th>\n",
              "      <th>presenca</th>\n",
              "      <th>ausencia</th>\n",
              "      <th>justificativa</th>\n",
              "      <th>presenca_rel</th>\n",
              "      <th>ausencia_rel</th>\n",
              "      <th>justificativa_rel</th>\n",
              "    </tr>\n",
              "  </thead>\n",
              "  <tbody>\n",
              "    <tr>\n",
              "      <th>0</th>\n",
              "      <td>PROFESSOR IVAMBERG</td>\n",
              "      <td>PT</td>\n",
              "      <td>10</td>\n",
              "      <td>0</td>\n",
              "      <td>0</td>\n",
              "      <td>100.0</td>\n",
              "      <td>0.0</td>\n",
              "      <td>0.0</td>\n",
              "    </tr>\n",
              "    <tr>\n",
              "      <th>1</th>\n",
              "      <td>SILVIO DIAS</td>\n",
              "      <td>PT</td>\n",
              "      <td>10</td>\n",
              "      <td>0</td>\n",
              "      <td>0</td>\n",
              "      <td>100.0</td>\n",
              "      <td>0.0</td>\n",
              "      <td>0.0</td>\n",
              "    </tr>\n",
              "    <tr>\n",
              "      <th>2</th>\n",
              "      <td>LULINHA</td>\n",
              "      <td>DEM</td>\n",
              "      <td>7</td>\n",
              "      <td>0</td>\n",
              "      <td>1</td>\n",
              "      <td>70.0</td>\n",
              "      <td>0.0</td>\n",
              "      <td>10.0</td>\n",
              "    </tr>\n",
              "    <tr>\n",
              "      <th>3</th>\n",
              "      <td>PEDRO AMÉRICO</td>\n",
              "      <td>DEM</td>\n",
              "      <td>10</td>\n",
              "      <td>0</td>\n",
              "      <td>0</td>\n",
              "      <td>100.0</td>\n",
              "      <td>0.0</td>\n",
              "      <td>0.0</td>\n",
              "    </tr>\n",
              "    <tr>\n",
              "      <th>4</th>\n",
              "      <td>ZÉ CURUCA</td>\n",
              "      <td>DEM</td>\n",
              "      <td>10</td>\n",
              "      <td>0</td>\n",
              "      <td>0</td>\n",
              "      <td>100.0</td>\n",
              "      <td>0.0</td>\n",
              "      <td>0.0</td>\n",
              "    </tr>\n",
              "    <tr>\n",
              "      <th>5</th>\n",
              "      <td>GERUSA SAMPAIO</td>\n",
              "      <td>DEM</td>\n",
              "      <td>3</td>\n",
              "      <td>0</td>\n",
              "      <td>7</td>\n",
              "      <td>30.0</td>\n",
              "      <td>0.0</td>\n",
              "      <td>70.0</td>\n",
              "    </tr>\n",
              "    <tr>\n",
              "      <th>6</th>\n",
              "      <td>EDVALDO LIMA</td>\n",
              "      <td>MDB</td>\n",
              "      <td>10</td>\n",
              "      <td>0</td>\n",
              "      <td>0</td>\n",
              "      <td>100.0</td>\n",
              "      <td>0.0</td>\n",
              "      <td>0.0</td>\n",
              "    </tr>\n",
              "    <tr>\n",
              "      <th>7</th>\n",
              "      <td>FABIANO DA VAN</td>\n",
              "      <td>MDB</td>\n",
              "      <td>7</td>\n",
              "      <td>0</td>\n",
              "      <td>1</td>\n",
              "      <td>70.0</td>\n",
              "      <td>0.0</td>\n",
              "      <td>10.0</td>\n",
              "    </tr>\n",
              "    <tr>\n",
              "      <th>8</th>\n",
              "      <td>LÚ DE RONNY</td>\n",
              "      <td>MDB</td>\n",
              "      <td>10</td>\n",
              "      <td>0</td>\n",
              "      <td>0</td>\n",
              "      <td>100.0</td>\n",
              "      <td>0.0</td>\n",
              "      <td>0.0</td>\n",
              "    </tr>\n",
              "    <tr>\n",
              "      <th>9</th>\n",
              "      <td>RON DO POVO</td>\n",
              "      <td>MDB</td>\n",
              "      <td>10</td>\n",
              "      <td>0</td>\n",
              "      <td>0</td>\n",
              "      <td>100.0</td>\n",
              "      <td>0.0</td>\n",
              "      <td>0.0</td>\n",
              "    </tr>\n",
              "    <tr>\n",
              "      <th>10</th>\n",
              "      <td>JOSÉ CARNEIRO</td>\n",
              "      <td>MDB</td>\n",
              "      <td>3</td>\n",
              "      <td>0</td>\n",
              "      <td>7</td>\n",
              "      <td>30.0</td>\n",
              "      <td>0.0</td>\n",
              "      <td>70.0</td>\n",
              "    </tr>\n",
              "    <tr>\n",
              "      <th>11</th>\n",
              "      <td>ELI RIBEIRO</td>\n",
              "      <td>REP</td>\n",
              "      <td>4</td>\n",
              "      <td>0</td>\n",
              "      <td>6</td>\n",
              "      <td>40.0</td>\n",
              "      <td>0.0</td>\n",
              "      <td>60.0</td>\n",
              "    </tr>\n",
              "    <tr>\n",
              "      <th>12</th>\n",
              "      <td>PETRONIO LIMA</td>\n",
              "      <td>REP</td>\n",
              "      <td>6</td>\n",
              "      <td>0</td>\n",
              "      <td>1</td>\n",
              "      <td>60.0</td>\n",
              "      <td>0.0</td>\n",
              "      <td>10.0</td>\n",
              "    </tr>\n",
              "    <tr>\n",
              "      <th>13</th>\n",
              "      <td>LUIZ DA FEIRA</td>\n",
              "      <td>PROS</td>\n",
              "      <td>9</td>\n",
              "      <td>1</td>\n",
              "      <td>0</td>\n",
              "      <td>90.0</td>\n",
              "      <td>10.0</td>\n",
              "      <td>0.0</td>\n",
              "    </tr>\n",
              "    <tr>\n",
              "      <th>14</th>\n",
              "      <td>GALEGUINHO SPA</td>\n",
              "      <td>PSB</td>\n",
              "      <td>10</td>\n",
              "      <td>0</td>\n",
              "      <td>0</td>\n",
              "      <td>100.0</td>\n",
              "      <td>0.0</td>\n",
              "      <td>0.0</td>\n",
              "    </tr>\n",
              "    <tr>\n",
              "      <th>15</th>\n",
              "      <td>CORREIA ZEZITO</td>\n",
              "      <td>PATRI</td>\n",
              "      <td>8</td>\n",
              "      <td>0</td>\n",
              "      <td>2</td>\n",
              "      <td>80.0</td>\n",
              "      <td>0.0</td>\n",
              "      <td>20.0</td>\n",
              "    </tr>\n",
              "    <tr>\n",
              "      <th>16</th>\n",
              "      <td>FERNANDO TORRES</td>\n",
              "      <td>PSD</td>\n",
              "      <td>10</td>\n",
              "      <td>0</td>\n",
              "      <td>0</td>\n",
              "      <td>100.0</td>\n",
              "      <td>0.0</td>\n",
              "      <td>0.0</td>\n",
              "    </tr>\n",
              "    <tr>\n",
              "      <th>17</th>\n",
              "      <td>EREMITA MOTA</td>\n",
              "      <td>PSDB</td>\n",
              "      <td>10</td>\n",
              "      <td>0</td>\n",
              "      <td>0</td>\n",
              "      <td>100.0</td>\n",
              "      <td>0.0</td>\n",
              "      <td>0.0</td>\n",
              "    </tr>\n",
              "    <tr>\n",
              "      <th>18</th>\n",
              "      <td>EMERSON MINHO</td>\n",
              "      <td>DC</td>\n",
              "      <td>10</td>\n",
              "      <td>0</td>\n",
              "      <td>0</td>\n",
              "      <td>100.0</td>\n",
              "      <td>0.0</td>\n",
              "      <td>0.0</td>\n",
              "    </tr>\n",
              "    <tr>\n",
              "      <th>19</th>\n",
              "      <td>JHONATAS MONTEIRO</td>\n",
              "      <td>PSOL</td>\n",
              "      <td>10</td>\n",
              "      <td>0</td>\n",
              "      <td>0</td>\n",
              "      <td>100.0</td>\n",
              "      <td>0.0</td>\n",
              "      <td>0.0</td>\n",
              "    </tr>\n",
              "    <tr>\n",
              "      <th>20</th>\n",
              "      <td>JURANDY CARVALHO</td>\n",
              "      <td>PL</td>\n",
              "      <td>10</td>\n",
              "      <td>0</td>\n",
              "      <td>0</td>\n",
              "      <td>100.0</td>\n",
              "      <td>0.0</td>\n",
              "      <td>0.0</td>\n",
              "    </tr>\n",
              "    <tr>\n",
              "      <th>21</th>\n",
              "      <td>PAULÃO DO CALDEIRÃO</td>\n",
              "      <td>PSC</td>\n",
              "      <td>10</td>\n",
              "      <td>0</td>\n",
              "      <td>0</td>\n",
              "      <td>100.0</td>\n",
              "      <td>0.0</td>\n",
              "      <td>0.0</td>\n",
              "    </tr>\n",
              "    <tr>\n",
              "      <th>22</th>\n",
              "      <td>PEDRO CICERO</td>\n",
              "      <td>CIDADAN</td>\n",
              "      <td>10</td>\n",
              "      <td>0</td>\n",
              "      <td>0</td>\n",
              "      <td>100.0</td>\n",
              "      <td>0.0</td>\n",
              "      <td>0.0</td>\n",
              "    </tr>\n",
              "    <tr>\n",
              "      <th>23</th>\n",
              "      <td>PR. VALDEMIR SANTOS</td>\n",
              "      <td>PV</td>\n",
              "      <td>10</td>\n",
              "      <td>0</td>\n",
              "      <td>0</td>\n",
              "      <td>100.0</td>\n",
              "      <td>0.0</td>\n",
              "      <td>0.0</td>\n",
              "    </tr>\n",
              "  </tbody>\n",
              "</table>\n",
              "</div>"
            ],
            "text/plain": [
              "                   name    party  ...  ausencia_rel  justificativa_rel\n",
              "0    PROFESSOR IVAMBERG       PT  ...           0.0                0.0\n",
              "1           SILVIO DIAS       PT  ...           0.0                0.0\n",
              "2               LULINHA      DEM  ...           0.0               10.0\n",
              "3         PEDRO AMÉRICO      DEM  ...           0.0                0.0\n",
              "4             ZÉ CURUCA      DEM  ...           0.0                0.0\n",
              "5        GERUSA SAMPAIO      DEM  ...           0.0               70.0\n",
              "6          EDVALDO LIMA      MDB  ...           0.0                0.0\n",
              "7        FABIANO DA VAN      MDB  ...           0.0               10.0\n",
              "8           LÚ DE RONNY      MDB  ...           0.0                0.0\n",
              "9           RON DO POVO      MDB  ...           0.0                0.0\n",
              "10        JOSÉ CARNEIRO      MDB  ...           0.0               70.0\n",
              "11          ELI RIBEIRO      REP  ...           0.0               60.0\n",
              "12        PETRONIO LIMA      REP  ...           0.0               10.0\n",
              "13        LUIZ DA FEIRA     PROS  ...          10.0                0.0\n",
              "14       GALEGUINHO SPA      PSB  ...           0.0                0.0\n",
              "15       CORREIA ZEZITO    PATRI  ...           0.0               20.0\n",
              "16      FERNANDO TORRES      PSD  ...           0.0                0.0\n",
              "17         EREMITA MOTA     PSDB  ...           0.0                0.0\n",
              "18        EMERSON MINHO       DC  ...           0.0                0.0\n",
              "19    JHONATAS MONTEIRO     PSOL  ...           0.0                0.0\n",
              "20     JURANDY CARVALHO       PL  ...           0.0                0.0\n",
              "21  PAULÃO DO CALDEIRÃO      PSC  ...           0.0                0.0\n",
              "22         PEDRO CICERO  CIDADAN  ...           0.0                0.0\n",
              "23  PR. VALDEMIR SANTOS       PV  ...           0.0                0.0\n",
              "\n",
              "[24 rows x 8 columns]"
            ]
          },
          "metadata": {}
        }
      ]
    },
    {
      "cell_type": "markdown",
      "metadata": {
        "id": "8B4p_gwiXcaa"
      },
      "source": [
        "No ano de 2021, Pedro Américo, Sílvio Dias, Emerson Minho, Eremita Mota, Ron do Povo, Fernando Torres, Galeguinho SPA, Professor Ivamberg, Jhonatas Monteiro, Pr. Valdemor Santos, Edvaldo Lima, Pedro Cícero, Lú de Ronny e Paulão do caldeirão foram os vereadores com maior quantidade absoluta de presenças, com 10 (100%); Luiz da Feira foi o único vereador que apresentou ausências, 1 (10%); Gerusa Sampaio e José Carneiro foram os vereadores com maior quantidade absoluta de justificativas, com 7 (70%)."
      ]
    },
    {
      "cell_type": "markdown",
      "metadata": {
        "id": "XujfBEBDmv9H"
      },
      "source": [
        "Nos anos de 2017 a 2021, Gerusa Sampaio e José Carneiro alternaram como os vereadores com maior quantidade de presenças. Em 2021, apenas 10 sessões estão presentes na base de dados, com uma maioria de vereadores estando presentes em todas elas. Em dois anos, Cíntia Machado foi a vereadora que apresentou a maior quantidade de ausências. De modo geral, Eli Ribeiro, Justiniano França, Robeci da Vassoura, Sgt. Josafá Ramos e Ronny, foram os que mais apresentaram justificativas para as ausências de 2017 a 2019, com exceção do vereador Ronny, que faleceu em 2017, pode indicar que os demais vereadores ocupavam algum cargo especial no governo, alguma secretaria por exemplo, e precisavam se ausentar das sessões da câmara."
      ]
    },
    {
      "cell_type": "markdown",
      "metadata": {
        "id": "USFCGVB7m_0R"
      },
      "source": [
        "#3 - Escolha 3 vereadores, determine a quantidade de presenças, a quantidade de ausências e a quantidade de faltas justificadas de cada vereador a cada mês de cada ano. Não some quantidades de meses de anos diferentes (por exemplo, janeiro de 2018 é diferente de janeiro de 2019).\n",
        "\n",
        "#Considere os valores por mês de cada vereador como uma amostra (você terá 3 amostras por vereador, uma amostra com quantidades de presenças dele a cada mês, uma amostra com quantidades de ausências dele a cada mês e uma amostra com quantidades de faltas justificadas dele a cada mês). Serão 9 amostras no total.\n",
        "\n",
        "#Avalie numericamente a tendência central e dispersão das quantidades de presenças, ausências e faltas justificadas de cada amostra e faça um histograma dos valores de cada amostra. Discuta o que você observa."
      ]
    },
    {
      "cell_type": "code",
      "metadata": {
        "colab": {
          "base_uri": "https://localhost:8080/",
          "height": 1000
        },
        "id": "8Xv32zr7ttIr",
        "outputId": "3e9287c3-7cfa-4d39-88d6-36d7a1fe9dc3"
      },
      "source": [
        "vereador1 = (paineldf['name'] == 'EDVALDO LIMA')\n",
        "vereador2 = (paineldf['name'] == 'LUIZ DA FEIRA')\n",
        "vereador3 = (paineldf['name'] == 'ELI RIBEIRO')\n",
        "\n",
        "janeiro = (paineldf['date'].dt.month == 1)\n",
        "fevereiro = (paineldf['date'].dt.month == 2)\n",
        "marco = (paineldf['date'].dt.month == 3)\n",
        "abril = (paineldf['date'].dt.month == 4)\n",
        "maio = (paineldf['date'].dt.month == 5)\n",
        "junho = (paineldf['date'].dt.month == 6)\n",
        "julho = (paineldf['date'].dt.month == 7)\n",
        "agosto = (paineldf['date'].dt.month == 8)\n",
        "setembro = (paineldf['date'].dt.month == 9)\n",
        "outubro = (paineldf['date'].dt.month == 10)\n",
        "novembro = (paineldf['date'].dt.month == 11)\n",
        "dezembro = (paineldf['date'].dt.month == 12)\n",
        "\n",
        "a2017 = (paineldf['date'].dt.year == 2017)\n",
        "a2018 = (paineldf['date'].dt.year == 2018)\n",
        "a2019 = (paineldf['date'].dt.year == 2019)\n",
        "a2020 = (paineldf['date'].dt.year == 2020)\n",
        "a2021 = (paineldf['date'].dt.year == 2021)\n",
        "\n",
        "total_de_meses = len(paineldf['date'].dt.month[a2017].unique()) + len(paineldf['date'].dt.month[a2018].unique()) + len(paineldf['date'].dt.month[a2019].unique()) + len(paineldf['date'].dt.month[a2020].unique())  + len(paineldf['date'].dt.month[a2021].unique())\n",
        "display('Total de Meses')\n",
        "display(total_de_meses)\n",
        "\n",
        "df_vereador1_17 = paineldf[['name', 'date', 'attendance']][vereador1 & a2017].groupby(['name', paineldf['date'].dt.month, 'attendance'])\n",
        "df_vereador1_17 = df_vereador1_17['attendance'].count().reset_index(name='quantidade')\n",
        "\n",
        "df_vereador1_18 = paineldf[['name', 'date', 'attendance']][vereador1 & a2018].groupby(['name', paineldf['date'].dt.month, 'attendance'])\n",
        "df_vereador1_18 = df_vereador1_18['attendance'].count().reset_index(name='quantidade')\n",
        "\n",
        "df_vereador1_19 = paineldf[['name', 'date', 'attendance']][vereador1 & a2019].groupby(['name', paineldf['date'].dt.month, 'attendance'])\n",
        "df_vereador1_19 = df_vereador1_19['attendance'].count().reset_index(name='quantidade')\n",
        "\n",
        "df_vereador1_20 = paineldf[['name', 'date', 'attendance']][vereador1 & a2020].groupby(['name', paineldf['date'].dt.month, 'attendance'])\n",
        "df_vereador1_20 = df_vereador1_20['attendance'].count().reset_index(name='quantidade')\n",
        "\n",
        "df_vereador1_21 = paineldf[['name', 'date', 'attendance']][vereador1 & a2021].groupby(['name', paineldf['date'].dt.month, 'attendance'])\n",
        "df_vereador1_21 = df_vereador1_21['attendance'].count().reset_index(name='quantidade')\n",
        "\n",
        "presencas_ver1 = df_vereador1_17[df_vereador1_17['attendance'] == 'attending']['quantidade'].tolist()\n",
        "presencas_ver1 = presencas_ver1 + df_vereador1_18[df_vereador1_18['attendance'] == 'attending']['quantidade'].tolist()\n",
        "presencas_ver1 = presencas_ver1 + df_vereador1_19[df_vereador1_19['attendance'] == 'attending']['quantidade'].tolist()\n",
        "presencas_ver1 = presencas_ver1 + df_vereador1_20[df_vereador1_20['attendance'] == 'attending']['quantidade'].tolist()\n",
        "presencas_ver1 = presencas_ver1 + df_vereador1_21[df_vereador1_21['attendance'] == 'attending']['quantidade'].tolist()\n",
        "\n",
        "if len(presencas_ver1) < total_de_meses:\n",
        "  l = total_de_meses - len(presencas_ver1)\n",
        "  aux = [np.nan]*l\n",
        "  presencas_ver1 = presencas_ver1 + aux\n",
        "\n",
        "ausencias_ver1 = df_vereador1_17[df_vereador1_17['attendance'] == 'absent']['quantidade'].tolist()\n",
        "ausencias_ver1 = ausencias_ver1 + df_vereador1_18[df_vereador1_18['attendance'] == 'absent']['quantidade'].tolist()\n",
        "ausencias_ver1 = ausencias_ver1 + df_vereador1_19[df_vereador1_19['attendance'] == 'absent']['quantidade'].tolist()\n",
        "ausencias_ver1 = ausencias_ver1 + df_vereador1_20[df_vereador1_20['attendance'] == 'absent']['quantidade'].tolist()\n",
        "ausencias_ver1 = ausencias_ver1 + df_vereador1_21[df_vereador1_21['attendance'] == 'absent']['quantidade'].tolist()\n",
        "\n",
        "if len(ausencias_ver1) < total_de_meses:\n",
        "  l = total_de_meses - len(ausencias_ver1)\n",
        "  aux = [np.nan]*l\n",
        "  ausencias_ver1 = ausencias_ver1 + aux\n",
        "\n",
        "justificativas_ver1 = df_vereador1_17[df_vereador1_17['attendance'] == 'justified']['quantidade'].tolist()\n",
        "justificativas_ver1 = justificativas_ver1 + df_vereador1_18[df_vereador1_18['attendance'] == 'justified']['quantidade'].tolist()\n",
        "justificativas_ver1 = justificativas_ver1 + df_vereador1_19[df_vereador1_19['attendance'] == 'justified']['quantidade'].tolist()\n",
        "justificativas_ver1 = justificativas_ver1 + df_vereador1_20[df_vereador1_20['attendance'] == 'justified']['quantidade'].tolist()\n",
        "justificativas_ver1 = justificativas_ver1 + df_vereador1_21[df_vereador1_21['attendance'] == 'justified']['quantidade'].tolist()\n",
        "\n",
        "if len(justificativas_ver1) < total_de_meses:\n",
        "  l = total_de_meses - len(justificativas_ver1)\n",
        "  aux = [np.nan]*l\n",
        "  justificativas_ver1 = justificativas_ver1 + aux\n",
        "\n",
        "edvaldo_lima = pd.DataFrame({'presencas': presencas_ver1, 'ausencias': ausencias_ver1, 'justificativas': justificativas_ver1})\n",
        "\n",
        "display('Média das Presenças do Vereador EDVALDO LIMA (sessões por mês)')\n",
        "display(round(edvaldo_lima['presencas'].mean(), 2))\n",
        "display('Desvio Padrão das Presenças do Vereador EDVALDO LIMA (sessões por mês)')\n",
        "display(round(edvaldo_lima['presencas'].std(), 2))\n",
        "display('Mediana das Presenças do Vereador EDVALDO LIMA (sessões por mês)')\n",
        "display(round(edvaldo_lima['presencas'].median(), 2))\n",
        "display('Moda das Presenças do Vereador EDVALDO LIMA (sessões por mês)')\n",
        "display(round(edvaldo_lima['presencas'].mode(), 2))\n",
        "print()\n",
        "\n",
        "display('Média das Ausências do Vereador EDVALDO LIMA (sessões por mês)')\n",
        "display(round(edvaldo_lima['ausencias'].mean(), 2))\n",
        "display('Desvio Padrão das Ausências do Vereador EDVALDO LIMA (sessões por mês)')\n",
        "display(round(edvaldo_lima['ausencias'].std(), 2))\n",
        "display('Mediana das Ausências do Vereador EDVALDO LIMA (sessões por mês)')\n",
        "display(round(edvaldo_lima['ausencias'].median(), 2))\n",
        "display('Moda das Ausências do Vereador EDVALDO LIMA (sessões por mês)')\n",
        "display(round(edvaldo_lima['ausencias'].mode(), 2))\n",
        "print()\n",
        "\n",
        "display('Média das Justificativas do Vereador EDVALDO LIMA (sessões por mês)')\n",
        "display(round(edvaldo_lima['justificativas'].mean(), 2))\n",
        "display('Desvio Padrão das Justificativas do Vereador EDVALDO LIMA (sessões por mês)')\n",
        "display(round(edvaldo_lima['justificativas'].std(), 2))\n",
        "display('Mediana das Justificativas do Vereador EDVALDO LIMA (sessões por mês)')\n",
        "display(round(edvaldo_lima['justificativas'].median(), 2))\n",
        "display('Moda das Justificativas do Vereador EDVALDO LIMA (sessões por mês)')\n",
        "display(round(edvaldo_lima['justificativas'].mode(), 2))\n",
        "print()\n",
        "\n",
        "df_vereador2_17 = paineldf[['name', 'date', 'attendance']][vereador2 & a2017].groupby(['name', paineldf['date'].dt.month, 'attendance'])\n",
        "df_vereador2_17 = df_vereador2_17['attendance'].count().reset_index(name='quantidade')\n",
        "\n",
        "df_vereador2_18 = paineldf[['name', 'date', 'attendance']][vereador2 & a2018].groupby(['name', paineldf['date'].dt.month, 'attendance'])\n",
        "df_vereador2_18 = df_vereador2_18['attendance'].count().reset_index(name='quantidade')\n",
        "\n",
        "df_vereador2_19 = paineldf[['name', 'date', 'attendance']][vereador2 & a2019].groupby(['name', paineldf['date'].dt.month, 'attendance'])\n",
        "df_vereador2_19 = df_vereador2_19['attendance'].count().reset_index(name='quantidade')\n",
        "\n",
        "df_vereador2_20 = paineldf[['name', 'date', 'attendance']][vereador2 & a2020].groupby(['name', paineldf['date'].dt.month, 'attendance'])\n",
        "df_vereador2_20 = df_vereador2_20['attendance'].count().reset_index(name='quantidade')\n",
        "\n",
        "df_vereador2_21 = paineldf[['name', 'date', 'attendance']][vereador2 & a2021].groupby(['name', paineldf['date'].dt.month, 'attendance'])\n",
        "df_vereador2_21 = df_vereador2_21['attendance'].count().reset_index(name='quantidade')\n",
        "\n",
        "presencas_ver2 = df_vereador2_17[df_vereador2_17['attendance'] == 'attending']['quantidade'].tolist()\n",
        "presencas_ver2 = presencas_ver2 + df_vereador2_18[df_vereador2_18['attendance'] == 'attending']['quantidade'].tolist()\n",
        "presencas_ver2 = presencas_ver2 + df_vereador2_19[df_vereador2_19['attendance'] == 'attending']['quantidade'].tolist()\n",
        "presencas_ver2 = presencas_ver2 + df_vereador2_20[df_vereador2_20['attendance'] == 'attending']['quantidade'].tolist()\n",
        "presencas_ver2 = presencas_ver2 + df_vereador2_21[df_vereador2_21['attendance'] == 'attending']['quantidade'].tolist()\n",
        "\n",
        "if len(presencas_ver2) < total_de_meses:\n",
        "  l = total_de_meses - len(presencas_ver2)\n",
        "  aux = [np.nan]*l\n",
        "  presencas_ver2 = presencas_ver2 + aux\n",
        "\n",
        "ausencias_ver2 = df_vereador2_17[df_vereador2_17['attendance'] == 'absent']['quantidade'].tolist()\n",
        "ausencias_ver2 = ausencias_ver2 + df_vereador2_18[df_vereador2_18['attendance'] == 'absent']['quantidade'].tolist()\n",
        "ausencias_ver2 = ausencias_ver2 + df_vereador2_19[df_vereador2_19['attendance'] == 'absent']['quantidade'].tolist()\n",
        "ausencias_ver2 = ausencias_ver2 + df_vereador2_20[df_vereador2_20['attendance'] == 'absent']['quantidade'].tolist()\n",
        "ausencias_ver2 = ausencias_ver2 + df_vereador2_21[df_vereador2_21['attendance'] == 'absent']['quantidade'].tolist()\n",
        "\n",
        "if len(ausencias_ver2) < total_de_meses:\n",
        "  l = total_de_meses - len(ausencias_ver2)\n",
        "  aux = [np.nan]*l\n",
        "  ausencias_ver2 = ausencias_ver2 + aux\n",
        "\n",
        "justificativas_ver2 = df_vereador2_17[df_vereador2_17['attendance'] == 'justified']['quantidade'].tolist()\n",
        "justificativas_ver2 = justificativas_ver2 + df_vereador2_18[df_vereador2_18['attendance'] == 'justified']['quantidade'].tolist()\n",
        "justificativas_ver2 = justificativas_ver2 + df_vereador2_19[df_vereador2_19['attendance'] == 'justified']['quantidade'].tolist()\n",
        "justificativas_ver2 = justificativas_ver2 + df_vereador2_20[df_vereador2_20['attendance'] == 'justified']['quantidade'].tolist()\n",
        "justificativas_ver2 = justificativas_ver2 + df_vereador2_21[df_vereador2_21['attendance'] == 'justified']['quantidade'].tolist()\n",
        "\n",
        "if len(justificativas_ver2) < total_de_meses:\n",
        "  l = total_de_meses - len(justificativas_ver2)\n",
        "  aux = [np.nan]*l\n",
        "  justificativas_ver2 = justificativas_ver2 + aux\n",
        "  \n",
        "luiz_da_feira = pd.DataFrame({'presencas': presencas_ver2, 'ausencias': ausencias_ver2, 'justificativas': justificativas_ver2})\n",
        "\n",
        "display('Média das Presenças do Vereador LUIZ DA FEIRA (sessões por mês)')\n",
        "display(round(luiz_da_feira['presencas'].mean(), 2))\n",
        "display('Desvio Padrão das Presenças do Vereador LUIZ DA FEIRA (sessões por mês)')\n",
        "display(round(luiz_da_feira['presencas'].std(), 2))\n",
        "display('Mediana das Presenças do Vereador LUIZ DA FEIRA (sessões por mês)')\n",
        "display(round(luiz_da_feira['presencas'].median(), 2))\n",
        "display('Moda das Presenças do Vereador LUIZ DA FEIRA (sessões por mês)')\n",
        "display(round(luiz_da_feira['presencas'].mode(), 2))\n",
        "print()\n",
        "\n",
        "display('Média das Ausências do Vereador LUIZ DA FEIRA (sessões por mês)')\n",
        "display(round(luiz_da_feira['ausencias'].mean(), 2))\n",
        "display('Desvio Padrão das Ausências do Vereador LUIZ DA FEIRA (sessões por mês)')\n",
        "display(round(luiz_da_feira['ausencias'].std(), 2))\n",
        "display('Mediana das Ausências do Vereador LUIZ DA FEIRA (sessões por mês)')\n",
        "display(round(luiz_da_feira['ausencias'].median(), 2))\n",
        "display('Moda das Ausências do Vereador LUIZ DA FEIRA (sessões por mês)')\n",
        "display(round(luiz_da_feira['ausencias'].mode(), 2))\n",
        "print()\n",
        "\n",
        "display('Média das Justificativas do Vereador LUIZ DA FEIRA (sessões por mês)')\n",
        "display(round(luiz_da_feira['justificativas'].mean(), 2))\n",
        "display('Desvio Padrão das Justificativas do Vereador LUIZ DA FEIRA (sessões por mês)')\n",
        "display(round(luiz_da_feira['justificativas'].std(), 2))\n",
        "display('Mediana das Justificativas do Vereador LUIZ DA FEIRA (sessões por mês)')\n",
        "display(round(luiz_da_feira['justificativas'].median(), 2))\n",
        "display('Moda das Justificativas do Vereador LUIZ DA FEIRA (sessões por mês)')\n",
        "display(round(luiz_da_feira['justificativas'].mode(), 2))\n",
        "print()\n",
        "\n",
        "df_vereador3_17 = paineldf[['name', 'date', 'attendance']][vereador3 & a2017].groupby(['name', paineldf['date'].dt.month, 'attendance'])\n",
        "df_vereador3_17 = df_vereador3_17['attendance'].count().reset_index(name='quantidade')\n",
        "\n",
        "df_vereador3_18 = paineldf[['name', 'date', 'attendance']][vereador3 & a2018].groupby(['name', paineldf['date'].dt.month, 'attendance'])\n",
        "df_vereador3_18 = df_vereador3_18['attendance'].count().reset_index(name='quantidade')\n",
        "\n",
        "df_vereador3_19 = paineldf[['name', 'date', 'attendance']][vereador3 & a2019].groupby(['name', paineldf['date'].dt.month, 'attendance'])\n",
        "df_vereador3_19 = df_vereador3_19['attendance'].count().reset_index(name='quantidade')\n",
        "\n",
        "df_vereador3_20 = paineldf[['name', 'date', 'attendance']][vereador3 & a2020].groupby(['name', paineldf['date'].dt.month, 'attendance'])\n",
        "df_vereador3_20 = df_vereador3_20['attendance'].count().reset_index(name='quantidade')\n",
        "\n",
        "df_vereador3_21 = paineldf[['name', 'date', 'attendance']][vereador3 & a2021].groupby(['name', paineldf['date'].dt.month, 'attendance'])\n",
        "df_vereador3_21 = df_vereador3_21['attendance'].count().reset_index(name='quantidade')\n",
        "\n",
        "presencas_ver3 = df_vereador3_17[df_vereador3_17['attendance'] == 'attending']['quantidade'].tolist()\n",
        "presencas_ver3 = presencas_ver3 + df_vereador3_18[df_vereador3_18['attendance'] == 'attending']['quantidade'].tolist()\n",
        "presencas_ver3 = presencas_ver3 + df_vereador3_19[df_vereador3_19['attendance'] == 'attending']['quantidade'].tolist()\n",
        "presencas_ver3 = presencas_ver3 + df_vereador3_20[df_vereador3_20['attendance'] == 'attending']['quantidade'].tolist()\n",
        "presencas_ver3 = presencas_ver3 + df_vereador3_21[df_vereador3_21['attendance'] == 'attending']['quantidade'].tolist()\n",
        "\n",
        "if len(presencas_ver3) < total_de_meses:\n",
        "  l = total_de_meses - len(presencas_ver3)\n",
        "  aux = [np.nan]*l\n",
        "  presencas_ver3 = presencas_ver3 + aux\n",
        "\n",
        "ausencias_ver3 = df_vereador3_17[df_vereador3_17['attendance'] == 'absent']['quantidade'].tolist()\n",
        "ausencias_ver3 = ausencias_ver3 + df_vereador3_18[df_vereador3_18['attendance'] == 'absent']['quantidade'].tolist()\n",
        "ausencias_ver3 = ausencias_ver3 + df_vereador3_19[df_vereador3_19['attendance'] == 'absent']['quantidade'].tolist()\n",
        "ausencias_ver3 = ausencias_ver3 + df_vereador3_20[df_vereador3_20['attendance'] == 'absent']['quantidade'].tolist()\n",
        "ausencias_ver3 = ausencias_ver3 + df_vereador3_21[df_vereador3_21['attendance'] == 'absent']['quantidade'].tolist()\n",
        "\n",
        "if len(ausencias_ver3) < total_de_meses:\n",
        "  l = total_de_meses - len(ausencias_ver3)\n",
        "  aux = [np.nan]*l\n",
        "  ausencias_ver3 = ausencias_ver3 + aux\n",
        "\n",
        "justificativas_ver3 = df_vereador3_17[df_vereador3_17['attendance'] == 'justified']['quantidade'].tolist()\n",
        "justificativas_ver3 = justificativas_ver3 + df_vereador3_18[df_vereador3_18['attendance'] == 'justified']['quantidade'].tolist()\n",
        "justificativas_ver3 = justificativas_ver3 + df_vereador3_19[df_vereador3_19['attendance'] == 'justified']['quantidade'].tolist()\n",
        "justificativas_ver3 = justificativas_ver3 + df_vereador3_20[df_vereador3_20['attendance'] == 'justified']['quantidade'].tolist()\n",
        "justificativas_ver3 = justificativas_ver3 + df_vereador3_21[df_vereador3_21['attendance'] == 'justified']['quantidade'].tolist()\n",
        "\n",
        "if len(justificativas_ver3) < total_de_meses:\n",
        "  l = total_de_meses - len(justificativas_ver3)\n",
        "  aux = [np.nan]*l\n",
        "  justificativas_ver3 = justificativas_ver3 + aux\n",
        "\n",
        "eli_ribeiro = pd.DataFrame({'presencas': presencas_ver3, 'ausencias': ausencias_ver3, 'justificativas': justificativas_ver3})\n",
        "\n",
        "display('Média das Presenças do Vereador ELI RIBEIRO (sessões por mês)')\n",
        "display(round(eli_ribeiro['presencas'].mean(), 2))\n",
        "display('Desvio Padrão das Presenças do Vereador ELI RIBEIRO (sessões por mês)')\n",
        "display(round(eli_ribeiro['presencas'].std(), 2))\n",
        "display('Mediana das Presenças do Vereador ELI RIBEIRO (sessões por mês)')\n",
        "display(round(eli_ribeiro['presencas'].median(), 2))\n",
        "display('Moda das Presenças do Vereador ELI RIBEIRO (sessões por mês)')\n",
        "display(round(eli_ribeiro['presencas'].mode(), 2))\n",
        "print()\n",
        "\n",
        "display('Média das Ausências do Vereador ELI RIBEIRO (sessões por mês)')\n",
        "display(round(eli_ribeiro['ausencias'].mean(), 2))\n",
        "display('Desvio Padrão das Ausências do Vereador ELI RIBEIRO (sessões por mês)')\n",
        "display(round(eli_ribeiro['ausencias'].std(), 2))\n",
        "display('Mediana das Ausências do Vereador ELI RIBEIRO (sessões por mês)')\n",
        "display(round(eli_ribeiro['ausencias'].median(), 2))\n",
        "display('Moda das Ausências do Vereador ELI RIBEIRO (sessões por mês)')\n",
        "display(round(eli_ribeiro['ausencias'].mode(), 2))\n",
        "print()\n",
        "\n",
        "display('Média das Justificativas do Vereador ELI RIBEIRO (sessões por mês)')\n",
        "display(round(eli_ribeiro['justificativas'].mean(), 2))\n",
        "display('Desvio Padrão das Justificativas do Vereador ELI RIBEIRO (sessões por mês)')\n",
        "display(round(eli_ribeiro['justificativas'].std(), 2))\n",
        "display('Mediana das Justificativas do Vereador ELI RIBEIRO (sessões por mês)')\n",
        "display(round(eli_ribeiro['justificativas'].median(), 2))\n",
        "display('Moda das Justificativas do Vereador ELI RIBEIRO (sessões por mês)')\n",
        "display(round(eli_ribeiro['justificativas'].mode(), 2))\n",
        "print()"
      ],
      "execution_count": null,
      "outputs": [
        {
          "output_type": "display_data",
          "data": {
            "application/vnd.google.colaboratory.intrinsic+json": {
              "type": "string"
            },
            "text/plain": [
              "'Total de Meses'"
            ]
          },
          "metadata": {}
        },
        {
          "output_type": "display_data",
          "data": {
            "text/plain": [
              "39"
            ]
          },
          "metadata": {}
        },
        {
          "output_type": "display_data",
          "data": {
            "application/vnd.google.colaboratory.intrinsic+json": {
              "type": "string"
            },
            "text/plain": [
              "'Média das Presenças do Vereador EDVALDO LIMA (sessões por mês)'"
            ]
          },
          "metadata": {}
        },
        {
          "output_type": "display_data",
          "data": {
            "text/plain": [
              "10.38"
            ]
          },
          "metadata": {}
        },
        {
          "output_type": "display_data",
          "data": {
            "application/vnd.google.colaboratory.intrinsic+json": {
              "type": "string"
            },
            "text/plain": [
              "'Desvio Padrão das Presenças do Vereador EDVALDO LIMA (sessões por mês)'"
            ]
          },
          "metadata": {}
        },
        {
          "output_type": "display_data",
          "data": {
            "text/plain": [
              "4.08"
            ]
          },
          "metadata": {}
        },
        {
          "output_type": "display_data",
          "data": {
            "application/vnd.google.colaboratory.intrinsic+json": {
              "type": "string"
            },
            "text/plain": [
              "'Mediana das Presenças do Vereador EDVALDO LIMA (sessões por mês)'"
            ]
          },
          "metadata": {}
        },
        {
          "output_type": "display_data",
          "data": {
            "text/plain": [
              "11.0"
            ]
          },
          "metadata": {}
        },
        {
          "output_type": "display_data",
          "data": {
            "application/vnd.google.colaboratory.intrinsic+json": {
              "type": "string"
            },
            "text/plain": [
              "'Moda das Presenças do Vereador EDVALDO LIMA (sessões por mês)'"
            ]
          },
          "metadata": {}
        },
        {
          "output_type": "display_data",
          "data": {
            "text/plain": [
              "0    13\n",
              "dtype: int64"
            ]
          },
          "metadata": {}
        },
        {
          "output_type": "stream",
          "name": "stdout",
          "text": [
            "\n"
          ]
        },
        {
          "output_type": "display_data",
          "data": {
            "application/vnd.google.colaboratory.intrinsic+json": {
              "type": "string"
            },
            "text/plain": [
              "'Média das Ausências do Vereador EDVALDO LIMA (sessões por mês)'"
            ]
          },
          "metadata": {}
        },
        {
          "output_type": "display_data",
          "data": {
            "text/plain": [
              "6.0"
            ]
          },
          "metadata": {}
        },
        {
          "output_type": "display_data",
          "data": {
            "application/vnd.google.colaboratory.intrinsic+json": {
              "type": "string"
            },
            "text/plain": [
              "'Desvio Padrão das Ausências do Vereador EDVALDO LIMA (sessões por mês)'"
            ]
          },
          "metadata": {}
        },
        {
          "output_type": "display_data",
          "data": {
            "text/plain": [
              "3.21"
            ]
          },
          "metadata": {}
        },
        {
          "output_type": "display_data",
          "data": {
            "application/vnd.google.colaboratory.intrinsic+json": {
              "type": "string"
            },
            "text/plain": [
              "'Mediana das Ausências do Vereador EDVALDO LIMA (sessões por mês)'"
            ]
          },
          "metadata": {}
        },
        {
          "output_type": "display_data",
          "data": {
            "text/plain": [
              "6.0"
            ]
          },
          "metadata": {}
        },
        {
          "output_type": "display_data",
          "data": {
            "application/vnd.google.colaboratory.intrinsic+json": {
              "type": "string"
            },
            "text/plain": [
              "'Moda das Ausências do Vereador EDVALDO LIMA (sessões por mês)'"
            ]
          },
          "metadata": {}
        },
        {
          "output_type": "display_data",
          "data": {
            "text/plain": [
              "0    3.0\n",
              "1    6.0\n",
              "dtype: float64"
            ]
          },
          "metadata": {}
        },
        {
          "output_type": "stream",
          "name": "stdout",
          "text": [
            "\n"
          ]
        },
        {
          "output_type": "display_data",
          "data": {
            "application/vnd.google.colaboratory.intrinsic+json": {
              "type": "string"
            },
            "text/plain": [
              "'Média das Justificativas do Vereador EDVALDO LIMA (sessões por mês)'"
            ]
          },
          "metadata": {}
        },
        {
          "output_type": "display_data",
          "data": {
            "text/plain": [
              "2.0"
            ]
          },
          "metadata": {}
        },
        {
          "output_type": "display_data",
          "data": {
            "application/vnd.google.colaboratory.intrinsic+json": {
              "type": "string"
            },
            "text/plain": [
              "'Desvio Padrão das Justificativas do Vereador EDVALDO LIMA (sessões por mês)'"
            ]
          },
          "metadata": {}
        },
        {
          "output_type": "display_data",
          "data": {
            "text/plain": [
              "1.0"
            ]
          },
          "metadata": {}
        },
        {
          "output_type": "display_data",
          "data": {
            "application/vnd.google.colaboratory.intrinsic+json": {
              "type": "string"
            },
            "text/plain": [
              "'Mediana das Justificativas do Vereador EDVALDO LIMA (sessões por mês)'"
            ]
          },
          "metadata": {}
        },
        {
          "output_type": "display_data",
          "data": {
            "text/plain": [
              "2.0"
            ]
          },
          "metadata": {}
        },
        {
          "output_type": "display_data",
          "data": {
            "application/vnd.google.colaboratory.intrinsic+json": {
              "type": "string"
            },
            "text/plain": [
              "'Moda das Justificativas do Vereador EDVALDO LIMA (sessões por mês)'"
            ]
          },
          "metadata": {}
        },
        {
          "output_type": "display_data",
          "data": {
            "text/plain": [
              "0    1.0\n",
              "1    3.0\n",
              "dtype: float64"
            ]
          },
          "metadata": {}
        },
        {
          "output_type": "stream",
          "name": "stdout",
          "text": [
            "\n"
          ]
        },
        {
          "output_type": "display_data",
          "data": {
            "application/vnd.google.colaboratory.intrinsic+json": {
              "type": "string"
            },
            "text/plain": [
              "'Média das Presenças do Vereador LUIZ DA FEIRA (sessões por mês)'"
            ]
          },
          "metadata": {}
        },
        {
          "output_type": "display_data",
          "data": {
            "text/plain": [
              "10.31"
            ]
          },
          "metadata": {}
        },
        {
          "output_type": "display_data",
          "data": {
            "application/vnd.google.colaboratory.intrinsic+json": {
              "type": "string"
            },
            "text/plain": [
              "'Desvio Padrão das Presenças do Vereador LUIZ DA FEIRA (sessões por mês)'"
            ]
          },
          "metadata": {}
        },
        {
          "output_type": "display_data",
          "data": {
            "text/plain": [
              "4.03"
            ]
          },
          "metadata": {}
        },
        {
          "output_type": "display_data",
          "data": {
            "application/vnd.google.colaboratory.intrinsic+json": {
              "type": "string"
            },
            "text/plain": [
              "'Mediana das Presenças do Vereador LUIZ DA FEIRA (sessões por mês)'"
            ]
          },
          "metadata": {}
        },
        {
          "output_type": "display_data",
          "data": {
            "text/plain": [
              "11.0"
            ]
          },
          "metadata": {}
        },
        {
          "output_type": "display_data",
          "data": {
            "application/vnd.google.colaboratory.intrinsic+json": {
              "type": "string"
            },
            "text/plain": [
              "'Moda das Presenças do Vereador LUIZ DA FEIRA (sessões por mês)'"
            ]
          },
          "metadata": {}
        },
        {
          "output_type": "display_data",
          "data": {
            "text/plain": [
              "0    10\n",
              "1    14\n",
              "dtype: int64"
            ]
          },
          "metadata": {}
        },
        {
          "output_type": "stream",
          "name": "stdout",
          "text": [
            "\n"
          ]
        },
        {
          "output_type": "display_data",
          "data": {
            "application/vnd.google.colaboratory.intrinsic+json": {
              "type": "string"
            },
            "text/plain": [
              "'Média das Ausências do Vereador LUIZ DA FEIRA (sessões por mês)'"
            ]
          },
          "metadata": {}
        },
        {
          "output_type": "display_data",
          "data": {
            "text/plain": [
              "5.81"
            ]
          },
          "metadata": {}
        },
        {
          "output_type": "display_data",
          "data": {
            "application/vnd.google.colaboratory.intrinsic+json": {
              "type": "string"
            },
            "text/plain": [
              "'Desvio Padrão das Ausências do Vereador LUIZ DA FEIRA (sessões por mês)'"
            ]
          },
          "metadata": {}
        },
        {
          "output_type": "display_data",
          "data": {
            "text/plain": [
              "3.23"
            ]
          },
          "metadata": {}
        },
        {
          "output_type": "display_data",
          "data": {
            "application/vnd.google.colaboratory.intrinsic+json": {
              "type": "string"
            },
            "text/plain": [
              "'Mediana das Ausências do Vereador LUIZ DA FEIRA (sessões por mês)'"
            ]
          },
          "metadata": {}
        },
        {
          "output_type": "display_data",
          "data": {
            "text/plain": [
              "5.0"
            ]
          },
          "metadata": {}
        },
        {
          "output_type": "display_data",
          "data": {
            "application/vnd.google.colaboratory.intrinsic+json": {
              "type": "string"
            },
            "text/plain": [
              "'Moda das Ausências do Vereador LUIZ DA FEIRA (sessões por mês)'"
            ]
          },
          "metadata": {}
        },
        {
          "output_type": "display_data",
          "data": {
            "text/plain": [
              "0     4.0\n",
              "1     5.0\n",
              "2    10.0\n",
              "dtype: float64"
            ]
          },
          "metadata": {}
        },
        {
          "output_type": "stream",
          "name": "stdout",
          "text": [
            "\n"
          ]
        },
        {
          "output_type": "display_data",
          "data": {
            "application/vnd.google.colaboratory.intrinsic+json": {
              "type": "string"
            },
            "text/plain": [
              "'Média das Justificativas do Vereador LUIZ DA FEIRA (sessões por mês)'"
            ]
          },
          "metadata": {}
        },
        {
          "output_type": "display_data",
          "data": {
            "text/plain": [
              "1.67"
            ]
          },
          "metadata": {}
        },
        {
          "output_type": "display_data",
          "data": {
            "application/vnd.google.colaboratory.intrinsic+json": {
              "type": "string"
            },
            "text/plain": [
              "'Desvio Padrão das Justificativas do Vereador LUIZ DA FEIRA (sessões por mês)'"
            ]
          },
          "metadata": {}
        },
        {
          "output_type": "display_data",
          "data": {
            "text/plain": [
              "1.15"
            ]
          },
          "metadata": {}
        },
        {
          "output_type": "display_data",
          "data": {
            "application/vnd.google.colaboratory.intrinsic+json": {
              "type": "string"
            },
            "text/plain": [
              "'Mediana das Justificativas do Vereador LUIZ DA FEIRA (sessões por mês)'"
            ]
          },
          "metadata": {}
        },
        {
          "output_type": "display_data",
          "data": {
            "text/plain": [
              "1.0"
            ]
          },
          "metadata": {}
        },
        {
          "output_type": "display_data",
          "data": {
            "application/vnd.google.colaboratory.intrinsic+json": {
              "type": "string"
            },
            "text/plain": [
              "'Moda das Justificativas do Vereador LUIZ DA FEIRA (sessões por mês)'"
            ]
          },
          "metadata": {}
        },
        {
          "output_type": "display_data",
          "data": {
            "text/plain": [
              "0    1.0\n",
              "dtype: float64"
            ]
          },
          "metadata": {}
        },
        {
          "output_type": "stream",
          "name": "stdout",
          "text": [
            "\n"
          ]
        },
        {
          "output_type": "display_data",
          "data": {
            "application/vnd.google.colaboratory.intrinsic+json": {
              "type": "string"
            },
            "text/plain": [
              "'Média das Presenças do Vereador ELI RIBEIRO (sessões por mês)'"
            ]
          },
          "metadata": {}
        },
        {
          "output_type": "display_data",
          "data": {
            "text/plain": [
              "8.7"
            ]
          },
          "metadata": {}
        },
        {
          "output_type": "display_data",
          "data": {
            "application/vnd.google.colaboratory.intrinsic+json": {
              "type": "string"
            },
            "text/plain": [
              "'Desvio Padrão das Presenças do Vereador ELI RIBEIRO (sessões por mês)'"
            ]
          },
          "metadata": {}
        },
        {
          "output_type": "display_data",
          "data": {
            "text/plain": [
              "3.43"
            ]
          },
          "metadata": {}
        },
        {
          "output_type": "display_data",
          "data": {
            "application/vnd.google.colaboratory.intrinsic+json": {
              "type": "string"
            },
            "text/plain": [
              "'Mediana das Presenças do Vereador ELI RIBEIRO (sessões por mês)'"
            ]
          },
          "metadata": {}
        },
        {
          "output_type": "display_data",
          "data": {
            "text/plain": [
              "9.5"
            ]
          },
          "metadata": {}
        },
        {
          "output_type": "display_data",
          "data": {
            "application/vnd.google.colaboratory.intrinsic+json": {
              "type": "string"
            },
            "text/plain": [
              "'Moda das Presenças do Vereador ELI RIBEIRO (sessões por mês)'"
            ]
          },
          "metadata": {}
        },
        {
          "output_type": "display_data",
          "data": {
            "text/plain": [
              "0     7.0\n",
              "1    10.0\n",
              "2    13.0\n",
              "dtype: float64"
            ]
          },
          "metadata": {}
        },
        {
          "output_type": "stream",
          "name": "stdout",
          "text": [
            "\n"
          ]
        },
        {
          "output_type": "display_data",
          "data": {
            "application/vnd.google.colaboratory.intrinsic+json": {
              "type": "string"
            },
            "text/plain": [
              "'Média das Ausências do Vereador ELI RIBEIRO (sessões por mês)'"
            ]
          },
          "metadata": {}
        },
        {
          "output_type": "display_data",
          "data": {
            "text/plain": [
              "1.5"
            ]
          },
          "metadata": {}
        },
        {
          "output_type": "display_data",
          "data": {
            "application/vnd.google.colaboratory.intrinsic+json": {
              "type": "string"
            },
            "text/plain": [
              "'Desvio Padrão das Ausências do Vereador ELI RIBEIRO (sessões por mês)'"
            ]
          },
          "metadata": {}
        },
        {
          "output_type": "display_data",
          "data": {
            "text/plain": [
              "0.71"
            ]
          },
          "metadata": {}
        },
        {
          "output_type": "display_data",
          "data": {
            "application/vnd.google.colaboratory.intrinsic+json": {
              "type": "string"
            },
            "text/plain": [
              "'Mediana das Ausências do Vereador ELI RIBEIRO (sessões por mês)'"
            ]
          },
          "metadata": {}
        },
        {
          "output_type": "display_data",
          "data": {
            "text/plain": [
              "1.5"
            ]
          },
          "metadata": {}
        },
        {
          "output_type": "display_data",
          "data": {
            "application/vnd.google.colaboratory.intrinsic+json": {
              "type": "string"
            },
            "text/plain": [
              "'Moda das Ausências do Vereador ELI RIBEIRO (sessões por mês)'"
            ]
          },
          "metadata": {}
        },
        {
          "output_type": "display_data",
          "data": {
            "text/plain": [
              "0    1.0\n",
              "1    2.0\n",
              "dtype: float64"
            ]
          },
          "metadata": {}
        },
        {
          "output_type": "stream",
          "name": "stdout",
          "text": [
            "\n"
          ]
        },
        {
          "output_type": "display_data",
          "data": {
            "application/vnd.google.colaboratory.intrinsic+json": {
              "type": "string"
            },
            "text/plain": [
              "'Média das Justificativas do Vereador ELI RIBEIRO (sessões por mês)'"
            ]
          },
          "metadata": {}
        },
        {
          "output_type": "display_data",
          "data": {
            "text/plain": [
              "15.29"
            ]
          },
          "metadata": {}
        },
        {
          "output_type": "display_data",
          "data": {
            "application/vnd.google.colaboratory.intrinsic+json": {
              "type": "string"
            },
            "text/plain": [
              "'Desvio Padrão das Justificativas do Vereador ELI RIBEIRO (sessões por mês)'"
            ]
          },
          "metadata": {}
        },
        {
          "output_type": "display_data",
          "data": {
            "text/plain": [
              "7.37"
            ]
          },
          "metadata": {}
        },
        {
          "output_type": "display_data",
          "data": {
            "application/vnd.google.colaboratory.intrinsic+json": {
              "type": "string"
            },
            "text/plain": [
              "'Mediana das Justificativas do Vereador ELI RIBEIRO (sessões por mês)'"
            ]
          },
          "metadata": {}
        },
        {
          "output_type": "display_data",
          "data": {
            "text/plain": [
              "17.0"
            ]
          },
          "metadata": {}
        },
        {
          "output_type": "display_data",
          "data": {
            "application/vnd.google.colaboratory.intrinsic+json": {
              "type": "string"
            },
            "text/plain": [
              "'Moda das Justificativas do Vereador ELI RIBEIRO (sessões por mês)'"
            ]
          },
          "metadata": {}
        },
        {
          "output_type": "display_data",
          "data": {
            "text/plain": [
              "0    21.0\n",
              "dtype: float64"
            ]
          },
          "metadata": {}
        },
        {
          "output_type": "stream",
          "name": "stdout",
          "text": [
            "\n"
          ]
        }
      ]
    },
    {
      "cell_type": "markdown",
      "metadata": {
        "id": "fo3NBsRKB5bk"
      },
      "source": [
        "O vereador Edvaldo Lima apresentou uma média de 10.38 presenças, sendo que em mais de 50% dos meses mais de 11 presenças foram registradas. A moda da distribuição foi 13, na maioria dos meses o vereador esteve presente em 13 sessões.\n",
        "\n",
        "O vereador Edvaldo Lima apresentou uma média de 6 ausências, sendo que em mais de 50% dos meses 6 ou menos ausências foram registradas. As modas da distribuição foram 3 e 6, na maioria dos meses o vereador se ausentou de 3 ou 6 sessões.\n",
        "\n",
        "O vereador Edvaldo Lima apresentou uma média de 2 justificativas, sendo que em 50% dos meses 2 ou menos justificativas foram registradas. As modas da distribuição foram 1 e 3, na maioria dos meses o vereador justificou a ausência em 1 ou 3 sessões.\n",
        "\n",
        "O vereador Luiz da Feira apresentou uma média de 10.31 presenças, sendo que em mais de 50% dos meses mais de 11 presenças foram registradas. As modas da distribuição foram 10 e 14, na maioria dos meses o vereador esteve presente em 10 ou 14 sessões.\n",
        "\n",
        "O vereador Luiz da Feira apresentou uma média de 5.81 ausências, sendo que em mais de 50% dos meses 5 ou menos ausências foram registradas. As modas da distribuição foram 4, 5 e 10, na maioria dos meses o vereador se ausentou de 4, 5 ou 10 sessões.\n",
        "\n",
        "O vereador Luiz da Feira apresentou uma média de 1.67 justificativas, sendo que em 50% dos meses 1  ou nenhuma justificativa foi registrada. A moda da distribuição foi 1, na maioria dos meses o vereador justificou a ausência em 1 sessão.\n",
        "\n",
        "O vereador Eli Ribeiro apresentou uma média de 8.7 presenças, sendo que em mais de 50% dos meses 9.5 ou menos presenças foram registradas. A moda da distribuição foram 7, 10 e 13, na maioria dos meses o vereador esteve presente em 7, 10 ou 13 sessões.\n",
        "\n",
        "O vereador Eli Ribeiro apresentou uma média de 1.5 ausências, sendo que em mais de 50% dos meses 1.5 ou menos ausências foi registrada. As modas da distribuição foram 1 e 2, na maioria dos meses o vereador se ausentou de 1 ou 2 sessões.\n",
        "\n",
        "O vereador Eli Ribeiro apresentou uma média de 15.29 justificativas, sendo que em 50% dos meses 17 ou mais justificativas foram registradas. A moda da distribuição foi 21, na maioria dos meses o vereador justificou a ausência em 21 sessões.\n",
        "\n",
        "Em todos os casos, os meses onde não houve registro de presenças, ausências e justificativas foram desconsiderados para os cálculos das medidas de tendência central de presenças, ausências e justificavas, respectivamente. Dentre esses vereadores, Eli Ribeiro apresentou menor quantidade de presenças e ausências, e maior número de justificativas. Os vereadores Edvaldo Lima e Luiz da Feira apresentaram a maior quantidade de presenças por mês, valores próximos de média e iguais de mediana, com Luiz da Feira tendo duas modas, uma maior e uma menor que a das presenças de Edvaldo Lima."
      ]
    },
    {
      "cell_type": "code",
      "metadata": {
        "colab": {
          "base_uri": "https://localhost:8080/",
          "height": 350
        },
        "id": "tP3eQbbWaviu",
        "outputId": "0e658854-d237-4264-8945-61da2328b6b6"
      },
      "source": [
        "hist_edvaldo_lima = edvaldo_lima['presencas']\n",
        "hist_luiz_da_feira = luiz_da_feira['presencas']\n",
        "hist_eli_ribeiro = eli_ribeiro['presencas']\n",
        "\n",
        "plt.figure(figsize=(7,5))\n",
        "plt.hist(hist_edvaldo_lima, bins = 10, color='DarkBlue', alpha = 0.7, label='Edvaldo Lima')\n",
        "plt.hist(hist_luiz_da_feira, bins = 10, color='DarkRed', alpha = 0.7, label='Luiz da Feira')\n",
        "plt.hist(hist_eli_ribeiro, bins = 10, color='DarkGreen', alpha = 0.7, label='Eli Ribeiro')\n",
        "plt.legend(loc='best')\n",
        "plt.title('Presenças dos três vereadores ao longo dos meses')\n",
        "plt.ylabel('Quantidade de Meses')\n",
        "plt.xlabel('Quantidade de Presenças')\n",
        "plt.grid()\n",
        "plt.show()"
      ],
      "execution_count": null,
      "outputs": [
        {
          "output_type": "display_data",
          "data": {
            "image/png": "[encoded data removed]",
            "text/plain": [
              "<Figure size 504x360 with 1 Axes>"
            ]
          },
          "metadata": {
            "needs_background": "light"
          }
        }
      ]
    },
    {
      "cell_type": "markdown",
      "metadata": {
        "id": "KY_lCAJmDSKm"
      },
      "source": [
        "Como foi verificado pela tendência central, podemos perceber Edvaldo Lima e Luiz da Feira com maior quantidade de presenças, e apresentando uma distribuição semelhante. A distribuição desses dois vereadores apresenta assimetria negativa, a maioria das ocorrências está nas maiores quantidades de presenças."
      ]
    },
    {
      "cell_type": "code",
      "metadata": {
        "colab": {
          "base_uri": "https://localhost:8080/",
          "height": 350
        },
        "id": "dUO9NjdxggM7",
        "outputId": "e6b5e659-c63d-4b75-b7a1-3a9bb60f430b"
      },
      "source": [
        "hist_edvaldo_lima = edvaldo_lima['ausencias']\n",
        "hist_luiz_da_feira = luiz_da_feira['ausencias']\n",
        "hist_eli_ribeiro = eli_ribeiro['ausencias']\n",
        "\n",
        "plt.figure(figsize=(7,5))\n",
        "plt.hist(hist_edvaldo_lima, bins = 10, color='DarkBlue', alpha = 0.7, label='Edvaldo Lima')\n",
        "plt.hist(hist_luiz_da_feira, bins = 10, color='DarkRed', alpha = 0.7, label='Luiz da Feira')\n",
        "plt.hist(hist_eli_ribeiro, bins = 10, color='DarkGreen', alpha = 0.7, label='Eli Ribeiro')\n",
        "plt.legend(loc='best')\n",
        "plt.title('Ausências dos três vereadores ao longo dos meses')\n",
        "plt.ylabel('Quantidade de Meses')\n",
        "plt.xlabel('Quantidade de Ausências')\n",
        "plt.grid()\n",
        "plt.show()"
      ],
      "execution_count": null,
      "outputs": [
        {
          "output_type": "display_data",
          "data": {
            "image/png": "[encoded data removed]",
            "text/plain": [
              "<Figure size 504x360 with 1 Axes>"
            ]
          },
          "metadata": {
            "needs_background": "light"
          }
        }
      ]
    },
    {
      "cell_type": "markdown",
      "metadata": {
        "id": "iqHRkBmzDi85"
      },
      "source": [
        "Como foi verificado pela tendência central, podemos perceber Edvaldo Lima e Luiz da Feira com maior quantidade de ausências. A distribuição desses dois vereadores apresenta assimetria positiva, a maioria das ocorrências está nas menores quantidades de ausências. Para Eli Ribeiro, em poucos meses houve registro de ausências."
      ]
    },
    {
      "cell_type": "code",
      "metadata": {
        "colab": {
          "base_uri": "https://localhost:8080/",
          "height": 350
        },
        "id": "lB-u_8m3gnuL",
        "outputId": "eb0ffcb7-dd33-4932-e171-1792bcec858f"
      },
      "source": [
        "hist_edvaldo_lima = edvaldo_lima['justificativas']\n",
        "hist_luiz_da_feira = luiz_da_feira['justificativas']\n",
        "hist_eli_ribeiro = eli_ribeiro['justificativas']\n",
        "\n",
        "plt.figure(figsize=(7,5))\n",
        "plt.hist(hist_edvaldo_lima, bins = 10, color='DarkBlue', alpha = 0.7, label='Edvaldo Lima')\n",
        "plt.hist(hist_luiz_da_feira, bins = 10, color='DarkRed', alpha = 0.7, label='Luiz da Feira')\n",
        "plt.hist(hist_eli_ribeiro, bins = 10, color='DarkGreen', alpha = 0.7, label='Eli Ribeiro')\n",
        "plt.legend(loc='best')\n",
        "plt.title('Justificativas dos três vereadores ao longo dos meses')\n",
        "plt.ylabel('Quantidade de Meses')\n",
        "plt.xlabel('Quantidade de Justificativas')\n",
        "plt.grid()\n",
        "plt.show()"
      ],
      "execution_count": null,
      "outputs": [
        {
          "output_type": "display_data",
          "data": {
            "image/png": "[encoded data removed]",
            "text/plain": [
              "<Figure size 504x360 with 1 Axes>"
            ]
          },
          "metadata": {
            "needs_background": "light"
          }
        }
      ]
    },
    {
      "cell_type": "markdown",
      "metadata": {
        "id": "HdA2YrJtEYaw"
      },
      "source": [
        "Como foi verificado pela tendência central, podemos perceber Eli Ribeiro com maior quantidade de justificativas. A distribuição desse vereador apresenta assimetria negativa, a maioria das ocorrências está nas maiores quantidades de justificativas. Para Edvaldo Lima e Luiz da Feira, em poucos meses houve registro de justificativa."
      ]
    },
    {
      "cell_type": "markdown",
      "metadata": {
        "id": "Qke4H03onF92"
      },
      "source": [
        "#4 - Faça uma amostra temporal dos dados (escolha um período qualquer com no mínimo 12 meses e no máximo 24 meses) e repita a análise do item anterior. Discuta a comparação de resultados."
      ]
    },
    {
      "cell_type": "code",
      "metadata": {
        "id": "qNfL95wzmwQv",
        "colab": {
          "base_uri": "https://localhost:8080/",
          "height": 1000
        },
        "outputId": "ee4cd72f-0403-43a5-b8d9-bd70c9d39d19"
      },
      "source": [
        "vereador1 = (paineldf['name'] == 'EDVALDO LIMA')\n",
        "vereador2 = (paineldf['name'] == 'LUIZ DA FEIRA')\n",
        "vereador3 = (paineldf['name'] == 'ELI RIBEIRO')\n",
        "\n",
        "janeiro = (paineldf['date'].dt.month == 1)\n",
        "fevereiro = (paineldf['date'].dt.month == 2)\n",
        "marco = (paineldf['date'].dt.month == 3)\n",
        "abril = (paineldf['date'].dt.month == 4)\n",
        "maio = (paineldf['date'].dt.month == 5)\n",
        "junho = (paineldf['date'].dt.month == 6)\n",
        "julho = (paineldf['date'].dt.month == 7)\n",
        "agosto = (paineldf['date'].dt.month == 8)\n",
        "setembro = (paineldf['date'].dt.month == 9)\n",
        "outubro = (paineldf['date'].dt.month == 10)\n",
        "novembro = (paineldf['date'].dt.month == 11)\n",
        "dezembro = (paineldf['date'].dt.month == 12)\n",
        "\n",
        "a2019 = (paineldf['date'].dt.year == 2019)\n",
        "a2020 = (paineldf['date'].dt.year == 2020)\n",
        "\n",
        "total_de_meses = len(paineldf['date'].dt.month[a2019].unique()) + len(paineldf['date'].dt.month[a2020].unique())\n",
        "display('Total de Meses')\n",
        "display(total_de_meses)\n",
        "\n",
        "df_vereador1_19 = paineldf[['name', 'date', 'attendance']][vereador1 & a2019].groupby(['name', paineldf['date'].dt.month, 'attendance'])\n",
        "df_vereador1_19 = df_vereador1_19['attendance'].count().reset_index(name='quantidade')\n",
        "\n",
        "df_vereador1_20 = paineldf[['name', 'date', 'attendance']][vereador1 & a2020].groupby(['name', paineldf['date'].dt.month, 'attendance'])\n",
        "df_vereador1_20 = df_vereador1_20['attendance'].count().reset_index(name='quantidade')\n",
        "\n",
        "presencas_ver1 = df_vereador1_19[df_vereador1_19['attendance'] == 'attending']['quantidade'].tolist()\n",
        "presencas_ver1 = presencas_ver1 + df_vereador1_20[df_vereador1_20['attendance'] == 'attending']['quantidade'].tolist()\n",
        "\n",
        "if len(presencas_ver1) < total_de_meses:\n",
        "  l = total_de_meses - len(presencas_ver1)\n",
        "  aux = [np.nan]*l\n",
        "  presencas_ver1 = presencas_ver1 + aux\n",
        "  \n",
        "ausencias_ver1 = df_vereador1_19[df_vereador1_19['attendance'] == 'absent']['quantidade'].tolist()\n",
        "ausencias_ver1 = ausencias_ver1 + df_vereador1_20[df_vereador1_20['attendance'] == 'absent']['quantidade'].tolist()\n",
        "\n",
        "if len(ausencias_ver1) < total_de_meses:\n",
        "  l = total_de_meses - len(ausencias_ver1)\n",
        "  aux = [np.nan]*l\n",
        "  ausencias_ver1 = ausencias_ver1 + aux\n",
        "\n",
        "justificativas_ver1 = df_vereador1_19[df_vereador1_19['attendance'] == 'justified']['quantidade'].tolist()\n",
        "justificativas_ver1 = justificativas_ver1 + df_vereador1_20[df_vereador1_20['attendance'] == 'justified']['quantidade'].tolist()\n",
        "\n",
        "if len(justificativas_ver1) < total_de_meses:\n",
        "  l = total_de_meses - len(justificativas_ver1)\n",
        "  aux = [np.nan]*l\n",
        "  justificativas_ver1 = justificativas_ver1 + aux\n",
        "\n",
        "edvaldo_lima = pd.DataFrame({'presencas': presencas_ver1, 'ausencias': ausencias_ver1, 'justificativas': justificativas_ver1})\n",
        "\n",
        "display('Média das Presenças do Vereador EDVALDO LIMA (sessões por mês)')\n",
        "display(round(edvaldo_lima['presencas'].mean(), 2))\n",
        "display('Desvio Padrão das Presenças do Vereador EDVALDO LIMA (sessões por mês)')\n",
        "display(round(edvaldo_lima['presencas'].std(), 2))\n",
        "display('Mediana das Presenças do Vereador EDVALDO LIMA (sessões por mês)')\n",
        "display(round(edvaldo_lima['presencas'].median(), 2))\n",
        "display('Moda das Presenças do Vereador EDVALDO LIMA (sessões por mês)')\n",
        "display(round(edvaldo_lima['presencas'].mode(), 2))\n",
        "print()\n",
        "\n",
        "display('Média das Ausências do Vereador EDVALDO LIMA (sessões por mês)')\n",
        "display(round(edvaldo_lima['ausencias'].mean(), 2))\n",
        "display('Desvio Padrão das Ausências do Vereador EDVALDO LIMA (sessões por mês)')\n",
        "display(round(edvaldo_lima['ausencias'].std(), 2))\n",
        "display('Mediana das Ausências do Vereador EDVALDO LIMA (sessões por mês)')\n",
        "display(round(edvaldo_lima['ausencias'].median(), 2))\n",
        "display('Moda das Ausências do Vereador EDVALDO LIMA (sessões por mês)')\n",
        "display(round(edvaldo_lima['ausencias'].mode(), 2))\n",
        "print()\n",
        "\n",
        "display('Média das Justificativas do Vereador EDVALDO LIMA (sessões por mês)')\n",
        "display(round(edvaldo_lima['justificativas'].mean(), 2))\n",
        "display('Desvio Padrão das Justificativas do Vereador EDVALDO LIMA (sessões por mês)')\n",
        "display(round(edvaldo_lima['justificativas'].std(), 2))\n",
        "display('Mediana das Justificativas do Vereador EDVALDO LIMA (sessões por mês)')\n",
        "display(round(edvaldo_lima['justificativas'].median(), 2))\n",
        "display('Moda das Justificativas do Vereador EDVALDO LIMA (sessões por mês)')\n",
        "display(round(edvaldo_lima['justificativas'].mode(), 2))\n",
        "print()\n",
        "\n",
        "df_vereador2_19 = paineldf[['name', 'date', 'attendance']][vereador2 & a2019].groupby(['name', paineldf['date'].dt.month, 'attendance'])\n",
        "df_vereador2_19 = df_vereador2_19['attendance'].count().reset_index(name='quantidade')\n",
        "\n",
        "df_vereador2_20 = paineldf[['name', 'date', 'attendance']][vereador2 & a2020].groupby(['name', paineldf['date'].dt.month, 'attendance'])\n",
        "df_vereador2_20 = df_vereador2_20['attendance'].count().reset_index(name='quantidade')\n",
        "\n",
        "presencas_ver2 = df_vereador2_19[df_vereador2_19['attendance'] == 'attending']['quantidade'].tolist()\n",
        "presencas_ver2 = presencas_ver2 + df_vereador2_20[df_vereador2_20['attendance'] == 'attending']['quantidade'].tolist()\n",
        "\n",
        "if len(presencas_ver2) < total_de_meses:\n",
        "  l = total_de_meses - len(presencas_ver2)\n",
        "  aux = [np.nan]*l\n",
        "  presencas_ver2 = presencas_ver2 + aux\n",
        "\n",
        "ausencias_ver2 = df_vereador2_19[df_vereador2_19['attendance'] == 'absent']['quantidade'].tolist()\n",
        "ausencias_ver2 = ausencias_ver2 + df_vereador2_20[df_vereador2_20['attendance'] == 'absent']['quantidade'].tolist()\n",
        "\n",
        "if len(ausencias_ver2) < total_de_meses:\n",
        "  l = total_de_meses - len(ausencias_ver2)\n",
        "  aux = [np.nan]*l\n",
        "  ausencias_ver2 = ausencias_ver2 + aux\n",
        "\n",
        "justificativas_ver2 = df_vereador2_19[df_vereador2_19['attendance'] == 'justified']['quantidade'].tolist()\n",
        "justificativas_ver2 = justificativas_ver2 + df_vereador2_20[df_vereador2_20['attendance'] == 'justified']['quantidade'].tolist()\n",
        "\n",
        "if len(justificativas_ver2) < total_de_meses:\n",
        "  l = total_de_meses - len(justificativas_ver2)\n",
        "  aux = [np.nan]*l\n",
        "  justificativas_ver2 = justificativas_ver2 + aux\n",
        "\n",
        "luiz_da_feira = pd.DataFrame({'presencas': presencas_ver2, 'ausencias': ausencias_ver2, 'justificativas': justificativas_ver2})\n",
        "\n",
        "display('Média das Presenças do Vereador LUIZ DA FEIRA (sessões por mês)')\n",
        "display(round(luiz_da_feira['presencas'].mean(), 2))\n",
        "display('Desvio Padrão das Presenças do Vereador LUIZ DA FEIRA (sessões por mês)')\n",
        "display(round(luiz_da_feira['presencas'].std(), 2))\n",
        "display('Mediana das Presenças do Vereador LUIZ DA FEIRA (sessões por mês)')\n",
        "display(round(luiz_da_feira['presencas'].median(), 2))\n",
        "display('Moda das Presenças do Vereador LUIZ DA FEIRA (sessões por mês)')\n",
        "display(round(luiz_da_feira['presencas'].mode(), 2))\n",
        "print()\n",
        "\n",
        "display('Média das Ausências do Vereador LUIZ DA FEIRA (sessões por mês)')\n",
        "display(round(luiz_da_feira['ausencias'].mean(), 2))\n",
        "display('Desvio Padrão das Ausências do Vereador LUIZ DA FEIRA (sessões por mês)')\n",
        "display(round(luiz_da_feira['ausencias'].std(), 2))\n",
        "display('Mediana das Ausências do Vereador LUIZ DA FEIRA (sessões por mês)')\n",
        "display(round(luiz_da_feira['ausencias'].median(), 2))\n",
        "display('Moda das Ausências do Vereador LUIZ DA FEIRA (sessões por mês)')\n",
        "display(round(luiz_da_feira['ausencias'].mode(), 2))\n",
        "print()\n",
        "\n",
        "display('Média das Justificativas do Vereador LUIZ DA FEIRA (sessões por mês)')\n",
        "display(round(luiz_da_feira['justificativas'].mean(), 2))\n",
        "display('Desvio Padrão das Justificativas do Vereador LUIZ DA FEIRA (sessões por mês)')\n",
        "display(round(luiz_da_feira['justificativas'].std(), 2))\n",
        "display('Mediana das Justificativas do Vereador LUIZ DA FEIRA (sessões por mês)')\n",
        "display(round(luiz_da_feira['justificativas'].median(), 2))\n",
        "display('Moda das Justificativas do Vereador LUIZ DA FEIRA (sessões por mês)')\n",
        "display(round(luiz_da_feira['justificativas'].mode(), 2))\n",
        "print()\n",
        "\n",
        "df_vereador3_19 = paineldf[['name', 'date', 'attendance']][vereador3 & a2019].groupby(['name', paineldf['date'].dt.month, 'attendance'])\n",
        "df_vereador3_19 = df_vereador3_19['attendance'].count().reset_index(name='quantidade')\n",
        "\n",
        "df_vereador3_20 = paineldf[['name', 'date', 'attendance']][vereador3 & a2020].groupby(['name', paineldf['date'].dt.month, 'attendance'])\n",
        "df_vereador3_20 = df_vereador3_20['attendance'].count().reset_index(name='quantidade')\n",
        "\n",
        "presencas_ver3 = df_vereador3_19[df_vereador3_19['attendance'] == 'attending']['quantidade'].tolist()\n",
        "presencas_ver3 = presencas_ver3 + df_vereador3_20[df_vereador3_20['attendance'] == 'attending']['quantidade'].tolist()\n",
        "\n",
        "if len(presencas_ver3) < total_de_meses:\n",
        "  l = total_de_meses - len(presencas_ver3)\n",
        "  aux = [np.nan]*l\n",
        "  presencas_ver3 = presencas_ver3 + aux\n",
        "\n",
        "ausencias_ver3 = df_vereador3_19[df_vereador3_19['attendance'] == 'absent']['quantidade'].tolist()\n",
        "ausencias_ver3 = ausencias_ver3 + df_vereador3_20[df_vereador3_20['attendance'] == 'absent']['quantidade'].tolist()\n",
        "\n",
        "if len(ausencias_ver3) < total_de_meses:\n",
        "  l = total_de_meses - len(ausencias_ver3)\n",
        "  aux = [np.nan]*l\n",
        "  ausencias_ver3 = ausencias_ver3 + aux\n",
        "\n",
        "justificativas_ver3 = df_vereador3_19[df_vereador3_19['attendance'] == 'justified']['quantidade'].tolist()\n",
        "justificativas_ver3 = justificativas_ver3 + df_vereador3_20[df_vereador3_20['attendance'] == 'justified']['quantidade'].tolist()\n",
        "\n",
        "if len(justificativas_ver3) < total_de_meses:\n",
        "  l = total_de_meses - len(justificativas_ver3)\n",
        "  aux = [np.nan]*l\n",
        "  justificativas_ver3 = justificativas_ver3 + aux\n",
        "\n",
        "eli_ribeiro = pd.DataFrame({'presencas': presencas_ver3, 'ausencias': ausencias_ver3, 'justificativas': justificativas_ver3})\n",
        "\n",
        "display('Média das Presenças do Vereador ELI RIBEIRO (sessões por mês)')\n",
        "display(round(eli_ribeiro['presencas'].mean(), 2))\n",
        "display('Desvio Padrão das Presenças do Vereador ELI RIBEIRO (sessões por mês)')\n",
        "display(round(eli_ribeiro['presencas'].std(), 2))\n",
        "display('Mediana das Presenças do Vereador ELI RIBEIRO (sessões por mês)')\n",
        "display(round(eli_ribeiro['presencas'].median(), 2))\n",
        "display('Moda das Presenças do Vereador ELI RIBEIRO (sessões por mês)')\n",
        "display(round(eli_ribeiro['presencas'].mode(), 2))\n",
        "print()\n",
        "\n",
        "display('Média das Ausências do Vereador ELI RIBEIRO (sessões por mês)')\n",
        "display(round(eli_ribeiro['ausencias'].mean(), 2))\n",
        "display('Desvio Padrão das Ausências do Vereador ELI RIBEIRO (sessões por mês)')\n",
        "display(round(eli_ribeiro['ausencias'].std(), 2))\n",
        "display('Mediana das Ausências do Vereador ELI RIBEIRO (sessões por mês)')\n",
        "display(round(eli_ribeiro['ausencias'].median(), 2))\n",
        "display('Moda das Ausências do Vereador ELI RIBEIRO (sessões por mês)')\n",
        "display(round(eli_ribeiro['ausencias'].mode(), 2))\n",
        "print()\n",
        "\n",
        "display('Média das Justificativas do Vereador ELI RIBEIRO (sessões por mês)')\n",
        "display(round(eli_ribeiro['justificativas'].mean(), 2))\n",
        "display('Desvio Padrão das Justificativas do Vereador ELI RIBEIRO (sessões por mês)')\n",
        "display(round(eli_ribeiro['justificativas'].std(), 2))\n",
        "display('Mediana das Justificativas do Vereador ELI RIBEIRO (sessões por mês)')\n",
        "display(round(eli_ribeiro['justificativas'].median(), 2))\n",
        "display('Moda das Justificativas do Vereador ELI RIBEIRO (sessões por mês)')\n",
        "display(round(eli_ribeiro['justificativas'].mode(), 2))\n",
        "print()"
      ],
      "execution_count": null,
      "outputs": [
        {
          "output_type": "display_data",
          "data": {
            "application/vnd.google.colaboratory.intrinsic+json": {
              "type": "string"
            },
            "text/plain": [
              "'Total de Meses'"
            ]
          },
          "metadata": {}
        },
        {
          "output_type": "display_data",
          "data": {
            "text/plain": [
              "21"
            ]
          },
          "metadata": {}
        },
        {
          "output_type": "display_data",
          "data": {
            "application/vnd.google.colaboratory.intrinsic+json": {
              "type": "string"
            },
            "text/plain": [
              "'Média das Presenças do Vereador EDVALDO LIMA (sessões por mês)'"
            ]
          },
          "metadata": {}
        },
        {
          "output_type": "display_data",
          "data": {
            "text/plain": [
              "10.0"
            ]
          },
          "metadata": {}
        },
        {
          "output_type": "display_data",
          "data": {
            "application/vnd.google.colaboratory.intrinsic+json": {
              "type": "string"
            },
            "text/plain": [
              "'Desvio Padrão das Presenças do Vereador EDVALDO LIMA (sessões por mês)'"
            ]
          },
          "metadata": {}
        },
        {
          "output_type": "display_data",
          "data": {
            "text/plain": [
              "3.86"
            ]
          },
          "metadata": {}
        },
        {
          "output_type": "display_data",
          "data": {
            "application/vnd.google.colaboratory.intrinsic+json": {
              "type": "string"
            },
            "text/plain": [
              "'Mediana das Presenças do Vereador EDVALDO LIMA (sessões por mês)'"
            ]
          },
          "metadata": {}
        },
        {
          "output_type": "display_data",
          "data": {
            "text/plain": [
              "10.0"
            ]
          },
          "metadata": {}
        },
        {
          "output_type": "display_data",
          "data": {
            "application/vnd.google.colaboratory.intrinsic+json": {
              "type": "string"
            },
            "text/plain": [
              "'Moda das Presenças do Vereador EDVALDO LIMA (sessões por mês)'"
            ]
          },
          "metadata": {}
        },
        {
          "output_type": "display_data",
          "data": {
            "text/plain": [
              "0    13\n",
              "dtype: int64"
            ]
          },
          "metadata": {}
        },
        {
          "output_type": "stream",
          "name": "stdout",
          "text": [
            "\n"
          ]
        },
        {
          "output_type": "display_data",
          "data": {
            "application/vnd.google.colaboratory.intrinsic+json": {
              "type": "string"
            },
            "text/plain": [
              "'Média das Ausências do Vereador EDVALDO LIMA (sessões por mês)'"
            ]
          },
          "metadata": {}
        },
        {
          "output_type": "display_data",
          "data": {
            "text/plain": [
              "5.64"
            ]
          },
          "metadata": {}
        },
        {
          "output_type": "display_data",
          "data": {
            "application/vnd.google.colaboratory.intrinsic+json": {
              "type": "string"
            },
            "text/plain": [
              "'Desvio Padrão das Ausências do Vereador EDVALDO LIMA (sessões por mês)'"
            ]
          },
          "metadata": {}
        },
        {
          "output_type": "display_data",
          "data": {
            "text/plain": [
              "2.84"
            ]
          },
          "metadata": {}
        },
        {
          "output_type": "display_data",
          "data": {
            "application/vnd.google.colaboratory.intrinsic+json": {
              "type": "string"
            },
            "text/plain": [
              "'Mediana das Ausências do Vereador EDVALDO LIMA (sessões por mês)'"
            ]
          },
          "metadata": {}
        },
        {
          "output_type": "display_data",
          "data": {
            "text/plain": [
              "6.0"
            ]
          },
          "metadata": {}
        },
        {
          "output_type": "display_data",
          "data": {
            "application/vnd.google.colaboratory.intrinsic+json": {
              "type": "string"
            },
            "text/plain": [
              "'Moda das Ausências do Vereador EDVALDO LIMA (sessões por mês)'"
            ]
          },
          "metadata": {}
        },
        {
          "output_type": "display_data",
          "data": {
            "text/plain": [
              "0    8.0\n",
              "1    9.0\n",
              "dtype: float64"
            ]
          },
          "metadata": {}
        },
        {
          "output_type": "stream",
          "name": "stdout",
          "text": [
            "\n"
          ]
        },
        {
          "output_type": "display_data",
          "data": {
            "application/vnd.google.colaboratory.intrinsic+json": {
              "type": "string"
            },
            "text/plain": [
              "'Média das Justificativas do Vereador EDVALDO LIMA (sessões por mês)'"
            ]
          },
          "metadata": {}
        },
        {
          "output_type": "display_data",
          "data": {
            "text/plain": [
              "2.0"
            ]
          },
          "metadata": {}
        },
        {
          "output_type": "display_data",
          "data": {
            "application/vnd.google.colaboratory.intrinsic+json": {
              "type": "string"
            },
            "text/plain": [
              "'Desvio Padrão das Justificativas do Vereador EDVALDO LIMA (sessões por mês)'"
            ]
          },
          "metadata": {}
        },
        {
          "output_type": "display_data",
          "data": {
            "text/plain": [
              "1.0"
            ]
          },
          "metadata": {}
        },
        {
          "output_type": "display_data",
          "data": {
            "application/vnd.google.colaboratory.intrinsic+json": {
              "type": "string"
            },
            "text/plain": [
              "'Mediana das Justificativas do Vereador EDVALDO LIMA (sessões por mês)'"
            ]
          },
          "metadata": {}
        },
        {
          "output_type": "display_data",
          "data": {
            "text/plain": [
              "2.0"
            ]
          },
          "metadata": {}
        },
        {
          "output_type": "display_data",
          "data": {
            "application/vnd.google.colaboratory.intrinsic+json": {
              "type": "string"
            },
            "text/plain": [
              "'Moda das Justificativas do Vereador EDVALDO LIMA (sessões por mês)'"
            ]
          },
          "metadata": {}
        },
        {
          "output_type": "display_data",
          "data": {
            "text/plain": [
              "0    1.0\n",
              "1    3.0\n",
              "dtype: float64"
            ]
          },
          "metadata": {}
        },
        {
          "output_type": "stream",
          "name": "stdout",
          "text": [
            "\n"
          ]
        },
        {
          "output_type": "display_data",
          "data": {
            "application/vnd.google.colaboratory.intrinsic+json": {
              "type": "string"
            },
            "text/plain": [
              "'Média das Presenças do Vereador LUIZ DA FEIRA (sessões por mês)'"
            ]
          },
          "metadata": {}
        },
        {
          "output_type": "display_data",
          "data": {
            "text/plain": [
              "10.19"
            ]
          },
          "metadata": {}
        },
        {
          "output_type": "display_data",
          "data": {
            "application/vnd.google.colaboratory.intrinsic+json": {
              "type": "string"
            },
            "text/plain": [
              "'Desvio Padrão das Presenças do Vereador LUIZ DA FEIRA (sessões por mês)'"
            ]
          },
          "metadata": {}
        },
        {
          "output_type": "display_data",
          "data": {
            "text/plain": [
              "3.82"
            ]
          },
          "metadata": {}
        },
        {
          "output_type": "display_data",
          "data": {
            "application/vnd.google.colaboratory.intrinsic+json": {
              "type": "string"
            },
            "text/plain": [
              "'Mediana das Presenças do Vereador LUIZ DA FEIRA (sessões por mês)'"
            ]
          },
          "metadata": {}
        },
        {
          "output_type": "display_data",
          "data": {
            "text/plain": [
              "10.0"
            ]
          },
          "metadata": {}
        },
        {
          "output_type": "display_data",
          "data": {
            "application/vnd.google.colaboratory.intrinsic+json": {
              "type": "string"
            },
            "text/plain": [
              "'Moda das Presenças do Vereador LUIZ DA FEIRA (sessões por mês)'"
            ]
          },
          "metadata": {}
        },
        {
          "output_type": "display_data",
          "data": {
            "text/plain": [
              "0    10\n",
              "1    13\n",
              "dtype: int64"
            ]
          },
          "metadata": {}
        },
        {
          "output_type": "stream",
          "name": "stdout",
          "text": [
            "\n"
          ]
        },
        {
          "output_type": "display_data",
          "data": {
            "application/vnd.google.colaboratory.intrinsic+json": {
              "type": "string"
            },
            "text/plain": [
              "'Média das Ausências do Vereador LUIZ DA FEIRA (sessões por mês)'"
            ]
          },
          "metadata": {}
        },
        {
          "output_type": "display_data",
          "data": {
            "text/plain": [
              "5.64"
            ]
          },
          "metadata": {}
        },
        {
          "output_type": "display_data",
          "data": {
            "application/vnd.google.colaboratory.intrinsic+json": {
              "type": "string"
            },
            "text/plain": [
              "'Desvio Padrão das Ausências do Vereador LUIZ DA FEIRA (sessões por mês)'"
            ]
          },
          "metadata": {}
        },
        {
          "output_type": "display_data",
          "data": {
            "text/plain": [
              "3.14"
            ]
          },
          "metadata": {}
        },
        {
          "output_type": "display_data",
          "data": {
            "application/vnd.google.colaboratory.intrinsic+json": {
              "type": "string"
            },
            "text/plain": [
              "'Mediana das Ausências do Vereador LUIZ DA FEIRA (sessões por mês)'"
            ]
          },
          "metadata": {}
        },
        {
          "output_type": "display_data",
          "data": {
            "text/plain": [
              "5.0"
            ]
          },
          "metadata": {}
        },
        {
          "output_type": "display_data",
          "data": {
            "application/vnd.google.colaboratory.intrinsic+json": {
              "type": "string"
            },
            "text/plain": [
              "'Moda das Ausências do Vereador LUIZ DA FEIRA (sessões por mês)'"
            ]
          },
          "metadata": {}
        },
        {
          "output_type": "display_data",
          "data": {
            "text/plain": [
              "0    4.0\n",
              "dtype: float64"
            ]
          },
          "metadata": {}
        },
        {
          "output_type": "stream",
          "name": "stdout",
          "text": [
            "\n"
          ]
        },
        {
          "output_type": "display_data",
          "data": {
            "application/vnd.google.colaboratory.intrinsic+json": {
              "type": "string"
            },
            "text/plain": [
              "'Média das Justificativas do Vereador LUIZ DA FEIRA (sessões por mês)'"
            ]
          },
          "metadata": {}
        },
        {
          "output_type": "display_data",
          "data": {
            "text/plain": [
              "1.67"
            ]
          },
          "metadata": {}
        },
        {
          "output_type": "display_data",
          "data": {
            "application/vnd.google.colaboratory.intrinsic+json": {
              "type": "string"
            },
            "text/plain": [
              "'Desvio Padrão das Justificativas do Vereador LUIZ DA FEIRA (sessões por mês)'"
            ]
          },
          "metadata": {}
        },
        {
          "output_type": "display_data",
          "data": {
            "text/plain": [
              "1.15"
            ]
          },
          "metadata": {}
        },
        {
          "output_type": "display_data",
          "data": {
            "application/vnd.google.colaboratory.intrinsic+json": {
              "type": "string"
            },
            "text/plain": [
              "'Mediana das Justificativas do Vereador LUIZ DA FEIRA (sessões por mês)'"
            ]
          },
          "metadata": {}
        },
        {
          "output_type": "display_data",
          "data": {
            "text/plain": [
              "1.0"
            ]
          },
          "metadata": {}
        },
        {
          "output_type": "display_data",
          "data": {
            "application/vnd.google.colaboratory.intrinsic+json": {
              "type": "string"
            },
            "text/plain": [
              "'Moda das Justificativas do Vereador LUIZ DA FEIRA (sessões por mês)'"
            ]
          },
          "metadata": {}
        },
        {
          "output_type": "display_data",
          "data": {
            "text/plain": [
              "0    1.0\n",
              "dtype: float64"
            ]
          },
          "metadata": {}
        },
        {
          "output_type": "stream",
          "name": "stdout",
          "text": [
            "\n"
          ]
        },
        {
          "output_type": "display_data",
          "data": {
            "application/vnd.google.colaboratory.intrinsic+json": {
              "type": "string"
            },
            "text/plain": [
              "'Média das Presenças do Vereador ELI RIBEIRO (sessões por mês)'"
            ]
          },
          "metadata": {}
        },
        {
          "output_type": "display_data",
          "data": {
            "text/plain": [
              "9.22"
            ]
          },
          "metadata": {}
        },
        {
          "output_type": "display_data",
          "data": {
            "application/vnd.google.colaboratory.intrinsic+json": {
              "type": "string"
            },
            "text/plain": [
              "'Desvio Padrão das Presenças do Vereador ELI RIBEIRO (sessões por mês)'"
            ]
          },
          "metadata": {}
        },
        {
          "output_type": "display_data",
          "data": {
            "text/plain": [
              "3.19"
            ]
          },
          "metadata": {}
        },
        {
          "output_type": "display_data",
          "data": {
            "application/vnd.google.colaboratory.intrinsic+json": {
              "type": "string"
            },
            "text/plain": [
              "'Mediana das Presenças do Vereador ELI RIBEIRO (sessões por mês)'"
            ]
          },
          "metadata": {}
        },
        {
          "output_type": "display_data",
          "data": {
            "text/plain": [
              "10.0"
            ]
          },
          "metadata": {}
        },
        {
          "output_type": "display_data",
          "data": {
            "application/vnd.google.colaboratory.intrinsic+json": {
              "type": "string"
            },
            "text/plain": [
              "'Moda das Presenças do Vereador ELI RIBEIRO (sessões por mês)'"
            ]
          },
          "metadata": {}
        },
        {
          "output_type": "display_data",
          "data": {
            "text/plain": [
              "0     7.0\n",
              "1    10.0\n",
              "2    13.0\n",
              "dtype: float64"
            ]
          },
          "metadata": {}
        },
        {
          "output_type": "stream",
          "name": "stdout",
          "text": [
            "\n"
          ]
        },
        {
          "output_type": "display_data",
          "data": {
            "application/vnd.google.colaboratory.intrinsic+json": {
              "type": "string"
            },
            "text/plain": [
              "'Média das Ausências do Vereador ELI RIBEIRO (sessões por mês)'"
            ]
          },
          "metadata": {}
        },
        {
          "output_type": "display_data",
          "data": {
            "text/plain": [
              "1.5"
            ]
          },
          "metadata": {}
        },
        {
          "output_type": "display_data",
          "data": {
            "application/vnd.google.colaboratory.intrinsic+json": {
              "type": "string"
            },
            "text/plain": [
              "'Desvio Padrão das Ausências do Vereador ELI RIBEIRO (sessões por mês)'"
            ]
          },
          "metadata": {}
        },
        {
          "output_type": "display_data",
          "data": {
            "text/plain": [
              "0.71"
            ]
          },
          "metadata": {}
        },
        {
          "output_type": "display_data",
          "data": {
            "application/vnd.google.colaboratory.intrinsic+json": {
              "type": "string"
            },
            "text/plain": [
              "'Mediana das Ausências do Vereador ELI RIBEIRO (sessões por mês)'"
            ]
          },
          "metadata": {}
        },
        {
          "output_type": "display_data",
          "data": {
            "text/plain": [
              "1.5"
            ]
          },
          "metadata": {}
        },
        {
          "output_type": "display_data",
          "data": {
            "application/vnd.google.colaboratory.intrinsic+json": {
              "type": "string"
            },
            "text/plain": [
              "'Moda das Ausências do Vereador ELI RIBEIRO (sessões por mês)'"
            ]
          },
          "metadata": {}
        },
        {
          "output_type": "display_data",
          "data": {
            "text/plain": [
              "0    1.0\n",
              "1    2.0\n",
              "dtype: float64"
            ]
          },
          "metadata": {}
        },
        {
          "output_type": "stream",
          "name": "stdout",
          "text": [
            "\n"
          ]
        },
        {
          "output_type": "display_data",
          "data": {
            "application/vnd.google.colaboratory.intrinsic+json": {
              "type": "string"
            },
            "text/plain": [
              "'Média das Justificativas do Vereador ELI RIBEIRO (sessões por mês)'"
            ]
          },
          "metadata": {}
        },
        {
          "output_type": "display_data",
          "data": {
            "text/plain": [
              "15.0"
            ]
          },
          "metadata": {}
        },
        {
          "output_type": "display_data",
          "data": {
            "application/vnd.google.colaboratory.intrinsic+json": {
              "type": "string"
            },
            "text/plain": [
              "'Desvio Padrão das Justificativas do Vereador ELI RIBEIRO (sessões por mês)'"
            ]
          },
          "metadata": {}
        },
        {
          "output_type": "display_data",
          "data": {
            "text/plain": [
              "7.43"
            ]
          },
          "metadata": {}
        },
        {
          "output_type": "display_data",
          "data": {
            "application/vnd.google.colaboratory.intrinsic+json": {
              "type": "string"
            },
            "text/plain": [
              "'Mediana das Justificativas do Vereador ELI RIBEIRO (sessões por mês)'"
            ]
          },
          "metadata": {}
        },
        {
          "output_type": "display_data",
          "data": {
            "text/plain": [
              "17.0"
            ]
          },
          "metadata": {}
        },
        {
          "output_type": "display_data",
          "data": {
            "application/vnd.google.colaboratory.intrinsic+json": {
              "type": "string"
            },
            "text/plain": [
              "'Moda das Justificativas do Vereador ELI RIBEIRO (sessões por mês)'"
            ]
          },
          "metadata": {}
        },
        {
          "output_type": "display_data",
          "data": {
            "text/plain": [
              "0    19.0\n",
              "1    21.0\n",
              "dtype: float64"
            ]
          },
          "metadata": {}
        },
        {
          "output_type": "stream",
          "name": "stdout",
          "text": [
            "\n"
          ]
        }
      ]
    },
    {
      "cell_type": "markdown",
      "metadata": {
        "id": "uzKE5sFWH0HG"
      },
      "source": [
        "O vereador Edvaldo Lima apresentou uma média de 10 presenças, sendo que em mais de 50% dos meses mais de 10 presenças foram registradas. A moda da distribuição foi 13, na maioria dos meses o vereador esteve presente em 13 sessões.\n",
        "\n",
        "O vereador Edvaldo Lima apresentou uma média de 5.64 ausências, sendo que em mais de 50% dos meses 6 ou menos ausências foram registradas. As modas da distribuição foram 8 e 9, na maioria dos meses o vereador se ausentou de 8 ou 9 sessões.\n",
        "\n",
        "O vereador Edvaldo Lima apresentou uma média de 2 justificativas, sendo que em 50% dos meses 2 ou menos justificativas foram registradas. As modas da distribuição foram 1 e 3, na maioria dos meses o vereador justificou a ausência em 1 ou 3 sessões.\n",
        "\n",
        "O vereador Luiz da Feira apresentou uma média de 10.19 presenças, sendo que em mais de 50% dos meses mais de 10 presenças foram registradas. As modas da distribuição foram 10 e 13, na maioria dos meses o vereador esteve presente em 10 ou 13 sessões.\n",
        "\n",
        "O vereador Luiz da Feira apresentou uma média de 5.64 ausências, sendo que em mais de 50% dos meses 5 ou menos ausências foram registradas. A moda da distribuição foi na maioria dos meses o vereador se ausentou de 4 sessões.\n",
        "\n",
        "O vereador Luiz da Feira apresentou uma média de 1.67 justificativas, sendo que em 50% dos meses 1  ou nenhuma justificativa foi registrada. A moda da distribuição foi 1, na maioria dos meses o vereador justificou a ausência em 1 sessão.\n",
        "\n",
        "O vereador Eli Ribeiro apresentou uma média de 9.22 presenças, sendo que em mais de 50% dos meses 10 ou menos presenças foram registradas. A moda da distribuição foram 7, 10 e 13, na maioria dos meses o vereador esteve presente em 7, 10 ou 13 sessões. Comparado ao perídodo total, nos meses de 2019 e 2020 o vereador apresentou quantidades maiores de presença.\n",
        "\n",
        "O vereador Eli Ribeiro apresentou uma média de 1.5 ausências, sendo que em mais de 50% dos meses 1.5 ou menos ausências foi registrada. As modas da distribuição foram 1 e 2, na maioria dos meses o vereador se ausentou de 1 ou 2 sessões.\n",
        "\n",
        "O vereador Eli Ribeiro apresentou uma média de 15 justificativas, sendo que em 50% dos meses 17 ou mais justificativas foram registradas. As modas da distribuição foram 19 e 21, na maioria dos meses o vereador justificou a ausência em 19 ou 21 sessões.\n",
        "\n",
        "Em todos os casos, os meses onde não houve registro de presenças, ausências e justificativas foram desconsiderados para os cálculos das medidas de tendência central de presenças, ausências e justificavas, respectivamente. Assim como no perídodo total dos dados, dentre esses vereadores, Eli Ribeiro apresentou menor quantidade de presenças e ausências, e maior número de justificativas. Os vereadores Edvaldo Lima e Luiz da Feira apresentaram a maior quantidade de presenças por mês, valores próximos de média e iguais de mediana, com Luiz da Feira tendo duas modas, uma maior e uma menor que a das presenças de Edvaldo Lima."
      ]
    },
    {
      "cell_type": "code",
      "metadata": {
        "colab": {
          "base_uri": "https://localhost:8080/",
          "height": 350
        },
        "id": "e9ImhDGakv3C",
        "outputId": "de364223-6063-4877-9ec3-b20cc9af2539"
      },
      "source": [
        "hist_edvaldo_lima = edvaldo_lima['presencas']\n",
        "hist_luiz_da_feira = luiz_da_feira['presencas']\n",
        "hist_eli_ribeiro = eli_ribeiro['presencas']\n",
        "\n",
        "plt.figure(figsize=(7,5))\n",
        "plt.hist(hist_edvaldo_lima, bins = 10, color='DarkBlue', alpha = 0.7, label='Edvaldo Lima')\n",
        "plt.hist(hist_luiz_da_feira, bins = 10, color='DarkRed', alpha = 0.7, label='Luiz da Feira')\n",
        "plt.hist(hist_eli_ribeiro, bins = 10, color='DarkGreen', alpha = 0.7, label='Eli Ribeiro')\n",
        "plt.legend(loc='best')\n",
        "plt.title('Presenças dos três vereadores ao longo dos meses dos anos de 2019 e 2020')\n",
        "plt.ylabel('Quantidade de Meses')\n",
        "plt.xlabel('Quantidade de Presenças')\n",
        "plt.grid()\n",
        "plt.show()"
      ],
      "execution_count": null,
      "outputs": [
        {
          "output_type": "display_data",
          "data": {
            "image/png": "[encoded data removed]",
            "text/plain": [
              "<Figure size 504x360 with 1 Axes>"
            ]
          },
          "metadata": {
            "needs_background": "light"
          }
        }
      ]
    },
    {
      "cell_type": "markdown",
      "metadata": {
        "id": "okgXeyvqIwh-"
      },
      "source": [
        "Como foi verificado pela tendência central, podemos perceber Edvaldo Lima e Luiz da Feira com maior quantidade de presenças, e apresentando uma distribuição semelhante. A distribuição desses dois vereadores apresenta assimetria negativa, a maioria das ocorrências está nas maiores quantidades de presenças. Aqui também se observa as presenças de Eli Ribeiro em quantidades maiores."
      ]
    },
    {
      "cell_type": "code",
      "metadata": {
        "colab": {
          "base_uri": "https://localhost:8080/",
          "height": 350
        },
        "id": "Nn4nvTyzkv3R",
        "outputId": "774d80b1-5294-45ad-adc8-a8f23fd7c69e"
      },
      "source": [
        "hist_edvaldo_lima = edvaldo_lima['ausencias']\n",
        "hist_luiz_da_feira = luiz_da_feira['ausencias']\n",
        "hist_eli_ribeiro = eli_ribeiro['ausencias']\n",
        "\n",
        "plt.figure(figsize=(7,5))\n",
        "plt.hist(hist_edvaldo_lima, bins = 10, color='DarkBlue', alpha = 0.7, label='Edvaldo Lima')\n",
        "plt.hist(hist_luiz_da_feira, bins = 10, color='DarkRed', alpha = 0.7, label='Luiz da Feira')\n",
        "plt.hist(hist_eli_ribeiro, bins = 10, color='DarkGreen', alpha = 0.7, label='Eli Ribeiro')\n",
        "plt.legend(loc='best')\n",
        "plt.title('Ausências dos três vereadores ao longo dos meses dos anos de 2019 e 2020')\n",
        "plt.ylabel('Quantidade de Meses')\n",
        "plt.xlabel('Quantidade de Ausências')\n",
        "plt.grid()\n",
        "plt.show()"
      ],
      "execution_count": null,
      "outputs": [
        {
          "output_type": "display_data",
          "data": {
            "image/png": "[encoded data removed]",
            "text/plain": [
              "<Figure size 504x360 with 1 Axes>"
            ]
          },
          "metadata": {
            "needs_background": "light"
          }
        }
      ]
    },
    {
      "cell_type": "markdown",
      "metadata": {
        "id": "gWdpb0MjI-hc"
      },
      "source": [
        "Como foi verificado pela tendência central, podemos perceber Edvaldo Lima e Luiz da Feira com maior quantidade de ausências. A distribuição das ausências de Edvaldo Lima apresenta assimetria positiva, a maioria das ocorrências está nas menores quantidades de ausências. A distribuição das ausências de Luiz da Feira apresenta uma assimetria negativa, a maioria das ocorrências está nas maiores quantidades de ausências. Para Eli Ribeiro, em poucos meses houve registro de ausências."
      ]
    },
    {
      "cell_type": "code",
      "metadata": {
        "colab": {
          "base_uri": "https://localhost:8080/",
          "height": 350
        },
        "id": "fSZsMAzhkv3R",
        "outputId": "515a61cd-f024-41c4-e5ba-3f203520c9aa"
      },
      "source": [
        "hist_edvaldo_lima = edvaldo_lima['justificativas']\n",
        "hist_luiz_da_feira = luiz_da_feira['justificativas']\n",
        "hist_eli_ribeiro = eli_ribeiro['justificativas']\n",
        "\n",
        "plt.figure(figsize=(7,5))\n",
        "plt.hist(hist_edvaldo_lima, bins = 10, color='DarkBlue', alpha = 0.7, label='Edvaldo Lima')\n",
        "plt.hist(hist_luiz_da_feira, bins = 10, color='DarkRed', alpha = 0.7, label='Luiz da Feira')\n",
        "plt.hist(hist_eli_ribeiro, bins = 10, color='DarkGreen', alpha = 0.7, label='Eli Ribeiro')\n",
        "plt.legend(loc='best')\n",
        "plt.title('Justificativas dos três vereadores ao longo dos meses dos anos de 2019 e 2020')\n",
        "plt.ylabel('Quantidade de Meses')\n",
        "plt.xlabel('Quantidade de Justificativas')\n",
        "plt.grid()\n",
        "plt.show()"
      ],
      "execution_count": null,
      "outputs": [
        {
          "output_type": "display_data",
          "data": {
            "image/png": "[encoded data removed]",
            "text/plain": [
              "<Figure size 504x360 with 1 Axes>"
            ]
          },
          "metadata": {
            "needs_background": "light"
          }
        }
      ]
    },
    {
      "cell_type": "markdown",
      "metadata": {
        "id": "gO-u-mwumwQw"
      },
      "source": [
        "Como foi verificado pela tendência central, podemos perceber Eli Ribeiro com maior quantidade de justificativas. A distribuição desse vereador apresenta assimetria negativa, a maioria das ocorrências está nas maiores quantidades de justificativas. Para Edvaldo Lima e Luiz da Feira, em poucos meses houve registro de justificativa."
      ]
    },
    {
      "cell_type": "markdown",
      "metadata": {
        "id": "WPvfY4U1nKeD"
      },
      "source": [
        "#5 - Determine o total de presenças, ausências e faltas justificadas para cada data (independente do vereador). Determine o dia da semana de cada data. Faça um boxplot para cada dia da semana com os valores diários obtidos. Como se distribuem presenças, ausências e faltas justificadas a cada dia da semana?"
      ]
    },
    {
      "cell_type": "code",
      "metadata": {
        "id": "s1e7OPUghUXN"
      },
      "source": [
        "segunda = (paineldf['date'].dt.weekday == 0)\n",
        "terca = (paineldf['date'].dt.weekday == 1)\n",
        "quarta = (paineldf['date'].dt.weekday == 2)\n",
        "quinta = (paineldf['date'].dt.weekday == 3)\n",
        "sexta = (paineldf['date'].dt.weekday == 4)\n",
        "domingo = (paineldf['date'].dt.weekday == 6)"
      ],
      "execution_count": null,
      "outputs": []
    },
    {
      "cell_type": "code",
      "metadata": {
        "id": "fFA3a453mwYu",
        "colab": {
          "base_uri": "https://localhost:8080/",
          "height": 431
        },
        "outputId": "e1acf39e-03c5-4273-be28-6ea845631d16"
      },
      "source": [
        "painel_segunda = paineldf[['session','attendance', 'date']][segunda].groupby(['attendance', 'date'])\n",
        "painel_segunda = painel_segunda['attendance'].count().reset_index(name='quantidade')\n",
        "\n",
        "display('Total de sessões')\n",
        "display(painel_segunda['date'].unique().size)\n",
        "print()\n",
        "\n",
        "display('Comparecimento nas segundas-feiras')\n",
        "boxplot_segunda = painel_segunda.boxplot(\n",
        "    column=['quantidade'],\n",
        "    by='attendance',\n",
        "    vert=False,\n",
        "    figsize=(7,5))\n",
        "boxplot_segunda.set_ylabel('Comparecimento')\n",
        "boxplot_segunda.set_xlabel('Quantidade')\n",
        "boxplot_segunda.set_title('Comparecimento dos Vereadores nas Segundas-feiras');\n",
        "boxplot_segunda.grid(False)"
      ],
      "execution_count": null,
      "outputs": [
        {
          "output_type": "display_data",
          "data": {
            "application/vnd.google.colaboratory.intrinsic+json": {
              "type": "string"
            },
            "text/plain": [
              "'Total de sessões'"
            ]
          },
          "metadata": {}
        },
        {
          "output_type": "display_data",
          "data": {
            "text/plain": [
              "126"
            ]
          },
          "metadata": {}
        },
        {
          "output_type": "stream",
          "name": "stdout",
          "text": [
            "\n"
          ]
        },
        {
          "output_type": "display_data",
          "data": {
            "application/vnd.google.colaboratory.intrinsic+json": {
              "type": "string"
            },
            "text/plain": [
              "'Comparecimento nas segundas-feiras'"
            ]
          },
          "metadata": {}
        },
        {
          "output_type": "display_data",
          "data": {
            "image/png": "[encoded data removed]",
            "text/plain": [
              "<Figure size 504x360 with 1 Axes>"
            ]
          },
          "metadata": {
            "needs_background": "light"
          }
        }
      ]
    },
    {
      "cell_type": "code",
      "metadata": {
        "colab": {
          "base_uri": "https://localhost:8080/",
          "height": 431
        },
        "id": "tM1APlP8hQDe",
        "outputId": "fac7adf8-b39f-441b-b845-0c04c499b427"
      },
      "source": [
        "painel_terca = paineldf[['session','attendance', 'date']][terca].groupby(['attendance', 'date'])\n",
        "painel_terca = painel_terca['attendance'].count().reset_index(name='quantidade')\n",
        "\n",
        "display('Total de sessões')\n",
        "display(painel_terca['date'].unique().size)\n",
        "print()\n",
        "\n",
        "display('Comparecimento nas terças-feiras')\n",
        "boxplot_terca = painel_terca.boxplot(\n",
        "    column=['quantidade'],\n",
        "    by='attendance',\n",
        "    vert=False,\n",
        "    figsize=(7,5))\n",
        "boxplot_terca.set_ylabel('Comparecimento')\n",
        "boxplot_terca.set_xlabel('Quantidade')\n",
        "boxplot_terca.set_title('Comparecimento dos Vereadores nas terças-feiras');\n",
        "boxplot_terca.grid(False)"
      ],
      "execution_count": null,
      "outputs": [
        {
          "output_type": "display_data",
          "data": {
            "application/vnd.google.colaboratory.intrinsic+json": {
              "type": "string"
            },
            "text/plain": [
              "'Total de sessões'"
            ]
          },
          "metadata": {}
        },
        {
          "output_type": "display_data",
          "data": {
            "text/plain": [
              "131"
            ]
          },
          "metadata": {}
        },
        {
          "output_type": "stream",
          "name": "stdout",
          "text": [
            "\n"
          ]
        },
        {
          "output_type": "display_data",
          "data": {
            "application/vnd.google.colaboratory.intrinsic+json": {
              "type": "string"
            },
            "text/plain": [
              "'Comparecimento nas terças-feiras'"
            ]
          },
          "metadata": {}
        },
        {
          "output_type": "display_data",
          "data": {
            "image/png": "[encoded data removed]",
            "text/plain": [
              "<Figure size 504x360 with 1 Axes>"
            ]
          },
          "metadata": {
            "needs_background": "light"
          }
        }
      ]
    },
    {
      "cell_type": "code",
      "metadata": {
        "colab": {
          "base_uri": "https://localhost:8080/",
          "height": 431
        },
        "id": "QGbsoudEhxMl",
        "outputId": "32df9452-9fc8-47d2-e22c-a7dfb6a96a6f"
      },
      "source": [
        "painel_quarta = paineldf[['session','attendance', 'date']][quarta].groupby(['attendance', 'date'])\n",
        "painel_quarta = painel_quarta['attendance'].count().reset_index(name='quantidade')\n",
        "\n",
        "display('Total de sessões')\n",
        "display(painel_quarta['date'].unique().size)\n",
        "print()\n",
        "\n",
        "display('Comparecimento nas quartas-feiras')\n",
        "boxplot_quarta = painel_quarta.boxplot(\n",
        "    column=['quantidade'],\n",
        "    by='attendance',\n",
        "    vert=False,\n",
        "    figsize=(7,5))\n",
        "boxplot_quarta.set_ylabel('Comparecimento')\n",
        "boxplot_quarta.set_xlabel('Quantidade')\n",
        "boxplot_quarta.set_title('Comparecimento dos Vereadores nas quartas-feiras');\n",
        "boxplot_quarta.grid(False)"
      ],
      "execution_count": null,
      "outputs": [
        {
          "output_type": "display_data",
          "data": {
            "application/vnd.google.colaboratory.intrinsic+json": {
              "type": "string"
            },
            "text/plain": [
              "'Total de sessões'"
            ]
          },
          "metadata": {}
        },
        {
          "output_type": "display_data",
          "data": {
            "text/plain": [
              "125"
            ]
          },
          "metadata": {}
        },
        {
          "output_type": "stream",
          "name": "stdout",
          "text": [
            "\n"
          ]
        },
        {
          "output_type": "display_data",
          "data": {
            "application/vnd.google.colaboratory.intrinsic+json": {
              "type": "string"
            },
            "text/plain": [
              "'Comparecimento nas quartas-feiras'"
            ]
          },
          "metadata": {}
        },
        {
          "output_type": "display_data",
          "data": {
            "image/png": "[encoded data removed]",
            "text/plain": [
              "<Figure size 504x360 with 1 Axes>"
            ]
          },
          "metadata": {
            "needs_background": "light"
          }
        }
      ]
    },
    {
      "cell_type": "code",
      "metadata": {
        "colab": {
          "base_uri": "https://localhost:8080/",
          "height": 431
        },
        "id": "RYZ6Zalgh7mf",
        "outputId": "ff1f0bdb-a60d-48d3-fa77-e4ca433c2d86"
      },
      "source": [
        "painel_quinta = paineldf[['session','attendance', 'date']][quinta].groupby(['attendance', 'date'])\n",
        "painel_quinta = painel_quinta['attendance'].count().reset_index(name='quantidade')\n",
        "\n",
        "display('Total de sessões')\n",
        "display(painel_quinta['date'].unique().size)\n",
        "print()\n",
        "\n",
        "display('Comparecimento nas quintas-feiras')\n",
        "boxplot_quinta = painel_quinta.boxplot(\n",
        "    column=['quantidade'],\n",
        "    by='attendance',\n",
        "    vert=False,\n",
        "    figsize=(7,5))\n",
        "boxplot_quinta.set_ylabel('Comparecimento')\n",
        "boxplot_quinta.set_xlabel('Quantidade')\n",
        "boxplot_quinta.set_title('Comparecimento dos Vereadores nas quintas-feiras');\n",
        "boxplot_quinta.grid(False)"
      ],
      "execution_count": null,
      "outputs": [
        {
          "output_type": "display_data",
          "data": {
            "application/vnd.google.colaboratory.intrinsic+json": {
              "type": "string"
            },
            "text/plain": [
              "'Total de sessões'"
            ]
          },
          "metadata": {}
        },
        {
          "output_type": "display_data",
          "data": {
            "text/plain": [
              "42"
            ]
          },
          "metadata": {}
        },
        {
          "output_type": "stream",
          "name": "stdout",
          "text": [
            "\n"
          ]
        },
        {
          "output_type": "display_data",
          "data": {
            "application/vnd.google.colaboratory.intrinsic+json": {
              "type": "string"
            },
            "text/plain": [
              "'Comparecimento nas quintas-feiras'"
            ]
          },
          "metadata": {}
        },
        {
          "output_type": "display_data",
          "data": {
            "image/png": "[encoded data removed]",
            "text/plain": [
              "<Figure size 504x360 with 1 Axes>"
            ]
          },
          "metadata": {
            "needs_background": "light"
          }
        }
      ]
    },
    {
      "cell_type": "code",
      "metadata": {
        "colab": {
          "base_uri": "https://localhost:8080/",
          "height": 431
        },
        "id": "15A7gFGdiNNn",
        "outputId": "4cc819de-98d5-4278-8272-6f341e0e456e"
      },
      "source": [
        "painel_sexta = paineldf[['session','attendance', 'date']][sexta].groupby(['attendance', 'date'])\n",
        "painel_sexta = painel_sexta['attendance'].count().reset_index(name='quantidade')\n",
        "\n",
        "display('Total de sessões')\n",
        "display(painel_sexta['date'].unique().size)\n",
        "print()\n",
        "\n",
        "display('Comparecimento nas sextas-feiras')\n",
        "boxplot_sexta = painel_sexta.boxplot(\n",
        "    column=['quantidade'],\n",
        "    by='attendance',\n",
        "    vert=False,\n",
        "    figsize=(7,5))\n",
        "boxplot_sexta.set_ylabel('Comparecimento')\n",
        "boxplot_sexta.set_xlabel('Quantidade')\n",
        "boxplot_sexta.set_title('Comparecimento dos Vereadores nas sextas-feiras');\n",
        "boxplot_sexta.grid(False)"
      ],
      "execution_count": null,
      "outputs": [
        {
          "output_type": "display_data",
          "data": {
            "application/vnd.google.colaboratory.intrinsic+json": {
              "type": "string"
            },
            "text/plain": [
              "'Total de sessões'"
            ]
          },
          "metadata": {}
        },
        {
          "output_type": "display_data",
          "data": {
            "text/plain": [
              "13"
            ]
          },
          "metadata": {}
        },
        {
          "output_type": "stream",
          "name": "stdout",
          "text": [
            "\n"
          ]
        },
        {
          "output_type": "display_data",
          "data": {
            "application/vnd.google.colaboratory.intrinsic+json": {
              "type": "string"
            },
            "text/plain": [
              "'Comparecimento nas sextas-feiras'"
            ]
          },
          "metadata": {}
        },
        {
          "output_type": "display_data",
          "data": {
            "image/png": "[encoded data removed]",
            "text/plain": [
              "<Figure size 504x360 with 1 Axes>"
            ]
          },
          "metadata": {
            "needs_background": "light"
          }
        }
      ]
    },
    {
      "cell_type": "code",
      "metadata": {
        "colab": {
          "base_uri": "https://localhost:8080/",
          "height": 431
        },
        "id": "HuhtR_VXiUHO",
        "outputId": "3e3dd1e4-dc6c-4ab2-b177-df19edd1c262"
      },
      "source": [
        "painel_domingo = paineldf[['session','attendance', 'date']][domingo].groupby(['attendance', 'date'])\n",
        "painel_domingo = painel_domingo['attendance'].count().reset_index(name='quantidade')\n",
        "\n",
        "display('Total de sessões')\n",
        "display(painel_domingo['date'].unique().size)\n",
        "print()\n",
        "\n",
        "display('Comparecimento nos domingos')\n",
        "boxplot_domingo = painel_domingo.boxplot(\n",
        "    column=['quantidade'],\n",
        "    by='attendance',\n",
        "    vert=False,\n",
        "    figsize=(7,5))\n",
        "boxplot_domingo.set_ylabel('Comparecimento')\n",
        "boxplot_domingo.set_xlabel('Quantidade')\n",
        "boxplot_domingo.set_title('Comparecimento dos Vereadores nos domingos');\n",
        "boxplot_domingo.grid(False)"
      ],
      "execution_count": null,
      "outputs": [
        {
          "output_type": "display_data",
          "data": {
            "application/vnd.google.colaboratory.intrinsic+json": {
              "type": "string"
            },
            "text/plain": [
              "'Total de sessões'"
            ]
          },
          "metadata": {}
        },
        {
          "output_type": "display_data",
          "data": {
            "text/plain": [
              "1"
            ]
          },
          "metadata": {}
        },
        {
          "output_type": "stream",
          "name": "stdout",
          "text": [
            "\n"
          ]
        },
        {
          "output_type": "display_data",
          "data": {
            "application/vnd.google.colaboratory.intrinsic+json": {
              "type": "string"
            },
            "text/plain": [
              "'Comparecimento nos domingos'"
            ]
          },
          "metadata": {}
        },
        {
          "output_type": "display_data",
          "data": {
            "image/png": "[encoded data removed]",
            "text/plain": [
              "<Figure size 504x360 with 1 Axes>"
            ]
          },
          "metadata": {
            "needs_background": "light"
          }
        }
      ]
    },
    {
      "cell_type": "markdown",
      "metadata": {
        "id": "wxJawutCmwYv"
      },
      "source": [
        "De modo geral, as segundas, terças e quartas-feiras foram os dias onde mais ocorreram sessões, e também onde mais vereadores estavam presentes, com medianas próximas de 20. Nesses dias, em certas datas, a quantidade de presenças ultrapassa a quantidade de vereadores, por conta da ocorrências de mais de uma sessão durante o dia.\n",
        "\n",
        "As quintas e sextas-feiras foram os dias onde mais ausências foram contabilizadas, apresentando medianas próximas de 17, em mais de 50% das sessões nesses dias da semana houve mais de 17 ausências. Nas quintas, em certas datas, a quantidade de ausências ultrapassa a quantidade de vereadores, por conta da ocorrências de mais de uma sessão durante o dia.\n",
        "\n",
        "As justificativas apresentaram uma distribuição comum ao longo dos dias da semana, exceto aos domingos, sempre com valores e quantidade de amostras menores em relação a ausências e presenças.\n",
        "\n",
        "Não há dados de sessões aos sábados no conjunto de dados. Ocorreu apenas uma sessão aos domingos, onde não houve ausência de vereadores, foram 19 presenças e 9 justificativas."
      ]
    },
    {
      "cell_type": "markdown",
      "metadata": {
        "id": "hAJkdCY2nOjN"
      },
      "source": [
        "#6 - Determine o total de presenças, ausências e faltas justificadas a cada mês de cada ano (independente do vereador). Faça um gráfico com boxplots mensais de presença, outro com boxplots mensais de ausência e outro com boxplots mensais de faltas justificadas para cada mês com os valores mensais obtidos (cada mês de cada ano será um ponto em cada boxplot). Como se distribuem presenças, ausências e faltas justificadas a cada mês de cada ano e como se comparam entre si?"
      ]
    },
    {
      "cell_type": "code",
      "metadata": {
        "id": "xfPlzHbxmwlO"
      },
      "source": [
        "janeiro = (paineldf['date'].dt.month == 1)\n",
        "fevereiro = (paineldf['date'].dt.month == 2)\n",
        "marco = (paineldf['date'].dt.month == 3)\n",
        "abril = (paineldf['date'].dt.month == 4)\n",
        "maio = (paineldf['date'].dt.month == 5)\n",
        "junho = (paineldf['date'].dt.month == 6)\n",
        "julho = (paineldf['date'].dt.month == 7)\n",
        "agosto = (paineldf['date'].dt.month == 8)\n",
        "setembro = (paineldf['date'].dt.month == 9)\n",
        "outubro = (paineldf['date'].dt.month == 10)\n",
        "novembro = (paineldf['date'].dt.month == 11)\n",
        "dezembro = (paineldf['date'].dt.month == 12)\n",
        "\n",
        "filtro_mes = [janeiro, fevereiro, marco, abril, maio, junho, julho, agosto, setembro, outubro, novembro, dezembro]"
      ],
      "execution_count": null,
      "outputs": []
    },
    {
      "cell_type": "code",
      "metadata": {
        "id": "dhMMbkup1ViF",
        "colab": {
          "base_uri": "https://localhost:8080/",
          "height": 458
        },
        "outputId": "5cf85ef1-0359-403c-8201-3ce59211c79e"
      },
      "source": [
        "presencas_gerais_mensais = pd.DataFrame()\n",
        "for m in filtro_mes:\n",
        "  l = {}\n",
        "  for y in sorted(anos):\n",
        "    aux = paineldf[['attendance', 'date']][m].groupby(['attendance', 'date'])\n",
        "    aux = aux['attendance'].count().reset_index(name='quantidade')\n",
        "    soma = aux['quantidade'][(aux['attendance'] == 'attending') & (aux['date'].dt.year == y)].sum() if aux['quantidade'][(aux['attendance'] == 'attending') & (aux['date'].dt.year == y)].sum() + aux['quantidade'][(aux['attendance'] == 'absent') & (aux['date'].dt.year == y)].sum() + aux['quantidade'][(aux['attendance'] == 'justified') & (aux['date'].dt.year == y)].sum() > 0 else np.nan\n",
        "    l[y] = soma\n",
        "  \n",
        "  df = pd.DataFrame([[l[2017], l[2018], l[2019], l[2020], l[2021]]], columns=[2017, 2018, 2019, 2020, 2021])\n",
        "  presencas_gerais_mensais = presencas_gerais_mensais.append(df, ignore_index=False)\n",
        "\n",
        "presencas_gerais_mensais.index=['Janeiro', 'Fevereiro', 'Março', 'Abril', 'Maio', 'Junho', 'Julho', 'Agosto', 'Setembro', 'Outubro', 'Novembro', 'Dezembro']\n",
        "\n",
        "boxplot_presencas = presencas_gerais_mensais.transpose().boxplot(\n",
        "      vert=False,\n",
        "      figsize=(10, 7))\n",
        "boxplot_presencas.set_ylabel('Mês')\n",
        "boxplot_presencas.set_xlabel('Quantidade de Presenças')\n",
        "boxplot_presencas.set_title('Presenças gerais por mês dos vereadores');\n",
        "boxplot_presencas.grid(False)"
      ],
      "execution_count": null,
      "outputs": [
        {
          "output_type": "display_data",
          "data": {
            "image/png": "[encoded data removed]",
            "text/plain": [
              "<Figure size 720x504 with 1 Axes>"
            ]
          },
          "metadata": {
            "needs_background": "light"
          }
        }
      ]
    },
    {
      "cell_type": "markdown",
      "metadata": {
        "id": "XF7LW5umGrrI"
      },
      "source": [
        "Para a quantidade geral de presenças dos vereadores, para os meses de janeiro e julho, o boxplot somente aponta a mediana e não possui bigodes, indicando que apenas em um houve sessões no período compreendido pelo conjunto de dados, indicando que são meses onde possivelmente há um recesso. Em ambos os casos a presença foi superior a 50% dos vereadores.\n",
        "\n",
        "De forma geral, a distribuição das presenças tem um aumento da mediana ao longo dos primeiros meses, e uma diminuição nos últimos meses. Por apresentarem boxplots menores, e com base na localização deles, há uma indicação que os meses de agosto a novembro são os meses com maior participação média em sessões.\n",
        "\n",
        "Desconsiderando janeiro e julho, o mês de dezembro apresentou a menor quantidade de presenças, com mediana próxima de 150, o mês de outubro apresentou a maior mediana, acima de 320, no mês de setembro as quantidades de presenças formaram uma distribuição próxima de uma distribuição normal.\n",
        "\n",
        "Alguns meses apresentam pontos com valores bem menores em relação aos valores comuns à distribuição formada, como junho, outubro e março. No caso de junho a justificativa pode ser o ano de 2020, onde foram suspensas algumas sessões por conta da pandemia. Em relação a outubro, pode ser consequência da preparação para as eleições de novembro de 2020. No que diz respeito a março, o conjunto de dados tem como última data 09/03/2021, indicando que poucas sessões foram contabilizadas no ano de 2021."
      ]
    },
    {
      "cell_type": "code",
      "metadata": {
        "id": "UBMdgU2GDqty",
        "colab": {
          "base_uri": "https://localhost:8080/",
          "height": 458
        },
        "outputId": "d60634fd-57cb-476e-91ba-54b63d68dd23"
      },
      "source": [
        "ausencias_gerais_mensais = pd.DataFrame()\n",
        "for m in filtro_mes:\n",
        "  l = {}\n",
        "  for y in sorted(anos):\n",
        "    aux = paineldf[['attendance', 'date']][m].groupby(['attendance', 'date'])\n",
        "    aux = aux['attendance'].count().reset_index(name='quantidade')\n",
        "    soma = aux['quantidade'][(aux['attendance'] == 'absent') & (aux['date'].dt.year == y)].sum() if aux['quantidade'][(aux['attendance'] == 'attending') & (aux['date'].dt.year == y)].sum() + aux['quantidade'][(aux['attendance'] == 'absent') & (aux['date'].dt.year == y)].sum() + aux['quantidade'][(aux['attendance'] == 'justified') & (aux['date'].dt.year == y)].sum() > 0 else np.nan\n",
        "    l[y] = soma\n",
        "  \n",
        "  df = pd.DataFrame([[l[2017], l[2018], l[2019], l[2020], l[2021]]], columns=[2017, 2018, 2019, 2020, 2021])\n",
        "  ausencias_gerais_mensais = ausencias_gerais_mensais.append(df, ignore_index=False)\n",
        "\n",
        "ausencias_gerais_mensais.index=['Janeiro', 'Fevereiro', 'Março', 'Abril', 'Maio', 'Junho', 'Julho', 'Agosto', 'Setembro', 'Outubro', 'Novembro', 'Dezembro']\n",
        "\n",
        "boxplot_ausencias = ausencias_gerais_mensais.transpose().boxplot(\n",
        "      vert=False,\n",
        "      figsize=(10, 7))\n",
        "boxplot_ausencias.set_ylabel('Mês')\n",
        "boxplot_ausencias.set_xlabel('Quantidade de Ausências')\n",
        "boxplot_ausencias.set_title('Ausências gerais por mês dos vereadores');\n",
        "boxplot_ausencias.grid(False)"
      ],
      "execution_count": null,
      "outputs": [
        {
          "output_type": "display_data",
          "data": {
            "image/png": "[encoded data removed]",
            "text/plain": [
              "<Figure size 720x504 with 1 Axes>"
            ]
          },
          "metadata": {
            "needs_background": "light"
          }
        }
      ]
    },
    {
      "cell_type": "markdown",
      "metadata": {
        "id": "dDvl8HckGqu5"
      },
      "source": [
        "Para a quantidade geral de ausências dos vereadores, para os meses de janeiro e julho, o boxplot somente aponta a mediana e não possui bigodes,  justificativa igual à para as presenças.\n",
        "\n",
        "Desconsiderando janeiro e julho, o mês de fevereiro apresentou a menor quantidade de ausências, com máximo de pouco mais de 50, e em pelo menos 50% dos anos valores menores que 25. O mês de novembro apresentou a maior mediana, próxima de 175.\n",
        "\n",
        "No mês de agosto as quantidades de ausências formaram uma distribuição próxima de uma distribuição normal. Os meses de fevereiro, março, abril, junho, setembro e dezembro apresentaram distribuições de ausências com 100% dos valores menores que 150."
      ]
    },
    {
      "cell_type": "code",
      "metadata": {
        "id": "FWpkYGgoD3Jx",
        "colab": {
          "base_uri": "https://localhost:8080/",
          "height": 458
        },
        "outputId": "fa1cf9e6-2f77-4714-a567-0b55d5cc7bed"
      },
      "source": [
        "justificativas_gerais_mensais = pd.DataFrame()\n",
        "for m in filtro_mes:\n",
        "  l = {}\n",
        "  for y in sorted(anos):\n",
        "    aux = paineldf[['attendance', 'date']][m].groupby(['attendance', 'date'])\n",
        "    aux = aux['attendance'].count().reset_index(name='quantidade')\n",
        "    soma = aux['quantidade'][(aux['attendance'] == 'justified') & (aux['date'].dt.year == y)].sum() if aux['quantidade'][(aux['attendance'] == 'attending') & (aux['date'].dt.year == y)].sum() + aux['quantidade'][(aux['attendance'] == 'absent') & (aux['date'].dt.year == y)].sum() + aux['quantidade'][(aux['attendance'] == 'justified') & (aux['date'].dt.year == y)].sum() > 0 else np.nan\n",
        "    l[y] = soma\n",
        "  \n",
        "  df = pd.DataFrame([[l[2017], l[2018], l[2019], l[2020], l[2021]]], columns=[2017, 2018, 2019, 2020, 2021])\n",
        "  justificativas_gerais_mensais = justificativas_gerais_mensais.append(df, ignore_index=False)\n",
        "\n",
        "justificativas_gerais_mensais.index=['Janeiro', 'Fevereiro', 'Março', 'Abril', 'Maio', 'Junho', 'Julho', 'Agosto', 'Setembro', 'Outubro', 'Novembro', 'Dezembro']\n",
        "\n",
        "boxplot_justificativas = justificativas_gerais_mensais.transpose().boxplot(\n",
        "      vert=False,\n",
        "      figsize=(10, 7))\n",
        "boxplot_justificativas.set_ylabel('Mês')\n",
        "boxplot_justificativas.set_xlabel('Quantidade de Justificativas')\n",
        "boxplot_justificativas.set_title('Justificativas gerais por mês dos vereadores');\n",
        "boxplot_justificativas.grid(False)"
      ],
      "execution_count": null,
      "outputs": [
        {
          "output_type": "display_data",
          "data": {
            "image/png": "[encoded data removed]",
            "text/plain": [
              "<Figure size 720x504 with 1 Axes>"
            ]
          },
          "metadata": {
            "needs_background": "light"
          }
        }
      ]
    },
    {
      "cell_type": "markdown",
      "metadata": {
        "id": "1e7ah-X_mwlO"
      },
      "source": [
        "Para a quantidade geral de justificativas dos vereadores, para os meses de janeiro e julho, o boxplot somente aponta a mediana e não possui bigodes,  justificativa igual à para as presenças.\n",
        "\n",
        "Desconsiderando janeiro e julho, os meses de fevereiro e dezembro apresentaram as menores medianas, próximas de 60, em 50% dos anos a quantidade de justificativas foi menor que esse valor. O mês de outubro  apresentou a maior mediana, próxima de 140.\n",
        "\n",
        "Nos meses de fevereiro, agosto, e setembro as quantidades de justificativas formaram uma distribuição próxima de uma distribuição normal. Os meses de abril, maio, agosto, setembro, outubro e novembro apresentaram distribuições de justificativas com 100% dos valores maiores que 60."
      ]
    },
    {
      "cell_type": "markdown",
      "metadata": {
        "id": "155cHGe-n-xX"
      },
      "source": [
        "#7 - Escolha 2 vereadores, determine a quantidade de presenças de cada um a cada mês a cada ano. Considerando as quantidades de presenças a cada mês de cada vereador, faça um gráfico de dispersão entre vereadores. Discuta o que observa no gráfico."
      ]
    },
    {
      "cell_type": "code",
      "metadata": {
        "id": "IDxFu75omwum",
        "colab": {
          "base_uri": "https://localhost:8080/",
          "height": 812
        },
        "outputId": "46ab7121-6f47-48c7-d3d7-826e9ec414d1"
      },
      "source": [
        "vereador1 = (paineldf['name'] == 'EDVALDO LIMA')\n",
        "vereador2 = (paineldf['name'] == 'FABIANO DA VAN')\n",
        "\n",
        "mensalmente = [pd.Grouper(key='date', freq='M')]\n",
        "\n",
        "presenca_mensal_vereador1 = paineldf[['attendance', 'date']][presenca & vereador1].groupby(mensalmente)\n",
        "presenca_mensal_vereador1 = presenca_mensal_vereador1['attendance'].count().reset_index(\n",
        "    name='quantidade')\n",
        "\n",
        "presenca_mensal_vereador2 = paineldf[['attendance', 'date']][presenca & vereador2].groupby(mensalmente)\n",
        "presenca_mensal_vereador2 = presenca_mensal_vereador2['attendance'].count().reset_index(\n",
        "    name='quantidade')\n",
        "\n",
        "plt.figure(figsize=(7,5))\n",
        "plt.scatter(x=presenca_mensal_vereador1['date'],\n",
        "            y=presenca_mensal_vereador1['quantidade'],\n",
        "            c='DarkBlue',\n",
        "            marker='s',\n",
        "            label='EDVALDO LIMA')\n",
        "plt.scatter(x=presenca_mensal_vereador2['date'],\n",
        "            y=presenca_mensal_vereador2['quantidade'],\n",
        "            c='DarkRed',\n",
        "            marker='o',\n",
        "            label='FABIANO DA VAN')\n",
        "plt.legend(loc='best')\n",
        "plt.title('Quantidade de presenças dos vereadores ao longo dos meses')\n",
        "plt.ylabel('Quantidade de Presenças')\n",
        "plt.xlabel('Meses')\n",
        "plt.grid()\n",
        "plt.show()\n",
        "\n",
        "plt.figure(figsize=(7,5))\n",
        "plt.scatter(x=presenca_mensal_vereador1['quantidade'],\n",
        "            y=presenca_mensal_vereador2['quantidade'],\n",
        "            c='DarkBlue',\n",
        "            marker='o')\n",
        "plt.title('Dispersão entre as presenças dos vereadores ao longo dos meses')\n",
        "plt.ylabel('FABIANO DA VAN')\n",
        "plt.xlabel('EDVALDO LIMA')\n",
        "plt.grid()\n",
        "plt.show()\n",
        "\n",
        "presenca_mensal = pd.DataFrame({\n",
        "    'EDVALDO LIMA': presenca_mensal_vereador1['quantidade'],\n",
        "    'FABIANO DA VAN': presenca_mensal_vereador2['quantidade']\n",
        "})\n",
        "presenca_mensal = presenca_mensal.fillna(0)\n",
        "\n",
        "print('')\n",
        "display('Coeficiente de correlação de Pearson entre as presenças mensais dos vereadores EDVALDO LIMA e FABIANO DA VAN')\n",
        "display(presenca_mensal.corr(method='pearson'))"
      ],
      "execution_count": null,
      "outputs": [
        {
          "output_type": "display_data",
          "data": {
            "image/png": "[encoded data removed]",
            "text/plain": [
              "<Figure size 504x360 with 1 Axes>"
            ]
          },
          "metadata": {
            "needs_background": "light"
          }
        },
        {
          "output_type": "display_data",
          "data": {
            "image/png": "[encoded data removed]",
            "text/plain": [
              "<Figure size 504x360 with 1 Axes>"
            ]
          },
          "metadata": {
            "needs_background": "light"
          }
        },
        {
          "output_type": "stream",
          "name": "stdout",
          "text": [
            "\n"
          ]
        },
        {
          "output_type": "display_data",
          "data": {
            "application/vnd.google.colaboratory.intrinsic+json": {
              "type": "string"
            },
            "text/plain": [
              "'Coeficiente de correlação de Pearson entre as presenças mensais dos vereadores EDVALDO LIMA e FABIANO DA VAN'"
            ]
          },
          "metadata": {}
        },
        {
          "output_type": "display_data",
          "data": {
            "text/html": [
              "<div>\n",
              "<style scoped>\n",
              "    .dataframe tbody tr th:only-of-type {\n",
              "        vertical-align: middle;\n",
              "    }\n",
              "\n",
              "    .dataframe tbody tr th {\n",
              "        vertical-align: top;\n",
              "    }\n",
              "\n",
              "    .dataframe thead th {\n",
              "        text-align: right;\n",
              "    }\n",
              "</style>\n",
              "<table border=\"1\" class=\"dataframe\">\n",
              "  <thead>\n",
              "    <tr style=\"text-align: right;\">\n",
              "      <th></th>\n",
              "      <th>EDVALDO LIMA</th>\n",
              "      <th>FABIANO DA VAN</th>\n",
              "    </tr>\n",
              "  </thead>\n",
              "  <tbody>\n",
              "    <tr>\n",
              "      <th>EDVALDO LIMA</th>\n",
              "      <td>1.000000</td>\n",
              "      <td>0.972819</td>\n",
              "    </tr>\n",
              "    <tr>\n",
              "      <th>FABIANO DA VAN</th>\n",
              "      <td>0.972819</td>\n",
              "      <td>1.000000</td>\n",
              "    </tr>\n",
              "  </tbody>\n",
              "</table>\n",
              "</div>"
            ],
            "text/plain": [
              "                EDVALDO LIMA  FABIANO DA VAN\n",
              "EDVALDO LIMA        1.000000        0.972819\n",
              "FABIANO DA VAN      0.972819        1.000000"
            ]
          },
          "metadata": {}
        }
      ]
    },
    {
      "cell_type": "markdown",
      "metadata": {
        "id": "Hsr6o3YSmwum"
      },
      "source": [
        "Por meio da visualização do gráfico que exibe a quantidade de presenças mensais dos vereadores ao longo dos meses, pode ser percebido que os pontos estão próximos no eixo y, e, em alguns casos, sobrepostos. Os quadrados vermelhos indicam quantidades de presença iguais dos dois vereadores.\n",
        "\n",
        "O coeficiente de correlação Pearson igual a 0.972819 indica uma correlação positiva forte entre a quantidade de presenças mensais dos vereadores Edvaldo Lima e Fabiano da Van.\n",
        "\n",
        "Pelos gráficos apresentados, e também pelo fato de os dois vereadores pertencerem ao mesmo partido, o MDB, não pode ser afirmado, mas há uma indicação de que estão presentes de forma conjunta nas sessões realizadas."
      ]
    },
    {
      "cell_type": "markdown",
      "metadata": {
        "id": "DSC5WwHJoGie"
      },
      "source": [
        "#8 - Agora é com você, crie mais 2 perguntas relevantes (pense como um jornalista investigativo) que possam ser respondidas com este conjunto de dados. Justifique a relevância de sua pergunta, faça sua análise de dados e discuta a sua resposta escrita."
      ]
    },
    {
      "cell_type": "markdown",
      "metadata": {
        "id": "9jOPrFHWNt_1"
      },
      "source": [
        "#8.1 - Com a justificativa de que os vereadores mais presentes, teoricamente, são os mais atuantes nos debates, demonstrando comprometimento com a sua ocupação. Avalie a transição das cadeiras decorrente do resultado das eleições de 2020.\n",
        "\n",
        "#Identifique os vereadores que não foram reeleitos, e avalie se coincidem com os vereadores que apresentaram maior quantidade de ausências nas sessões realizadas de agosto de 2017 a outubro de 2020 (a eleição ocorreu no mês de novembro)."
      ]
    },
    {
      "cell_type": "code",
      "metadata": {
        "id": "juoAEYodmw3_",
        "colab": {
          "base_uri": "https://localhost:8080/"
        },
        "outputId": "2027d800-a783-4b0f-c2bb-2ead82253385"
      },
      "source": [
        "veradores_nao_reeleitos = sorted([vereador for vereador in lista2020 if vereador not in vereadores_todo_ano])\n",
        "display('Vereadores que não foram reeleitos')\n",
        "display(veradores_nao_reeleitos)"
      ],
      "execution_count": null,
      "outputs": [
        {
          "output_type": "display_data",
          "data": {
            "application/vnd.google.colaboratory.intrinsic+json": {
              "type": "string"
            },
            "text/plain": [
              "'Vereadores que não foram reeleitos'"
            ]
          },
          "metadata": {}
        },
        {
          "output_type": "display_data",
          "data": {
            "text/plain": [
              "['ALBERTO NERY',\n",
              " 'ANTONIO CARLOS ATAÍDE',\n",
              " 'CADMIEL PEREIRA',\n",
              " 'CÍNTIA MACHADO',\n",
              " 'GILMAR AMORIM',\n",
              " 'ISAÍAS DE DIOGO',\n",
              " 'JOÃO BILILIU',\n",
              " 'JUSTINIANO FRANÇA',\n",
              " 'MARCOS LIMA',\n",
              " 'NEINHA',\n",
              " 'PABLO ROBERTO',\n",
              " 'PR TOM',\n",
              " 'ROBECI DA VASSOURA',\n",
              " 'ROBERTO TOURINHO',\n",
              " 'RONNY',\n",
              " 'SGT JOSAFÁ RAMOS',\n",
              " 'ZÉ FILÉ']"
            ]
          },
          "metadata": {}
        }
      ]
    },
    {
      "cell_type": "code",
      "metadata": {
        "colab": {
          "base_uri": "https://localhost:8080/"
        },
        "id": "kQmt00y7eHov",
        "outputId": "e7efe1bb-d0dd-4bbb-c4f8-de1e2de1af1f"
      },
      "source": [
        "ausencias = paineldf[['name', 'attendance']][ausencia & (paineldf['date'] < '2020-10-31')].groupby('name')\n",
        "ausencias = ausencias['attendance'].count().reset_index(\n",
        "    name='quantidade').sort_values('quantidade', ascending=False)\n",
        "display(ausencias)"
      ],
      "execution_count": null,
      "outputs": [
        {
          "output_type": "display_data",
          "data": {
            "text/html": [
              "<div>\n",
              "<style scoped>\n",
              "    .dataframe tbody tr th:only-of-type {\n",
              "        vertical-align: middle;\n",
              "    }\n",
              "\n",
              "    .dataframe tbody tr th {\n",
              "        vertical-align: top;\n",
              "    }\n",
              "\n",
              "    .dataframe thead th {\n",
              "        text-align: right;\n",
              "    }\n",
              "</style>\n",
              "<table border=\"1\" class=\"dataframe\">\n",
              "  <thead>\n",
              "    <tr style=\"text-align: right;\">\n",
              "      <th></th>\n",
              "      <th>name</th>\n",
              "      <th>quantidade</th>\n",
              "    </tr>\n",
              "  </thead>\n",
              "  <tbody>\n",
              "    <tr>\n",
              "      <th>3</th>\n",
              "      <td>CÍNTIA MACHADO</td>\n",
              "      <td>234</td>\n",
              "    </tr>\n",
              "    <tr>\n",
              "      <th>1</th>\n",
              "      <td>ANTONIO CARLOS ATAÍDE</td>\n",
              "      <td>172</td>\n",
              "    </tr>\n",
              "    <tr>\n",
              "      <th>24</th>\n",
              "      <td>ZÉ FILÉ</td>\n",
              "      <td>169</td>\n",
              "    </tr>\n",
              "    <tr>\n",
              "      <th>6</th>\n",
              "      <td>EREMITA MOTA</td>\n",
              "      <td>166</td>\n",
              "    </tr>\n",
              "    <tr>\n",
              "      <th>16</th>\n",
              "      <td>NEINHA</td>\n",
              "      <td>164</td>\n",
              "    </tr>\n",
              "    <tr>\n",
              "      <th>0</th>\n",
              "      <td>ALBERTO NERY</td>\n",
              "      <td>161</td>\n",
              "    </tr>\n",
              "    <tr>\n",
              "      <th>21</th>\n",
              "      <td>RON DO POVO</td>\n",
              "      <td>159</td>\n",
              "    </tr>\n",
              "    <tr>\n",
              "      <th>7</th>\n",
              "      <td>FABIANO DA VAN</td>\n",
              "      <td>157</td>\n",
              "    </tr>\n",
              "    <tr>\n",
              "      <th>13</th>\n",
              "      <td>LUIZ DA FEIRA</td>\n",
              "      <td>156</td>\n",
              "    </tr>\n",
              "    <tr>\n",
              "      <th>23</th>\n",
              "      <td>ZÉ CURUCA</td>\n",
              "      <td>154</td>\n",
              "    </tr>\n",
              "    <tr>\n",
              "      <th>15</th>\n",
              "      <td>MARCOS LIMA</td>\n",
              "      <td>152</td>\n",
              "    </tr>\n",
              "    <tr>\n",
              "      <th>4</th>\n",
              "      <td>EDVALDO LIMA</td>\n",
              "      <td>150</td>\n",
              "    </tr>\n",
              "    <tr>\n",
              "      <th>9</th>\n",
              "      <td>GILMAR AMORIM</td>\n",
              "      <td>149</td>\n",
              "    </tr>\n",
              "    <tr>\n",
              "      <th>18</th>\n",
              "      <td>PR TOM</td>\n",
              "      <td>148</td>\n",
              "    </tr>\n",
              "    <tr>\n",
              "      <th>12</th>\n",
              "      <td>JOÃO BILILIU</td>\n",
              "      <td>144</td>\n",
              "    </tr>\n",
              "    <tr>\n",
              "      <th>10</th>\n",
              "      <td>ISAÍAS DE DIOGO</td>\n",
              "      <td>131</td>\n",
              "    </tr>\n",
              "    <tr>\n",
              "      <th>20</th>\n",
              "      <td>ROBERTO TOURINHO</td>\n",
              "      <td>122</td>\n",
              "    </tr>\n",
              "    <tr>\n",
              "      <th>14</th>\n",
              "      <td>LULINHA</td>\n",
              "      <td>102</td>\n",
              "    </tr>\n",
              "    <tr>\n",
              "      <th>2</th>\n",
              "      <td>CADMIEL PEREIRA</td>\n",
              "      <td>102</td>\n",
              "    </tr>\n",
              "    <tr>\n",
              "      <th>19</th>\n",
              "      <td>ROBECI DA VASSOURA</td>\n",
              "      <td>65</td>\n",
              "    </tr>\n",
              "    <tr>\n",
              "      <th>8</th>\n",
              "      <td>GERUSA SAMPAIO</td>\n",
              "      <td>54</td>\n",
              "    </tr>\n",
              "    <tr>\n",
              "      <th>11</th>\n",
              "      <td>JOSÉ CARNEIRO</td>\n",
              "      <td>43</td>\n",
              "    </tr>\n",
              "    <tr>\n",
              "      <th>17</th>\n",
              "      <td>PABLO ROBERTO</td>\n",
              "      <td>4</td>\n",
              "    </tr>\n",
              "    <tr>\n",
              "      <th>22</th>\n",
              "      <td>RONNY</td>\n",
              "      <td>3</td>\n",
              "    </tr>\n",
              "    <tr>\n",
              "      <th>5</th>\n",
              "      <td>ELI RIBEIRO</td>\n",
              "      <td>2</td>\n",
              "    </tr>\n",
              "  </tbody>\n",
              "</table>\n",
              "</div>"
            ],
            "text/plain": [
              "                     name  quantidade\n",
              "3          CÍNTIA MACHADO         234\n",
              "1   ANTONIO CARLOS ATAÍDE         172\n",
              "24                ZÉ FILÉ         169\n",
              "6            EREMITA MOTA         166\n",
              "16                 NEINHA         164\n",
              "0            ALBERTO NERY         161\n",
              "21            RON DO POVO         159\n",
              "7          FABIANO DA VAN         157\n",
              "13          LUIZ DA FEIRA         156\n",
              "23              ZÉ CURUCA         154\n",
              "15            MARCOS LIMA         152\n",
              "4            EDVALDO LIMA         150\n",
              "9           GILMAR AMORIM         149\n",
              "18                 PR TOM         148\n",
              "12           JOÃO BILILIU         144\n",
              "10        ISAÍAS DE DIOGO         131\n",
              "20       ROBERTO TOURINHO         122\n",
              "14                LULINHA         102\n",
              "2         CADMIEL PEREIRA         102\n",
              "19     ROBECI DA VASSOURA          65\n",
              "8          GERUSA SAMPAIO          54\n",
              "11          JOSÉ CARNEIRO          43\n",
              "17          PABLO ROBERTO           4\n",
              "22                  RONNY           3\n",
              "5             ELI RIBEIRO           2"
            ]
          },
          "metadata": {}
        }
      ]
    },
    {
      "cell_type": "markdown",
      "metadata": {
        "id": "llTW9Vx7mw3_"
      },
      "source": [
        "Entre os 10 vereadores que apresentaram maior quantidade de ausências, apenas os vereadores Cíntia Machado, Zé File, Antonio Carlos Ataíde e Alberto Nery não foram reeleitos. Não se pode afirmar que a quantidade de ausências tem influencia direta na não reeleição dos vereadores."
      ]
    },
    {
      "cell_type": "markdown",
      "metadata": {
        "id": "x-ghs6aDNzz4"
      },
      "source": [
        "#8.2 - Como no item 7, os vereadores apresentaram uma forte correlação entre as quantidades de presenças ao longo dos meses, e houve uma indicação que o fato de serem do mesmo partido ter influência. Escolha 2 vereadores de partidos diferentes, e repita a análise."
      ]
    },
    {
      "cell_type": "code",
      "metadata": {
        "colab": {
          "base_uri": "https://localhost:8080/"
        },
        "id": "mur1ykmrbU3Q",
        "outputId": "e1487b32-3e0b-4177-c2e2-281bdc367d74"
      },
      "source": [
        "vereador1 = (paineldf['name'] == 'LUIZ DA FEIRA')\n",
        "vereador2 = (paineldf['name'] == 'EREMITA MOTA')\n",
        "\n",
        "mensalmente = [pd.Grouper(key='date', freq='M')]\n",
        "\n",
        "presenca_mensal_vereador1 = paineldf[['attendance', 'date']][presenca & vereador1].groupby(mensalmente)\n",
        "presenca_mensal_vereador1 = presenca_mensal_vereador1['attendance'].count().reset_index(\n",
        "    name='quantidade')\n",
        "\n",
        "presenca_mensal_vereador2 = paineldf[['attendance', 'date']][presenca & vereador2].groupby(mensalmente)\n",
        "presenca_mensal_vereador2 = presenca_mensal_vereador2['attendance'].count().reset_index(\n",
        "    name='quantidade')\n",
        "\n",
        "plt.figure(figsize=(7,5))\n",
        "plt.scatter(x=presenca_mensal_vereador1['date'],\n",
        "            y=presenca_mensal_vereador1['quantidade'],\n",
        "            c='DarkBlue',\n",
        "            marker='s',\n",
        "            label='LUIZ DA FEIRA')\n",
        "plt.scatter(x=presenca_mensal_vereador2['date'],\n",
        "            y=presenca_mensal_vereador2['quantidade'],\n",
        "            c='DarkRed',\n",
        "            marker='o',\n",
        "            label='EREMITA MOTA')\n",
        "plt.legend(loc='best')\n",
        "plt.title('Quantidade de presenças dos vereadores ao longo dos meses')\n",
        "plt.ylabel('Quantidade de Presenças')\n",
        "plt.xlabel('Meses')\n",
        "plt.grid()\n",
        "plt.show()\n",
        "\n",
        "plt.figure(figsize=(7,5))\n",
        "plt.scatter(x=presenca_mensal_vereador1['quantidade'],\n",
        "            y=presenca_mensal_vereador2['quantidade'],\n",
        "            c='DarkBlue',\n",
        "            marker='o')\n",
        "plt.title('Dispersão entre as presenças dos vereadores ao longo dos meses')\n",
        "plt.ylabel('LUIZ DA FEIRA')\n",
        "plt.xlabel('EREMITA MOTA')\n",
        "plt.grid()\n",
        "plt.show()\n",
        "\n",
        "presenca_mensal = pd.DataFrame({\n",
        "    'LUIZ DA FEIRA': presenca_mensal_vereador1['quantidade'],\n",
        "    'EREMITA MOTA': presenca_mensal_vereador2['quantidade']\n",
        "})\n",
        "presenca_mensal = presenca_mensal.fillna(0)\n",
        "\n",
        "print('')\n",
        "display('Coeficiente de correlação de Pearson entre as presenças mensais dos vereadores LUIZ DA FEIRA e EREMITA MOTA')\n",
        "display(presenca_mensal.corr(method='pearson'))"
      ],
      "execution_count": null,
      "outputs": [
        {
          "output_type": "display_data",
          "data": {
            "image/png": "[encoded data removed]",
            "text/plain": [
              "<Figure size 504x360 with 1 Axes>"
            ]
          },
          "metadata": {
            "needs_background": "light"
          }
        },
        {
          "output_type": "display_data",
          "data": {
            "image/png": "[encoded data removed]",
            "text/plain": [
              "<Figure size 504x360 with 1 Axes>"
            ]
          },
          "metadata": {
            "needs_background": "light"
          }
        },
        {
          "output_type": "stream",
          "name": "stdout",
          "text": [
            "\n"
          ]
        },
        {
          "output_type": "display_data",
          "data": {
            "application/vnd.google.colaboratory.intrinsic+json": {
              "type": "string"
            },
            "text/plain": [
              "'Coeficiente de correlação de Pearson entre as presenças mensais dos vereadores LUIZ DA FEIRA e EREMITA MOTA'"
            ]
          },
          "metadata": {}
        },
        {
          "output_type": "display_data",
          "data": {
            "text/html": [
              "<div>\n",
              "<style scoped>\n",
              "    .dataframe tbody tr th:only-of-type {\n",
              "        vertical-align: middle;\n",
              "    }\n",
              "\n",
              "    .dataframe tbody tr th {\n",
              "        vertical-align: top;\n",
              "    }\n",
              "\n",
              "    .dataframe thead th {\n",
              "        text-align: right;\n",
              "    }\n",
              "</style>\n",
              "<table border=\"1\" class=\"dataframe\">\n",
              "  <thead>\n",
              "    <tr style=\"text-align: right;\">\n",
              "      <th></th>\n",
              "      <th>LUIZ DA FEIRA</th>\n",
              "      <th>EREMITA MOTA</th>\n",
              "    </tr>\n",
              "  </thead>\n",
              "  <tbody>\n",
              "    <tr>\n",
              "      <th>LUIZ DA FEIRA</th>\n",
              "      <td>1.000000</td>\n",
              "      <td>0.913576</td>\n",
              "    </tr>\n",
              "    <tr>\n",
              "      <th>EREMITA MOTA</th>\n",
              "      <td>0.913576</td>\n",
              "      <td>1.000000</td>\n",
              "    </tr>\n",
              "  </tbody>\n",
              "</table>\n",
              "</div>"
            ],
            "text/plain": [
              "               LUIZ DA FEIRA  EREMITA MOTA\n",
              "LUIZ DA FEIRA       1.000000      0.913576\n",
              "EREMITA MOTA        0.913576      1.000000"
            ]
          },
          "metadata": {}
        }
      ]
    },
    {
      "cell_type": "markdown",
      "metadata": {
        "id": "p85STX2zcOuW"
      },
      "source": [
        "Por meio da visualização do gráfico que exibe a quantidade de presenças mensais dos vereadores ao longo dos meses, pode ser percebido que os pontos estão próximos no eixo y, e, em alguns casos, sobrepostos. Os quadrados vermelhos indicam quantidades de presença iguais dos dois vereadores.\n",
        "\n",
        "O coeficiente de correlação Pearson igual a 0.913576 indica uma correlação positiva forte entre a quantidade de presenças mensais dos vereadores Luiz da Feira e Eremita Mota.\n",
        "\n",
        "Pelos gráficos apresentados, e comparando os resultados aqui e do item 7, vimos que a correlação diminuiu, mas ainda é positiva forte, indicando que serem de mesmo partido não necessariamente implica em presença na mesma quantidade de presença em sessões."
      ]
    }
  ]
}